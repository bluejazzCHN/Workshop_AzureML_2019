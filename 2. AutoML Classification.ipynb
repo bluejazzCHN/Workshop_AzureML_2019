{
 "cells": [
  {
   "cell_type": "markdown",
   "metadata": {},
   "source": [
    "# AutoML Classification"
   ]
  },
  {
   "cell_type": "markdown",
   "metadata": {},
   "source": [
    "<img src='https://github.com/retkowsky/images/blob/master/AzureMLservicebanniere.png?raw=true'>"
   ]
  },
  {
   "cell_type": "markdown",
   "metadata": {},
   "source": [
    "This is a copy of the test set of the **UCI ML hand-written digits datasets** http://archive.ics.uci.edu/ml/datasets/Optical+Recognition+of+Handwritten+Digits\n",
    "\n",
    "The data set contains images of hand-written digits: 10 classes where each class refers to a digit.\n",
    "\n"
   ]
  },
  {
   "cell_type": "markdown",
   "metadata": {},
   "source": [
    "<img src=\"https://www.seewald.at/img/L/digits.gif\">\n"
   ]
  },
  {
   "cell_type": "markdown",
   "metadata": {},
   "source": [
    "## Documentation Azure ML service\n",
    "> https://docs.microsoft.com/en-us/azure/machine-learning/service/how-to-automated-ml"
   ]
  },
  {
   "cell_type": "markdown",
   "metadata": {},
   "source": [
    "## 1. Informations\n",
    "\n",
    "As part of the setup you have already created an Azure ML `Workspace` object. <br> For AutoML you will need to create an `Experiment` object, which is a named object in a `Workspace` used to run experiments."
   ]
  },
  {
   "cell_type": "code",
   "execution_count": 43,
   "metadata": {},
   "outputs": [
    {
     "data": {
      "text/plain": [
       "'3.6.9 |Anaconda, Inc.| (default, Jul 30 2019, 19:07:31) \\n[GCC 7.3.0]'"
      ]
     },
     "execution_count": 43,
     "metadata": {},
     "output_type": "execute_result"
    }
   ],
   "source": [
    "import sys\n",
    "sys.version"
   ]
  },
  {
   "cell_type": "code",
   "execution_count": 44,
   "metadata": {},
   "outputs": [
    {
     "name": "stdout",
     "output_type": "stream",
     "text": [
      "Version Azure ML Service : 1.0.74\n"
     ]
    }
   ],
   "source": [
    "import azureml.core\n",
    "print(\"Version Azure ML Service :\", azureml.core.VERSION)"
   ]
  },
  {
   "cell_type": "code",
   "execution_count": 45,
   "metadata": {},
   "outputs": [],
   "source": [
    "import logging\n",
    "import os\n",
    "import random\n",
    "\n",
    "from matplotlib import pyplot as plt\n",
    "from matplotlib.pyplot import imshow\n",
    "import numpy as np\n",
    "import pandas as pd\n",
    "from sklearn import datasets\n",
    "\n",
    "import azureml.core\n",
    "from azureml.core.experiment import Experiment\n",
    "from azureml.core.workspace import Workspace\n",
    "from azureml.train.automl import AutoMLConfig\n",
    "from azureml.train.automl.run import AutoMLRun"
   ]
  },
  {
   "cell_type": "markdown",
   "metadata": {},
   "source": [
    "## 2. Connexion workspace Azure ML service"
   ]
  },
  {
   "cell_type": "code",
   "execution_count": 46,
   "metadata": {},
   "outputs": [
    {
     "data": {
      "text/html": [
       "<div>\n",
       "<style scoped>\n",
       "    .dataframe tbody tr th:only-of-type {\n",
       "        vertical-align: middle;\n",
       "    }\n",
       "\n",
       "    .dataframe tbody tr th {\n",
       "        vertical-align: top;\n",
       "    }\n",
       "\n",
       "    .dataframe thead th {\n",
       "        text-align: right;\n",
       "    }\n",
       "</style>\n",
       "<table border=\"1\" class=\"dataframe\">\n",
       "  <thead>\n",
       "    <tr style=\"text-align: right;\">\n",
       "      <th></th>\n",
       "      <th></th>\n",
       "    </tr>\n",
       "  </thead>\n",
       "  <tbody>\n",
       "    <tr>\n",
       "      <th>SDK version</th>\n",
       "      <td>1.0.74</td>\n",
       "    </tr>\n",
       "    <tr>\n",
       "      <th>Workspace Name</th>\n",
       "      <td>workshopml</td>\n",
       "    </tr>\n",
       "    <tr>\n",
       "      <th>Resource Group</th>\n",
       "      <td>workshopmlRG</td>\n",
       "    </tr>\n",
       "    <tr>\n",
       "      <th>Location</th>\n",
       "      <td>northeurope</td>\n",
       "    </tr>\n",
       "    <tr>\n",
       "      <th>Project Directory</th>\n",
       "      <td>./sample_projects/workshop2</td>\n",
       "    </tr>\n",
       "    <tr>\n",
       "      <th>Experiment Name</th>\n",
       "      <td>workshop2</td>\n",
       "    </tr>\n",
       "  </tbody>\n",
       "</table>\n",
       "</div>"
      ],
      "text/plain": [
       "                                              \n",
       "SDK version        1.0.74                     \n",
       "Workspace Name     workshopml                 \n",
       "Resource Group     workshopmlRG               \n",
       "Location           northeurope                \n",
       "Project Directory  ./sample_projects/workshop2\n",
       "Experiment Name    workshop2                  "
      ]
     },
     "execution_count": 46,
     "metadata": {},
     "output_type": "execute_result"
    }
   ],
   "source": [
    "ws = Workspace.from_config()\n",
    "\n",
    "experiment_name = 'workshop2'\n",
    "project_folder = './sample_projects/workshop2'\n",
    "\n",
    "experiment = Experiment(ws, experiment_name)\n",
    "\n",
    "output = {}\n",
    "output['SDK version'] = azureml.core.VERSION\n",
    "output['Workspace Name'] = ws.name\n",
    "output['Resource Group'] = ws.resource_group\n",
    "output['Location'] = ws.location\n",
    "output['Project Directory'] = project_folder\n",
    "output['Experiment Name'] = experiment.name\n",
    "pd.set_option('display.max_colwidth', -1)\n",
    "pd.DataFrame(data = output, index = ['']).T"
   ]
  },
  {
   "cell_type": "markdown",
   "metadata": {},
   "source": [
    "## 3. Chargement des données\n",
    "\n",
    "This uses scikit-learn's [load_digits](http://scikit-learn.org/stable/modules/generated/sklearn.datasets.load_digits.html) method."
   ]
  },
  {
   "cell_type": "code",
   "execution_count": 47,
   "metadata": {},
   "outputs": [],
   "source": [
    "from sklearn import datasets\n",
    "\n",
    "digits = datasets.load_digits()\n",
    "\n",
    "# Exclude the first 100 rows from training so that they can be used for test.\n",
    "X_train = digits.data[100:,:]\n",
    "y_train = digits.target[100:]"
   ]
  },
  {
   "cell_type": "code",
   "execution_count": 48,
   "metadata": {},
   "outputs": [
    {
     "name": "stdout",
     "output_type": "stream",
     "text": [
      "(1797, 64)\n"
     ]
    }
   ],
   "source": [
    "print(digits.data.shape)"
   ]
  },
  {
   "cell_type": "markdown",
   "metadata": {},
   "source": [
    "## 4. Configuration AutoML\n",
    "\n"
   ]
  },
  {
   "cell_type": "code",
   "execution_count": 49,
   "metadata": {},
   "outputs": [
    {
     "name": "stderr",
     "output_type": "stream",
     "text": [
      "WARNING - The AutoMLConfig inputs you have specified will soon be deprecated. Please use the AutoMLConfig shown in our documentation: https://aka.ms/AutoMLConfig\n"
     ]
    }
   ],
   "source": [
    "automl_config = AutoMLConfig(task = 'classification',\n",
    "                             debug_log = 'automl_errors.log',\n",
    "                             primary_metric = 'AUC_weighted',\n",
    "                             iteration_timeout_minutes = 5, # Temps max par itération\n",
    "                             experiment_timeout_minutes = 5, # Temps max pour le process AutoML\n",
    "                             enable_early_stopping=True, # Sortie si pas d'amélioration de la métrique\n",
    "                             #iterations = 10,           # Possibilité de définir le nombre d'itérations max\n",
    "                             n_cross_validations = 3,    # Nombre de validation croisée\n",
    "                             verbosity = logging.INFO,\n",
    "                             X = X_train, \n",
    "                             y = y_train,\n",
    "                             path = project_folder)"
   ]
  },
  {
   "cell_type": "markdown",
   "metadata": {},
   "source": [
    "## 5. AutoML\n",
    "\n",
    "Call the `submit` method on the experiment object and pass the run configuration. Execution of local runs is synchronous. Depending on the data and the number of iterations this can run for a while.\n",
    "In this example, we specify `show_output = True` to print currently running iterations to the console.\n",
    "\n",
    "`AUC_weighted` is the **metric** used."
   ]
  },
  {
   "cell_type": "code",
   "execution_count": 50,
   "metadata": {},
   "outputs": [
    {
     "name": "stdout",
     "output_type": "stream",
     "text": [
      "Running on local machine\n",
      "Parent Run ID: AutoML_2da96795-1cd6-41e8-a1d1-f1bd27626167\n",
      "Current status: DatasetCrossValidationSplit. Generating CV splits.\n",
      "\n",
      "****************************************************************************************************\n",
      "DATA GUARDRAILS SUMMARY:\n",
      "For more details, use API: run.get_guardrails()\n",
      "\n",
      "TYPE:         Class balancing detection\n",
      "STATUS:       PASSED\n",
      "DESCRIPTION:  Classes are balanced in the training data.\n",
      "\n",
      "****************************************************************************************************\n",
      "Current status: ModelSelection. Beginning model selection.\n",
      "\n",
      "****************************************************************************************************\n",
      "ITERATION: The iteration being evaluated.\n",
      "PIPELINE: A summary description of the pipeline being evaluated.\n",
      "DURATION: Time taken for the current iteration.\n",
      "METRIC: The result of computing score on the fitted pipeline.\n",
      "BEST: The best observed score thus far.\n",
      "****************************************************************************************************\n",
      "\n",
      " ITERATION   PIPELINE                                       DURATION      METRIC      BEST\n",
      "         0   StandardScalerWrapper SGD                      0:00:13       0.9942    0.9942\n",
      "         1   StandardScalerWrapper SGD                      0:00:12       0.9969    0.9969\n",
      "         2   MinMaxScaler LightGBM                          0:00:14       0.9977    0.9977\n",
      "         3   StandardScalerWrapper SGD                      0:00:13       0.9892    0.9977\n",
      "         4   StandardScalerWrapper ExtremeRandomTrees       0:00:13       0.9963    0.9977\n",
      "         5   StandardScalerWrapper LightGBM                 0:00:14       0.9974    0.9977\n",
      "         6   StandardScalerWrapper SGD                      0:00:22       0.9967    0.9977\n",
      "         7   MinMaxScaler RandomForest                      0:00:13       0.9871    0.9977\n",
      "         8   StandardScalerWrapper SGD                      0:00:22       0.9838    0.9977\n",
      "         9   MinMaxScaler SGD                               0:00:14       0.9960    0.9977\n",
      "        10   MinMaxScaler RandomForest                      0:00:12       0.9820    0.9977\n",
      "        11   MaxAbsScaler LightGBM                          0:00:12       0.9892    0.9977\n",
      "        12   MinMaxScaler LightGBM                          0:00:16       0.9982    0.9982\n",
      "        13   MinMaxScaler ExtremeRandomTrees                0:00:11       0.9676    0.9982\n",
      "        14   MinMaxScaler LightGBM                          0:00:13       0.9895    0.9982\n",
      "        15   StandardScalerWrapper BernoulliNaiveBayes      0:00:13       0.9840    0.9982\n",
      "        16   StandardScalerWrapper LogisticRegression       0:00:15       0.9960    0.9982\n",
      "        17   RobustScaler LightGBM                          0:00:15       0.9978    0.9982\n",
      "        18   MaxAbsScaler LightGBM                          0:00:15       0.9980    0.9982\n",
      "        19   StandardScalerWrapper LightGBM                 0:00:14       0.9963    0.9982\n",
      "        20   RobustScaler LightGBM                          0:00:15       0.9941    0.9982\n",
      "        21   VotingEnsemble                                 0:00:21       0.9989    0.9989\n",
      "        22   StackEnsemble                                  0:00:33       0.9627    0.9989\n",
      "Stopping criteria reached at iteration 22. Ending experiment.\n",
      "CPU times: user 22 s, sys: 5.32 s, total: 27.3 s\n",
      "Wall time: 6min 13s\n"
     ]
    }
   ],
   "source": [
    "%%time\n",
    "local_run = experiment.submit(automl_config, show_output = True)"
   ]
  },
  {
   "cell_type": "code",
   "execution_count": 51,
   "metadata": {},
   "outputs": [
    {
     "data": {
      "text/html": [
       "<table style=\"width:100%\"><tr><th>Experiment</th><th>Id</th><th>Type</th><th>Status</th><th>Details Page</th><th>Docs Page</th></tr><tr><td>workshop2</td><td>AutoML_2da96795-1cd6-41e8-a1d1-f1bd27626167</td><td>automl</td><td>Running</td><td><a href=\"https://ml.azure.com/experiments/workshop2/runs/AutoML_2da96795-1cd6-41e8-a1d1-f1bd27626167?wsid=/subscriptions/70b8f39e-8863-49f7-b6ba-34a80799550c/resourcegroups/workshopmlRG/workspaces/workshopml\" target=\"_blank\" rel=\"noopener\">Link to Azure Machine Learning studio</a></td><td><a href=\"https://docs.microsoft.com/en-us/python/api/overview/azure/ml/intro?view=azure-ml-py\" target=\"_blank\" rel=\"noopener\">Link to Documentation</a></td></tr></table>"
      ],
      "text/plain": [
       "Run(Experiment: workshop2,\n",
       "Id: AutoML_2da96795-1cd6-41e8-a1d1-f1bd27626167,\n",
       "Type: automl,\n",
       "Status: Running)"
      ]
     },
     "execution_count": 51,
     "metadata": {},
     "output_type": "execute_result"
    }
   ],
   "source": [
    "local_run"
   ]
  },
  {
   "cell_type": "markdown",
   "metadata": {},
   "source": [
    "## 6. Exploration des résultats AutoML"
   ]
  },
  {
   "cell_type": "markdown",
   "metadata": {},
   "source": [
    "### 6.1 Notebook Widget\n",
    "\n",
    "The widget will first report a \"loading\" status while running the first iteration. After completing the first iteration, an auto-updating graph and table will be shown. The widget will refresh once per minute, so you should see the graph update as child runs complete.\n",
    "\n",
    "**Note:** The widget displays a link at the bottom. Use this link to open a web interface to explore the individual run details."
   ]
  },
  {
   "cell_type": "code",
   "execution_count": 52,
   "metadata": {},
   "outputs": [
    {
     "data": {
      "application/vnd.jupyter.widget-view+json": {
       "model_id": "f2589da5586940c681dbdfa3a4c93f3b",
       "version_major": 2,
       "version_minor": 0
      },
      "text/plain": [
       "_AutoMLWidget(widget_settings={'childWidgetDisplay': 'popup', 'send_telemetry': False, 'log_level': 'INFO', 's…"
      ]
     },
     "metadata": {},
     "output_type": "display_data"
    },
    {
     "data": {
      "application/aml.mini.widget.v1": "{\"status\": \"Completed\", \"workbench_run_details_uri\": \"https://ml.azure.com/experiments/workshop2/runs/AutoML_2da96795-1cd6-41e8-a1d1-f1bd27626167?wsid=/subscriptions/70b8f39e-8863-49f7-b6ba-34a80799550c/resourcegroups/workshopmlRG/workspaces/workshopml\", \"run_id\": \"AutoML_2da96795-1cd6-41e8-a1d1-f1bd27626167\", \"run_properties\": {\"run_id\": \"AutoML_2da96795-1cd6-41e8-a1d1-f1bd27626167\", \"created_utc\": \"2019-11-21T14:33:23.264009Z\", \"properties\": {\"num_iterations\": \"1000\", \"training_type\": \"TrainFull\", \"acquisition_function\": \"EI\", \"primary_metric\": \"AUC_weighted\", \"train_split\": \"0\", \"MaxTimeSeconds\": \"300\", \"acquisition_parameter\": \"0\", \"num_cross_validation\": \"3\", \"target\": \"local\", \"RawAMLSettingsString\": \"{'name': 'workshop2', 'path': './sample_projects/workshop2', 'subscription_id': '70b8f39e-8863-49f7-b6ba-34a80799550c', 'resource_group': 'workshopmlRG', 'workspace_name': 'workshopml', 'region': 'northeurope', 'compute_target': 'local', 'spark_service': None, 'azure_service': None, 'iterations': 1000, 'primary_metric': 'AUC_weighted', 'task_type': 'classification', 'data_script': None, 'validation_size': 0.0, 'n_cross_validations': 3, 'y_min': None, 'y_max': None, 'num_classes': 10, 'featurization': 'off', 'preprocess': False, 'lag_length': 0, 'is_timeseries': False, 'max_cores_per_iteration': 1, 'max_concurrent_iterations': 1, 'iteration_timeout_minutes': 5, 'mem_in_mb': None, 'enforce_time_on_windows': False, 'experiment_timeout_minutes': 5, 'experiment_exit_score': None, 'whitelist_models': None, 'blacklist_algos': ['XGBoostClassifier', 'Prophet'], 'supported_models': ['MultinomialNaiveBayes', 'RandomForest', 'DecisionTree', 'BernoulliNaiveBayes', 'LinearSVM', 'LightGBM', 'SGD', 'TensorFlowLinearClassifier', 'GradientBoosting', 'SVM', 'LogisticRegression', 'KNN', 'AveragedPerceptronClassifier', 'ExtremeRandomTrees', 'XGBoostClassifier', 'TensorFlowDNN', 'LinearSVMClassifier'], 'auto_blacklist': True, 'blacklist_samples_reached': False, 'exclude_nan_labels': True, 'verbosity': 20, 'debug_log': 'automl_errors.log', 'show_warnings': False, 'model_explainability': False, 'service_url': None, 'sdk_url': None, 'sdk_packages': None, 'enable_onnx_compatible_models': False, 'enable_split_onnx_featurizer_estimator_models': False, 'vm_type': None, 'telemetry_verbosity': 'INFO', 'send_telemetry': True, 'enable_dnn': False, 'enable_feature_sweeping': True, 'enable_early_stopping': True, 'early_stopping_n_iters': 10, 'metrics': None, 'enable_ensembling': True, 'enable_stack_ensembling': True, 'ensemble_iterations': 15, 'enable_tf': False, 'enable_cache': True, 'enable_subsampling': None, 'subsample_seed': None, 'enable_nimbusml': False, 'enable_streaming': False, 'label_column_name': None, 'weight_column_name': None, 'cost_mode': 0, 'metric_operation': 'maximize'}\", \"AMLSettingsJsonString\": \"{\\\"name\\\":\\\"workshop2\\\",\\\"path\\\":\\\"./sample_projects/workshop2\\\",\\\"subscription_id\\\":\\\"70b8f39e-8863-49f7-b6ba-34a80799550c\\\",\\\"resource_group\\\":\\\"workshopmlRG\\\",\\\"workspace_name\\\":\\\"workshopml\\\",\\\"region\\\":\\\"northeurope\\\",\\\"compute_target\\\":\\\"local\\\",\\\"spark_service\\\":null,\\\"azure_service\\\":null,\\\"iterations\\\":1000,\\\"primary_metric\\\":\\\"AUC_weighted\\\",\\\"task_type\\\":\\\"classification\\\",\\\"data_script\\\":null,\\\"validation_size\\\":0.0,\\\"n_cross_validations\\\":3,\\\"y_min\\\":null,\\\"y_max\\\":null,\\\"num_classes\\\":10,\\\"featurization\\\":\\\"off\\\",\\\"preprocess\\\":false,\\\"lag_length\\\":0,\\\"is_timeseries\\\":false,\\\"max_cores_per_iteration\\\":1,\\\"max_concurrent_iterations\\\":1,\\\"iteration_timeout_minutes\\\":5,\\\"mem_in_mb\\\":null,\\\"enforce_time_on_windows\\\":false,\\\"experiment_timeout_minutes\\\":5,\\\"experiment_exit_score\\\":null,\\\"whitelist_models\\\":null,\\\"blacklist_algos\\\":[\\\"XGBoostClassifier\\\",\\\"Prophet\\\",\\\"AutoArima\\\"],\\\"supported_models\\\":[\\\"MultinomialNaiveBayes\\\",\\\"RandomForest\\\",\\\"DecisionTree\\\",\\\"BernoulliNaiveBayes\\\",\\\"LinearSVM\\\",\\\"LightGBM\\\",\\\"SGD\\\",\\\"TensorFlowLinearClassifier\\\",\\\"GradientBoosting\\\",\\\"SVM\\\",\\\"LogisticRegression\\\",\\\"KNN\\\",\\\"AveragedPerceptronClassifier\\\",\\\"ExtremeRandomTrees\\\",\\\"XGBoostClassifier\\\",\\\"TensorFlowDNN\\\",\\\"LinearSVMClassifier\\\"],\\\"auto_blacklist\\\":true,\\\"blacklist_samples_reached\\\":false,\\\"exclude_nan_labels\\\":true,\\\"verbosity\\\":20,\\\"debug_log\\\":\\\"automl_errors.log\\\",\\\"show_warnings\\\":false,\\\"model_explainability\\\":false,\\\"service_url\\\":null,\\\"sdk_url\\\":null,\\\"sdk_packages\\\":null,\\\"enable_onnx_compatible_models\\\":false,\\\"enable_split_onnx_featurizer_estimator_models\\\":false,\\\"vm_type\\\":null,\\\"telemetry_verbosity\\\":\\\"INFO\\\",\\\"send_telemetry\\\":true,\\\"enable_dnn\\\":false,\\\"enable_feature_sweeping\\\":true,\\\"enable_early_stopping\\\":true,\\\"early_stopping_n_iters\\\":10,\\\"metrics\\\":null,\\\"enable_ensembling\\\":true,\\\"enable_stack_ensembling\\\":true,\\\"ensemble_iterations\\\":15,\\\"enable_tf\\\":false,\\\"enable_cache\\\":true,\\\"enable_subsampling\\\":null,\\\"subsample_seed\\\":null,\\\"enable_nimbusml\\\":false,\\\"enable_streaming\\\":false,\\\"label_column_name\\\":null,\\\"weight_column_name\\\":null,\\\"cost_mode\\\":0,\\\"metric_operation\\\":\\\"maximize\\\"}\", \"DataPrepJsonString\": null, \"EnableSubsampling\": null, \"runTemplate\": \"AutoML\", \"azureml.runsource\": \"automl\", \"display_task_type\": \"classification\", \"dependencies_versions\": \"{\\\"azureml-widgets\\\": \\\"1.0.74\\\", \\\"azureml-train\\\": \\\"1.0.74\\\", \\\"azureml-train-restclients-hyperdrive\\\": \\\"1.0.74\\\", \\\"azureml-train-core\\\": \\\"1.0.74\\\", \\\"azureml-train-automl\\\": \\\"1.0.74\\\", \\\"azureml-tensorboard\\\": \\\"1.0.74\\\", \\\"azureml-telemetry\\\": \\\"1.0.74\\\", \\\"azureml-sdk\\\": \\\"1.0.74\\\", \\\"azureml-samples\\\": \\\"0+unknown\\\", \\\"azureml-pipeline\\\": \\\"1.0.74\\\", \\\"azureml-pipeline-steps\\\": \\\"1.0.74\\\", \\\"azureml-pipeline-core\\\": \\\"1.0.74\\\", \\\"azureml-opendatasets\\\": \\\"1.0.74\\\", \\\"azureml-model-management-sdk\\\": \\\"1.0.1b6.post1\\\", \\\"azureml-mlflow\\\": \\\"1.0.74\\\", \\\"azureml-interpret\\\": \\\"1.0.74\\\", \\\"azureml-explain-model\\\": \\\"1.0.74\\\", \\\"azureml-defaults\\\": \\\"1.0.74\\\", \\\"azureml-dataprep\\\": \\\"1.1.30\\\", \\\"azureml-dataprep-native\\\": \\\"13.1.0\\\", \\\"azureml-datadrift\\\": \\\"1.0.74\\\", \\\"azureml-core\\\": \\\"1.0.74\\\", \\\"azureml-contrib-services\\\": \\\"1.0.74\\\", \\\"azureml-contrib-server\\\": \\\"1.0.74\\\", \\\"azureml-contrib-reinforcementlearning\\\": \\\"0.1.0.5919674\\\", \\\"azureml-contrib-opendatasets\\\": \\\"1.0.45\\\", \\\"azureml-contrib-notebook\\\": \\\"1.0.74\\\", \\\"azureml-contrib-interpret\\\": \\\"1.0.74\\\", \\\"azureml-contrib-datadrift\\\": \\\"1.0.74\\\", \\\"azureml-automl-core\\\": \\\"1.0.74\\\"}\", \"ProblemInfoJsonString\": \"{\\\"dataset_num_categorical\\\": 0, \\\"is_sparse\\\": false, \\\"subsampling\\\": false, \\\"dataset_classes\\\": 10, \\\"dataset_features\\\": 64, \\\"dataset_samples\\\": 1697, \\\"single_frequency_class_detected\\\": false}\"}, \"tags\": {\"model_explain_run\": \"best_run\", \"experiment_status\": \"ModelSelection\", \"experiment_status_descr\": \"Beginning model selection.\", \"dynamic_whitelisting_iterations\": \"<20>;\"}, \"end_time_utc\": \"2019-11-21T14:39:32.505234Z\", \"status\": \"Completed\", \"log_files\": {}, \"log_groups\": [], \"run_duration\": \"0:06:09\"}, \"child_runs\": [{\"run_id\": \"AutoML_2da96795-1cd6-41e8-a1d1-f1bd27626167_0\", \"run_number\": 61, \"metric\": null, \"status\": \"Completed\", \"run_type\": null, \"training_percent\": \"100\", \"start_time\": \"2019-11-21T14:33:28.006905Z\", \"end_time\": \"2019-11-21T14:33:39.859503Z\", \"created_time\": \"2019-11-21T14:33:27.572767Z\", \"created_time_dt\": \"2019-11-21T14:33:27.572767Z\", \"duration\": \"0:00:12\", \"iteration\": \"0\", \"goal\": \"AUC_weighted_max\", \"run_name\": \"StandardScalerWrapper, SGD\", \"run_properties\": \"alpha=2.653134693877551, class_weight=None, eta0=0.0001,\\n           fit_intercept=True, l1_ratio=0.36734693877551017,\\n           learning_rate='constant', loss='modified_huber', max_iter=1000,\\n           n_jobs=1, penalty='none', power_t=0.1111111111111111,\\n           random_state=None, tol=0.001\", \"primary_metric\": 0.9941637, \"best_metric\": 0.9941637}, {\"run_id\": \"AutoML_2da96795-1cd6-41e8-a1d1-f1bd27626167_1\", \"run_number\": 62, \"metric\": null, \"status\": \"Completed\", \"run_type\": null, \"training_percent\": \"100\", \"start_time\": \"2019-11-21T14:33:41.000127Z\", \"end_time\": \"2019-11-21T14:33:52.668293Z\", \"created_time\": \"2019-11-21T14:33:40.851853Z\", \"created_time_dt\": \"2019-11-21T14:33:40.851853Z\", \"duration\": \"0:00:11\", \"iteration\": \"1\", \"goal\": \"AUC_weighted_max\", \"run_name\": \"StandardScalerWrapper, SGD\", \"run_properties\": \"alpha=1.4286571428571428, class_weight=None, eta0=0.01,\\n           fit_intercept=True, l1_ratio=0.7551020408163265,\\n           learning_rate='constant', loss='log', max_iter=1000, n_jobs=1,\\n           penalty='none', power_t=0.4444444444444444, random_state=None,\\n           tol=0.001\", \"primary_metric\": 0.99688321, \"best_metric\": 0.99688321}, {\"run_id\": \"AutoML_2da96795-1cd6-41e8-a1d1-f1bd27626167_2\", \"run_number\": 63, \"metric\": null, \"status\": \"Completed\", \"run_type\": null, \"training_percent\": \"100\", \"start_time\": \"2019-11-21T14:33:53.79066Z\", \"end_time\": \"2019-11-21T14:34:06.609209Z\", \"created_time\": \"2019-11-21T14:33:53.70831Z\", \"created_time_dt\": \"2019-11-21T14:33:53.70831Z\", \"duration\": \"0:00:12\", \"iteration\": \"2\", \"goal\": \"AUC_weighted_max\", \"run_name\": \"MinMaxScaler, LightGBM\", \"run_properties\": \"boosting_type='goss', class_weight=None,\\n          colsample_bytree=0.7922222222222222, importance_type='split',\\n          learning_rate=0.1, max_bin=170, max_depth=4,\\n          min_child_samples=65, min_child_weight=4,\\n          min_split_gain=0.8421052631578947, n_estimators=50, n_jobs=1,\\n          num_leaves=62, objective=None, random_state=None,\\n          reg_alpha=0.7894736842105263, reg_lambda=0.15789473684210525,\\n          silent=True, subsample=1, subsample_for_bin=200000,\\n          subsample_freq=0, verbose=-10\", \"primary_metric\": 0.99765641, \"best_metric\": 0.99765641}, {\"run_id\": \"AutoML_2da96795-1cd6-41e8-a1d1-f1bd27626167_3\", \"run_number\": 64, \"metric\": null, \"status\": \"Completed\", \"run_type\": null, \"training_percent\": \"100\", \"start_time\": \"2019-11-21T14:34:09.582149Z\", \"end_time\": \"2019-11-21T14:34:21.14931Z\", \"created_time\": \"2019-11-21T14:34:09.323208Z\", \"created_time_dt\": \"2019-11-21T14:34:09.323208Z\", \"duration\": \"0:00:11\", \"iteration\": \"3\", \"goal\": \"AUC_weighted_max\", \"run_name\": \"StandardScalerWrapper, SGD\", \"run_properties\": \"alpha=0.0001, class_weight='balanced', eta0=0.0001,\\n           fit_intercept=False, l1_ratio=0.3469387755102041,\\n           learning_rate='constant', loss='modified_huber', max_iter=1000,\\n           n_jobs=1, penalty='l2', power_t=0.2222222222222222,\\n           random_state=None, tol=0.01\", \"primary_metric\": 0.98919574, \"best_metric\": 0.99765641}, {\"run_id\": \"AutoML_2da96795-1cd6-41e8-a1d1-f1bd27626167_4\", \"run_number\": 65, \"metric\": null, \"status\": \"Completed\", \"run_type\": null, \"training_percent\": \"100\", \"start_time\": \"2019-11-21T14:34:22.408587Z\", \"end_time\": \"2019-11-21T14:34:34.744099Z\", \"created_time\": \"2019-11-21T14:34:22.284151Z\", \"created_time_dt\": \"2019-11-21T14:34:22.284151Z\", \"duration\": \"0:00:12\", \"iteration\": \"4\", \"goal\": \"AUC_weighted_max\", \"run_name\": \"StandardScalerWrapper, ExtremeRandomTrees\", \"run_properties\": \"bootstrap=True, class_weight=None, criterion='entropy',\\n           max_depth=None, max_features='sqrt', max_leaf_nodes=None,\\n           min_impurity_decrease=0.0, min_impurity_split=None,\\n           min_samples_leaf=0.01, min_samples_split=0.01,\\n           min_weight_fraction_leaf=0.0, n_estimators=100, n_jobs=1,\\n           oob_score=False, random_state=None, verbose=0, warm_start=False\", \"primary_metric\": 0.99634423, \"best_metric\": 0.99765641}, {\"run_id\": \"AutoML_2da96795-1cd6-41e8-a1d1-f1bd27626167_5\", \"run_number\": 66, \"metric\": null, \"status\": \"Completed\", \"run_type\": null, \"training_percent\": \"100\", \"start_time\": \"2019-11-21T14:34:35.760494Z\", \"end_time\": \"2019-11-21T14:34:48.196044Z\", \"created_time\": \"2019-11-21T14:34:35.635791Z\", \"created_time_dt\": \"2019-11-21T14:34:35.635791Z\", \"duration\": \"0:00:12\", \"iteration\": \"5\", \"goal\": \"AUC_weighted_max\", \"run_name\": \"StandardScalerWrapper, LightGBM\", \"run_properties\": \"boosting_type='gbdt', class_weight=None,\\n          colsample_bytree=0.6933333333333332, importance_type='split',\\n          learning_rate=0.07894947368421053, max_bin=240, max_depth=3,\\n          min_child_samples=30, min_child_weight=6,\\n          min_split_gain=0.631578947368421, n_estimators=50, n_jobs=1,\\n          num_leaves=65, objective=None, random_state=None,\\n          reg_alpha=0.5789473684210527, reg_lambda=0.631578947368421,\\n          silent=True, subsample=0.3963157894736842,\\n          subsample_for_bin=200000, subsample_freq=0, verbose=-10\", \"primary_metric\": 0.99738858, \"best_metric\": 0.99765641}, {\"run_id\": \"AutoML_2da96795-1cd6-41e8-a1d1-f1bd27626167_6\", \"run_number\": 67, \"metric\": null, \"status\": \"Completed\", \"run_type\": null, \"training_percent\": \"100\", \"start_time\": \"2019-11-21T14:34:59.745374Z\", \"end_time\": \"2019-11-21T14:35:10.952579Z\", \"created_time\": \"2019-11-21T14:34:59.618387Z\", \"created_time_dt\": \"2019-11-21T14:34:59.618387Z\", \"duration\": \"0:00:11\", \"iteration\": \"6\", \"goal\": \"AUC_weighted_max\", \"run_name\": \"StandardScalerWrapper, SGD\", \"run_properties\": \"alpha=1.2245775510204082, class_weight=None, eta0=0.01,\\n           fit_intercept=True, l1_ratio=0.2040816326530612,\\n           learning_rate='constant', loss='log', max_iter=1000, n_jobs=1,\\n           penalty='none', power_t=0.1111111111111111, random_state=None,\\n           tol=0.01\", \"primary_metric\": 0.99665102, \"best_metric\": 0.99765641}, {\"run_id\": \"AutoML_2da96795-1cd6-41e8-a1d1-f1bd27626167_7\", \"run_number\": 68, \"metric\": null, \"status\": \"Completed\", \"run_type\": null, \"training_percent\": \"100\", \"start_time\": \"2019-11-21T14:35:11.960261Z\", \"end_time\": \"2019-11-21T14:35:23.701777Z\", \"created_time\": \"2019-11-21T14:35:11.842195Z\", \"created_time_dt\": \"2019-11-21T14:35:11.842195Z\", \"duration\": \"0:00:11\", \"iteration\": \"7\", \"goal\": \"AUC_weighted_max\", \"run_name\": \"MinMaxScaler, RandomForest\", \"run_properties\": \"bootstrap=False, class_weight='balanced',\\n            criterion='entropy', max_depth=None, max_features='sqrt',\\n            max_leaf_nodes=None, min_impurity_decrease=0.0,\\n            min_impurity_split=None, min_samples_leaf=0.06157894736842105,\\n            min_samples_split=0.15052631578947367,\\n            min_weight_fraction_leaf=0.0, n_estimators=25, n_jobs=1,\\n            oob_score=False, random_state=None, verbose=0,\\n            warm_start=False\", \"primary_metric\": 0.98713134, \"best_metric\": 0.99765641}, {\"run_id\": \"AutoML_2da96795-1cd6-41e8-a1d1-f1bd27626167_8\", \"run_number\": 69, \"metric\": null, \"status\": \"Completed\", \"run_type\": null, \"training_percent\": \"100\", \"start_time\": \"2019-11-21T14:35:25.718188Z\", \"end_time\": \"2019-11-21T14:35:46.67374Z\", \"created_time\": \"2019-11-21T14:35:25.630361Z\", \"created_time_dt\": \"2019-11-21T14:35:25.630361Z\", \"duration\": \"0:00:21\", \"iteration\": \"8\", \"goal\": \"AUC_weighted_max\", \"run_name\": \"StandardScalerWrapper, SGD\", \"run_properties\": \"alpha=4.693930612244897, class_weight=None, eta0=1e-05,\\n           fit_intercept=False, l1_ratio=0.6122448979591836,\\n           learning_rate='optimal', loss='log', max_iter=1000, n_jobs=1,\\n           penalty='l2', power_t=0.2222222222222222, random_state=None,\\n           tol=0.001\", \"primary_metric\": 0.9837648, \"best_metric\": 0.99765641}, {\"run_id\": \"AutoML_2da96795-1cd6-41e8-a1d1-f1bd27626167_9\", \"run_number\": 70, \"metric\": null, \"status\": \"Completed\", \"run_type\": null, \"training_percent\": \"100\", \"start_time\": \"2019-11-21T14:35:48.206407Z\", \"end_time\": \"2019-11-21T14:36:00.648854Z\", \"created_time\": \"2019-11-21T14:35:48.120967Z\", \"created_time_dt\": \"2019-11-21T14:35:48.120967Z\", \"duration\": \"0:00:12\", \"iteration\": \"9\", \"goal\": \"AUC_weighted_max\", \"run_name\": \"MinMaxScaler, SGD\", \"run_properties\": \"alpha=0.0001, class_weight='balanced', eta0=0.001,\\n           fit_intercept=False, l1_ratio=0.16326530612244897,\\n           learning_rate='constant', loss='squared_hinge', max_iter=1000,\\n           n_jobs=1, penalty='l2', power_t=0.7777777777777777,\\n           random_state=None, tol=0.01\", \"primary_metric\": 0.99604682, \"best_metric\": 0.99765641}, {\"run_id\": \"AutoML_2da96795-1cd6-41e8-a1d1-f1bd27626167_10\", \"run_number\": 71, \"metric\": null, \"status\": \"Completed\", \"run_type\": null, \"training_percent\": \"100\", \"start_time\": \"2019-11-21T14:36:01.631832Z\", \"end_time\": \"2019-11-21T14:36:12.837938Z\", \"created_time\": \"2019-11-21T14:36:01.552873Z\", \"created_time_dt\": \"2019-11-21T14:36:01.552873Z\", \"duration\": \"0:00:11\", \"iteration\": \"10\", \"goal\": \"AUC_weighted_max\", \"run_name\": \"MinMaxScaler, RandomForest\", \"run_properties\": \"bootstrap=True, class_weight=None, criterion='gini',\\n            max_depth=None, max_features='sqrt', max_leaf_nodes=None,\\n            min_impurity_decrease=0.0, min_impurity_split=None,\\n            min_samples_leaf=0.035789473684210524, min_samples_split=0.01,\\n            min_weight_fraction_leaf=0.0, n_estimators=10, n_jobs=1,\\n            oob_score=True, random_state=None, verbose=0, warm_start=False\", \"primary_metric\": 0.98198685, \"best_metric\": 0.99765641}, {\"run_id\": \"AutoML_2da96795-1cd6-41e8-a1d1-f1bd27626167_11\", \"run_number\": 72, \"metric\": null, \"status\": \"Completed\", \"run_type\": null, \"training_percent\": \"100\", \"start_time\": \"2019-11-21T14:36:14.228545Z\", \"end_time\": \"2019-11-21T14:36:25.673494Z\", \"created_time\": \"2019-11-21T14:36:14.115775Z\", \"created_time_dt\": \"2019-11-21T14:36:14.115775Z\", \"duration\": \"0:00:11\", \"iteration\": \"11\", \"goal\": \"AUC_weighted_max\", \"run_name\": \"MaxAbsScaler, LightGBM\", \"run_properties\": \"boosting_type='goss', class_weight=None,\\n          colsample_bytree=0.99, importance_type='split',\\n          learning_rate=0.1, max_bin=40, max_depth=10,\\n          min_child_samples=47, min_child_weight=0,\\n          min_split_gain=0.7368421052631579, n_estimators=10, n_jobs=1,\\n          num_leaves=125, objective=None, random_state=None,\\n          reg_alpha=0.8421052631578947, reg_lambda=0.8421052631578947,\\n          silent=True, subsample=1, subsample_for_bin=200000,\\n          subsample_freq=0, verbose=-10\", \"primary_metric\": 0.98920468, \"best_metric\": 0.99765641}, {\"run_id\": \"AutoML_2da96795-1cd6-41e8-a1d1-f1bd27626167_12\", \"run_number\": 73, \"metric\": null, \"status\": \"Completed\", \"run_type\": null, \"training_percent\": \"100\", \"start_time\": \"2019-11-21T14:36:27.639544Z\", \"end_time\": \"2019-11-21T14:36:42.296499Z\", \"created_time\": \"2019-11-21T14:36:27.561221Z\", \"created_time_dt\": \"2019-11-21T14:36:27.561221Z\", \"duration\": \"0:00:14\", \"iteration\": \"12\", \"goal\": \"AUC_weighted_max\", \"run_name\": \"MinMaxScaler, LightGBM\", \"run_properties\": \"boosting_type='gbdt', class_weight=None,\\n          colsample_bytree=0.8911111111111111, importance_type='split',\\n          learning_rate=0.08947473684210526, max_bin=170, max_depth=10,\\n          min_child_samples=129, min_child_weight=4,\\n          min_split_gain=0.5263157894736842, n_estimators=100, n_jobs=1,\\n          num_leaves=164, objective=None, random_state=None, reg_alpha=1,\\n          reg_lambda=0, silent=True, subsample=0.09947368421052633,\\n          subsample_for_bin=200000, subsample_freq=0, verbose=-10\", \"primary_metric\": 0.99819442, \"best_metric\": 0.99819442}, {\"run_id\": \"AutoML_2da96795-1cd6-41e8-a1d1-f1bd27626167_13\", \"run_number\": 74, \"metric\": null, \"status\": \"Completed\", \"run_type\": null, \"training_percent\": \"100\", \"start_time\": \"2019-11-21T14:36:43.19489Z\", \"end_time\": \"2019-11-21T14:36:53.981842Z\", \"created_time\": \"2019-11-21T14:36:43.105764Z\", \"created_time_dt\": \"2019-11-21T14:36:43.105764Z\", \"duration\": \"0:00:10\", \"iteration\": \"13\", \"goal\": \"AUC_weighted_max\", \"run_name\": \"MinMaxScaler, ExtremeRandomTrees\", \"run_properties\": \"bootstrap=True, class_weight=None, criterion='gini',\\n           max_depth=None, max_features=0.9, max_leaf_nodes=None,\\n           min_impurity_decrease=0.0, min_impurity_split=None,\\n           min_samples_leaf=0.01, min_samples_split=0.15052631578947367,\\n           min_weight_fraction_leaf=0.0, n_estimators=10, n_jobs=1,\\n           oob_score=True, random_state=None, verbose=0, warm_start=False\", \"primary_metric\": 0.96755509, \"best_metric\": 0.99819442}, {\"run_id\": \"AutoML_2da96795-1cd6-41e8-a1d1-f1bd27626167_14\", \"run_number\": 75, \"metric\": null, \"status\": \"Completed\", \"run_type\": null, \"training_percent\": \"100\", \"start_time\": \"2019-11-21T14:36:55.392957Z\", \"end_time\": \"2019-11-21T14:37:06.735889Z\", \"created_time\": \"2019-11-21T14:36:55.218261Z\", \"created_time_dt\": \"2019-11-21T14:36:55.218261Z\", \"duration\": \"0:00:11\", \"iteration\": \"14\", \"goal\": \"AUC_weighted_max\", \"run_name\": \"MinMaxScaler, LightGBM\", \"run_properties\": \"boosting_type='gbdt', class_weight=None,\\n          colsample_bytree=0.8911111111111111, importance_type='split',\\n          learning_rate=0.07894947368421053, max_bin=310, max_depth=10,\\n          min_child_samples=30, min_child_weight=9,\\n          min_split_gain=0.5263157894736842, n_estimators=10, n_jobs=1,\\n          num_leaves=182, objective=None, random_state=None,\\n          reg_alpha=0.5263157894736842, reg_lambda=0.3157894736842105,\\n          silent=True, subsample=0.19842105263157894,\\n          subsample_for_bin=200000, subsample_freq=0, verbose=-10\", \"primary_metric\": 0.98951878, \"best_metric\": 0.99819442}, {\"run_id\": \"AutoML_2da96795-1cd6-41e8-a1d1-f1bd27626167_15\", \"run_number\": 76, \"metric\": null, \"status\": \"Completed\", \"run_type\": null, \"training_percent\": \"100\", \"start_time\": \"2019-11-21T14:37:08.011574Z\", \"end_time\": \"2019-11-21T14:37:18.789727Z\", \"created_time\": \"2019-11-21T14:37:07.933004Z\", \"created_time_dt\": \"2019-11-21T14:37:07.933004Z\", \"duration\": \"0:00:10\", \"iteration\": \"15\", \"goal\": \"AUC_weighted_max\", \"run_name\": \"StandardScalerWrapper, BernoulliNaiveBayes\", \"run_properties\": \"alpha=0.42105263157894735, class_prior=None, fit_prior=False,\\n     model='Multinomial'\", \"primary_metric\": 0.98401286, \"best_metric\": 0.99819442}, {\"run_id\": \"AutoML_2da96795-1cd6-41e8-a1d1-f1bd27626167_16\", \"run_number\": 77, \"metric\": null, \"status\": \"Completed\", \"run_type\": null, \"training_percent\": \"100\", \"start_time\": \"2019-11-21T14:37:22.314295Z\", \"end_time\": \"2019-11-21T14:37:35.153035Z\", \"created_time\": \"2019-11-21T14:37:22.210044Z\", \"created_time_dt\": \"2019-11-21T14:37:22.210044Z\", \"duration\": \"0:00:12\", \"iteration\": \"16\", \"goal\": \"AUC_weighted_max\", \"run_name\": \"StandardScalerWrapper, LogisticRegression\", \"run_properties\": \"C=75.43120063354607, class_weight='balanced', dual=False,\\n          fit_intercept=True, intercept_scaling=1, max_iter=100,\\n          multi_class='ovr', n_jobs=1, penalty='l2', random_state=None,\\n          solver='lbfgs', tol=0.0001, verbose=0, warm_start=False\", \"primary_metric\": 0.99598713, \"best_metric\": 0.99819442}, {\"run_id\": \"AutoML_2da96795-1cd6-41e8-a1d1-f1bd27626167_17\", \"run_number\": 78, \"metric\": null, \"status\": \"Completed\", \"run_type\": null, \"training_percent\": \"100\", \"start_time\": \"2019-11-21T14:37:37.269007Z\", \"end_time\": \"2019-11-21T14:37:50.923877Z\", \"created_time\": \"2019-11-21T14:37:37.005461Z\", \"created_time_dt\": \"2019-11-21T14:37:37.005461Z\", \"duration\": \"0:00:13\", \"iteration\": \"17\", \"goal\": \"AUC_weighted_max\", \"run_name\": \"RobustScaler, LightGBM\", \"run_properties\": \"boosting_type='gbdt', class_weight=None,\\n          colsample_bytree=0.99, importance_type='split',\\n          learning_rate=0.05789894736842106, max_bin=200, max_depth=5,\\n          min_child_samples=100, min_child_weight=3,\\n          min_split_gain=0.894736842105263, n_estimators=200, n_jobs=1,\\n          num_leaves=134, objective=None, random_state=None,\\n          reg_alpha=0.894736842105263, reg_lambda=0.7894736842105263,\\n          silent=True, subsample=0.99, subsample_for_bin=200000,\\n          subsample_freq=0, verbose=-10\", \"primary_metric\": 0.99779937, \"best_metric\": 0.99819442}, {\"run_id\": \"AutoML_2da96795-1cd6-41e8-a1d1-f1bd27626167_18\", \"run_number\": 79, \"metric\": null, \"status\": \"Completed\", \"run_type\": null, \"training_percent\": \"100\", \"start_time\": \"2019-11-21T14:37:52.953929Z\", \"end_time\": \"2019-11-21T14:38:06.510894Z\", \"created_time\": \"2019-11-21T14:37:52.797173Z\", \"created_time_dt\": \"2019-11-21T14:37:52.797173Z\", \"duration\": \"0:00:13\", \"iteration\": \"18\", \"goal\": \"AUC_weighted_max\", \"run_name\": \"MaxAbsScaler, LightGBM\", \"run_properties\": \"boosting_type='gbdt', class_weight=None,\\n          colsample_bytree=0.7922222222222222, importance_type='split',\\n          learning_rate=0.06842421052631578, max_bin=190, max_depth=4,\\n          min_child_samples=1, min_child_weight=5,\\n          min_split_gain=0.7894736842105263, n_estimators=200, n_jobs=1,\\n          num_leaves=32, objective=None, random_state=None, reg_alpha=1,\\n          reg_lambda=0.7894736842105263, silent=True,\\n          subsample=0.9405263157894738, subsample_for_bin=200000,\\n          subsample_freq=0, verbose=-10\", \"primary_metric\": 0.99803139, \"best_metric\": 0.99819442}, {\"run_id\": \"AutoML_2da96795-1cd6-41e8-a1d1-f1bd27626167_19\", \"run_number\": 80, \"metric\": null, \"status\": \"Completed\", \"run_type\": null, \"training_percent\": \"100\", \"start_time\": \"2019-11-21T14:38:08.616164Z\", \"end_time\": \"2019-11-21T14:38:21.367246Z\", \"created_time\": \"2019-11-21T14:38:08.527045Z\", \"created_time_dt\": \"2019-11-21T14:38:08.527045Z\", \"duration\": \"0:00:12\", \"iteration\": \"19\", \"goal\": \"AUC_weighted_max\", \"run_name\": \"StandardScalerWrapper, LightGBM\", \"run_properties\": \"boosting_type='goss', class_weight=None,\\n          colsample_bytree=0.4955555555555555, importance_type='split',\\n          learning_rate=0.03158578947368421, max_bin=160, max_depth=9,\\n          min_child_samples=135, min_child_weight=3,\\n          min_split_gain=0.894736842105263, n_estimators=200, n_jobs=1,\\n          num_leaves=218, objective=None, random_state=None,\\n          reg_alpha=0.47368421052631576, reg_lambda=0.15789473684210525,\\n          silent=True, subsample=1, subsample_for_bin=200000,\\n          subsample_freq=0, verbose=-10\", \"primary_metric\": 0.99634915, \"best_metric\": 0.99819442}, {\"run_id\": \"AutoML_2da96795-1cd6-41e8-a1d1-f1bd27626167_20\", \"run_number\": 81, \"metric\": null, \"status\": \"Completed\", \"run_type\": null, \"training_percent\": \"100\", \"start_time\": \"2019-11-21T14:38:23.981415Z\", \"end_time\": \"2019-11-21T14:38:36.689138Z\", \"created_time\": \"2019-11-21T14:38:23.89753Z\", \"created_time_dt\": \"2019-11-21T14:38:23.89753Z\", \"duration\": \"0:00:12\", \"iteration\": \"20\", \"goal\": \"AUC_weighted_max\", \"run_name\": \"RobustScaler, LightGBM\", \"run_properties\": \"boosting_type='gbdt', class_weight=None,\\n          colsample_bytree=0.8911111111111111, importance_type='split',\\n          learning_rate=0.03158578947368421, max_bin=80, max_depth=7,\\n          min_child_samples=164, min_child_weight=7,\\n          min_split_gain=0.3157894736842105, n_estimators=100, n_jobs=1,\\n          num_leaves=86, objective=None, random_state=None,\\n          reg_alpha=0.5789473684210527, reg_lambda=0.3684210526315789,\\n          silent=True, subsample=0.19842105263157894,\\n          subsample_for_bin=200000, subsample_freq=0, verbose=-10\", \"primary_metric\": 0.99410353, \"best_metric\": 0.99819442}, {\"run_id\": \"AutoML_2da96795-1cd6-41e8-a1d1-f1bd27626167_21\", \"run_number\": 82, \"metric\": null, \"status\": \"Completed\", \"run_type\": null, \"training_percent\": \"100\", \"start_time\": \"2019-11-21T14:38:38.283066Z\", \"end_time\": \"2019-11-21T14:38:57.673995Z\", \"created_time\": \"2019-11-21T14:38:38.194637Z\", \"created_time_dt\": \"2019-11-21T14:38:38.194637Z\", \"duration\": \"0:00:19\", \"iteration\": \"21\", \"goal\": \"AUC_weighted_max\", \"run_name\": \"VotingEnsemble\", \"run_properties\": \"\", \"primary_metric\": 0.99888586, \"best_metric\": 0.99888586}, {\"run_id\": \"AutoML_2da96795-1cd6-41e8-a1d1-f1bd27626167_22\", \"run_number\": 83, \"metric\": null, \"status\": \"Completed\", \"run_type\": null, \"training_percent\": \"100\", \"start_time\": \"2019-11-21T14:38:58.723848Z\", \"end_time\": \"2019-11-21T14:39:31.645726Z\", \"created_time\": \"2019-11-21T14:38:58.637329Z\", \"created_time_dt\": \"2019-11-21T14:38:58.637329Z\", \"duration\": \"0:00:33\", \"iteration\": \"22\", \"goal\": \"AUC_weighted_max\", \"run_name\": \"StackEnsemble\", \"run_properties\": \"\", \"primary_metric\": 0.96272511, \"best_metric\": 0.99888586}], \"children_metrics\": {\"categories\": [0], \"series\": {\"norm_macro_recall\": [{\"categories\": [\"0\", \"1\", \"2\", \"3\", \"4\", \"5\", \"6\", \"7\", \"8\", \"9\", \"10\", \"11\", \"12\", \"13\", \"14\", \"15\", \"16\", \"17\", \"18\", \"19\", \"20\", \"21\", \"22\"], \"mode\": \"markers\", \"name\": \"norm_macro_recall\", \"stepped\": false, \"type\": \"scatter\", \"data\": [0.9434992879965666, 0.9565165645506211, 0.928581417578917, 0.8963342632469599, 0.9349472497981317, 0.9333096854115723, 0.9476759240818368, 0.8559947494818121, 0.8522460380603132, 0.9325905555446546, 0.8233793719074921, 0.8680824486812192, 0.9386471396963203, 0.7531877113301656, 0.8773808038851526, 0.8642889548320866, 0.9435108374817117, 0.9351806567774262, 0.9401920678617851, 0.9125103285613613, 0.8930351266831771, 0.9566226789091034, 0.7370650538073983]}, {\"categories\": [\"0\", \"1\", \"2\", \"3\", \"4\", \"5\", \"6\", \"7\", \"8\", \"9\", \"10\", \"11\", \"12\", \"13\", \"14\", \"15\", \"16\", \"17\", \"18\", \"19\", \"20\", \"21\", \"22\"], \"mode\": \"lines\", \"name\": \"norm_macro_recall_max\", \"stepped\": true, \"type\": \"scatter\", \"data\": [0.9434992879965666, 0.9565165645506211, 0.9565165645506211, 0.9565165645506211, 0.9565165645506211, 0.9565165645506211, 0.9565165645506211, 0.9565165645506211, 0.9565165645506211, 0.9565165645506211, 0.9565165645506211, 0.9565165645506211, 0.9565165645506211, 0.9565165645506211, 0.9565165645506211, 0.9565165645506211, 0.9565165645506211, 0.9565165645506211, 0.9565165645506211, 0.9565165645506211, 0.9565165645506211, 0.9566226789091034, 0.9566226789091034]}], \"precision_score_micro\": [{\"categories\": [\"0\", \"1\", \"2\", \"3\", \"4\", \"5\", \"6\", \"7\", \"8\", \"9\", \"10\", \"11\", \"12\", \"13\", \"14\", \"15\", \"16\", \"17\", \"18\", \"19\", \"20\", \"21\", \"22\"], \"mode\": \"markers\", \"name\": \"precision_score_micro\", \"stepped\": false, \"type\": \"scatter\", \"data\": [0.9481472216141844, 0.9599320387337523, 0.9351824634916664, 0.9057110395363624, 0.941666927254344, 0.9393101723005722, 0.9522738880723809, 0.8691881130325109, 0.8674088203717023, 0.9381312736483317, 0.8385304939700012, 0.8809604219435672, 0.9440226398574064, 0.7737306774237259, 0.8880317291555917, 0.8780314164503787, 0.9481472216141844, 0.9410769567528691, 0.9452004961589376, 0.92103567966478, 0.903939043330519, 0.9605230515859366, 0.7590522947350866]}, {\"categories\": [\"0\", \"1\", \"2\", \"3\", \"4\", \"5\", \"6\", \"7\", \"8\", \"9\", \"10\", \"11\", \"12\", \"13\", \"14\", \"15\", \"16\", \"17\", \"18\", \"19\", \"20\", \"21\", \"22\"], \"mode\": \"lines\", \"name\": \"precision_score_micro_max\", \"stepped\": true, \"type\": \"scatter\", \"data\": [0.9481472216141844, 0.9599320387337523, 0.9599320387337523, 0.9599320387337523, 0.9599320387337523, 0.9599320387337523, 0.9599320387337523, 0.9599320387337523, 0.9599320387337523, 0.9599320387337523, 0.9599320387337523, 0.9599320387337523, 0.9599320387337523, 0.9599320387337523, 0.9599320387337523, 0.9599320387337523, 0.9599320387337523, 0.9599320387337523, 0.9599320387337523, 0.9599320387337523, 0.9599320387337523, 0.9605230515859366, 0.9605230515859366]}], \"f1_score_weighted\": [{\"categories\": [\"0\", \"1\", \"2\", \"3\", \"4\", \"5\", \"6\", \"7\", \"8\", \"9\", \"10\", \"11\", \"12\", \"13\", \"14\", \"15\", \"16\", \"17\", \"18\", \"19\", \"20\", \"21\", \"22\"], \"mode\": \"markers\", \"name\": \"f1_score_weighted\", \"stepped\": false, \"type\": \"scatter\", \"data\": [0.9479312555287626, 0.9598770779925765, 0.9352181262455677, 0.9041462340851752, 0.9414952053505682, 0.9395483949197097, 0.9520652983695829, 0.8681489187197698, 0.8606834646894862, 0.9377268902368597, 0.8364445840339249, 0.8805775212956061, 0.9441089329021843, 0.7560569547436254, 0.8878767955476898, 0.8793633498413302, 0.948196441648585, 0.941171206206402, 0.9452603071675179, 0.9209828830820581, 0.9038423166558807, 0.960597836051866, 0.7146122665943837]}, {\"categories\": [\"0\", \"1\", \"2\", \"3\", \"4\", \"5\", \"6\", \"7\", \"8\", \"9\", \"10\", \"11\", \"12\", \"13\", \"14\", \"15\", \"16\", \"17\", \"18\", \"19\", \"20\", \"21\", \"22\"], \"mode\": \"lines\", \"name\": \"f1_score_weighted_max\", \"stepped\": true, \"type\": \"scatter\", \"data\": [0.9479312555287626, 0.9598770779925765, 0.9598770779925765, 0.9598770779925765, 0.9598770779925765, 0.9598770779925765, 0.9598770779925765, 0.9598770779925765, 0.9598770779925765, 0.9598770779925765, 0.9598770779925765, 0.9598770779925765, 0.9598770779925765, 0.9598770779925765, 0.9598770779925765, 0.9598770779925765, 0.9598770779925765, 0.9598770779925765, 0.9598770779925765, 0.9598770779925765, 0.9598770779925765, 0.960597836051866, 0.960597836051866]}], \"weighted_accuracy\": [{\"categories\": [\"0\", \"1\", \"2\", \"3\", \"4\", \"5\", \"6\", \"7\", \"8\", \"9\", \"10\", \"11\", \"12\", \"13\", \"14\", \"15\", \"16\", \"17\", \"18\", \"19\", \"20\", \"21\", \"22\"], \"mode\": \"markers\", \"name\": \"weighted_accuracy\", \"stepped\": false, \"type\": \"scatter\", \"data\": [0.9470800227615922, 0.9589668935528207, 0.9345605875314177, 0.9047988468390149, 0.9418095974793891, 0.9385547528652828, 0.9515680530387738, 0.8679937090742738, 0.8677781779133174, 0.9368609965497064, 0.8360175788876628, 0.8805410190848404, 0.9431394556006246, 0.7693767312957277, 0.886246780958252, 0.878146157313553, 0.9471254983097582, 0.9403725616117745, 0.9441210709261085, 0.9206553241491321, 0.9039733049498243, 0.9600408877546047, 0.7564258783917532]}, {\"categories\": [\"0\", \"1\", \"2\", \"3\", \"4\", \"5\", \"6\", \"7\", \"8\", \"9\", \"10\", \"11\", \"12\", \"13\", \"14\", \"15\", \"16\", \"17\", \"18\", \"19\", \"20\", \"21\", \"22\"], \"mode\": \"lines\", \"name\": \"weighted_accuracy_max\", \"stepped\": true, \"type\": \"scatter\", \"data\": [0.9470800227615922, 0.9589668935528207, 0.9589668935528207, 0.9589668935528207, 0.9589668935528207, 0.9589668935528207, 0.9589668935528207, 0.9589668935528207, 0.9589668935528207, 0.9589668935528207, 0.9589668935528207, 0.9589668935528207, 0.9589668935528207, 0.9589668935528207, 0.9589668935528207, 0.9589668935528207, 0.9589668935528207, 0.9589668935528207, 0.9589668935528207, 0.9589668935528207, 0.9589668935528207, 0.9600408877546047, 0.9600408877546047]}], \"precision_score_macro\": [{\"categories\": [\"0\", \"1\", \"2\", \"3\", \"4\", \"5\", \"6\", \"7\", \"8\", \"9\", \"10\", \"11\", \"12\", \"13\", \"14\", \"15\", \"16\", \"17\", \"18\", \"19\", \"20\", \"21\", \"22\"], \"mode\": \"markers\", \"name\": \"precision_score_macro\", \"stepped\": false, \"type\": \"scatter\", \"data\": [0.9493915201540585, 0.9608711980260011, 0.9370791431812971, 0.9057356368493542, 0.9431788759896081, 0.9404746020424395, 0.9531020155815931, 0.8733734485373962, 0.874073571802163, 0.9399070558155113, 0.840911705117613, 0.8823904484861208, 0.9451772002742137, 0.7860326195380359, 0.8903933860570218, 0.8836095764478022, 0.9495512038869466, 0.9420721955941233, 0.9469498888211141, 0.9226798810921482, 0.9061561609388837, 0.9616940162481974, 0.6948566507246419]}, {\"categories\": [\"0\", \"1\", \"2\", \"3\", \"4\", \"5\", \"6\", \"7\", \"8\", \"9\", \"10\", \"11\", \"12\", \"13\", \"14\", \"15\", \"16\", \"17\", \"18\", \"19\", \"20\", \"21\", \"22\"], \"mode\": \"lines\", \"name\": \"precision_score_macro_max\", \"stepped\": true, \"type\": \"scatter\", \"data\": [0.9493915201540585, 0.9608711980260011, 0.9608711980260011, 0.9608711980260011, 0.9608711980260011, 0.9608711980260011, 0.9608711980260011, 0.9608711980260011, 0.9608711980260011, 0.9608711980260011, 0.9608711980260011, 0.9608711980260011, 0.9608711980260011, 0.9608711980260011, 0.9608711980260011, 0.9608711980260011, 0.9608711980260011, 0.9608711980260011, 0.9608711980260011, 0.9608711980260011, 0.9608711980260011, 0.9616940162481974, 0.9616940162481974]}], \"precision_score_weighted\": [{\"categories\": [\"0\", \"1\", \"2\", \"3\", \"4\", \"5\", \"6\", \"7\", \"8\", \"9\", \"10\", \"11\", \"12\", \"13\", \"14\", \"15\", \"16\", \"17\", \"18\", \"19\", \"20\", \"21\", \"22\"], \"mode\": \"markers\", \"name\": \"precision_score_weighted\", \"stepped\": false, \"type\": \"scatter\", \"data\": [0.9494828777333733, 0.9610677590065713, 0.9376858100407213, 0.907246260548049, 0.9436611377189079, 0.9416688955990408, 0.9531322232846597, 0.874148162498305, 0.8764426845752897, 0.9400222794644693, 0.8446650980097515, 0.8836184895698915, 0.9457565771494146, 0.7925832530834676, 0.8919158873110594, 0.8848756589113677, 0.9500466392269015, 0.9427813974880284, 0.9469745855454178, 0.9228128483184008, 0.9067549235562775, 0.9616950953504672, 0.699416908359328]}, {\"categories\": [\"0\", \"1\", \"2\", \"3\", \"4\", \"5\", \"6\", \"7\", \"8\", \"9\", \"10\", \"11\", \"12\", \"13\", \"14\", \"15\", \"16\", \"17\", \"18\", \"19\", \"20\", \"21\", \"22\"], \"mode\": \"lines\", \"name\": \"precision_score_weighted_max\", \"stepped\": true, \"type\": \"scatter\", \"data\": [0.9494828777333733, 0.9610677590065713, 0.9610677590065713, 0.9610677590065713, 0.9610677590065713, 0.9610677590065713, 0.9610677590065713, 0.9610677590065713, 0.9610677590065713, 0.9610677590065713, 0.9610677590065713, 0.9610677590065713, 0.9610677590065713, 0.9610677590065713, 0.9610677590065713, 0.9610677590065713, 0.9610677590065713, 0.9610677590065713, 0.9610677590065713, 0.9610677590065713, 0.9610677590065713, 0.9616950953504672, 0.9616950953504672]}], \"balanced_accuracy\": [{\"categories\": [\"0\", \"1\", \"2\", \"3\", \"4\", \"5\", \"6\", \"7\", \"8\", \"9\", \"10\", \"11\", \"12\", \"13\", \"14\", \"15\", \"16\", \"17\", \"18\", \"19\", \"20\", \"21\", \"22\"], \"mode\": \"markers\", \"name\": \"balanced_accuracy\", \"stepped\": false, \"type\": \"scatter\", \"data\": [0.9491493591969098, 0.9608649080955588, 0.9357232758210251, 0.9067008369222639, 0.9414525248183185, 0.9399787168704153, 0.9529083316736532, 0.8703952745336309, 0.867021434254282, 0.9393314999901893, 0.8410414347167429, 0.8812742038130973, 0.9447824257266882, 0.7778689401971491, 0.8896427234966372, 0.8778600593488779, 0.9491597537335404, 0.9416625910996835, 0.9461728610756066, 0.9212592957052251, 0.9037316140148594, 0.9609604110181932, 0.7633585484266585]}, {\"categories\": [\"0\", \"1\", \"2\", \"3\", \"4\", \"5\", \"6\", \"7\", \"8\", \"9\", \"10\", \"11\", \"12\", \"13\", \"14\", \"15\", \"16\", \"17\", \"18\", \"19\", \"20\", \"21\", \"22\"], \"mode\": \"lines\", \"name\": \"balanced_accuracy_max\", \"stepped\": true, \"type\": \"scatter\", \"data\": [0.9491493591969098, 0.9608649080955588, 0.9608649080955588, 0.9608649080955588, 0.9608649080955588, 0.9608649080955588, 0.9608649080955588, 0.9608649080955588, 0.9608649080955588, 0.9608649080955588, 0.9608649080955588, 0.9608649080955588, 0.9608649080955588, 0.9608649080955588, 0.9608649080955588, 0.9608649080955588, 0.9608649080955588, 0.9608649080955588, 0.9608649080955588, 0.9608649080955588, 0.9608649080955588, 0.9609604110181932, 0.9609604110181932]}], \"average_precision_score_macro\": [{\"categories\": [\"0\", \"1\", \"2\", \"3\", \"4\", \"5\", \"6\", \"7\", \"8\", \"9\", \"10\", \"11\", \"12\", \"13\", \"14\", \"15\", \"16\", \"17\", \"18\", \"19\", \"20\", \"21\", \"22\"], \"mode\": \"markers\", \"name\": \"average_precision_score_macro\", \"stepped\": false, \"type\": \"scatter\", \"data\": [0.9779131642133203, 0.9865038730718267, 0.9846845264716029, 0.9405990598318014, 0.9787881278790561, 0.9837124544260384, 0.9849419897152419, 0.9341909292428413, 0.9097809188709677, 0.97898051235502, 0.9123863001006575, 0.9487262615341147, 0.9879517197632084, 0.8516662560606191, 0.9481103853173419, 0.9179529184583651, 0.9788925871242525, 0.9858801951357292, 0.9873428650080762, 0.9775460116970964, 0.9650819267503005, 0.992525871068243, 0.8819915086045585]}, {\"categories\": [\"0\", \"1\", \"2\", \"3\", \"4\", \"5\", \"6\", \"7\", \"8\", \"9\", \"10\", \"11\", \"12\", \"13\", \"14\", \"15\", \"16\", \"17\", \"18\", \"19\", \"20\", \"21\", \"22\"], \"mode\": \"lines\", \"name\": \"average_precision_score_macro_max\", \"stepped\": true, \"type\": \"scatter\", \"data\": [0.9779131642133203, 0.9865038730718267, 0.9865038730718267, 0.9865038730718267, 0.9865038730718267, 0.9865038730718267, 0.9865038730718267, 0.9865038730718267, 0.9865038730718267, 0.9865038730718267, 0.9865038730718267, 0.9865038730718267, 0.9879517197632084, 0.9879517197632084, 0.9879517197632084, 0.9879517197632084, 0.9879517197632084, 0.9879517197632084, 0.9879517197632084, 0.9879517197632084, 0.9879517197632084, 0.992525871068243, 0.992525871068243]}], \"AUC_macro\": [{\"categories\": [\"0\", \"1\", \"2\", \"3\", \"4\", \"5\", \"6\", \"7\", \"8\", \"9\", \"10\", \"11\", \"12\", \"13\", \"14\", \"15\", \"16\", \"17\", \"18\", \"19\", \"20\", \"21\", \"22\"], \"mode\": \"markers\", \"name\": \"AUC_macro\", \"stepped\": false, \"type\": \"scatter\", \"data\": [0.9940688261243245, 0.9968396502278353, 0.9976954935526967, 0.989252564637753, 0.996295174095151, 0.9973865188586353, 0.996622260992173, 0.9872503370331461, 0.983747850456913, 0.996143874488214, 0.9819291932713846, 0.9893930752419585, 0.9982144516589107, 0.9678670000496915, 0.9896830486105825, 0.9840436623715333, 0.9959780449021639, 0.9978149771293668, 0.9980648749860878, 0.9963979964870378, 0.9941231875567665, 0.998882483085009, 0.9619022071731717]}, {\"categories\": [\"0\", \"1\", \"2\", \"3\", \"4\", \"5\", \"6\", \"7\", \"8\", \"9\", \"10\", \"11\", \"12\", \"13\", \"14\", \"15\", \"16\", \"17\", \"18\", \"19\", \"20\", \"21\", \"22\"], \"mode\": \"lines\", \"name\": \"AUC_macro_max\", \"stepped\": true, \"type\": \"scatter\", \"data\": [0.9940688261243245, 0.9968396502278353, 0.9976954935526967, 0.9976954935526967, 0.9976954935526967, 0.9976954935526967, 0.9976954935526967, 0.9976954935526967, 0.9976954935526967, 0.9976954935526967, 0.9976954935526967, 0.9976954935526967, 0.9982144516589107, 0.9982144516589107, 0.9982144516589107, 0.9982144516589107, 0.9982144516589107, 0.9982144516589107, 0.9982144516589107, 0.9982144516589107, 0.9982144516589107, 0.998882483085009, 0.998882483085009]}], \"accuracy\": [{\"categories\": [\"0\", \"1\", \"2\", \"3\", \"4\", \"5\", \"6\", \"7\", \"8\", \"9\", \"10\", \"11\", \"12\", \"13\", \"14\", \"15\", \"16\", \"17\", \"18\", \"19\", \"20\", \"21\", \"22\"], \"mode\": \"markers\", \"name\": \"accuracy\", \"stepped\": false, \"type\": \"scatter\", \"data\": [0.9481472216141844, 0.9599320387337523, 0.9351824634916664, 0.9057110395363624, 0.941666927254344, 0.9393101723005722, 0.9522738880723809, 0.8691881130325109, 0.8674088203717023, 0.9381312736483317, 0.8385304939700012, 0.8809604219435672, 0.9440226398574064, 0.7737306774237259, 0.8880317291555917, 0.8780314164503787, 0.9481472216141844, 0.9410769567528691, 0.9452004961589376, 0.92103567966478, 0.903939043330519, 0.9605230515859366, 0.7590522947350866]}, {\"categories\": [\"0\", \"1\", \"2\", \"3\", \"4\", \"5\", \"6\", \"7\", \"8\", \"9\", \"10\", \"11\", \"12\", \"13\", \"14\", \"15\", \"16\", \"17\", \"18\", \"19\", \"20\", \"21\", \"22\"], \"mode\": \"lines\", \"name\": \"accuracy_max\", \"stepped\": true, \"type\": \"scatter\", \"data\": [0.9481472216141844, 0.9599320387337523, 0.9599320387337523, 0.9599320387337523, 0.9599320387337523, 0.9599320387337523, 0.9599320387337523, 0.9599320387337523, 0.9599320387337523, 0.9599320387337523, 0.9599320387337523, 0.9599320387337523, 0.9599320387337523, 0.9599320387337523, 0.9599320387337523, 0.9599320387337523, 0.9599320387337523, 0.9599320387337523, 0.9599320387337523, 0.9599320387337523, 0.9599320387337523, 0.9605230515859366, 0.9605230515859366]}], \"recall_score_micro\": [{\"categories\": [\"0\", \"1\", \"2\", \"3\", \"4\", \"5\", \"6\", \"7\", \"8\", \"9\", \"10\", \"11\", \"12\", \"13\", \"14\", \"15\", \"16\", \"17\", \"18\", \"19\", \"20\", \"21\", \"22\"], \"mode\": \"markers\", \"name\": \"recall_score_micro\", \"stepped\": false, \"type\": \"scatter\", \"data\": [0.9481472216141844, 0.9599320387337523, 0.9351824634916664, 0.9057110395363624, 0.941666927254344, 0.9393101723005722, 0.9522738880723809, 0.8691881130325109, 0.8674088203717023, 0.9381312736483317, 0.8385304939700012, 0.8809604219435672, 0.9440226398574064, 0.7737306774237259, 0.8880317291555917, 0.8780314164503787, 0.9481472216141844, 0.9410769567528691, 0.9452004961589376, 0.92103567966478, 0.903939043330519, 0.9605230515859366, 0.7590522947350866]}, {\"categories\": [\"0\", \"1\", \"2\", \"3\", \"4\", \"5\", \"6\", \"7\", \"8\", \"9\", \"10\", \"11\", \"12\", \"13\", \"14\", \"15\", \"16\", \"17\", \"18\", \"19\", \"20\", \"21\", \"22\"], \"mode\": \"lines\", \"name\": \"recall_score_micro_max\", \"stepped\": true, \"type\": \"scatter\", \"data\": [0.9481472216141844, 0.9599320387337523, 0.9599320387337523, 0.9599320387337523, 0.9599320387337523, 0.9599320387337523, 0.9599320387337523, 0.9599320387337523, 0.9599320387337523, 0.9599320387337523, 0.9599320387337523, 0.9599320387337523, 0.9599320387337523, 0.9599320387337523, 0.9599320387337523, 0.9599320387337523, 0.9599320387337523, 0.9599320387337523, 0.9599320387337523, 0.9599320387337523, 0.9599320387337523, 0.9605230515859366, 0.9605230515859366]}], \"AUC_weighted\": [{\"categories\": [\"0\", \"1\", \"2\", \"3\", \"4\", \"5\", \"6\", \"7\", \"8\", \"9\", \"10\", \"11\", \"12\", \"13\", \"14\", \"15\", \"16\", \"17\", \"18\", \"19\", \"20\", \"21\", \"22\"], \"mode\": \"markers\", \"name\": \"AUC_weighted\", \"stepped\": false, \"type\": \"scatter\", \"data\": [0.9941636975706939, 0.9968832149818496, 0.9976564131295369, 0.9891957376252735, 0.9963442251168996, 0.9973885789425502, 0.9966510193760664, 0.9871313380213653, 0.9837648032717757, 0.9960468191727706, 0.9819868524495363, 0.9892046756255314, 0.9981944243900687, 0.9675550909729173, 0.9895187802109526, 0.9840128557321179, 0.995987133200472, 0.9977993725273487, 0.9980313938195396, 0.9963491519705118, 0.9941035265432613, 0.9988858556242288, 0.9627251134574432]}, {\"categories\": [\"0\", \"1\", \"2\", \"3\", \"4\", \"5\", \"6\", \"7\", \"8\", \"9\", \"10\", \"11\", \"12\", \"13\", \"14\", \"15\", \"16\", \"17\", \"18\", \"19\", \"20\", \"21\", \"22\"], \"mode\": \"lines\", \"name\": \"AUC_weighted_max\", \"stepped\": true, \"type\": \"scatter\", \"data\": [0.9941636975706939, 0.9968832149818496, 0.9976564131295369, 0.9976564131295369, 0.9976564131295369, 0.9976564131295369, 0.9976564131295369, 0.9976564131295369, 0.9976564131295369, 0.9976564131295369, 0.9976564131295369, 0.9976564131295369, 0.9981944243900687, 0.9981944243900687, 0.9981944243900687, 0.9981944243900687, 0.9981944243900687, 0.9981944243900687, 0.9981944243900687, 0.9981944243900687, 0.9981944243900687, 0.9988858556242288, 0.9988858556242288]}], \"average_precision_score_micro\": [{\"categories\": [\"0\", \"1\", \"2\", \"3\", \"4\", \"5\", \"6\", \"7\", \"8\", \"9\", \"10\", \"11\", \"12\", \"13\", \"14\", \"15\", \"16\", \"17\", \"18\", \"19\", \"20\", \"21\", \"22\"], \"mode\": \"markers\", \"name\": \"average_precision_score_micro\", \"stepped\": false, \"type\": \"scatter\", \"data\": [0.9805306874241472, 0.9876768944544093, 0.9848078185355881, 0.935863422917406, 0.9813952892535297, 0.9841897135298021, 0.9868183066914119, 0.9334389529165835, 0.8791358141883978, 0.9821776569408905, 0.907041336897526, 0.9466194670693739, 0.9882978643926754, 0.8336779563960802, 0.9470097440994234, 0.9314881926275219, 0.9797750076959053, 0.9862077388558038, 0.9874163669721897, 0.9794788101821718, 0.9663458645039773, 0.9930363265021254, 0.8812448661777984]}, {\"categories\": [\"0\", \"1\", \"2\", \"3\", \"4\", \"5\", \"6\", \"7\", \"8\", \"9\", \"10\", \"11\", \"12\", \"13\", \"14\", \"15\", \"16\", \"17\", \"18\", \"19\", \"20\", \"21\", \"22\"], \"mode\": \"lines\", \"name\": \"average_precision_score_micro_max\", \"stepped\": true, \"type\": \"scatter\", \"data\": [0.9805306874241472, 0.9876768944544093, 0.9876768944544093, 0.9876768944544093, 0.9876768944544093, 0.9876768944544093, 0.9876768944544093, 0.9876768944544093, 0.9876768944544093, 0.9876768944544093, 0.9876768944544093, 0.9876768944544093, 0.9882978643926754, 0.9882978643926754, 0.9882978643926754, 0.9882978643926754, 0.9882978643926754, 0.9882978643926754, 0.9882978643926754, 0.9882978643926754, 0.9882978643926754, 0.9930363265021254, 0.9930363265021254]}], \"AUC_micro\": [{\"categories\": [\"0\", \"1\", \"2\", \"3\", \"4\", \"5\", \"6\", \"7\", \"8\", \"9\", \"10\", \"11\", \"12\", \"13\", \"14\", \"15\", \"16\", \"17\", \"18\", \"19\", \"20\", \"21\", \"22\"], \"mode\": \"markers\", \"name\": \"AUC_micro\", \"stepped\": false, \"type\": \"scatter\", \"data\": [0.9948266041162034, 0.9975140298109894, 0.9976906798088825, 0.989200598144493, 0.9968585769710665, 0.9974563404883172, 0.9973102632917762, 0.9873877600289305, 0.9777087993866996, 0.9969067758591361, 0.982220226984975, 0.9886985939251373, 0.9982535937979673, 0.9671348148479805, 0.9891429281753755, 0.9859804163769773, 0.9964906961268928, 0.9978334333357276, 0.9980661361659328, 0.9967170462287934, 0.9941379383418735, 0.9990102258822358, 0.9735080978412015]}, {\"categories\": [\"0\", \"1\", \"2\", \"3\", \"4\", \"5\", \"6\", \"7\", \"8\", \"9\", \"10\", \"11\", \"12\", \"13\", \"14\", \"15\", \"16\", \"17\", \"18\", \"19\", \"20\", \"21\", \"22\"], \"mode\": \"lines\", \"name\": \"AUC_micro_max\", \"stepped\": true, \"type\": \"scatter\", \"data\": [0.9948266041162034, 0.9975140298109894, 0.9976906798088825, 0.9976906798088825, 0.9976906798088825, 0.9976906798088825, 0.9976906798088825, 0.9976906798088825, 0.9976906798088825, 0.9976906798088825, 0.9976906798088825, 0.9976906798088825, 0.9982535937979673, 0.9982535937979673, 0.9982535937979673, 0.9982535937979673, 0.9982535937979673, 0.9982535937979673, 0.9982535937979673, 0.9982535937979673, 0.9982535937979673, 0.9990102258822358, 0.9990102258822358]}], \"f1_score_macro\": [{\"categories\": [\"0\", \"1\", \"2\", \"3\", \"4\", \"5\", \"6\", \"7\", \"8\", \"9\", \"10\", \"11\", \"12\", \"13\", \"14\", \"15\", \"16\", \"17\", \"18\", \"19\", \"20\", \"21\", \"22\"], \"mode\": \"markers\", \"name\": \"f1_score_macro\", \"stepped\": false, \"type\": \"scatter\", \"data\": [0.9484138087304298, 0.9602484942733959, 0.9351997885254847, 0.9039362591148867, 0.9411076086013658, 0.939289584519635, 0.9523872408494519, 0.8682560909144487, 0.8591617745564987, 0.9383072853786004, 0.8359954023718719, 0.8801831721030481, 0.9441940469971937, 0.7569234024430392, 0.8879979950760521, 0.8786227823726821, 0.948475801665491, 0.9411034899068369, 0.9457252852994554, 0.9210382103372089, 0.9034765747589472, 0.960806514716614, 0.7122435912501922]}, {\"categories\": [\"0\", \"1\", \"2\", \"3\", \"4\", \"5\", \"6\", \"7\", \"8\", \"9\", \"10\", \"11\", \"12\", \"13\", \"14\", \"15\", \"16\", \"17\", \"18\", \"19\", \"20\", \"21\", \"22\"], \"mode\": \"lines\", \"name\": \"f1_score_macro_max\", \"stepped\": true, \"type\": \"scatter\", \"data\": [0.9484138087304298, 0.9602484942733959, 0.9602484942733959, 0.9602484942733959, 0.9602484942733959, 0.9602484942733959, 0.9602484942733959, 0.9602484942733959, 0.9602484942733959, 0.9602484942733959, 0.9602484942733959, 0.9602484942733959, 0.9602484942733959, 0.9602484942733959, 0.9602484942733959, 0.9602484942733959, 0.9602484942733959, 0.9602484942733959, 0.9602484942733959, 0.9602484942733959, 0.9602484942733959, 0.960806514716614, 0.960806514716614]}], \"average_precision_score_weighted\": [{\"categories\": [\"0\", \"1\", \"2\", \"3\", \"4\", \"5\", \"6\", \"7\", \"8\", \"9\", \"10\", \"11\", \"12\", \"13\", \"14\", \"15\", \"16\", \"17\", \"18\", \"19\", \"20\", \"21\", \"22\"], \"mode\": \"markers\", \"name\": \"average_precision_score_weighted\", \"stepped\": false, \"type\": \"scatter\", \"data\": [0.9778874392026188, 0.9864883654082078, 0.9847317338491589, 0.9405200943488982, 0.9791833139696875, 0.9839265875300168, 0.9849193345845911, 0.9339486205441109, 0.9105585119376677, 0.9786964493789886, 0.9130598539583333, 0.9485999496238554, 0.9879935193069326, 0.8518980296648678, 0.9477272896001022, 0.9182131208009782, 0.9789606507700493, 0.9859244345714958, 0.9873483984618839, 0.9775569927457647, 0.9654431979205708, 0.9926226252626248, 0.8842071812051531]}, {\"categories\": [\"0\", \"1\", \"2\", \"3\", \"4\", \"5\", \"6\", \"7\", \"8\", \"9\", \"10\", \"11\", \"12\", \"13\", \"14\", \"15\", \"16\", \"17\", \"18\", \"19\", \"20\", \"21\", \"22\"], \"mode\": \"lines\", \"name\": \"average_precision_score_weighted_max\", \"stepped\": true, \"type\": \"scatter\", \"data\": [0.9778874392026188, 0.9864883654082078, 0.9864883654082078, 0.9864883654082078, 0.9864883654082078, 0.9864883654082078, 0.9864883654082078, 0.9864883654082078, 0.9864883654082078, 0.9864883654082078, 0.9864883654082078, 0.9864883654082078, 0.9879935193069326, 0.9879935193069326, 0.9879935193069326, 0.9879935193069326, 0.9879935193069326, 0.9879935193069326, 0.9879935193069326, 0.9879935193069326, 0.9879935193069326, 0.9926226252626248, 0.9926226252626248]}], \"log_loss\": [{\"categories\": [\"0\", \"1\", \"2\", \"3\", \"4\", \"5\", \"6\", \"7\", \"8\", \"9\", \"10\", \"11\", \"12\", \"13\", \"14\", \"15\", \"16\", \"17\", \"18\", \"19\", \"20\", \"21\", \"22\"], \"mode\": \"markers\", \"name\": \"log_loss\", \"stepped\": false, \"type\": \"scatter\", \"data\": [0.5407221669500349, 0.2416704342738005, 0.32456495034312055, 1.6186211558370645, 0.7703005767016983, 0.33509476736668137, 0.3227118471030153, 1.0257776030589598, 2.1577948886617233, 0.2748816096319379, 0.9442959803381874, 0.9909297655942235, 0.22344296261803434, 1.1537366769420987, 1.148562119809433, 0.8524158700980801, 0.28236971421781054, 0.25077171005021176, 0.2445080924197743, 0.42392051523036123, 0.5076430195268087, 0.5323912226295696, 0.8716020248469656]}, {\"categories\": [\"0\", \"1\", \"2\", \"3\", \"4\", \"5\", \"6\", \"7\", \"8\", \"9\", \"10\", \"11\", \"12\", \"13\", \"14\", \"15\", \"16\", \"17\", \"18\", \"19\", \"20\", \"21\", \"22\"], \"mode\": \"lines\", \"name\": \"log_loss_min\", \"stepped\": true, \"type\": \"scatter\", \"data\": [0.5407221669500349, 0.2416704342738005, 0.2416704342738005, 0.2416704342738005, 0.2416704342738005, 0.2416704342738005, 0.2416704342738005, 0.2416704342738005, 0.2416704342738005, 0.2416704342738005, 0.2416704342738005, 0.2416704342738005, 0.22344296261803434, 0.22344296261803434, 0.22344296261803434, 0.22344296261803434, 0.22344296261803434, 0.22344296261803434, 0.22344296261803434, 0.22344296261803434, 0.22344296261803434, 0.22344296261803434, 0.22344296261803434]}], \"recall_score_weighted\": [{\"categories\": [\"0\", \"1\", \"2\", \"3\", \"4\", \"5\", \"6\", \"7\", \"8\", \"9\", \"10\", \"11\", \"12\", \"13\", \"14\", \"15\", \"16\", \"17\", \"18\", \"19\", \"20\", \"21\", \"22\"], \"mode\": \"markers\", \"name\": \"recall_score_weighted\", \"stepped\": false, \"type\": \"scatter\", \"data\": [0.9481472216141844, 0.9599320387337523, 0.9351824634916664, 0.9057110395363624, 0.941666927254344, 0.9393101723005722, 0.9522738880723809, 0.8691881130325109, 0.8674088203717023, 0.9381312736483317, 0.8385304939700012, 0.8809604219435672, 0.9440226398574064, 0.7737306774237259, 0.8880317291555917, 0.8780314164503787, 0.9481472216141844, 0.9410769567528691, 0.9452004961589376, 0.92103567966478, 0.903939043330519, 0.9605230515859366, 0.7590522947350866]}, {\"categories\": [\"0\", \"1\", \"2\", \"3\", \"4\", \"5\", \"6\", \"7\", \"8\", \"9\", \"10\", \"11\", \"12\", \"13\", \"14\", \"15\", \"16\", \"17\", \"18\", \"19\", \"20\", \"21\", \"22\"], \"mode\": \"lines\", \"name\": \"recall_score_weighted_max\", \"stepped\": true, \"type\": \"scatter\", \"data\": [0.9481472216141844, 0.9599320387337523, 0.9599320387337523, 0.9599320387337523, 0.9599320387337523, 0.9599320387337523, 0.9599320387337523, 0.9599320387337523, 0.9599320387337523, 0.9599320387337523, 0.9599320387337523, 0.9599320387337523, 0.9599320387337523, 0.9599320387337523, 0.9599320387337523, 0.9599320387337523, 0.9599320387337523, 0.9599320387337523, 0.9599320387337523, 0.9599320387337523, 0.9599320387337523, 0.9605230515859366, 0.9605230515859366]}], \"f1_score_micro\": [{\"categories\": [\"0\", \"1\", \"2\", \"3\", \"4\", \"5\", \"6\", \"7\", \"8\", \"9\", \"10\", \"11\", \"12\", \"13\", \"14\", \"15\", \"16\", \"17\", \"18\", \"19\", \"20\", \"21\", \"22\"], \"mode\": \"markers\", \"name\": \"f1_score_micro\", \"stepped\": false, \"type\": \"scatter\", \"data\": [0.9481472216141844, 0.9599320387337523, 0.9351824634916664, 0.9057110395363624, 0.941666927254344, 0.9393101723005722, 0.9522738880723809, 0.8691881130325109, 0.8674088203717023, 0.9381312736483317, 0.8385304939700012, 0.8809604219435672, 0.9440226398574064, 0.7737306774237259, 0.8880317291555917, 0.8780314164503787, 0.9481472216141844, 0.9410769567528691, 0.9452004961589376, 0.92103567966478, 0.903939043330519, 0.9605230515859366, 0.7590522947350866]}, {\"categories\": [\"0\", \"1\", \"2\", \"3\", \"4\", \"5\", \"6\", \"7\", \"8\", \"9\", \"10\", \"11\", \"12\", \"13\", \"14\", \"15\", \"16\", \"17\", \"18\", \"19\", \"20\", \"21\", \"22\"], \"mode\": \"lines\", \"name\": \"f1_score_micro_max\", \"stepped\": true, \"type\": \"scatter\", \"data\": [0.9481472216141844, 0.9599320387337523, 0.9599320387337523, 0.9599320387337523, 0.9599320387337523, 0.9599320387337523, 0.9599320387337523, 0.9599320387337523, 0.9599320387337523, 0.9599320387337523, 0.9599320387337523, 0.9599320387337523, 0.9599320387337523, 0.9599320387337523, 0.9599320387337523, 0.9599320387337523, 0.9599320387337523, 0.9599320387337523, 0.9599320387337523, 0.9599320387337523, 0.9599320387337523, 0.9605230515859366, 0.9605230515859366]}], \"recall_score_macro\": [{\"categories\": [\"0\", \"1\", \"2\", \"3\", \"4\", \"5\", \"6\", \"7\", \"8\", \"9\", \"10\", \"11\", \"12\", \"13\", \"14\", \"15\", \"16\", \"17\", \"18\", \"19\", \"20\", \"21\", \"22\"], \"mode\": \"markers\", \"name\": \"recall_score_macro\", \"stepped\": false, \"type\": \"scatter\", \"data\": [0.9491493591969098, 0.9608649080955588, 0.9357232758210251, 0.9067008369222639, 0.9414525248183185, 0.9399787168704153, 0.9529083316736532, 0.8703952745336309, 0.867021434254282, 0.9393314999901893, 0.8410414347167429, 0.8812742038130973, 0.9447824257266882, 0.7778689401971491, 0.8896427234966372, 0.8778600593488779, 0.9491597537335404, 0.9416625910996835, 0.9461728610756066, 0.9212592957052251, 0.9037316140148594, 0.9609604110181932, 0.7633585484266585]}, {\"categories\": [\"0\", \"1\", \"2\", \"3\", \"4\", \"5\", \"6\", \"7\", \"8\", \"9\", \"10\", \"11\", \"12\", \"13\", \"14\", \"15\", \"16\", \"17\", \"18\", \"19\", \"20\", \"21\", \"22\"], \"mode\": \"lines\", \"name\": \"recall_score_macro_max\", \"stepped\": true, \"type\": \"scatter\", \"data\": [0.9491493591969098, 0.9608649080955588, 0.9608649080955588, 0.9608649080955588, 0.9608649080955588, 0.9608649080955588, 0.9608649080955588, 0.9608649080955588, 0.9608649080955588, 0.9608649080955588, 0.9608649080955588, 0.9608649080955588, 0.9608649080955588, 0.9608649080955588, 0.9608649080955588, 0.9608649080955588, 0.9608649080955588, 0.9608649080955588, 0.9608649080955588, 0.9608649080955588, 0.9608649080955588, 0.9609604110181932, 0.9609604110181932]}]}, \"metricName\": null, \"primaryMetricName\": \"AUC_weighted\", \"showLegend\": false}, \"run_metrics\": [], \"run_logs\": \"\\nRun is completed.\", \"graph\": {}, \"widget_settings\": {\"childWidgetDisplay\": \"popup\", \"send_telemetry\": false, \"log_level\": \"INFO\", \"sdk_version\": \"1.0.74\"}, \"loading\": false}"
     },
     "metadata": {},
     "output_type": "display_data"
    }
   ],
   "source": [
    "from azureml.widgets import RunDetails\n",
    "RunDetails(local_run).show() "
   ]
  },
  {
   "cell_type": "markdown",
   "metadata": {},
   "source": [
    "\n",
    "### 6.2 Métriques par itération\n"
   ]
  },
  {
   "cell_type": "code",
   "execution_count": 53,
   "metadata": {},
   "outputs": [
    {
     "data": {
      "text/html": [
       "<div>\n",
       "<style scoped>\n",
       "    .dataframe tbody tr th:only-of-type {\n",
       "        vertical-align: middle;\n",
       "    }\n",
       "\n",
       "    .dataframe tbody tr th {\n",
       "        vertical-align: top;\n",
       "    }\n",
       "\n",
       "    .dataframe thead th {\n",
       "        text-align: right;\n",
       "    }\n",
       "</style>\n",
       "<table border=\"1\" class=\"dataframe\">\n",
       "  <thead>\n",
       "    <tr style=\"text-align: right;\">\n",
       "      <th></th>\n",
       "      <th>0</th>\n",
       "      <th>1</th>\n",
       "      <th>2</th>\n",
       "      <th>3</th>\n",
       "      <th>4</th>\n",
       "      <th>5</th>\n",
       "      <th>6</th>\n",
       "      <th>7</th>\n",
       "      <th>8</th>\n",
       "      <th>9</th>\n",
       "      <th>...</th>\n",
       "      <th>13</th>\n",
       "      <th>14</th>\n",
       "      <th>15</th>\n",
       "      <th>16</th>\n",
       "      <th>17</th>\n",
       "      <th>18</th>\n",
       "      <th>19</th>\n",
       "      <th>20</th>\n",
       "      <th>21</th>\n",
       "      <th>22</th>\n",
       "    </tr>\n",
       "  </thead>\n",
       "  <tbody>\n",
       "    <tr>\n",
       "      <th>AUC_macro</th>\n",
       "      <td>0.99</td>\n",
       "      <td>1.00</td>\n",
       "      <td>1.00</td>\n",
       "      <td>0.99</td>\n",
       "      <td>1.00</td>\n",
       "      <td>1.00</td>\n",
       "      <td>1.00</td>\n",
       "      <td>0.99</td>\n",
       "      <td>0.98</td>\n",
       "      <td>1.00</td>\n",
       "      <td>...</td>\n",
       "      <td>0.97</td>\n",
       "      <td>0.99</td>\n",
       "      <td>0.98</td>\n",
       "      <td>1.00</td>\n",
       "      <td>1.00</td>\n",
       "      <td>1.00</td>\n",
       "      <td>1.00</td>\n",
       "      <td>0.99</td>\n",
       "      <td>1.00</td>\n",
       "      <td>0.96</td>\n",
       "    </tr>\n",
       "    <tr>\n",
       "      <th>AUC_micro</th>\n",
       "      <td>0.99</td>\n",
       "      <td>1.00</td>\n",
       "      <td>1.00</td>\n",
       "      <td>0.99</td>\n",
       "      <td>1.00</td>\n",
       "      <td>1.00</td>\n",
       "      <td>1.00</td>\n",
       "      <td>0.99</td>\n",
       "      <td>0.98</td>\n",
       "      <td>1.00</td>\n",
       "      <td>...</td>\n",
       "      <td>0.97</td>\n",
       "      <td>0.99</td>\n",
       "      <td>0.99</td>\n",
       "      <td>1.00</td>\n",
       "      <td>1.00</td>\n",
       "      <td>1.00</td>\n",
       "      <td>1.00</td>\n",
       "      <td>0.99</td>\n",
       "      <td>1.00</td>\n",
       "      <td>0.97</td>\n",
       "    </tr>\n",
       "    <tr>\n",
       "      <th>AUC_weighted</th>\n",
       "      <td>0.99</td>\n",
       "      <td>1.00</td>\n",
       "      <td>1.00</td>\n",
       "      <td>0.99</td>\n",
       "      <td>1.00</td>\n",
       "      <td>1.00</td>\n",
       "      <td>1.00</td>\n",
       "      <td>0.99</td>\n",
       "      <td>0.98</td>\n",
       "      <td>1.00</td>\n",
       "      <td>...</td>\n",
       "      <td>0.97</td>\n",
       "      <td>0.99</td>\n",
       "      <td>0.98</td>\n",
       "      <td>1.00</td>\n",
       "      <td>1.00</td>\n",
       "      <td>1.00</td>\n",
       "      <td>1.00</td>\n",
       "      <td>0.99</td>\n",
       "      <td>1.00</td>\n",
       "      <td>0.96</td>\n",
       "    </tr>\n",
       "    <tr>\n",
       "      <th>accuracy</th>\n",
       "      <td>0.95</td>\n",
       "      <td>0.96</td>\n",
       "      <td>0.94</td>\n",
       "      <td>0.91</td>\n",
       "      <td>0.94</td>\n",
       "      <td>0.94</td>\n",
       "      <td>0.95</td>\n",
       "      <td>0.87</td>\n",
       "      <td>0.87</td>\n",
       "      <td>0.94</td>\n",
       "      <td>...</td>\n",
       "      <td>0.77</td>\n",
       "      <td>0.89</td>\n",
       "      <td>0.88</td>\n",
       "      <td>0.95</td>\n",
       "      <td>0.94</td>\n",
       "      <td>0.95</td>\n",
       "      <td>0.92</td>\n",
       "      <td>0.90</td>\n",
       "      <td>0.96</td>\n",
       "      <td>0.76</td>\n",
       "    </tr>\n",
       "    <tr>\n",
       "      <th>average_precision_score_macro</th>\n",
       "      <td>0.98</td>\n",
       "      <td>0.99</td>\n",
       "      <td>0.98</td>\n",
       "      <td>0.94</td>\n",
       "      <td>0.98</td>\n",
       "      <td>0.98</td>\n",
       "      <td>0.98</td>\n",
       "      <td>0.93</td>\n",
       "      <td>0.91</td>\n",
       "      <td>0.98</td>\n",
       "      <td>...</td>\n",
       "      <td>0.85</td>\n",
       "      <td>0.95</td>\n",
       "      <td>0.92</td>\n",
       "      <td>0.98</td>\n",
       "      <td>0.99</td>\n",
       "      <td>0.99</td>\n",
       "      <td>0.98</td>\n",
       "      <td>0.97</td>\n",
       "      <td>0.99</td>\n",
       "      <td>0.88</td>\n",
       "    </tr>\n",
       "    <tr>\n",
       "      <th>average_precision_score_micro</th>\n",
       "      <td>0.98</td>\n",
       "      <td>0.99</td>\n",
       "      <td>0.98</td>\n",
       "      <td>0.94</td>\n",
       "      <td>0.98</td>\n",
       "      <td>0.98</td>\n",
       "      <td>0.99</td>\n",
       "      <td>0.93</td>\n",
       "      <td>0.88</td>\n",
       "      <td>0.98</td>\n",
       "      <td>...</td>\n",
       "      <td>0.83</td>\n",
       "      <td>0.95</td>\n",
       "      <td>0.93</td>\n",
       "      <td>0.98</td>\n",
       "      <td>0.99</td>\n",
       "      <td>0.99</td>\n",
       "      <td>0.98</td>\n",
       "      <td>0.97</td>\n",
       "      <td>0.99</td>\n",
       "      <td>0.88</td>\n",
       "    </tr>\n",
       "    <tr>\n",
       "      <th>average_precision_score_weighted</th>\n",
       "      <td>0.98</td>\n",
       "      <td>0.99</td>\n",
       "      <td>0.98</td>\n",
       "      <td>0.94</td>\n",
       "      <td>0.98</td>\n",
       "      <td>0.98</td>\n",
       "      <td>0.98</td>\n",
       "      <td>0.93</td>\n",
       "      <td>0.91</td>\n",
       "      <td>0.98</td>\n",
       "      <td>...</td>\n",
       "      <td>0.85</td>\n",
       "      <td>0.95</td>\n",
       "      <td>0.92</td>\n",
       "      <td>0.98</td>\n",
       "      <td>0.99</td>\n",
       "      <td>0.99</td>\n",
       "      <td>0.98</td>\n",
       "      <td>0.97</td>\n",
       "      <td>0.99</td>\n",
       "      <td>0.88</td>\n",
       "    </tr>\n",
       "    <tr>\n",
       "      <th>balanced_accuracy</th>\n",
       "      <td>0.95</td>\n",
       "      <td>0.96</td>\n",
       "      <td>0.94</td>\n",
       "      <td>0.91</td>\n",
       "      <td>0.94</td>\n",
       "      <td>0.94</td>\n",
       "      <td>0.95</td>\n",
       "      <td>0.87</td>\n",
       "      <td>0.87</td>\n",
       "      <td>0.94</td>\n",
       "      <td>...</td>\n",
       "      <td>0.78</td>\n",
       "      <td>0.89</td>\n",
       "      <td>0.88</td>\n",
       "      <td>0.95</td>\n",
       "      <td>0.94</td>\n",
       "      <td>0.95</td>\n",
       "      <td>0.92</td>\n",
       "      <td>0.90</td>\n",
       "      <td>0.96</td>\n",
       "      <td>0.76</td>\n",
       "    </tr>\n",
       "    <tr>\n",
       "      <th>f1_score_macro</th>\n",
       "      <td>0.95</td>\n",
       "      <td>0.96</td>\n",
       "      <td>0.94</td>\n",
       "      <td>0.90</td>\n",
       "      <td>0.94</td>\n",
       "      <td>0.94</td>\n",
       "      <td>0.95</td>\n",
       "      <td>0.87</td>\n",
       "      <td>0.86</td>\n",
       "      <td>0.94</td>\n",
       "      <td>...</td>\n",
       "      <td>0.76</td>\n",
       "      <td>0.89</td>\n",
       "      <td>0.88</td>\n",
       "      <td>0.95</td>\n",
       "      <td>0.94</td>\n",
       "      <td>0.95</td>\n",
       "      <td>0.92</td>\n",
       "      <td>0.90</td>\n",
       "      <td>0.96</td>\n",
       "      <td>0.71</td>\n",
       "    </tr>\n",
       "    <tr>\n",
       "      <th>f1_score_micro</th>\n",
       "      <td>0.95</td>\n",
       "      <td>0.96</td>\n",
       "      <td>0.94</td>\n",
       "      <td>0.91</td>\n",
       "      <td>0.94</td>\n",
       "      <td>0.94</td>\n",
       "      <td>0.95</td>\n",
       "      <td>0.87</td>\n",
       "      <td>0.87</td>\n",
       "      <td>0.94</td>\n",
       "      <td>...</td>\n",
       "      <td>0.77</td>\n",
       "      <td>0.89</td>\n",
       "      <td>0.88</td>\n",
       "      <td>0.95</td>\n",
       "      <td>0.94</td>\n",
       "      <td>0.95</td>\n",
       "      <td>0.92</td>\n",
       "      <td>0.90</td>\n",
       "      <td>0.96</td>\n",
       "      <td>0.76</td>\n",
       "    </tr>\n",
       "    <tr>\n",
       "      <th>f1_score_weighted</th>\n",
       "      <td>0.95</td>\n",
       "      <td>0.96</td>\n",
       "      <td>0.94</td>\n",
       "      <td>0.90</td>\n",
       "      <td>0.94</td>\n",
       "      <td>0.94</td>\n",
       "      <td>0.95</td>\n",
       "      <td>0.87</td>\n",
       "      <td>0.86</td>\n",
       "      <td>0.94</td>\n",
       "      <td>...</td>\n",
       "      <td>0.76</td>\n",
       "      <td>0.89</td>\n",
       "      <td>0.88</td>\n",
       "      <td>0.95</td>\n",
       "      <td>0.94</td>\n",
       "      <td>0.95</td>\n",
       "      <td>0.92</td>\n",
       "      <td>0.90</td>\n",
       "      <td>0.96</td>\n",
       "      <td>0.71</td>\n",
       "    </tr>\n",
       "    <tr>\n",
       "      <th>log_loss</th>\n",
       "      <td>0.54</td>\n",
       "      <td>0.24</td>\n",
       "      <td>0.32</td>\n",
       "      <td>1.62</td>\n",
       "      <td>0.77</td>\n",
       "      <td>0.34</td>\n",
       "      <td>0.32</td>\n",
       "      <td>1.03</td>\n",
       "      <td>2.16</td>\n",
       "      <td>0.27</td>\n",
       "      <td>...</td>\n",
       "      <td>1.15</td>\n",
       "      <td>1.15</td>\n",
       "      <td>0.85</td>\n",
       "      <td>0.28</td>\n",
       "      <td>0.25</td>\n",
       "      <td>0.24</td>\n",
       "      <td>0.42</td>\n",
       "      <td>0.51</td>\n",
       "      <td>0.53</td>\n",
       "      <td>0.87</td>\n",
       "    </tr>\n",
       "    <tr>\n",
       "      <th>norm_macro_recall</th>\n",
       "      <td>0.94</td>\n",
       "      <td>0.96</td>\n",
       "      <td>0.93</td>\n",
       "      <td>0.90</td>\n",
       "      <td>0.93</td>\n",
       "      <td>0.93</td>\n",
       "      <td>0.95</td>\n",
       "      <td>0.86</td>\n",
       "      <td>0.85</td>\n",
       "      <td>0.93</td>\n",
       "      <td>...</td>\n",
       "      <td>0.75</td>\n",
       "      <td>0.88</td>\n",
       "      <td>0.86</td>\n",
       "      <td>0.94</td>\n",
       "      <td>0.94</td>\n",
       "      <td>0.94</td>\n",
       "      <td>0.91</td>\n",
       "      <td>0.89</td>\n",
       "      <td>0.96</td>\n",
       "      <td>0.74</td>\n",
       "    </tr>\n",
       "    <tr>\n",
       "      <th>precision_score_macro</th>\n",
       "      <td>0.95</td>\n",
       "      <td>0.96</td>\n",
       "      <td>0.94</td>\n",
       "      <td>0.91</td>\n",
       "      <td>0.94</td>\n",
       "      <td>0.94</td>\n",
       "      <td>0.95</td>\n",
       "      <td>0.87</td>\n",
       "      <td>0.87</td>\n",
       "      <td>0.94</td>\n",
       "      <td>...</td>\n",
       "      <td>0.79</td>\n",
       "      <td>0.89</td>\n",
       "      <td>0.88</td>\n",
       "      <td>0.95</td>\n",
       "      <td>0.94</td>\n",
       "      <td>0.95</td>\n",
       "      <td>0.92</td>\n",
       "      <td>0.91</td>\n",
       "      <td>0.96</td>\n",
       "      <td>0.69</td>\n",
       "    </tr>\n",
       "    <tr>\n",
       "      <th>precision_score_micro</th>\n",
       "      <td>0.95</td>\n",
       "      <td>0.96</td>\n",
       "      <td>0.94</td>\n",
       "      <td>0.91</td>\n",
       "      <td>0.94</td>\n",
       "      <td>0.94</td>\n",
       "      <td>0.95</td>\n",
       "      <td>0.87</td>\n",
       "      <td>0.87</td>\n",
       "      <td>0.94</td>\n",
       "      <td>...</td>\n",
       "      <td>0.77</td>\n",
       "      <td>0.89</td>\n",
       "      <td>0.88</td>\n",
       "      <td>0.95</td>\n",
       "      <td>0.94</td>\n",
       "      <td>0.95</td>\n",
       "      <td>0.92</td>\n",
       "      <td>0.90</td>\n",
       "      <td>0.96</td>\n",
       "      <td>0.76</td>\n",
       "    </tr>\n",
       "    <tr>\n",
       "      <th>precision_score_weighted</th>\n",
       "      <td>0.95</td>\n",
       "      <td>0.96</td>\n",
       "      <td>0.94</td>\n",
       "      <td>0.91</td>\n",
       "      <td>0.94</td>\n",
       "      <td>0.94</td>\n",
       "      <td>0.95</td>\n",
       "      <td>0.87</td>\n",
       "      <td>0.88</td>\n",
       "      <td>0.94</td>\n",
       "      <td>...</td>\n",
       "      <td>0.79</td>\n",
       "      <td>0.89</td>\n",
       "      <td>0.88</td>\n",
       "      <td>0.95</td>\n",
       "      <td>0.94</td>\n",
       "      <td>0.95</td>\n",
       "      <td>0.92</td>\n",
       "      <td>0.91</td>\n",
       "      <td>0.96</td>\n",
       "      <td>0.70</td>\n",
       "    </tr>\n",
       "    <tr>\n",
       "      <th>recall_score_macro</th>\n",
       "      <td>0.95</td>\n",
       "      <td>0.96</td>\n",
       "      <td>0.94</td>\n",
       "      <td>0.91</td>\n",
       "      <td>0.94</td>\n",
       "      <td>0.94</td>\n",
       "      <td>0.95</td>\n",
       "      <td>0.87</td>\n",
       "      <td>0.87</td>\n",
       "      <td>0.94</td>\n",
       "      <td>...</td>\n",
       "      <td>0.78</td>\n",
       "      <td>0.89</td>\n",
       "      <td>0.88</td>\n",
       "      <td>0.95</td>\n",
       "      <td>0.94</td>\n",
       "      <td>0.95</td>\n",
       "      <td>0.92</td>\n",
       "      <td>0.90</td>\n",
       "      <td>0.96</td>\n",
       "      <td>0.76</td>\n",
       "    </tr>\n",
       "    <tr>\n",
       "      <th>recall_score_micro</th>\n",
       "      <td>0.95</td>\n",
       "      <td>0.96</td>\n",
       "      <td>0.94</td>\n",
       "      <td>0.91</td>\n",
       "      <td>0.94</td>\n",
       "      <td>0.94</td>\n",
       "      <td>0.95</td>\n",
       "      <td>0.87</td>\n",
       "      <td>0.87</td>\n",
       "      <td>0.94</td>\n",
       "      <td>...</td>\n",
       "      <td>0.77</td>\n",
       "      <td>0.89</td>\n",
       "      <td>0.88</td>\n",
       "      <td>0.95</td>\n",
       "      <td>0.94</td>\n",
       "      <td>0.95</td>\n",
       "      <td>0.92</td>\n",
       "      <td>0.90</td>\n",
       "      <td>0.96</td>\n",
       "      <td>0.76</td>\n",
       "    </tr>\n",
       "    <tr>\n",
       "      <th>recall_score_weighted</th>\n",
       "      <td>0.95</td>\n",
       "      <td>0.96</td>\n",
       "      <td>0.94</td>\n",
       "      <td>0.91</td>\n",
       "      <td>0.94</td>\n",
       "      <td>0.94</td>\n",
       "      <td>0.95</td>\n",
       "      <td>0.87</td>\n",
       "      <td>0.87</td>\n",
       "      <td>0.94</td>\n",
       "      <td>...</td>\n",
       "      <td>0.77</td>\n",
       "      <td>0.89</td>\n",
       "      <td>0.88</td>\n",
       "      <td>0.95</td>\n",
       "      <td>0.94</td>\n",
       "      <td>0.95</td>\n",
       "      <td>0.92</td>\n",
       "      <td>0.90</td>\n",
       "      <td>0.96</td>\n",
       "      <td>0.76</td>\n",
       "    </tr>\n",
       "    <tr>\n",
       "      <th>weighted_accuracy</th>\n",
       "      <td>0.95</td>\n",
       "      <td>0.96</td>\n",
       "      <td>0.93</td>\n",
       "      <td>0.90</td>\n",
       "      <td>0.94</td>\n",
       "      <td>0.94</td>\n",
       "      <td>0.95</td>\n",
       "      <td>0.87</td>\n",
       "      <td>0.87</td>\n",
       "      <td>0.94</td>\n",
       "      <td>...</td>\n",
       "      <td>0.77</td>\n",
       "      <td>0.89</td>\n",
       "      <td>0.88</td>\n",
       "      <td>0.95</td>\n",
       "      <td>0.94</td>\n",
       "      <td>0.94</td>\n",
       "      <td>0.92</td>\n",
       "      <td>0.90</td>\n",
       "      <td>0.96</td>\n",
       "      <td>0.76</td>\n",
       "    </tr>\n",
       "  </tbody>\n",
       "</table>\n",
       "<p>20 rows × 23 columns</p>\n",
       "</div>"
      ],
      "text/plain": [
       "                                    0    1    2    3    4    5    6    7    8  \\\n",
       "AUC_macro                        0.99 1.00 1.00 0.99 1.00 1.00 1.00 0.99 0.98   \n",
       "AUC_micro                        0.99 1.00 1.00 0.99 1.00 1.00 1.00 0.99 0.98   \n",
       "AUC_weighted                     0.99 1.00 1.00 0.99 1.00 1.00 1.00 0.99 0.98   \n",
       "accuracy                         0.95 0.96 0.94 0.91 0.94 0.94 0.95 0.87 0.87   \n",
       "average_precision_score_macro    0.98 0.99 0.98 0.94 0.98 0.98 0.98 0.93 0.91   \n",
       "average_precision_score_micro    0.98 0.99 0.98 0.94 0.98 0.98 0.99 0.93 0.88   \n",
       "average_precision_score_weighted 0.98 0.99 0.98 0.94 0.98 0.98 0.98 0.93 0.91   \n",
       "balanced_accuracy                0.95 0.96 0.94 0.91 0.94 0.94 0.95 0.87 0.87   \n",
       "f1_score_macro                   0.95 0.96 0.94 0.90 0.94 0.94 0.95 0.87 0.86   \n",
       "f1_score_micro                   0.95 0.96 0.94 0.91 0.94 0.94 0.95 0.87 0.87   \n",
       "f1_score_weighted                0.95 0.96 0.94 0.90 0.94 0.94 0.95 0.87 0.86   \n",
       "log_loss                         0.54 0.24 0.32 1.62 0.77 0.34 0.32 1.03 2.16   \n",
       "norm_macro_recall                0.94 0.96 0.93 0.90 0.93 0.93 0.95 0.86 0.85   \n",
       "precision_score_macro            0.95 0.96 0.94 0.91 0.94 0.94 0.95 0.87 0.87   \n",
       "precision_score_micro            0.95 0.96 0.94 0.91 0.94 0.94 0.95 0.87 0.87   \n",
       "precision_score_weighted         0.95 0.96 0.94 0.91 0.94 0.94 0.95 0.87 0.88   \n",
       "recall_score_macro               0.95 0.96 0.94 0.91 0.94 0.94 0.95 0.87 0.87   \n",
       "recall_score_micro               0.95 0.96 0.94 0.91 0.94 0.94 0.95 0.87 0.87   \n",
       "recall_score_weighted            0.95 0.96 0.94 0.91 0.94 0.94 0.95 0.87 0.87   \n",
       "weighted_accuracy                0.95 0.96 0.93 0.90 0.94 0.94 0.95 0.87 0.87   \n",
       "\n",
       "                                    9 ...    13   14   15   16   17   18   19  \\\n",
       "AUC_macro                        1.00 ...  0.97 0.99 0.98 1.00 1.00 1.00 1.00   \n",
       "AUC_micro                        1.00 ...  0.97 0.99 0.99 1.00 1.00 1.00 1.00   \n",
       "AUC_weighted                     1.00 ...  0.97 0.99 0.98 1.00 1.00 1.00 1.00   \n",
       "accuracy                         0.94 ...  0.77 0.89 0.88 0.95 0.94 0.95 0.92   \n",
       "average_precision_score_macro    0.98 ...  0.85 0.95 0.92 0.98 0.99 0.99 0.98   \n",
       "average_precision_score_micro    0.98 ...  0.83 0.95 0.93 0.98 0.99 0.99 0.98   \n",
       "average_precision_score_weighted 0.98 ...  0.85 0.95 0.92 0.98 0.99 0.99 0.98   \n",
       "balanced_accuracy                0.94 ...  0.78 0.89 0.88 0.95 0.94 0.95 0.92   \n",
       "f1_score_macro                   0.94 ...  0.76 0.89 0.88 0.95 0.94 0.95 0.92   \n",
       "f1_score_micro                   0.94 ...  0.77 0.89 0.88 0.95 0.94 0.95 0.92   \n",
       "f1_score_weighted                0.94 ...  0.76 0.89 0.88 0.95 0.94 0.95 0.92   \n",
       "log_loss                         0.27 ...  1.15 1.15 0.85 0.28 0.25 0.24 0.42   \n",
       "norm_macro_recall                0.93 ...  0.75 0.88 0.86 0.94 0.94 0.94 0.91   \n",
       "precision_score_macro            0.94 ...  0.79 0.89 0.88 0.95 0.94 0.95 0.92   \n",
       "precision_score_micro            0.94 ...  0.77 0.89 0.88 0.95 0.94 0.95 0.92   \n",
       "precision_score_weighted         0.94 ...  0.79 0.89 0.88 0.95 0.94 0.95 0.92   \n",
       "recall_score_macro               0.94 ...  0.78 0.89 0.88 0.95 0.94 0.95 0.92   \n",
       "recall_score_micro               0.94 ...  0.77 0.89 0.88 0.95 0.94 0.95 0.92   \n",
       "recall_score_weighted            0.94 ...  0.77 0.89 0.88 0.95 0.94 0.95 0.92   \n",
       "weighted_accuracy                0.94 ...  0.77 0.89 0.88 0.95 0.94 0.94 0.92   \n",
       "\n",
       "                                   20   21   22  \n",
       "AUC_macro                        0.99 1.00 0.96  \n",
       "AUC_micro                        0.99 1.00 0.97  \n",
       "AUC_weighted                     0.99 1.00 0.96  \n",
       "accuracy                         0.90 0.96 0.76  \n",
       "average_precision_score_macro    0.97 0.99 0.88  \n",
       "average_precision_score_micro    0.97 0.99 0.88  \n",
       "average_precision_score_weighted 0.97 0.99 0.88  \n",
       "balanced_accuracy                0.90 0.96 0.76  \n",
       "f1_score_macro                   0.90 0.96 0.71  \n",
       "f1_score_micro                   0.90 0.96 0.76  \n",
       "f1_score_weighted                0.90 0.96 0.71  \n",
       "log_loss                         0.51 0.53 0.87  \n",
       "norm_macro_recall                0.89 0.96 0.74  \n",
       "precision_score_macro            0.91 0.96 0.69  \n",
       "precision_score_micro            0.90 0.96 0.76  \n",
       "precision_score_weighted         0.91 0.96 0.70  \n",
       "recall_score_macro               0.90 0.96 0.76  \n",
       "recall_score_micro               0.90 0.96 0.76  \n",
       "recall_score_weighted            0.90 0.96 0.76  \n",
       "weighted_accuracy                0.90 0.96 0.76  \n",
       "\n",
       "[20 rows x 23 columns]"
      ]
     },
     "execution_count": 53,
     "metadata": {},
     "output_type": "execute_result"
    }
   ],
   "source": [
    "children = list(local_run.get_children())\n",
    "metricslist = {}\n",
    "for run in children:\n",
    "    properties = run.get_properties()\n",
    "    metrics = {k: v for k, v in run.get_metrics().items() if isinstance(v, float)}\n",
    "    metricslist[int(properties['iteration'])] = metrics\n",
    "\n",
    "rundata = pd.DataFrame(metricslist).sort_index(1)\n",
    "rundata"
   ]
  },
  {
   "cell_type": "markdown",
   "metadata": {},
   "source": [
    "## 7. Récupération du meilleur modèle\n",
    "\n",
    "Below we select the best pipeline from our iterations. The `get_output` method returns the best run and the fitted model. The Model includes the pipeline and any pre-processing.  Overloads on `get_output` allow you to retrieve the best run and fitted model for *any* logged metric or for a particular *iteration*."
   ]
  },
  {
   "cell_type": "code",
   "execution_count": 55,
   "metadata": {},
   "outputs": [
    {
     "name": "stdout",
     "output_type": "stream",
     "text": [
      "Run(Experiment: workshop2,\n",
      "Id: AutoML_2da96795-1cd6-41e8-a1d1-f1bd27626167_21,\n",
      "Type: None,\n",
      "Status: Completed)\n",
      "\n",
      "Pipeline(memory=None,\n",
      "     steps=[('prefittedsoftvotingclassifier', PreFittedSoftVotingClassifier(classification_labels=None,\n",
      "               estimators=[('12', Pipeline(memory=None,\n",
      "     steps=[('MinMaxScaler', MinMaxScaler(copy=True, feature_range=(0, 1))), ('LightGBMClassifier', LightGBMClassifier(boosting_type='gbdt', clas...2857142857142, 0.07142857142857142, 0.07142857142857142, 0.14285714285714285, 0.2857142857142857]))])\n"
     ]
    }
   ],
   "source": [
    "best_run, fitted_model = local_run.get_output()\n",
    "\n",
    "print(best_run)\n",
    "print()\n",
    "print(fitted_model)"
   ]
  },
  {
   "cell_type": "markdown",
   "metadata": {},
   "source": [
    "### 7.1 Changement de la métrique AutoML\n"
   ]
  },
  {
   "cell_type": "code",
   "execution_count": 56,
   "metadata": {},
   "outputs": [
    {
     "name": "stdout",
     "output_type": "stream",
     "text": [
      "Meilleur modèle :\n",
      "Run(Experiment: workshop2,\n",
      "Id: AutoML_2da96795-1cd6-41e8-a1d1-f1bd27626167_21,\n",
      "Type: None,\n",
      "Status: Completed)\n",
      "\n",
      "Pipeline(memory=None,\n",
      "     steps=[('prefittedsoftvotingclassifier', PreFittedSoftVotingClassifier(classification_labels=None,\n",
      "               estimators=[('12', Pipeline(memory=None,\n",
      "     steps=[('MinMaxScaler', MinMaxScaler(copy=True, feature_range=(0, 1))), ('LightGBMClassifier', LightGBMClassifier(boosting_type='gbdt', clas...2857142857142, 0.07142857142857142, 0.07142857142857142, 0.14285714285714285, 0.2857142857142857]))])\n"
     ]
    }
   ],
   "source": [
    "lookup_metric = \"f1_score_weighted\"\n",
    "best_run, fitted_model = local_run.get_output(metric = lookup_metric)\n",
    "print(\"Meilleur modèle :\")\n",
    "print(best_run)\n",
    "print()\n",
    "print(fitted_model)"
   ]
  },
  {
   "cell_type": "markdown",
   "metadata": {},
   "source": [
    "Model from a Specific Iteration\n",
    "Show the run and the model from the third iteration:"
   ]
  },
  {
   "cell_type": "code",
   "execution_count": 57,
   "metadata": {},
   "outputs": [
    {
     "name": "stdout",
     "output_type": "stream",
     "text": [
      "Modèle 3 eme itération :\n",
      "Run(Experiment: workshop2,\n",
      "Id: AutoML_2da96795-1cd6-41e8-a1d1-f1bd27626167_3,\n",
      "Type: None,\n",
      "Status: Completed)\n",
      "\n",
      "Pipeline(memory=None,\n",
      "     steps=[('StandardScalerWrapper', <automl.client.core.runtime.model_wrappers.StandardScalerWrapper object at 0x7f9a18473eb8>), ('SGDClassifierWrapper', SGDClassifierWrapper(alpha=0.0001, class_weight='balanced', eta0=0.0001,\n",
      "           fit_intercept=False, l1_ratio=0.3469387755102041,\n",
      "           learning_rate='constant', loss='modified_huber', max_iter=1000,\n",
      "           n_jobs=1, penalty='l2', power_t=0.2222222222222222,\n",
      "           random_state=None, tol=0.01))])\n"
     ]
    }
   ],
   "source": [
    "iteration = 3\n",
    "\n",
    "my_run, my_model = local_run.get_output(iteration = iteration)\n",
    "print(\"Modèle\",iteration,\"eme itération :\")\n",
    "print(my_run)\n",
    "print()\n",
    "print(my_model)"
   ]
  },
  {
   "cell_type": "markdown",
   "metadata": {},
   "source": [
    "## 8. Application du modèle\n",
    "\n",
    "### 8.1 Chargement des données"
   ]
  },
  {
   "cell_type": "code",
   "execution_count": 58,
   "metadata": {},
   "outputs": [],
   "source": [
    "digits = datasets.load_digits()\n",
    "X_test = digits.data[:10, :]\n",
    "y_test = digits.target[:10]\n",
    "images = digits.images[:10]"
   ]
  },
  {
   "cell_type": "markdown",
   "metadata": {},
   "source": [
    "### 8.2 Test\n",
    "We will try to predict 2 digits and see how our model works."
   ]
  },
  {
   "cell_type": "code",
   "execution_count": 59,
   "metadata": {},
   "outputs": [
    {
     "name": "stdout",
     "output_type": "stream",
     "text": [
      "4\n"
     ]
    },
    {
     "data": {
      "image/png": "[encoded data removed]",
      "text/plain": [
       "<Figure size 216x216 with 1 Axes>"
      ]
     },
     "metadata": {
      "needs_background": "light"
     },
     "output_type": "display_data"
    },
    {
     "name": "stdout",
     "output_type": "stream",
     "text": [
      "0\n"
     ]
    },
    {
     "data": {
      "image/png": "[encoded data removed]",
      "text/plain": [
       "<Figure size 216x216 with 1 Axes>"
      ]
     },
     "metadata": {
      "needs_background": "light"
     },
     "output_type": "display_data"
    },
    {
     "name": "stdout",
     "output_type": "stream",
     "text": [
      "CPU times: user 461 ms, sys: 3.81 ms, total: 465 ms\n",
      "Wall time: 364 ms\n"
     ]
    }
   ],
   "source": [
    "%%time\n",
    "# Randomly select digits and test.\n",
    "for index in np.random.choice(len(y_test), 2, replace = False):\n",
    "    print(index)\n",
    "    predicted = fitted_model.predict(X_test[index:index + 1])[0]\n",
    "    label = y_test[index]\n",
    "    title = \"Label value = %d  Predicted value = %d \" % (label, predicted)\n",
    "    fig = plt.figure(1, figsize = (3,3))\n",
    "    ax1 = fig.add_axes((0,0,.8,.8))\n",
    "    ax1.set_title(title)\n",
    "    plt.imshow(images[index], cmap = plt.cm.gray_r, interpolation = 'nearest')\n",
    "    plt.show()"
   ]
  },
  {
   "cell_type": "markdown",
   "metadata": {},
   "source": [
    "<img src=\"https://github.com/retkowsky/images/blob/master/Powered-by-MS-Azure-logo-v2.png?raw=true\" height=\"300\" width=\"300\">"
   ]
  },
  {
   "cell_type": "code",
   "execution_count": null,
   "metadata": {},
   "outputs": [],
   "source": []
  }
 ],
 "metadata": {
  "authors": [
   {
    "name": "savitam"
   }
  ],
  "kernelspec": {
   "display_name": "Python 3.6 - AzureML",
   "language": "python",
   "name": "python3-azureml"
  },
  "language_info": {
   "codemirror_mode": {
    "name": "ipython",
    "version": 3
   },
   "file_extension": ".py",
   "mimetype": "text/x-python",
   "name": "python",
   "nbconvert_exporter": "python",
   "pygments_lexer": "ipython3",
   "version": "3.6.9"
  }
 },
 "nbformat": 4,
 "nbformat_minor": 2
}
