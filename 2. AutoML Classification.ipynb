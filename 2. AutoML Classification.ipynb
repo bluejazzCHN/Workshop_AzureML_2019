{
 "cells": [
  {
   "cell_type": "markdown",
   "metadata": {},
   "source": [
    "# AutoML Classification"
   ]
  },
  {
   "cell_type": "markdown",
   "metadata": {},
   "source": [
    "<img src='https://github.com/retkowsky/images/blob/master/AzureMLservicebanniere.png?raw=true'>"
   ]
  },
  {
   "cell_type": "markdown",
   "metadata": {},
   "source": [
    "This is a copy of the test set of the **UCI ML hand-written digits datasets** http://archive.ics.uci.edu/ml/datasets/Optical+Recognition+of+Handwritten+Digits\n",
    "\n",
    "The data set contains images of hand-written digits: 10 classes where each class refers to a digit.\n",
    "\n"
   ]
  },
  {
   "cell_type": "markdown",
   "metadata": {},
   "source": [
    "<img src=\"https://www.seewald.at/img/L/digits.gif\">\n"
   ]
  },
  {
   "cell_type": "markdown",
   "metadata": {},
   "source": [
    "## Documentation Azure ML service\n",
    "> https://docs.microsoft.com/en-us/azure/machine-learning/service/how-to-automated-ml"
   ]
  },
  {
   "cell_type": "markdown",
   "metadata": {},
   "source": [
    "## 1. Informations\n",
    "\n",
    "As part of the setup you have already created an Azure ML `Workspace` object. <br> For AutoML you will need to create an `Experiment` object, which is a named object in a `Workspace` used to run experiments."
   ]
  },
  {
   "cell_type": "code",
   "execution_count": 60,
   "metadata": {},
   "outputs": [
    {
     "data": {
      "text/plain": [
       "'3.6.9 |Anaconda, Inc.| (default, Jul 30 2019, 19:07:31) \\n[GCC 7.3.0]'"
      ]
     },
     "execution_count": 60,
     "metadata": {},
     "output_type": "execute_result"
    }
   ],
   "source": [
    "import sys\n",
    "sys.version"
   ]
  },
  {
   "cell_type": "code",
   "execution_count": 61,
   "metadata": {},
   "outputs": [
    {
     "name": "stdout",
     "output_type": "stream",
     "text": [
      "Version Azure ML Service : 1.0.74\n"
     ]
    }
   ],
   "source": [
    "import azureml.core\n",
    "print(\"Version Azure ML Service :\", azureml.core.VERSION)"
   ]
  },
  {
   "cell_type": "code",
   "execution_count": 62,
   "metadata": {},
   "outputs": [],
   "source": [
    "import logging\n",
    "import os\n",
    "import random\n",
    "\n",
    "from matplotlib import pyplot as plt\n",
    "from matplotlib.pyplot import imshow\n",
    "import numpy as np\n",
    "import pandas as pd\n",
    "from sklearn import datasets\n",
    "\n",
    "import azureml.core\n",
    "from azureml.core.experiment import Experiment\n",
    "from azureml.core.workspace import Workspace\n",
    "from azureml.train.automl import AutoMLConfig\n",
    "from azureml.train.automl.run import AutoMLRun"
   ]
  },
  {
   "cell_type": "markdown",
   "metadata": {},
   "source": [
    "## 2. Connexion workspace Azure ML service"
   ]
  },
  {
   "cell_type": "code",
   "execution_count": 63,
   "metadata": {},
   "outputs": [
    {
     "data": {
      "text/html": [
       "<div>\n",
       "<style scoped>\n",
       "    .dataframe tbody tr th:only-of-type {\n",
       "        vertical-align: middle;\n",
       "    }\n",
       "\n",
       "    .dataframe tbody tr th {\n",
       "        vertical-align: top;\n",
       "    }\n",
       "\n",
       "    .dataframe thead th {\n",
       "        text-align: right;\n",
       "    }\n",
       "</style>\n",
       "<table border=\"1\" class=\"dataframe\">\n",
       "  <thead>\n",
       "    <tr style=\"text-align: right;\">\n",
       "      <th></th>\n",
       "      <th></th>\n",
       "    </tr>\n",
       "  </thead>\n",
       "  <tbody>\n",
       "    <tr>\n",
       "      <th>SDK version</th>\n",
       "      <td>1.0.74</td>\n",
       "    </tr>\n",
       "    <tr>\n",
       "      <th>Workspace Name</th>\n",
       "      <td>workshopml</td>\n",
       "    </tr>\n",
       "    <tr>\n",
       "      <th>Resource Group</th>\n",
       "      <td>workshopmlRG</td>\n",
       "    </tr>\n",
       "    <tr>\n",
       "      <th>Location</th>\n",
       "      <td>northeurope</td>\n",
       "    </tr>\n",
       "    <tr>\n",
       "      <th>Project Directory</th>\n",
       "      <td>./sample_projects/workshop2</td>\n",
       "    </tr>\n",
       "    <tr>\n",
       "      <th>Experiment Name</th>\n",
       "      <td>workshop2</td>\n",
       "    </tr>\n",
       "  </tbody>\n",
       "</table>\n",
       "</div>"
      ],
      "text/plain": [
       "                                              \n",
       "SDK version        1.0.74                     \n",
       "Workspace Name     workshopml                 \n",
       "Resource Group     workshopmlRG               \n",
       "Location           northeurope                \n",
       "Project Directory  ./sample_projects/workshop2\n",
       "Experiment Name    workshop2                  "
      ]
     },
     "execution_count": 63,
     "metadata": {},
     "output_type": "execute_result"
    }
   ],
   "source": [
    "ws = Workspace.from_config()\n",
    "\n",
    "experiment_name = 'workshop2'\n",
    "project_folder = './sample_projects/workshop2'\n",
    "\n",
    "experiment = Experiment(ws, experiment_name)\n",
    "\n",
    "output = {}\n",
    "output['SDK version'] = azureml.core.VERSION\n",
    "output['Workspace Name'] = ws.name\n",
    "output['Resource Group'] = ws.resource_group\n",
    "output['Location'] = ws.location\n",
    "output['Project Directory'] = project_folder\n",
    "output['Experiment Name'] = experiment.name\n",
    "pd.set_option('display.max_colwidth', -1)\n",
    "pd.DataFrame(data = output, index = ['']).T"
   ]
  },
  {
   "cell_type": "markdown",
   "metadata": {},
   "source": [
    "## 3. Chargement des données\n",
    "\n",
    "This uses scikit-learn's [load_digits](http://scikit-learn.org/stable/modules/generated/sklearn.datasets.load_digits.html) method."
   ]
  },
  {
   "cell_type": "code",
   "execution_count": 64,
   "metadata": {},
   "outputs": [],
   "source": [
    "from sklearn import datasets\n",
    "\n",
    "digits = datasets.load_digits()\n",
    "\n",
    "# Exclude the first 100 rows from training so that they can be used for test.\n",
    "X_train = digits.data[100:,:]\n",
    "y_train = digits.target[100:]"
   ]
  },
  {
   "cell_type": "code",
   "execution_count": 65,
   "metadata": {},
   "outputs": [
    {
     "name": "stdout",
     "output_type": "stream",
     "text": [
      "(1797, 64)\n"
     ]
    }
   ],
   "source": [
    "print(digits.data.shape)"
   ]
  },
  {
   "cell_type": "markdown",
   "metadata": {},
   "source": [
    "## 4. Configuration AutoML\n",
    "\n"
   ]
  },
  {
   "cell_type": "code",
   "execution_count": 66,
   "metadata": {},
   "outputs": [
    {
     "name": "stderr",
     "output_type": "stream",
     "text": [
      "WARNING - The AutoMLConfig inputs you have specified will soon be deprecated. Please use the AutoMLConfig shown in our documentation: https://aka.ms/AutoMLConfig\n"
     ]
    }
   ],
   "source": [
    "automl_config = AutoMLConfig(task = 'classification',\n",
    "                             debug_log = 'automl_errors.log',\n",
    "                             primary_metric = 'AUC_weighted',\n",
    "                             iteration_timeout_minutes = 5, # Temps max par itération\n",
    "                             experiment_timeout_minutes = 5, # Temps max pour le process AutoML\n",
    "                             enable_early_stopping=True, # Sortie si pas d'amélioration de la métrique\n",
    "                             #iterations = 10,           # Possibilité de définir le nombre d'itérations max\n",
    "                             n_cross_validations = 3,    # Nombre de validation croisée\n",
    "                             verbosity = logging.INFO,\n",
    "                             X = X_train, \n",
    "                             y = y_train,\n",
    "                             path = project_folder)"
   ]
  },
  {
   "cell_type": "markdown",
   "metadata": {},
   "source": [
    "## 5. AutoML\n",
    "\n",
    "Call the `submit` method on the experiment object and pass the run configuration. Execution of local runs is synchronous. Depending on the data and the number of iterations this can run for a while.\n",
    "In this example, we specify `show_output = True` to print currently running iterations to the console.\n",
    "\n",
    "`AUC_weighted` is the **metric** used."
   ]
  },
  {
   "cell_type": "code",
   "execution_count": 67,
   "metadata": {},
   "outputs": [
    {
     "name": "stdout",
     "output_type": "stream",
     "text": [
      "Running on local machine\n",
      "Parent Run ID: AutoML_d62b9716-907f-43c7-83d8-6e8443e8e7d6\n",
      "Current status: DatasetCrossValidationSplit. Generating CV splits.\n",
      "\n",
      "****************************************************************************************************\n",
      "DATA GUARDRAILS SUMMARY:\n",
      "For more details, use API: run.get_guardrails()\n",
      "\n",
      "TYPE:         Class balancing detection\n",
      "STATUS:       PASSED\n",
      "DESCRIPTION:  Classes are balanced in the training data.\n",
      "\n",
      "****************************************************************************************************\n",
      "Current status: ModelSelection. Beginning model selection.\n",
      "\n",
      "****************************************************************************************************\n",
      "ITERATION: The iteration being evaluated.\n",
      "PIPELINE: A summary description of the pipeline being evaluated.\n",
      "DURATION: Time taken for the current iteration.\n",
      "METRIC: The result of computing score on the fitted pipeline.\n",
      "BEST: The best observed score thus far.\n",
      "****************************************************************************************************\n",
      "\n",
      " ITERATION   PIPELINE                                       DURATION      METRIC      BEST\n",
      "         0   StandardScalerWrapper SGD                      0:00:12       0.9942    0.9942\n",
      "         1   StandardScalerWrapper SGD                      0:00:14       0.9969    0.9969\n",
      "         2   MinMaxScaler LightGBM                          0:00:13       0.9977    0.9977\n",
      "         3   StandardScalerWrapper SGD                      0:00:13       0.9892    0.9977\n",
      "         4   StandardScalerWrapper ExtremeRandomTrees       0:00:14       0.9961    0.9977\n",
      "         5   StandardScalerWrapper LightGBM                 0:00:14       0.9974    0.9977\n",
      "         6   StandardScalerWrapper SGD                      0:00:12       0.9963    0.9977\n",
      "         7   MinMaxScaler RandomForest                      0:00:14       0.9857    0.9977\n",
      "         8   StandardScalerWrapper SGD                      0:00:13       0.9838    0.9977\n",
      "         9   MinMaxScaler SGD                               0:00:12       0.9960    0.9977\n",
      "        10   MinMaxScaler RandomForest                      0:00:13       0.9824    0.9977\n",
      "        11   MaxAbsScaler LightGBM                          0:00:22       0.9892    0.9977\n",
      "        12   MinMaxScaler LightGBM                          0:00:14       0.9982    0.9982\n",
      "        13   MinMaxScaler ExtremeRandomTrees                0:00:13       0.9651    0.9982\n",
      "        14   MinMaxScaler LightGBM                          0:00:13       0.9895    0.9982\n",
      "        15   StandardScalerWrapper BernoulliNaiveBayes      0:00:16       0.9840    0.9982\n",
      "        16   StandardScalerWrapper LogisticRegression       0:00:15       0.9960    0.9982\n",
      "        17   RobustScaler LightGBM                          0:00:16       0.9978    0.9982\n",
      "        18   MaxAbsScaler LightGBM                          0:00:16       0.9980    0.9982\n",
      "        19   StandardScalerWrapper LightGBM                 0:00:16       0.9963    0.9982\n",
      "        20   RobustScaler LightGBM                          0:00:15       0.9941    0.9982\n",
      "        21   VotingEnsemble                                 0:00:22       0.9989    0.9989\n",
      "        22   StackEnsemble                                  0:00:39       0.9782    0.9989\n",
      "Stopping criteria reached at iteration 22. Ending experiment.\n",
      "CPU times: user 26.5 s, sys: 6.42 s, total: 33 s\n",
      "Wall time: 6min 17s\n"
     ]
    }
   ],
   "source": [
    "%%time\n",
    "local_run = experiment.submit(automl_config, show_output = True)"
   ]
  },
  {
   "cell_type": "code",
   "execution_count": 68,
   "metadata": {},
   "outputs": [
    {
     "data": {
      "text/html": [
       "<table style=\"width:100%\"><tr><th>Experiment</th><th>Id</th><th>Type</th><th>Status</th><th>Details Page</th><th>Docs Page</th></tr><tr><td>workshop2</td><td>AutoML_d62b9716-907f-43c7-83d8-6e8443e8e7d6</td><td>automl</td><td>Running</td><td><a href=\"https://ml.azure.com/experiments/workshop2/runs/AutoML_d62b9716-907f-43c7-83d8-6e8443e8e7d6?wsid=/subscriptions/70b8f39e-8863-49f7-b6ba-34a80799550c/resourcegroups/workshopmlRG/workspaces/workshopml\" target=\"_blank\" rel=\"noopener\">Link to Azure Machine Learning studio</a></td><td><a href=\"https://docs.microsoft.com/en-us/python/api/overview/azure/ml/intro?view=azure-ml-py\" target=\"_blank\" rel=\"noopener\">Link to Documentation</a></td></tr></table>"
      ],
      "text/plain": [
       "Run(Experiment: workshop2,\n",
       "Id: AutoML_d62b9716-907f-43c7-83d8-6e8443e8e7d6,\n",
       "Type: automl,\n",
       "Status: Running)"
      ]
     },
     "execution_count": 68,
     "metadata": {},
     "output_type": "execute_result"
    }
   ],
   "source": [
    "local_run"
   ]
  },
  {
   "cell_type": "markdown",
   "metadata": {},
   "source": [
    "## 6. Exploration des résultats AutoML"
   ]
  },
  {
   "cell_type": "markdown",
   "metadata": {},
   "source": [
    "### 6.1 Notebook Widget\n",
    "\n",
    "The widget will first report a \"loading\" status while running the first iteration. After completing the first iteration, an auto-updating graph and table will be shown. The widget will refresh once per minute, so you should see the graph update as child runs complete.\n",
    "\n",
    "**Note:** The widget displays a link at the bottom. Use this link to open a web interface to explore the individual run details."
   ]
  },
  {
   "cell_type": "code",
   "execution_count": 69,
   "metadata": {},
   "outputs": [
    {
     "data": {
      "application/vnd.jupyter.widget-view+json": {
       "model_id": "32c65a6dbeaa4722aad1e9a4c02e8b98",
       "version_major": 2,
       "version_minor": 0
      },
      "text/plain": [
       "_AutoMLWidget(widget_settings={'childWidgetDisplay': 'popup', 'send_telemetry': False, 'log_level': 'INFO', 's…"
      ]
     },
     "metadata": {},
     "output_type": "display_data"
    },
    {
     "data": {
      "application/aml.mini.widget.v1": "{\"status\": \"Completed\", \"workbench_run_details_uri\": \"https://ml.azure.com/experiments/workshop2/runs/AutoML_d62b9716-907f-43c7-83d8-6e8443e8e7d6?wsid=/subscriptions/70b8f39e-8863-49f7-b6ba-34a80799550c/resourcegroups/workshopmlRG/workspaces/workshopml\", \"run_id\": \"AutoML_d62b9716-907f-43c7-83d8-6e8443e8e7d6\", \"run_properties\": {\"run_id\": \"AutoML_d62b9716-907f-43c7-83d8-6e8443e8e7d6\", \"created_utc\": \"2019-11-22T09:49:33.125288Z\", \"properties\": {\"num_iterations\": \"1000\", \"training_type\": \"TrainFull\", \"acquisition_function\": \"EI\", \"primary_metric\": \"AUC_weighted\", \"train_split\": \"0\", \"MaxTimeSeconds\": \"300\", \"acquisition_parameter\": \"0\", \"num_cross_validation\": \"3\", \"target\": \"local\", \"RawAMLSettingsString\": \"{'name': 'workshop2', 'path': './sample_projects/workshop2', 'subscription_id': '70b8f39e-8863-49f7-b6ba-34a80799550c', 'resource_group': 'workshopmlRG', 'workspace_name': 'workshopml', 'region': 'northeurope', 'compute_target': 'local', 'spark_service': None, 'azure_service': None, 'iterations': 1000, 'primary_metric': 'AUC_weighted', 'task_type': 'classification', 'data_script': None, 'validation_size': 0.0, 'n_cross_validations': 3, 'y_min': None, 'y_max': None, 'num_classes': 10, 'featurization': 'off', 'preprocess': False, 'lag_length': 0, 'is_timeseries': False, 'max_cores_per_iteration': 1, 'max_concurrent_iterations': 1, 'iteration_timeout_minutes': 5, 'mem_in_mb': None, 'enforce_time_on_windows': False, 'experiment_timeout_minutes': 5, 'experiment_exit_score': None, 'whitelist_models': None, 'blacklist_algos': ['XGBoostClassifier', 'Prophet'], 'supported_models': ['MultinomialNaiveBayes', 'RandomForest', 'DecisionTree', 'BernoulliNaiveBayes', 'LinearSVM', 'LightGBM', 'SGD', 'TensorFlowLinearClassifier', 'GradientBoosting', 'SVM', 'LogisticRegression', 'KNN', 'AveragedPerceptronClassifier', 'ExtremeRandomTrees', 'XGBoostClassifier', 'TensorFlowDNN', 'LinearSVMClassifier'], 'auto_blacklist': True, 'blacklist_samples_reached': False, 'exclude_nan_labels': True, 'verbosity': 20, 'debug_log': 'automl_errors.log', 'show_warnings': False, 'model_explainability': False, 'service_url': None, 'sdk_url': None, 'sdk_packages': None, 'enable_onnx_compatible_models': False, 'enable_split_onnx_featurizer_estimator_models': False, 'vm_type': None, 'telemetry_verbosity': 'INFO', 'send_telemetry': True, 'enable_dnn': False, 'enable_feature_sweeping': True, 'enable_early_stopping': True, 'early_stopping_n_iters': 10, 'metrics': None, 'enable_ensembling': True, 'enable_stack_ensembling': True, 'ensemble_iterations': 15, 'enable_tf': False, 'enable_cache': True, 'enable_subsampling': None, 'subsample_seed': None, 'enable_nimbusml': False, 'enable_streaming': False, 'label_column_name': None, 'weight_column_name': None, 'cost_mode': 0, 'metric_operation': 'maximize'}\", \"AMLSettingsJsonString\": \"{\\\"name\\\":\\\"workshop2\\\",\\\"path\\\":\\\"./sample_projects/workshop2\\\",\\\"subscription_id\\\":\\\"70b8f39e-8863-49f7-b6ba-34a80799550c\\\",\\\"resource_group\\\":\\\"workshopmlRG\\\",\\\"workspace_name\\\":\\\"workshopml\\\",\\\"region\\\":\\\"northeurope\\\",\\\"compute_target\\\":\\\"local\\\",\\\"spark_service\\\":null,\\\"azure_service\\\":null,\\\"iterations\\\":1000,\\\"primary_metric\\\":\\\"AUC_weighted\\\",\\\"task_type\\\":\\\"classification\\\",\\\"data_script\\\":null,\\\"validation_size\\\":0.0,\\\"n_cross_validations\\\":3,\\\"y_min\\\":null,\\\"y_max\\\":null,\\\"num_classes\\\":10,\\\"featurization\\\":\\\"off\\\",\\\"preprocess\\\":false,\\\"lag_length\\\":0,\\\"is_timeseries\\\":false,\\\"max_cores_per_iteration\\\":1,\\\"max_concurrent_iterations\\\":1,\\\"iteration_timeout_minutes\\\":5,\\\"mem_in_mb\\\":null,\\\"enforce_time_on_windows\\\":false,\\\"experiment_timeout_minutes\\\":5,\\\"experiment_exit_score\\\":null,\\\"whitelist_models\\\":null,\\\"blacklist_algos\\\":[\\\"XGBoostClassifier\\\",\\\"Prophet\\\",\\\"AutoArima\\\"],\\\"supported_models\\\":[\\\"MultinomialNaiveBayes\\\",\\\"RandomForest\\\",\\\"DecisionTree\\\",\\\"BernoulliNaiveBayes\\\",\\\"LinearSVM\\\",\\\"LightGBM\\\",\\\"SGD\\\",\\\"TensorFlowLinearClassifier\\\",\\\"GradientBoosting\\\",\\\"SVM\\\",\\\"LogisticRegression\\\",\\\"KNN\\\",\\\"AveragedPerceptronClassifier\\\",\\\"ExtremeRandomTrees\\\",\\\"XGBoostClassifier\\\",\\\"TensorFlowDNN\\\",\\\"LinearSVMClassifier\\\"],\\\"auto_blacklist\\\":true,\\\"blacklist_samples_reached\\\":false,\\\"exclude_nan_labels\\\":true,\\\"verbosity\\\":20,\\\"debug_log\\\":\\\"automl_errors.log\\\",\\\"show_warnings\\\":false,\\\"model_explainability\\\":false,\\\"service_url\\\":null,\\\"sdk_url\\\":null,\\\"sdk_packages\\\":null,\\\"enable_onnx_compatible_models\\\":false,\\\"enable_split_onnx_featurizer_estimator_models\\\":false,\\\"vm_type\\\":null,\\\"telemetry_verbosity\\\":\\\"INFO\\\",\\\"send_telemetry\\\":true,\\\"enable_dnn\\\":false,\\\"enable_feature_sweeping\\\":true,\\\"enable_early_stopping\\\":true,\\\"early_stopping_n_iters\\\":10,\\\"metrics\\\":null,\\\"enable_ensembling\\\":true,\\\"enable_stack_ensembling\\\":true,\\\"ensemble_iterations\\\":15,\\\"enable_tf\\\":false,\\\"enable_cache\\\":true,\\\"enable_subsampling\\\":null,\\\"subsample_seed\\\":null,\\\"enable_nimbusml\\\":false,\\\"enable_streaming\\\":false,\\\"label_column_name\\\":null,\\\"weight_column_name\\\":null,\\\"cost_mode\\\":0,\\\"metric_operation\\\":\\\"maximize\\\"}\", \"DataPrepJsonString\": null, \"EnableSubsampling\": null, \"runTemplate\": \"AutoML\", \"azureml.runsource\": \"automl\", \"display_task_type\": \"classification\", \"dependencies_versions\": \"{\\\"azureml-widgets\\\": \\\"1.0.74\\\", \\\"azureml-train\\\": \\\"1.0.74\\\", \\\"azureml-train-restclients-hyperdrive\\\": \\\"1.0.74\\\", \\\"azureml-train-core\\\": \\\"1.0.74\\\", \\\"azureml-train-automl\\\": \\\"1.0.74\\\", \\\"azureml-tensorboard\\\": \\\"1.0.74\\\", \\\"azureml-telemetry\\\": \\\"1.0.74\\\", \\\"azureml-sdk\\\": \\\"1.0.74\\\", \\\"azureml-samples\\\": \\\"0+unknown\\\", \\\"azureml-pipeline\\\": \\\"1.0.74\\\", \\\"azureml-pipeline-steps\\\": \\\"1.0.74\\\", \\\"azureml-pipeline-core\\\": \\\"1.0.74\\\", \\\"azureml-opendatasets\\\": \\\"1.0.74\\\", \\\"azureml-model-management-sdk\\\": \\\"1.0.1b6.post1\\\", \\\"azureml-mlflow\\\": \\\"1.0.74\\\", \\\"azureml-interpret\\\": \\\"1.0.74\\\", \\\"azureml-explain-model\\\": \\\"1.0.74\\\", \\\"azureml-defaults\\\": \\\"1.0.74\\\", \\\"azureml-dataprep\\\": \\\"1.1.30\\\", \\\"azureml-dataprep-native\\\": \\\"13.1.0\\\", \\\"azureml-datadrift\\\": \\\"1.0.74\\\", \\\"azureml-core\\\": \\\"1.0.74\\\", \\\"azureml-contrib-services\\\": \\\"1.0.74\\\", \\\"azureml-contrib-server\\\": \\\"1.0.74\\\", \\\"azureml-contrib-reinforcementlearning\\\": \\\"0.1.0.5919674\\\", \\\"azureml-contrib-opendatasets\\\": \\\"1.0.45\\\", \\\"azureml-contrib-notebook\\\": \\\"1.0.74\\\", \\\"azureml-contrib-interpret\\\": \\\"1.0.74\\\", \\\"azureml-contrib-datadrift\\\": \\\"1.0.74\\\", \\\"azureml-automl-core\\\": \\\"1.0.74\\\"}\", \"ProblemInfoJsonString\": \"{\\\"dataset_num_categorical\\\": 0, \\\"is_sparse\\\": false, \\\"subsampling\\\": false, \\\"dataset_classes\\\": 10, \\\"dataset_features\\\": 64, \\\"dataset_samples\\\": 1697, \\\"single_frequency_class_detected\\\": false}\"}, \"tags\": {\"model_explain_run\": \"best_run\", \"experiment_status\": \"ModelSelection\", \"experiment_status_descr\": \"Beginning model selection.\", \"dynamic_whitelisting_iterations\": \"<20>;\"}, \"end_time_utc\": \"2019-11-22T09:55:46.318327Z\", \"status\": \"Completed\", \"log_files\": {}, \"log_groups\": [], \"run_duration\": \"0:06:13\"}, \"child_runs\": [{\"run_id\": \"AutoML_d62b9716-907f-43c7-83d8-6e8443e8e7d6_0\", \"run_number\": 85, \"metric\": null, \"status\": \"Completed\", \"run_type\": null, \"training_percent\": \"100\", \"start_time\": \"2019-11-22T09:49:35.250371Z\", \"end_time\": \"2019-11-22T09:49:47.166835Z\", \"created_time\": \"2019-11-22T09:49:35.144452Z\", \"created_time_dt\": \"2019-11-22T09:49:35.144452Z\", \"duration\": \"0:00:12\", \"iteration\": \"0\", \"goal\": \"AUC_weighted_max\", \"run_name\": \"StandardScalerWrapper, SGD\", \"run_properties\": \"alpha=2.653134693877551, class_weight=None, eta0=0.0001,\\n           fit_intercept=True, l1_ratio=0.36734693877551017,\\n           learning_rate='constant', loss='modified_huber', max_iter=1000,\\n           n_jobs=1, penalty='none', power_t=0.1111111111111111,\\n           random_state=None, tol=0.001\", \"primary_metric\": 0.99415212, \"best_metric\": 0.99415212}, {\"run_id\": \"AutoML_d62b9716-907f-43c7-83d8-6e8443e8e7d6_1\", \"run_number\": 86, \"metric\": null, \"status\": \"Completed\", \"run_type\": null, \"training_percent\": \"100\", \"start_time\": \"2019-11-22T09:49:48.29011Z\", \"end_time\": \"2019-11-22T09:50:01.210226Z\", \"created_time\": \"2019-11-22T09:49:48.175768Z\", \"created_time_dt\": \"2019-11-22T09:49:48.175768Z\", \"duration\": \"0:00:13\", \"iteration\": \"1\", \"goal\": \"AUC_weighted_max\", \"run_name\": \"StandardScalerWrapper, SGD\", \"run_properties\": \"alpha=1.4286571428571428, class_weight=None, eta0=0.01,\\n           fit_intercept=True, l1_ratio=0.7551020408163265,\\n           learning_rate='constant', loss='log', max_iter=1000, n_jobs=1,\\n           penalty='none', power_t=0.4444444444444444, random_state=None,\\n           tol=0.001\", \"primary_metric\": 0.99694681, \"best_metric\": 0.99694681}, {\"run_id\": \"AutoML_d62b9716-907f-43c7-83d8-6e8443e8e7d6_2\", \"run_number\": 87, \"metric\": null, \"status\": \"Completed\", \"run_type\": null, \"training_percent\": \"100\", \"start_time\": \"2019-11-22T09:50:02.352611Z\", \"end_time\": \"2019-11-22T09:50:14.840493Z\", \"created_time\": \"2019-11-22T09:50:02.243667Z\", \"created_time_dt\": \"2019-11-22T09:50:02.243667Z\", \"duration\": \"0:00:12\", \"iteration\": \"2\", \"goal\": \"AUC_weighted_max\", \"run_name\": \"MinMaxScaler, LightGBM\", \"run_properties\": \"boosting_type='goss', class_weight=None,\\n          colsample_bytree=0.7922222222222222, importance_type='split',\\n          learning_rate=0.1, max_bin=170, max_depth=4,\\n          min_child_samples=65, min_child_weight=4,\\n          min_split_gain=0.8421052631578947, n_estimators=50, n_jobs=1,\\n          num_leaves=62, objective=None, random_state=None,\\n          reg_alpha=0.7894736842105263, reg_lambda=0.15789473684210525,\\n          silent=True, subsample=1, subsample_for_bin=200000,\\n          subsample_freq=0, verbose=-10\", \"primary_metric\": 0.99765641, \"best_metric\": 0.99765641}, {\"run_id\": \"AutoML_d62b9716-907f-43c7-83d8-6e8443e8e7d6_3\", \"run_number\": 88, \"metric\": null, \"status\": \"Completed\", \"run_type\": null, \"training_percent\": \"100\", \"start_time\": \"2019-11-22T09:50:15.934839Z\", \"end_time\": \"2019-11-22T09:50:28.056114Z\", \"created_time\": \"2019-11-22T09:50:15.83568Z\", \"created_time_dt\": \"2019-11-22T09:50:15.83568Z\", \"duration\": \"0:00:12\", \"iteration\": \"3\", \"goal\": \"AUC_weighted_max\", \"run_name\": \"StandardScalerWrapper, SGD\", \"run_properties\": \"alpha=0.0001, class_weight='balanced', eta0=0.0001,\\n           fit_intercept=False, l1_ratio=0.3469387755102041,\\n           learning_rate='constant', loss='modified_huber', max_iter=1000,\\n           n_jobs=1, penalty='l2', power_t=0.2222222222222222,\\n           random_state=None, tol=0.01\", \"primary_metric\": 0.98921752, \"best_metric\": 0.99765641}, {\"run_id\": \"AutoML_d62b9716-907f-43c7-83d8-6e8443e8e7d6_4\", \"run_number\": 89, \"metric\": null, \"status\": \"Completed\", \"run_type\": null, \"training_percent\": \"100\", \"start_time\": \"2019-11-22T09:50:29.228003Z\", \"end_time\": \"2019-11-22T09:50:42.28498Z\", \"created_time\": \"2019-11-22T09:50:29.126782Z\", \"created_time_dt\": \"2019-11-22T09:50:29.126782Z\", \"duration\": \"0:00:13\", \"iteration\": \"4\", \"goal\": \"AUC_weighted_max\", \"run_name\": \"StandardScalerWrapper, ExtremeRandomTrees\", \"run_properties\": \"bootstrap=True, class_weight=None, criterion='entropy',\\n           max_depth=None, max_features='sqrt', max_leaf_nodes=None,\\n           min_impurity_decrease=0.0, min_impurity_split=None,\\n           min_samples_leaf=0.01, min_samples_split=0.01,\\n           min_weight_fraction_leaf=0.0, n_estimators=100, n_jobs=1,\\n           oob_score=False, random_state=None, verbose=0, warm_start=False\", \"primary_metric\": 0.99613866, \"best_metric\": 0.99765641}, {\"run_id\": \"AutoML_d62b9716-907f-43c7-83d8-6e8443e8e7d6_5\", \"run_number\": 90, \"metric\": null, \"status\": \"Completed\", \"run_type\": null, \"training_percent\": \"100\", \"start_time\": \"2019-11-22T09:50:43.338684Z\", \"end_time\": \"2019-11-22T09:50:56.584921Z\", \"created_time\": \"2019-11-22T09:50:43.238466Z\", \"created_time_dt\": \"2019-11-22T09:50:43.238466Z\", \"duration\": \"0:00:13\", \"iteration\": \"5\", \"goal\": \"AUC_weighted_max\", \"run_name\": \"StandardScalerWrapper, LightGBM\", \"run_properties\": \"boosting_type='gbdt', class_weight=None,\\n          colsample_bytree=0.6933333333333332, importance_type='split',\\n          learning_rate=0.07894947368421053, max_bin=240, max_depth=3,\\n          min_child_samples=30, min_child_weight=6,\\n          min_split_gain=0.631578947368421, n_estimators=50, n_jobs=1,\\n          num_leaves=65, objective=None, random_state=None,\\n          reg_alpha=0.5789473684210527, reg_lambda=0.631578947368421,\\n          silent=True, subsample=0.3963157894736842,\\n          subsample_for_bin=200000, subsample_freq=0, verbose=-10\", \"primary_metric\": 0.99738858, \"best_metric\": 0.99765641}, {\"run_id\": \"AutoML_d62b9716-907f-43c7-83d8-6e8443e8e7d6_6\", \"run_number\": 91, \"metric\": null, \"status\": \"Completed\", \"run_type\": null, \"training_percent\": \"100\", \"start_time\": \"2019-11-22T09:50:57.740703Z\", \"end_time\": \"2019-11-22T09:51:09.585967Z\", \"created_time\": \"2019-11-22T09:50:57.630613Z\", \"created_time_dt\": \"2019-11-22T09:50:57.630613Z\", \"duration\": \"0:00:11\", \"iteration\": \"6\", \"goal\": \"AUC_weighted_max\", \"run_name\": \"StandardScalerWrapper, SGD\", \"run_properties\": \"alpha=1.2245775510204082, class_weight=None, eta0=0.01,\\n           fit_intercept=True, l1_ratio=0.2040816326530612,\\n           learning_rate='constant', loss='log', max_iter=1000, n_jobs=1,\\n           penalty='none', power_t=0.1111111111111111, random_state=None,\\n           tol=0.01\", \"primary_metric\": 0.9962797, \"best_metric\": 0.99765641}, {\"run_id\": \"AutoML_d62b9716-907f-43c7-83d8-6e8443e8e7d6_7\", \"run_number\": 92, \"metric\": null, \"status\": \"Completed\", \"run_type\": null, \"training_percent\": \"100\", \"start_time\": \"2019-11-22T09:51:12.345613Z\", \"end_time\": \"2019-11-22T09:51:24.535676Z\", \"created_time\": \"2019-11-22T09:51:12.234764Z\", \"created_time_dt\": \"2019-11-22T09:51:12.234764Z\", \"duration\": \"0:00:12\", \"iteration\": \"7\", \"goal\": \"AUC_weighted_max\", \"run_name\": \"MinMaxScaler, RandomForest\", \"run_properties\": \"bootstrap=False, class_weight='balanced',\\n            criterion='entropy', max_depth=None, max_features='sqrt',\\n            max_leaf_nodes=None, min_impurity_decrease=0.0,\\n            min_impurity_split=None, min_samples_leaf=0.06157894736842105,\\n            min_samples_split=0.15052631578947367,\\n            min_weight_fraction_leaf=0.0, n_estimators=25, n_jobs=1,\\n            oob_score=False, random_state=None, verbose=0,\\n            warm_start=False\", \"primary_metric\": 0.98574475, \"best_metric\": 0.99765641}, {\"run_id\": \"AutoML_d62b9716-907f-43c7-83d8-6e8443e8e7d6_8\", \"run_number\": 93, \"metric\": null, \"status\": \"Completed\", \"run_type\": null, \"training_percent\": \"100\", \"start_time\": \"2019-11-22T09:51:25.679806Z\", \"end_time\": \"2019-11-22T09:51:37.479361Z\", \"created_time\": \"2019-11-22T09:51:25.581166Z\", \"created_time_dt\": \"2019-11-22T09:51:25.581166Z\", \"duration\": \"0:00:11\", \"iteration\": \"8\", \"goal\": \"AUC_weighted_max\", \"run_name\": \"StandardScalerWrapper, SGD\", \"run_properties\": \"alpha=4.693930612244897, class_weight=None, eta0=1e-05,\\n           fit_intercept=False, l1_ratio=0.6122448979591836,\\n           learning_rate='optimal', loss='log', max_iter=1000, n_jobs=1,\\n           penalty='l2', power_t=0.2222222222222222, random_state=None,\\n           tol=0.001\", \"primary_metric\": 0.98376505, \"best_metric\": 0.99765641}, {\"run_id\": \"AutoML_d62b9716-907f-43c7-83d8-6e8443e8e7d6_9\", \"run_number\": 94, \"metric\": null, \"status\": \"Completed\", \"run_type\": null, \"training_percent\": \"100\", \"start_time\": \"2019-11-22T09:51:38.631848Z\", \"end_time\": \"2019-11-22T09:51:50.234822Z\", \"created_time\": \"2019-11-22T09:51:38.529663Z\", \"created_time_dt\": \"2019-11-22T09:51:38.529663Z\", \"duration\": \"0:00:11\", \"iteration\": \"9\", \"goal\": \"AUC_weighted_max\", \"run_name\": \"MinMaxScaler, SGD\", \"run_properties\": \"alpha=0.0001, class_weight='balanced', eta0=0.001,\\n           fit_intercept=False, l1_ratio=0.16326530612244897,\\n           learning_rate='constant', loss='squared_hinge', max_iter=1000,\\n           n_jobs=1, penalty='l2', power_t=0.7777777777777777,\\n           random_state=None, tol=0.01\", \"primary_metric\": 0.99597296, \"best_metric\": 0.99765641}, {\"run_id\": \"AutoML_d62b9716-907f-43c7-83d8-6e8443e8e7d6_10\", \"run_number\": 95, \"metric\": null, \"status\": \"Completed\", \"run_type\": null, \"training_percent\": \"100\", \"start_time\": \"2019-11-22T09:51:51.304908Z\", \"end_time\": \"2019-11-22T09:52:03.272487Z\", \"created_time\": \"2019-11-22T09:51:51.160198Z\", \"created_time_dt\": \"2019-11-22T09:51:51.160198Z\", \"duration\": \"0:00:12\", \"iteration\": \"10\", \"goal\": \"AUC_weighted_max\", \"run_name\": \"MinMaxScaler, RandomForest\", \"run_properties\": \"bootstrap=True, class_weight=None, criterion='gini',\\n            max_depth=None, max_features='sqrt', max_leaf_nodes=None,\\n            min_impurity_decrease=0.0, min_impurity_split=None,\\n            min_samples_leaf=0.035789473684210524, min_samples_split=0.01,\\n            min_weight_fraction_leaf=0.0, n_estimators=10, n_jobs=1,\\n            oob_score=True, random_state=None, verbose=0, warm_start=False\", \"primary_metric\": 0.98241638, \"best_metric\": 0.99765641}, {\"run_id\": \"AutoML_d62b9716-907f-43c7-83d8-6e8443e8e7d6_11\", \"run_number\": 96, \"metric\": null, \"status\": \"Completed\", \"run_type\": null, \"training_percent\": \"100\", \"start_time\": \"2019-11-22T09:52:10.887215Z\", \"end_time\": \"2019-11-22T09:52:25.462401Z\", \"created_time\": \"2019-11-22T09:52:10.232818Z\", \"created_time_dt\": \"2019-11-22T09:52:10.232818Z\", \"duration\": \"0:00:15\", \"iteration\": \"11\", \"goal\": \"AUC_weighted_max\", \"run_name\": \"MaxAbsScaler, LightGBM\", \"run_properties\": \"boosting_type='goss', class_weight=None,\\n          colsample_bytree=0.99, importance_type='split',\\n          learning_rate=0.1, max_bin=40, max_depth=10,\\n          min_child_samples=47, min_child_weight=0,\\n          min_split_gain=0.7368421052631579, n_estimators=10, n_jobs=1,\\n          num_leaves=125, objective=None, random_state=None,\\n          reg_alpha=0.8421052631578947, reg_lambda=0.8421052631578947,\\n          silent=True, subsample=1, subsample_for_bin=200000,\\n          subsample_freq=0, verbose=-10\", \"primary_metric\": 0.98920468, \"best_metric\": 0.99765641}, {\"run_id\": \"AutoML_d62b9716-907f-43c7-83d8-6e8443e8e7d6_12\", \"run_number\": 97, \"metric\": null, \"status\": \"Completed\", \"run_type\": null, \"training_percent\": \"100\", \"start_time\": \"2019-11-22T09:52:26.837317Z\", \"end_time\": \"2019-11-22T09:52:40.756886Z\", \"created_time\": \"2019-11-22T09:52:26.713461Z\", \"created_time_dt\": \"2019-11-22T09:52:26.713461Z\", \"duration\": \"0:00:14\", \"iteration\": \"12\", \"goal\": \"AUC_weighted_max\", \"run_name\": \"MinMaxScaler, LightGBM\", \"run_properties\": \"boosting_type='gbdt', class_weight=None,\\n          colsample_bytree=0.8911111111111111, importance_type='split',\\n          learning_rate=0.08947473684210526, max_bin=170, max_depth=10,\\n          min_child_samples=129, min_child_weight=4,\\n          min_split_gain=0.5263157894736842, n_estimators=100, n_jobs=1,\\n          num_leaves=164, objective=None, random_state=None, reg_alpha=1,\\n          reg_lambda=0, silent=True, subsample=0.09947368421052633,\\n          subsample_for_bin=200000, subsample_freq=0, verbose=-10\", \"primary_metric\": 0.99819442, \"best_metric\": 0.99819442}, {\"run_id\": \"AutoML_d62b9716-907f-43c7-83d8-6e8443e8e7d6_13\", \"run_number\": 98, \"metric\": null, \"status\": \"Completed\", \"run_type\": null, \"training_percent\": \"100\", \"start_time\": \"2019-11-22T09:52:41.760466Z\", \"end_time\": \"2019-11-22T09:52:53.954751Z\", \"created_time\": \"2019-11-22T09:52:41.655558Z\", \"created_time_dt\": \"2019-11-22T09:52:41.655558Z\", \"duration\": \"0:00:12\", \"iteration\": \"13\", \"goal\": \"AUC_weighted_max\", \"run_name\": \"MinMaxScaler, ExtremeRandomTrees\", \"run_properties\": \"bootstrap=True, class_weight=None, criterion='gini',\\n           max_depth=None, max_features=0.9, max_leaf_nodes=None,\\n           min_impurity_decrease=0.0, min_impurity_split=None,\\n           min_samples_leaf=0.01, min_samples_split=0.15052631578947367,\\n           min_weight_fraction_leaf=0.0, n_estimators=10, n_jobs=1,\\n           oob_score=True, random_state=None, verbose=0, warm_start=False\", \"primary_metric\": 0.96508038, \"best_metric\": 0.99819442}, {\"run_id\": \"AutoML_d62b9716-907f-43c7-83d8-6e8443e8e7d6_14\", \"run_number\": 99, \"metric\": null, \"status\": \"Completed\", \"run_type\": null, \"training_percent\": \"100\", \"start_time\": \"2019-11-22T09:52:55.240385Z\", \"end_time\": \"2019-11-22T09:53:07.007924Z\", \"created_time\": \"2019-11-22T09:52:55.126842Z\", \"created_time_dt\": \"2019-11-22T09:52:55.126842Z\", \"duration\": \"0:00:11\", \"iteration\": \"14\", \"goal\": \"AUC_weighted_max\", \"run_name\": \"MinMaxScaler, LightGBM\", \"run_properties\": \"boosting_type='gbdt', class_weight=None,\\n          colsample_bytree=0.8911111111111111, importance_type='split',\\n          learning_rate=0.07894947368421053, max_bin=310, max_depth=10,\\n          min_child_samples=30, min_child_weight=9,\\n          min_split_gain=0.5263157894736842, n_estimators=10, n_jobs=1,\\n          num_leaves=182, objective=None, random_state=None,\\n          reg_alpha=0.5263157894736842, reg_lambda=0.3157894736842105,\\n          silent=True, subsample=0.19842105263157894,\\n          subsample_for_bin=200000, subsample_freq=0, verbose=-10\", \"primary_metric\": 0.98951878, \"best_metric\": 0.99819442}, {\"run_id\": \"AutoML_d62b9716-907f-43c7-83d8-6e8443e8e7d6_15\", \"run_number\": 100, \"metric\": null, \"status\": \"Completed\", \"run_type\": null, \"training_percent\": \"100\", \"start_time\": \"2019-11-22T09:53:08.072706Z\", \"end_time\": \"2019-11-22T09:53:23.659991Z\", \"created_time\": \"2019-11-22T09:53:07.950371Z\", \"created_time_dt\": \"2019-11-22T09:53:07.950371Z\", \"duration\": \"0:00:15\", \"iteration\": \"15\", \"goal\": \"AUC_weighted_max\", \"run_name\": \"StandardScalerWrapper, BernoulliNaiveBayes\", \"run_properties\": \"alpha=0.42105263157894735, class_prior=None, fit_prior=False,\\n     model='Multinomial'\", \"primary_metric\": 0.98401286, \"best_metric\": 0.99819442}, {\"run_id\": \"AutoML_d62b9716-907f-43c7-83d8-6e8443e8e7d6_16\", \"run_number\": 101, \"metric\": null, \"status\": \"Completed\", \"run_type\": null, \"training_percent\": \"100\", \"start_time\": \"2019-11-22T09:53:25.854689Z\", \"end_time\": \"2019-11-22T09:53:39.394119Z\", \"created_time\": \"2019-11-22T09:53:25.749159Z\", \"created_time_dt\": \"2019-11-22T09:53:25.749159Z\", \"duration\": \"0:00:13\", \"iteration\": \"16\", \"goal\": \"AUC_weighted_max\", \"run_name\": \"StandardScalerWrapper, LogisticRegression\", \"run_properties\": \"C=75.43120063354607, class_weight='balanced', dual=False,\\n          fit_intercept=True, intercept_scaling=1, max_iter=100,\\n          multi_class='ovr', n_jobs=1, penalty='l2', random_state=None,\\n          solver='lbfgs', tol=0.0001, verbose=0, warm_start=False\", \"primary_metric\": 0.99598713, \"best_metric\": 0.99819442}, {\"run_id\": \"AutoML_d62b9716-907f-43c7-83d8-6e8443e8e7d6_17\", \"run_number\": 102, \"metric\": null, \"status\": \"Completed\", \"run_type\": null, \"training_percent\": \"100\", \"start_time\": \"2019-11-22T09:53:41.340672Z\", \"end_time\": \"2019-11-22T09:53:55.619453Z\", \"created_time\": \"2019-11-22T09:53:41.240014Z\", \"created_time_dt\": \"2019-11-22T09:53:41.240014Z\", \"duration\": \"0:00:14\", \"iteration\": \"17\", \"goal\": \"AUC_weighted_max\", \"run_name\": \"RobustScaler, LightGBM\", \"run_properties\": \"boosting_type='gbdt', class_weight=None,\\n          colsample_bytree=0.99, importance_type='split',\\n          learning_rate=0.05789894736842106, max_bin=200, max_depth=5,\\n          min_child_samples=100, min_child_weight=3,\\n          min_split_gain=0.894736842105263, n_estimators=200, n_jobs=1,\\n          num_leaves=134, objective=None, random_state=None,\\n          reg_alpha=0.894736842105263, reg_lambda=0.7894736842105263,\\n          silent=True, subsample=0.99, subsample_for_bin=200000,\\n          subsample_freq=0, verbose=-10\", \"primary_metric\": 0.99779937, \"best_metric\": 0.99819442}, {\"run_id\": \"AutoML_d62b9716-907f-43c7-83d8-6e8443e8e7d6_18\", \"run_number\": 103, \"metric\": null, \"status\": \"Completed\", \"run_type\": null, \"training_percent\": \"100\", \"start_time\": \"2019-11-22T09:53:57.689773Z\", \"end_time\": \"2019-11-22T09:54:11.693261Z\", \"created_time\": \"2019-11-22T09:53:57.52273Z\", \"created_time_dt\": \"2019-11-22T09:53:57.52273Z\", \"duration\": \"0:00:14\", \"iteration\": \"18\", \"goal\": \"AUC_weighted_max\", \"run_name\": \"MaxAbsScaler, LightGBM\", \"run_properties\": \"boosting_type='gbdt', class_weight=None,\\n          colsample_bytree=0.7922222222222222, importance_type='split',\\n          learning_rate=0.06842421052631578, max_bin=190, max_depth=4,\\n          min_child_samples=1, min_child_weight=5,\\n          min_split_gain=0.7894736842105263, n_estimators=200, n_jobs=1,\\n          num_leaves=32, objective=None, random_state=None, reg_alpha=1,\\n          reg_lambda=0.7894736842105263, silent=True,\\n          subsample=0.9405263157894738, subsample_for_bin=200000,\\n          subsample_freq=0, verbose=-10\", \"primary_metric\": 0.99803139, \"best_metric\": 0.99819442}, {\"run_id\": \"AutoML_d62b9716-907f-43c7-83d8-6e8443e8e7d6_19\", \"run_number\": 104, \"metric\": null, \"status\": \"Completed\", \"run_type\": null, \"training_percent\": \"100\", \"start_time\": \"2019-11-22T09:54:13.715522Z\", \"end_time\": \"2019-11-22T09:54:28.027574Z\", \"created_time\": \"2019-11-22T09:54:13.585225Z\", \"created_time_dt\": \"2019-11-22T09:54:13.585225Z\", \"duration\": \"0:00:14\", \"iteration\": \"19\", \"goal\": \"AUC_weighted_max\", \"run_name\": \"StandardScalerWrapper, LightGBM\", \"run_properties\": \"boosting_type='goss', class_weight=None,\\n          colsample_bytree=0.4955555555555555, importance_type='split',\\n          learning_rate=0.03158578947368421, max_bin=160, max_depth=9,\\n          min_child_samples=135, min_child_weight=3,\\n          min_split_gain=0.894736842105263, n_estimators=200, n_jobs=1,\\n          num_leaves=218, objective=None, random_state=None,\\n          reg_alpha=0.47368421052631576, reg_lambda=0.15789473684210525,\\n          silent=True, subsample=1, subsample_for_bin=200000,\\n          subsample_freq=0, verbose=-10\", \"primary_metric\": 0.99634915, \"best_metric\": 0.99819442}, {\"run_id\": \"AutoML_d62b9716-907f-43c7-83d8-6e8443e8e7d6_20\", \"run_number\": 105, \"metric\": null, \"status\": \"Completed\", \"run_type\": null, \"training_percent\": \"100\", \"start_time\": \"2019-11-22T09:54:30.091273Z\", \"end_time\": \"2019-11-22T09:54:43.929944Z\", \"created_time\": \"2019-11-22T09:54:29.964116Z\", \"created_time_dt\": \"2019-11-22T09:54:29.964116Z\", \"duration\": \"0:00:13\", \"iteration\": \"20\", \"goal\": \"AUC_weighted_max\", \"run_name\": \"RobustScaler, LightGBM\", \"run_properties\": \"boosting_type='gbdt', class_weight=None,\\n          colsample_bytree=0.8911111111111111, importance_type='split',\\n          learning_rate=0.03158578947368421, max_bin=80, max_depth=7,\\n          min_child_samples=164, min_child_weight=7,\\n          min_split_gain=0.3157894736842105, n_estimators=100, n_jobs=1,\\n          num_leaves=86, objective=None, random_state=None,\\n          reg_alpha=0.5789473684210527, reg_lambda=0.3684210526315789,\\n          silent=True, subsample=0.19842105263157894,\\n          subsample_for_bin=200000, subsample_freq=0, verbose=-10\", \"primary_metric\": 0.99410353, \"best_metric\": 0.99819442}, {\"run_id\": \"AutoML_d62b9716-907f-43c7-83d8-6e8443e8e7d6_21\", \"run_number\": 106, \"metric\": null, \"status\": \"Completed\", \"run_type\": null, \"training_percent\": \"100\", \"start_time\": \"2019-11-22T09:54:44.488664Z\", \"end_time\": \"2019-11-22T09:55:06.352079Z\", \"created_time\": \"2019-11-22T09:54:44.390557Z\", \"created_time_dt\": \"2019-11-22T09:54:44.390557Z\", \"duration\": \"0:00:21\", \"iteration\": \"21\", \"goal\": \"AUC_weighted_max\", \"run_name\": \"VotingEnsemble\", \"run_properties\": \"\", \"primary_metric\": 0.99891054, \"best_metric\": 0.99891054}, {\"run_id\": \"AutoML_d62b9716-907f-43c7-83d8-6e8443e8e7d6_22\", \"run_number\": 107, \"metric\": null, \"status\": \"Completed\", \"run_type\": null, \"training_percent\": \"100\", \"start_time\": \"2019-11-22T09:55:06.991988Z\", \"end_time\": \"2019-11-22T09:55:45.633616Z\", \"created_time\": \"2019-11-22T09:55:06.878744Z\", \"created_time_dt\": \"2019-11-22T09:55:06.878744Z\", \"duration\": \"0:00:38\", \"iteration\": \"22\", \"goal\": \"AUC_weighted_max\", \"run_name\": \"StackEnsemble\", \"run_properties\": \"\", \"primary_metric\": 0.97824931, \"best_metric\": 0.99891054}], \"children_metrics\": {\"categories\": [0], \"series\": {\"norm_macro_recall\": [{\"categories\": [\"0\", \"1\", \"2\", \"3\", \"4\", \"5\", \"6\", \"7\", \"8\", \"9\", \"10\", \"11\", \"12\", \"13\", \"14\", \"15\", \"16\", \"17\", \"18\", \"19\", \"20\", \"21\", \"22\"], \"mode\": \"markers\", \"name\": \"norm_macro_recall\", \"stepped\": false, \"type\": \"scatter\", \"data\": [0.9427276830582949, 0.9551507560748834, 0.928581417578917, 0.8999733494624554, 0.9426627941380379, 0.9333096854115723, 0.9480976125975081, 0.850072910824744, 0.8528158386301139, 0.9333035851010835, 0.8267391005714204, 0.8680824486812192, 0.9386471396963203, 0.7268740113897101, 0.8773808038851526, 0.8642889548320866, 0.9435108374817117, 0.9351806567774262, 0.9401920678617851, 0.9125103285613613, 0.8930351266831771, 0.9592297325420268, 0.8474808694307363]}, {\"categories\": [\"0\", \"1\", \"2\", \"3\", \"4\", \"5\", \"6\", \"7\", \"8\", \"9\", \"10\", \"11\", \"12\", \"13\", \"14\", \"15\", \"16\", \"17\", \"18\", \"19\", \"20\", \"21\", \"22\"], \"mode\": \"lines\", \"name\": \"norm_macro_recall_max\", \"stepped\": true, \"type\": \"scatter\", \"data\": [0.9427276830582949, 0.9551507560748834, 0.9551507560748834, 0.9551507560748834, 0.9551507560748834, 0.9551507560748834, 0.9551507560748834, 0.9551507560748834, 0.9551507560748834, 0.9551507560748834, 0.9551507560748834, 0.9551507560748834, 0.9551507560748834, 0.9551507560748834, 0.9551507560748834, 0.9551507560748834, 0.9551507560748834, 0.9551507560748834, 0.9551507560748834, 0.9551507560748834, 0.9551507560748834, 0.9592297325420268, 0.9592297325420268]}], \"precision_score_micro\": [{\"categories\": [\"0\", \"1\", \"2\", \"3\", \"4\", \"5\", \"6\", \"7\", \"8\", \"9\", \"10\", \"11\", \"12\", \"13\", \"14\", \"15\", \"16\", \"17\", \"18\", \"19\", \"20\", \"21\", \"22\"], \"mode\": \"markers\", \"name\": \"precision_score_micro\", \"stepped\": false, \"type\": \"scatter\", \"data\": [0.9475572511127094, 0.9587552247829305, 0.9351824634916664, 0.9092456507916654, 0.9487424038692058, 0.9393101723005722, 0.9522749304230902, 0.8680102567309796, 0.8679977485224679, 0.9387212441498066, 0.8444427071932622, 0.8809604219435672, 0.9440226398574064, 0.7495596068253124, 0.8880317291555917, 0.8780314164503787, 0.9481472216141844, 0.9410769567528691, 0.9452004961589376, 0.92103567966478, 0.903939043330519, 0.9628808488904177, 0.8498045592420026]}, {\"categories\": [\"0\", \"1\", \"2\", \"3\", \"4\", \"5\", \"6\", \"7\", \"8\", \"9\", \"10\", \"11\", \"12\", \"13\", \"14\", \"15\", \"16\", \"17\", \"18\", \"19\", \"20\", \"21\", \"22\"], \"mode\": \"lines\", \"name\": \"precision_score_micro_max\", \"stepped\": true, \"type\": \"scatter\", \"data\": [0.9475572511127094, 0.9587552247829305, 0.9587552247829305, 0.9587552247829305, 0.9587552247829305, 0.9587552247829305, 0.9587552247829305, 0.9587552247829305, 0.9587552247829305, 0.9587552247829305, 0.9587552247829305, 0.9587552247829305, 0.9587552247829305, 0.9587552247829305, 0.9587552247829305, 0.9587552247829305, 0.9587552247829305, 0.9587552247829305, 0.9587552247829305, 0.9587552247829305, 0.9587552247829305, 0.9628808488904177, 0.9628808488904177]}], \"f1_score_weighted\": [{\"categories\": [\"0\", \"1\", \"2\", \"3\", \"4\", \"5\", \"6\", \"7\", \"8\", \"9\", \"10\", \"11\", \"12\", \"13\", \"14\", \"15\", \"16\", \"17\", \"18\", \"19\", \"20\", \"21\", \"22\"], \"mode\": \"markers\", \"name\": \"f1_score_weighted\", \"stepped\": false, \"type\": \"scatter\", \"data\": [0.9473528964429679, 0.9587324739752128, 0.9352181262455677, 0.907693476457838, 0.9486902915598149, 0.9395483949197097, 0.9520604460266341, 0.8638741057619669, 0.8612742042750959, 0.9383539602662774, 0.8424578070630316, 0.8805775212956061, 0.9441089329021843, 0.7226784927930846, 0.8878767955476898, 0.8793633498413302, 0.948196441648585, 0.941171206206402, 0.9452603071675179, 0.9209828830820581, 0.9038423166558807, 0.962918881281302, 0.8190915161771292]}, {\"categories\": [\"0\", \"1\", \"2\", \"3\", \"4\", \"5\", \"6\", \"7\", \"8\", \"9\", \"10\", \"11\", \"12\", \"13\", \"14\", \"15\", \"16\", \"17\", \"18\", \"19\", \"20\", \"21\", \"22\"], \"mode\": \"lines\", \"name\": \"f1_score_weighted_max\", \"stepped\": true, \"type\": \"scatter\", \"data\": [0.9473528964429679, 0.9587324739752128, 0.9587324739752128, 0.9587324739752128, 0.9587324739752128, 0.9587324739752128, 0.9587324739752128, 0.9587324739752128, 0.9587324739752128, 0.9587324739752128, 0.9587324739752128, 0.9587324739752128, 0.9587324739752128, 0.9587324739752128, 0.9587324739752128, 0.9587324739752128, 0.9587324739752128, 0.9587324739752128, 0.9587324739752128, 0.9587324739752128, 0.9587324739752128, 0.962918881281302, 0.962918881281302]}], \"weighted_accuracy\": [{\"categories\": [\"0\", \"1\", \"2\", \"3\", \"4\", \"5\", \"6\", \"7\", \"8\", \"9\", \"10\", \"11\", \"12\", \"13\", \"14\", \"15\", \"16\", \"17\", \"18\", \"19\", \"20\", \"21\", \"22\"], \"mode\": \"markers\", \"name\": \"weighted_accuracy\", \"stepped\": false, \"type\": \"scatter\", \"data\": [0.9465830511821544, 0.9578450797212527, 0.9345605875314177, 0.908578181296191, 0.9490288483097703, 0.9385547528652828, 0.951222536313126, 0.8708031577787381, 0.8684458718013502, 0.9374663894380131, 0.8448632017826232, 0.8805410190848404, 0.9431394556006246, 0.7445118231298501, 0.886246780958252, 0.878146157313553, 0.9471254983097582, 0.9403725616117745, 0.9441210709261085, 0.9206553241491321, 0.9039733049498243, 0.9623910555794472, 0.8359696082462946]}, {\"categories\": [\"0\", \"1\", \"2\", \"3\", \"4\", \"5\", \"6\", \"7\", \"8\", \"9\", \"10\", \"11\", \"12\", \"13\", \"14\", \"15\", \"16\", \"17\", \"18\", \"19\", \"20\", \"21\", \"22\"], \"mode\": \"lines\", \"name\": \"weighted_accuracy_max\", \"stepped\": true, \"type\": \"scatter\", \"data\": [0.9465830511821544, 0.9578450797212527, 0.9578450797212527, 0.9578450797212527, 0.9578450797212527, 0.9578450797212527, 0.9578450797212527, 0.9578450797212527, 0.9578450797212527, 0.9578450797212527, 0.9578450797212527, 0.9578450797212527, 0.9578450797212527, 0.9578450797212527, 0.9578450797212527, 0.9578450797212527, 0.9578450797212527, 0.9578450797212527, 0.9578450797212527, 0.9578450797212527, 0.9578450797212527, 0.9623910555794472, 0.9623910555794472]}], \"precision_score_macro\": [{\"categories\": [\"0\", \"1\", \"2\", \"3\", \"4\", \"5\", \"6\", \"7\", \"8\", \"9\", \"10\", \"11\", \"12\", \"13\", \"14\", \"15\", \"16\", \"17\", \"18\", \"19\", \"20\", \"21\", \"22\"], \"mode\": \"markers\", \"name\": \"precision_score_macro\", \"stepped\": false, \"type\": \"scatter\", \"data\": [0.9488480924004433, 0.9598345823557995, 0.9370791431812971, 0.9095912598636046, 0.9490360584973363, 0.9404746020424395, 0.9532402992516574, 0.8701169144439304, 0.8746651243311024, 0.9397773187338968, 0.845321686310467, 0.8823904484861208, 0.9451772002742137, 0.775516784283481, 0.8903933860570218, 0.8836095764478022, 0.9495512038869466, 0.9420721955941233, 0.9469498888211141, 0.9226798810921482, 0.9061561609388837, 0.9639535587920717, 0.8137262606287295]}, {\"categories\": [\"0\", \"1\", \"2\", \"3\", \"4\", \"5\", \"6\", \"7\", \"8\", \"9\", \"10\", \"11\", \"12\", \"13\", \"14\", \"15\", \"16\", \"17\", \"18\", \"19\", \"20\", \"21\", \"22\"], \"mode\": \"lines\", \"name\": \"precision_score_macro_max\", \"stepped\": true, \"type\": \"scatter\", \"data\": [0.9488480924004433, 0.9598345823557995, 0.9598345823557995, 0.9598345823557995, 0.9598345823557995, 0.9598345823557995, 0.9598345823557995, 0.9598345823557995, 0.9598345823557995, 0.9598345823557995, 0.9598345823557995, 0.9598345823557995, 0.9598345823557995, 0.9598345823557995, 0.9598345823557995, 0.9598345823557995, 0.9598345823557995, 0.9598345823557995, 0.9598345823557995, 0.9598345823557995, 0.9598345823557995, 0.9639535587920717, 0.9639535587920717]}], \"precision_score_weighted\": [{\"categories\": [\"0\", \"1\", \"2\", \"3\", \"4\", \"5\", \"6\", \"7\", \"8\", \"9\", \"10\", \"11\", \"12\", \"13\", \"14\", \"15\", \"16\", \"17\", \"18\", \"19\", \"20\", \"21\", \"22\"], \"mode\": \"markers\", \"name\": \"precision_score_weighted\", \"stepped\": false, \"type\": \"scatter\", \"data\": [0.9489148164743418, 0.9603622994632511, 0.9376858100407213, 0.9110653499312343, 0.949845089645451, 0.9416688955990408, 0.9534169776923188, 0.8710022402498993, 0.8768454907091332, 0.9403410842624664, 0.847588479213193, 0.8836184895698915, 0.9457565771494146, 0.781919527285709, 0.8919158873110594, 0.8848756589113677, 0.9500466392269015, 0.9427813974880284, 0.9469745855454178, 0.9228128483184008, 0.9067549235562775, 0.9639503541831388, 0.8063707997739836]}, {\"categories\": [\"0\", \"1\", \"2\", \"3\", \"4\", \"5\", \"6\", \"7\", \"8\", \"9\", \"10\", \"11\", \"12\", \"13\", \"14\", \"15\", \"16\", \"17\", \"18\", \"19\", \"20\", \"21\", \"22\"], \"mode\": \"lines\", \"name\": \"precision_score_weighted_max\", \"stepped\": true, \"type\": \"scatter\", \"data\": [0.9489148164743418, 0.9603622994632511, 0.9603622994632511, 0.9603622994632511, 0.9603622994632511, 0.9603622994632511, 0.9603622994632511, 0.9603622994632511, 0.9603622994632511, 0.9603622994632511, 0.9603622994632511, 0.9603622994632511, 0.9603622994632511, 0.9603622994632511, 0.9603622994632511, 0.9603622994632511, 0.9603622994632511, 0.9603622994632511, 0.9603622994632511, 0.9603622994632511, 0.9603622994632511, 0.9639503541831388, 0.9639503541831388]}], \"balanced_accuracy\": [{\"categories\": [\"0\", \"1\", \"2\", \"3\", \"4\", \"5\", \"6\", \"7\", \"8\", \"9\", \"10\", \"11\", \"12\", \"13\", \"14\", \"15\", \"16\", \"17\", \"18\", \"19\", \"20\", \"21\", \"22\"], \"mode\": \"markers\", \"name\": \"balanced_accuracy\", \"stepped\": false, \"type\": \"scatter\", \"data\": [0.9484549147524654, 0.9596356804673952, 0.9357232758210251, 0.9099760145162099, 0.948396514724234, 0.9399787168704153, 0.9532878513377573, 0.8650656197422695, 0.8675342547671024, 0.939973226590975, 0.8440651905142783, 0.8812742038130973, 0.9447824257266882, 0.7541866102507392, 0.8896427234966372, 0.8778600593488779, 0.9491597537335404, 0.9416625910996835, 0.9461728610756066, 0.9212592957052251, 0.9037316140148594, 0.9633067592878243, 0.8627327824876626]}, {\"categories\": [\"0\", \"1\", \"2\", \"3\", \"4\", \"5\", \"6\", \"7\", \"8\", \"9\", \"10\", \"11\", \"12\", \"13\", \"14\", \"15\", \"16\", \"17\", \"18\", \"19\", \"20\", \"21\", \"22\"], \"mode\": \"lines\", \"name\": \"balanced_accuracy_max\", \"stepped\": true, \"type\": \"scatter\", \"data\": [0.9484549147524654, 0.9596356804673952, 0.9596356804673952, 0.9596356804673952, 0.9596356804673952, 0.9596356804673952, 0.9596356804673952, 0.9596356804673952, 0.9596356804673952, 0.9596356804673952, 0.9596356804673952, 0.9596356804673952, 0.9596356804673952, 0.9596356804673952, 0.9596356804673952, 0.9596356804673952, 0.9596356804673952, 0.9596356804673952, 0.9596356804673952, 0.9596356804673952, 0.9596356804673952, 0.9633067592878243, 0.9633067592878243]}], \"average_precision_score_macro\": [{\"categories\": [\"0\", \"1\", \"2\", \"3\", \"4\", \"5\", \"6\", \"7\", \"8\", \"9\", \"10\", \"11\", \"12\", \"13\", \"14\", \"15\", \"16\", \"17\", \"18\", \"19\", \"20\", \"21\", \"22\"], \"mode\": \"markers\", \"name\": \"average_precision_score_macro\", \"stepped\": false, \"type\": \"scatter\", \"data\": [0.9778037247153613, 0.9867538813529751, 0.9846845264716029, 0.9408646199474581, 0.9778803054762767, 0.9837124544260384, 0.9841803328246481, 0.9286628876020827, 0.909560276957826, 0.9780411824750107, 0.9173545932364314, 0.9487262615341147, 0.9879517197632084, 0.8491999157298934, 0.9481103853173419, 0.9179529184583651, 0.9788925871242525, 0.9858801951357292, 0.9873428650080762, 0.9775460116970964, 0.9650819267503005, 0.9926570681779587, 0.9413591616418756]}, {\"categories\": [\"0\", \"1\", \"2\", \"3\", \"4\", \"5\", \"6\", \"7\", \"8\", \"9\", \"10\", \"11\", \"12\", \"13\", \"14\", \"15\", \"16\", \"17\", \"18\", \"19\", \"20\", \"21\", \"22\"], \"mode\": \"lines\", \"name\": \"average_precision_score_macro_max\", \"stepped\": true, \"type\": \"scatter\", \"data\": [0.9778037247153613, 0.9867538813529751, 0.9867538813529751, 0.9867538813529751, 0.9867538813529751, 0.9867538813529751, 0.9867538813529751, 0.9867538813529751, 0.9867538813529751, 0.9867538813529751, 0.9867538813529751, 0.9867538813529751, 0.9879517197632084, 0.9879517197632084, 0.9879517197632084, 0.9879517197632084, 0.9879517197632084, 0.9879517197632084, 0.9879517197632084, 0.9879517197632084, 0.9879517197632084, 0.9926570681779587, 0.9926570681779587]}], \"AUC_macro\": [{\"categories\": [\"0\", \"1\", \"2\", \"3\", \"4\", \"5\", \"6\", \"7\", \"8\", \"9\", \"10\", \"11\", \"12\", \"13\", \"14\", \"15\", \"16\", \"17\", \"18\", \"19\", \"20\", \"21\", \"22\"], \"mode\": \"markers\", \"name\": \"AUC_macro\", \"stepped\": false, \"type\": \"scatter\", \"data\": [0.9940570942813284, 0.9968937392108668, 0.9976954935526967, 0.989276659095332, 0.9961365662772174, 0.9973865188586353, 0.9962322297069383, 0.985419030086331, 0.983745642496018, 0.9960778186970792, 0.9825856147974914, 0.9893930752419585, 0.9982144516589107, 0.9656574783227881, 0.9896830486105825, 0.9840436623715333, 0.9959780449021639, 0.9978149771293668, 0.9980648749860878, 0.9963979964870378, 0.9941231875567665, 0.9989045475459198, 0.9781593780095063]}, {\"categories\": [\"0\", \"1\", \"2\", \"3\", \"4\", \"5\", \"6\", \"7\", \"8\", \"9\", \"10\", \"11\", \"12\", \"13\", \"14\", \"15\", \"16\", \"17\", \"18\", \"19\", \"20\", \"21\", \"22\"], \"mode\": \"lines\", \"name\": \"AUC_macro_max\", \"stepped\": true, \"type\": \"scatter\", \"data\": [0.9940570942813284, 0.9968937392108668, 0.9976954935526967, 0.9976954935526967, 0.9976954935526967, 0.9976954935526967, 0.9976954935526967, 0.9976954935526967, 0.9976954935526967, 0.9976954935526967, 0.9976954935526967, 0.9976954935526967, 0.9982144516589107, 0.9982144516589107, 0.9982144516589107, 0.9982144516589107, 0.9982144516589107, 0.9982144516589107, 0.9982144516589107, 0.9982144516589107, 0.9982144516589107, 0.9989045475459198, 0.9989045475459198]}], \"accuracy\": [{\"categories\": [\"0\", \"1\", \"2\", \"3\", \"4\", \"5\", \"6\", \"7\", \"8\", \"9\", \"10\", \"11\", \"12\", \"13\", \"14\", \"15\", \"16\", \"17\", \"18\", \"19\", \"20\", \"21\", \"22\"], \"mode\": \"markers\", \"name\": \"accuracy\", \"stepped\": false, \"type\": \"scatter\", \"data\": [0.9475572511127094, 0.9587552247829305, 0.9351824634916664, 0.9092456507916654, 0.9487424038692058, 0.9393101723005722, 0.9522749304230902, 0.8680102567309796, 0.8679977485224679, 0.9387212441498066, 0.8444427071932622, 0.8809604219435672, 0.9440226398574064, 0.7495596068253124, 0.8880317291555917, 0.8780314164503787, 0.9481472216141844, 0.9410769567528691, 0.9452004961589376, 0.92103567966478, 0.903939043330519, 0.9628808488904177, 0.8498045592420026]}, {\"categories\": [\"0\", \"1\", \"2\", \"3\", \"4\", \"5\", \"6\", \"7\", \"8\", \"9\", \"10\", \"11\", \"12\", \"13\", \"14\", \"15\", \"16\", \"17\", \"18\", \"19\", \"20\", \"21\", \"22\"], \"mode\": \"lines\", \"name\": \"accuracy_max\", \"stepped\": true, \"type\": \"scatter\", \"data\": [0.9475572511127094, 0.9587552247829305, 0.9587552247829305, 0.9587552247829305, 0.9587552247829305, 0.9587552247829305, 0.9587552247829305, 0.9587552247829305, 0.9587552247829305, 0.9587552247829305, 0.9587552247829305, 0.9587552247829305, 0.9587552247829305, 0.9587552247829305, 0.9587552247829305, 0.9587552247829305, 0.9587552247829305, 0.9587552247829305, 0.9587552247829305, 0.9587552247829305, 0.9587552247829305, 0.9628808488904177, 0.9628808488904177]}], \"recall_score_micro\": [{\"categories\": [\"0\", \"1\", \"2\", \"3\", \"4\", \"5\", \"6\", \"7\", \"8\", \"9\", \"10\", \"11\", \"12\", \"13\", \"14\", \"15\", \"16\", \"17\", \"18\", \"19\", \"20\", \"21\", \"22\"], \"mode\": \"markers\", \"name\": \"recall_score_micro\", \"stepped\": false, \"type\": \"scatter\", \"data\": [0.9475572511127094, 0.9587552247829305, 0.9351824634916664, 0.9092456507916654, 0.9487424038692058, 0.9393101723005722, 0.9522749304230902, 0.8680102567309796, 0.8679977485224679, 0.9387212441498066, 0.8444427071932622, 0.8809604219435672, 0.9440226398574064, 0.7495596068253124, 0.8880317291555917, 0.8780314164503787, 0.9481472216141844, 0.9410769567528691, 0.9452004961589376, 0.92103567966478, 0.903939043330519, 0.9628808488904177, 0.8498045592420026]}, {\"categories\": [\"0\", \"1\", \"2\", \"3\", \"4\", \"5\", \"6\", \"7\", \"8\", \"9\", \"10\", \"11\", \"12\", \"13\", \"14\", \"15\", \"16\", \"17\", \"18\", \"19\", \"20\", \"21\", \"22\"], \"mode\": \"lines\", \"name\": \"recall_score_micro_max\", \"stepped\": true, \"type\": \"scatter\", \"data\": [0.9475572511127094, 0.9587552247829305, 0.9587552247829305, 0.9587552247829305, 0.9587552247829305, 0.9587552247829305, 0.9587552247829305, 0.9587552247829305, 0.9587552247829305, 0.9587552247829305, 0.9587552247829305, 0.9587552247829305, 0.9587552247829305, 0.9587552247829305, 0.9587552247829305, 0.9587552247829305, 0.9587552247829305, 0.9587552247829305, 0.9587552247829305, 0.9587552247829305, 0.9587552247829305, 0.9628808488904177, 0.9628808488904177]}], \"AUC_weighted\": [{\"categories\": [\"0\", \"1\", \"2\", \"3\", \"4\", \"5\", \"6\", \"7\", \"8\", \"9\", \"10\", \"11\", \"12\", \"13\", \"14\", \"15\", \"16\", \"17\", \"18\", \"19\", \"20\", \"21\", \"22\"], \"mode\": \"markers\", \"name\": \"AUC_weighted\", \"stepped\": false, \"type\": \"scatter\", \"data\": [0.9941521244095247, 0.9969468116444994, 0.9976564131295369, 0.989217522306682, 0.9961386560500757, 0.9973885789425502, 0.9962797011106329, 0.9857447470966801, 0.9837650477110623, 0.9959729596753136, 0.9824163832528731, 0.9892046756255314, 0.9981944243900687, 0.9650803815613633, 0.9895187802109526, 0.9840128557321179, 0.995987133200472, 0.9977993725273487, 0.9980313938195396, 0.9963491519705118, 0.9941035265432613, 0.9989105427553838, 0.9782493128553621]}, {\"categories\": [\"0\", \"1\", \"2\", \"3\", \"4\", \"5\", \"6\", \"7\", \"8\", \"9\", \"10\", \"11\", \"12\", \"13\", \"14\", \"15\", \"16\", \"17\", \"18\", \"19\", \"20\", \"21\", \"22\"], \"mode\": \"lines\", \"name\": \"AUC_weighted_max\", \"stepped\": true, \"type\": \"scatter\", \"data\": [0.9941521244095247, 0.9969468116444994, 0.9976564131295369, 0.9976564131295369, 0.9976564131295369, 0.9976564131295369, 0.9976564131295369, 0.9976564131295369, 0.9976564131295369, 0.9976564131295369, 0.9976564131295369, 0.9976564131295369, 0.9981944243900687, 0.9981944243900687, 0.9981944243900687, 0.9981944243900687, 0.9981944243900687, 0.9981944243900687, 0.9981944243900687, 0.9981944243900687, 0.9981944243900687, 0.9989105427553838, 0.9989105427553838]}], \"average_precision_score_micro\": [{\"categories\": [\"0\", \"1\", \"2\", \"3\", \"4\", \"5\", \"6\", \"7\", \"8\", \"9\", \"10\", \"11\", \"12\", \"13\", \"14\", \"15\", \"16\", \"17\", \"18\", \"19\", \"20\", \"21\", \"22\"], \"mode\": \"markers\", \"name\": \"average_precision_score_micro\", \"stepped\": false, \"type\": \"scatter\", \"data\": [0.9805194745118934, 0.9876988559727081, 0.9848078185355881, 0.9383019712765405, 0.9814466967577147, 0.9841897135298021, 0.9862527578756688, 0.9310689850932139, 0.8790230317208398, 0.9807761248076888, 0.9113036731342025, 0.9466194670693739, 0.9882978643926754, 0.822004386090743, 0.9470097440994234, 0.9314881926275219, 0.9797750076959053, 0.9862077388558038, 0.9874163669721897, 0.9794788101821718, 0.9663458645039773, 0.9932226120417119, 0.9121451111361258]}, {\"categories\": [\"0\", \"1\", \"2\", \"3\", \"4\", \"5\", \"6\", \"7\", \"8\", \"9\", \"10\", \"11\", \"12\", \"13\", \"14\", \"15\", \"16\", \"17\", \"18\", \"19\", \"20\", \"21\", \"22\"], \"mode\": \"lines\", \"name\": \"average_precision_score_micro_max\", \"stepped\": true, \"type\": \"scatter\", \"data\": [0.9805194745118934, 0.9876988559727081, 0.9876988559727081, 0.9876988559727081, 0.9876988559727081, 0.9876988559727081, 0.9876988559727081, 0.9876988559727081, 0.9876988559727081, 0.9876988559727081, 0.9876988559727081, 0.9876988559727081, 0.9882978643926754, 0.9882978643926754, 0.9882978643926754, 0.9882978643926754, 0.9882978643926754, 0.9882978643926754, 0.9882978643926754, 0.9882978643926754, 0.9882978643926754, 0.9932226120417119, 0.9932226120417119]}], \"AUC_micro\": [{\"categories\": [\"0\", \"1\", \"2\", \"3\", \"4\", \"5\", \"6\", \"7\", \"8\", \"9\", \"10\", \"11\", \"12\", \"13\", \"14\", \"15\", \"16\", \"17\", \"18\", \"19\", \"20\", \"21\", \"22\"], \"mode\": \"markers\", \"name\": \"AUC_micro\", \"stepped\": false, \"type\": \"scatter\", \"data\": [0.994821109673136, 0.9974561655854384, 0.9976906798088825, 0.9892865108538187, 0.9967209307551766, 0.9974563404883172, 0.9969977447815569, 0.9862754227249125, 0.9777167820505399, 0.9964415261571157, 0.9827622483542459, 0.9886985939251373, 0.9982535937979673, 0.9639872439481074, 0.9891429281753755, 0.9859804163769773, 0.9964906961268928, 0.9978334333357276, 0.9980661361659328, 0.9967170462287934, 0.9941379383418735, 0.99906414741698, 0.9802675852317256]}, {\"categories\": [\"0\", \"1\", \"2\", \"3\", \"4\", \"5\", \"6\", \"7\", \"8\", \"9\", \"10\", \"11\", \"12\", \"13\", \"14\", \"15\", \"16\", \"17\", \"18\", \"19\", \"20\", \"21\", \"22\"], \"mode\": \"lines\", \"name\": \"AUC_micro_max\", \"stepped\": true, \"type\": \"scatter\", \"data\": [0.994821109673136, 0.9974561655854384, 0.9976906798088825, 0.9976906798088825, 0.9976906798088825, 0.9976906798088825, 0.9976906798088825, 0.9976906798088825, 0.9976906798088825, 0.9976906798088825, 0.9976906798088825, 0.9976906798088825, 0.9982535937979673, 0.9982535937979673, 0.9982535937979673, 0.9982535937979673, 0.9982535937979673, 0.9982535937979673, 0.9982535937979673, 0.9982535937979673, 0.9982535937979673, 0.99906414741698, 0.99906414741698]}], \"f1_score_macro\": [{\"categories\": [\"0\", \"1\", \"2\", \"3\", \"4\", \"5\", \"6\", \"7\", \"8\", \"9\", \"10\", \"11\", \"12\", \"13\", \"14\", \"15\", \"16\", \"17\", \"18\", \"19\", \"20\", \"21\", \"22\"], \"mode\": \"markers\", \"name\": \"f1_score_macro\", \"stepped\": false, \"type\": \"scatter\", \"data\": [0.9477961632029905, 0.95892899851467, 0.9351997885254847, 0.907374759605879, 0.9480994743400978, 0.939289584519635, 0.9525012980937498, 0.8615789913433985, 0.8598158310800894, 0.9387355749161262, 0.8411479114406633, 0.8801831721030481, 0.9441940469971937, 0.724773227563572, 0.8879979950760521, 0.8786227823726821, 0.948475801665491, 0.9411034899068369, 0.9457252852994554, 0.9210382103372089, 0.9034765747589472, 0.9631293650309911, 0.8284807898599521]}, {\"categories\": [\"0\", \"1\", \"2\", \"3\", \"4\", \"5\", \"6\", \"7\", \"8\", \"9\", \"10\", \"11\", \"12\", \"13\", \"14\", \"15\", \"16\", \"17\", \"18\", \"19\", \"20\", \"21\", \"22\"], \"mode\": \"lines\", \"name\": \"f1_score_macro_max\", \"stepped\": true, \"type\": \"scatter\", \"data\": [0.9477961632029905, 0.95892899851467, 0.95892899851467, 0.95892899851467, 0.95892899851467, 0.95892899851467, 0.95892899851467, 0.95892899851467, 0.95892899851467, 0.95892899851467, 0.95892899851467, 0.95892899851467, 0.95892899851467, 0.95892899851467, 0.95892899851467, 0.95892899851467, 0.95892899851467, 0.95892899851467, 0.95892899851467, 0.95892899851467, 0.95892899851467, 0.9631293650309911, 0.9631293650309911]}], \"average_precision_score_weighted\": [{\"categories\": [\"0\", \"1\", \"2\", \"3\", \"4\", \"5\", \"6\", \"7\", \"8\", \"9\", \"10\", \"11\", \"12\", \"13\", \"14\", \"15\", \"16\", \"17\", \"18\", \"19\", \"20\", \"21\", \"22\"], \"mode\": \"markers\", \"name\": \"average_precision_score_weighted\", \"stepped\": false, \"type\": \"scatter\", \"data\": [0.9777845577404517, 0.9868152969036768, 0.9847317338491589, 0.9407882252029296, 0.9780887980716781, 0.9839265875300168, 0.9841723487825381, 0.930264132731453, 0.9103591023049481, 0.9776991869959222, 0.9180418779186944, 0.9485999496238554, 0.9879935193069326, 0.848316313266044, 0.9477272896001022, 0.9182131208009782, 0.9789606507700493, 0.9859244345714958, 0.9873483984618839, 0.9775569927457647, 0.9654431979205708, 0.9927547060675352, 0.9415636146583345]}, {\"categories\": [\"0\", \"1\", \"2\", \"3\", \"4\", \"5\", \"6\", \"7\", \"8\", \"9\", \"10\", \"11\", \"12\", \"13\", \"14\", \"15\", \"16\", \"17\", \"18\", \"19\", \"20\", \"21\", \"22\"], \"mode\": \"lines\", \"name\": \"average_precision_score_weighted_max\", \"stepped\": true, \"type\": \"scatter\", \"data\": [0.9777845577404517, 0.9868152969036768, 0.9868152969036768, 0.9868152969036768, 0.9868152969036768, 0.9868152969036768, 0.9868152969036768, 0.9868152969036768, 0.9868152969036768, 0.9868152969036768, 0.9868152969036768, 0.9868152969036768, 0.9879935193069326, 0.9879935193069326, 0.9879935193069326, 0.9879935193069326, 0.9879935193069326, 0.9879935193069326, 0.9879935193069326, 0.9879935193069326, 0.9879935193069326, 0.9927547060675352, 0.9927547060675352]}], \"log_loss\": [{\"categories\": [\"0\", \"1\", \"2\", \"3\", \"4\", \"5\", \"6\", \"7\", \"8\", \"9\", \"10\", \"11\", \"12\", \"13\", \"14\", \"15\", \"16\", \"17\", \"18\", \"19\", \"20\", \"21\", \"22\"], \"mode\": \"markers\", \"name\": \"log_loss\", \"stepped\": false, \"type\": \"scatter\", \"data\": [0.540920695844974, 0.24266087036006825, 0.32456495034312055, 1.619446222027479, 0.775656885639526, 0.33509476736668137, 0.3254549486359429, 1.008812824856215, 2.157840863748581, 0.28701014755942444, 0.922580598601213, 0.9909297655942235, 0.22344296261803434, 1.1822062572956156, 1.148562119809433, 0.8524158700980801, 0.28236971421781054, 0.25077171005021176, 0.2445080924197743, 0.42392051523036123, 0.5076430195268087, 0.3231818586580597, 0.8306398087749178]}, {\"categories\": [\"0\", \"1\", \"2\", \"3\", \"4\", \"5\", \"6\", \"7\", \"8\", \"9\", \"10\", \"11\", \"12\", \"13\", \"14\", \"15\", \"16\", \"17\", \"18\", \"19\", \"20\", \"21\", \"22\"], \"mode\": \"lines\", \"name\": \"log_loss_min\", \"stepped\": true, \"type\": \"scatter\", \"data\": [0.540920695844974, 0.24266087036006825, 0.24266087036006825, 0.24266087036006825, 0.24266087036006825, 0.24266087036006825, 0.24266087036006825, 0.24266087036006825, 0.24266087036006825, 0.24266087036006825, 0.24266087036006825, 0.24266087036006825, 0.22344296261803434, 0.22344296261803434, 0.22344296261803434, 0.22344296261803434, 0.22344296261803434, 0.22344296261803434, 0.22344296261803434, 0.22344296261803434, 0.22344296261803434, 0.22344296261803434, 0.22344296261803434]}], \"recall_score_weighted\": [{\"categories\": [\"0\", \"1\", \"2\", \"3\", \"4\", \"5\", \"6\", \"7\", \"8\", \"9\", \"10\", \"11\", \"12\", \"13\", \"14\", \"15\", \"16\", \"17\", \"18\", \"19\", \"20\", \"21\", \"22\"], \"mode\": \"markers\", \"name\": \"recall_score_weighted\", \"stepped\": false, \"type\": \"scatter\", \"data\": [0.9475572511127094, 0.9587552247829305, 0.9351824634916664, 0.9092456507916654, 0.9487424038692058, 0.9393101723005722, 0.9522749304230902, 0.8680102567309796, 0.8679977485224679, 0.9387212441498066, 0.8444427071932622, 0.8809604219435672, 0.9440226398574064, 0.7495596068253124, 0.8880317291555917, 0.8780314164503787, 0.9481472216141844, 0.9410769567528691, 0.9452004961589376, 0.92103567966478, 0.903939043330519, 0.9628808488904177, 0.8498045592420026]}, {\"categories\": [\"0\", \"1\", \"2\", \"3\", \"4\", \"5\", \"6\", \"7\", \"8\", \"9\", \"10\", \"11\", \"12\", \"13\", \"14\", \"15\", \"16\", \"17\", \"18\", \"19\", \"20\", \"21\", \"22\"], \"mode\": \"lines\", \"name\": \"recall_score_weighted_max\", \"stepped\": true, \"type\": \"scatter\", \"data\": [0.9475572511127094, 0.9587552247829305, 0.9587552247829305, 0.9587552247829305, 0.9587552247829305, 0.9587552247829305, 0.9587552247829305, 0.9587552247829305, 0.9587552247829305, 0.9587552247829305, 0.9587552247829305, 0.9587552247829305, 0.9587552247829305, 0.9587552247829305, 0.9587552247829305, 0.9587552247829305, 0.9587552247829305, 0.9587552247829305, 0.9587552247829305, 0.9587552247829305, 0.9587552247829305, 0.9628808488904177, 0.9628808488904177]}], \"f1_score_micro\": [{\"categories\": [\"0\", \"1\", \"2\", \"3\", \"4\", \"5\", \"6\", \"7\", \"8\", \"9\", \"10\", \"11\", \"12\", \"13\", \"14\", \"15\", \"16\", \"17\", \"18\", \"19\", \"20\", \"21\", \"22\"], \"mode\": \"markers\", \"name\": \"f1_score_micro\", \"stepped\": false, \"type\": \"scatter\", \"data\": [0.9475572511127094, 0.9587552247829305, 0.9351824634916664, 0.9092456507916654, 0.9487424038692058, 0.9393101723005722, 0.9522749304230902, 0.8680102567309796, 0.8679977485224679, 0.9387212441498066, 0.8444427071932622, 0.8809604219435672, 0.9440226398574064, 0.7495596068253124, 0.8880317291555917, 0.8780314164503787, 0.9481472216141844, 0.9410769567528691, 0.9452004961589376, 0.92103567966478, 0.903939043330519, 0.9628808488904177, 0.8498045592420026]}, {\"categories\": [\"0\", \"1\", \"2\", \"3\", \"4\", \"5\", \"6\", \"7\", \"8\", \"9\", \"10\", \"11\", \"12\", \"13\", \"14\", \"15\", \"16\", \"17\", \"18\", \"19\", \"20\", \"21\", \"22\"], \"mode\": \"lines\", \"name\": \"f1_score_micro_max\", \"stepped\": true, \"type\": \"scatter\", \"data\": [0.9475572511127094, 0.9587552247829305, 0.9587552247829305, 0.9587552247829305, 0.9587552247829305, 0.9587552247829305, 0.9587552247829305, 0.9587552247829305, 0.9587552247829305, 0.9587552247829305, 0.9587552247829305, 0.9587552247829305, 0.9587552247829305, 0.9587552247829305, 0.9587552247829305, 0.9587552247829305, 0.9587552247829305, 0.9587552247829305, 0.9587552247829305, 0.9587552247829305, 0.9587552247829305, 0.9628808488904177, 0.9628808488904177]}], \"recall_score_macro\": [{\"categories\": [\"0\", \"1\", \"2\", \"3\", \"4\", \"5\", \"6\", \"7\", \"8\", \"9\", \"10\", \"11\", \"12\", \"13\", \"14\", \"15\", \"16\", \"17\", \"18\", \"19\", \"20\", \"21\", \"22\"], \"mode\": \"markers\", \"name\": \"recall_score_macro\", \"stepped\": false, \"type\": \"scatter\", \"data\": [0.9484549147524654, 0.9596356804673952, 0.9357232758210251, 0.9099760145162099, 0.948396514724234, 0.9399787168704153, 0.9532878513377573, 0.8650656197422695, 0.8675342547671024, 0.939973226590975, 0.8440651905142783, 0.8812742038130973, 0.9447824257266882, 0.7541866102507392, 0.8896427234966372, 0.8778600593488779, 0.9491597537335404, 0.9416625910996835, 0.9461728610756066, 0.9212592957052251, 0.9037316140148594, 0.9633067592878243, 0.8627327824876626]}, {\"categories\": [\"0\", \"1\", \"2\", \"3\", \"4\", \"5\", \"6\", \"7\", \"8\", \"9\", \"10\", \"11\", \"12\", \"13\", \"14\", \"15\", \"16\", \"17\", \"18\", \"19\", \"20\", \"21\", \"22\"], \"mode\": \"lines\", \"name\": \"recall_score_macro_max\", \"stepped\": true, \"type\": \"scatter\", \"data\": [0.9484549147524654, 0.9596356804673952, 0.9596356804673952, 0.9596356804673952, 0.9596356804673952, 0.9596356804673952, 0.9596356804673952, 0.9596356804673952, 0.9596356804673952, 0.9596356804673952, 0.9596356804673952, 0.9596356804673952, 0.9596356804673952, 0.9596356804673952, 0.9596356804673952, 0.9596356804673952, 0.9596356804673952, 0.9596356804673952, 0.9596356804673952, 0.9596356804673952, 0.9596356804673952, 0.9633067592878243, 0.9633067592878243]}]}, \"metricName\": null, \"primaryMetricName\": \"AUC_weighted\", \"showLegend\": false}, \"run_metrics\": [], \"run_logs\": \"\\nRun is completed.\", \"graph\": {}, \"widget_settings\": {\"childWidgetDisplay\": \"popup\", \"send_telemetry\": false, \"log_level\": \"INFO\", \"sdk_version\": \"1.0.74\"}, \"loading\": false}"
     },
     "metadata": {},
     "output_type": "display_data"
    }
   ],
   "source": [
    "from azureml.widgets import RunDetails\n",
    "RunDetails(local_run).show() "
   ]
  },
  {
   "cell_type": "markdown",
   "metadata": {},
   "source": [
    "\n",
    "### 6.2 Métriques par itération\n"
   ]
  },
  {
   "cell_type": "code",
   "execution_count": 70,
   "metadata": {},
   "outputs": [
    {
     "data": {
      "text/html": [
       "<div>\n",
       "<style scoped>\n",
       "    .dataframe tbody tr th:only-of-type {\n",
       "        vertical-align: middle;\n",
       "    }\n",
       "\n",
       "    .dataframe tbody tr th {\n",
       "        vertical-align: top;\n",
       "    }\n",
       "\n",
       "    .dataframe thead th {\n",
       "        text-align: right;\n",
       "    }\n",
       "</style>\n",
       "<table border=\"1\" class=\"dataframe\">\n",
       "  <thead>\n",
       "    <tr style=\"text-align: right;\">\n",
       "      <th></th>\n",
       "      <th>0</th>\n",
       "      <th>1</th>\n",
       "      <th>2</th>\n",
       "      <th>3</th>\n",
       "      <th>4</th>\n",
       "      <th>5</th>\n",
       "      <th>6</th>\n",
       "      <th>7</th>\n",
       "      <th>8</th>\n",
       "      <th>9</th>\n",
       "      <th>...</th>\n",
       "      <th>13</th>\n",
       "      <th>14</th>\n",
       "      <th>15</th>\n",
       "      <th>16</th>\n",
       "      <th>17</th>\n",
       "      <th>18</th>\n",
       "      <th>19</th>\n",
       "      <th>20</th>\n",
       "      <th>21</th>\n",
       "      <th>22</th>\n",
       "    </tr>\n",
       "  </thead>\n",
       "  <tbody>\n",
       "    <tr>\n",
       "      <th>AUC_macro</th>\n",
       "      <td>0.99</td>\n",
       "      <td>1.00</td>\n",
       "      <td>1.00</td>\n",
       "      <td>0.99</td>\n",
       "      <td>1.00</td>\n",
       "      <td>1.00</td>\n",
       "      <td>1.00</td>\n",
       "      <td>0.99</td>\n",
       "      <td>0.98</td>\n",
       "      <td>1.00</td>\n",
       "      <td>...</td>\n",
       "      <td>0.97</td>\n",
       "      <td>0.99</td>\n",
       "      <td>0.98</td>\n",
       "      <td>1.00</td>\n",
       "      <td>1.00</td>\n",
       "      <td>1.00</td>\n",
       "      <td>1.00</td>\n",
       "      <td>0.99</td>\n",
       "      <td>1.00</td>\n",
       "      <td>0.98</td>\n",
       "    </tr>\n",
       "    <tr>\n",
       "      <th>AUC_micro</th>\n",
       "      <td>0.99</td>\n",
       "      <td>1.00</td>\n",
       "      <td>1.00</td>\n",
       "      <td>0.99</td>\n",
       "      <td>1.00</td>\n",
       "      <td>1.00</td>\n",
       "      <td>1.00</td>\n",
       "      <td>0.99</td>\n",
       "      <td>0.98</td>\n",
       "      <td>1.00</td>\n",
       "      <td>...</td>\n",
       "      <td>0.96</td>\n",
       "      <td>0.99</td>\n",
       "      <td>0.99</td>\n",
       "      <td>1.00</td>\n",
       "      <td>1.00</td>\n",
       "      <td>1.00</td>\n",
       "      <td>1.00</td>\n",
       "      <td>0.99</td>\n",
       "      <td>1.00</td>\n",
       "      <td>0.98</td>\n",
       "    </tr>\n",
       "    <tr>\n",
       "      <th>AUC_weighted</th>\n",
       "      <td>0.99</td>\n",
       "      <td>1.00</td>\n",
       "      <td>1.00</td>\n",
       "      <td>0.99</td>\n",
       "      <td>1.00</td>\n",
       "      <td>1.00</td>\n",
       "      <td>1.00</td>\n",
       "      <td>0.99</td>\n",
       "      <td>0.98</td>\n",
       "      <td>1.00</td>\n",
       "      <td>...</td>\n",
       "      <td>0.97</td>\n",
       "      <td>0.99</td>\n",
       "      <td>0.98</td>\n",
       "      <td>1.00</td>\n",
       "      <td>1.00</td>\n",
       "      <td>1.00</td>\n",
       "      <td>1.00</td>\n",
       "      <td>0.99</td>\n",
       "      <td>1.00</td>\n",
       "      <td>0.98</td>\n",
       "    </tr>\n",
       "    <tr>\n",
       "      <th>accuracy</th>\n",
       "      <td>0.95</td>\n",
       "      <td>0.96</td>\n",
       "      <td>0.94</td>\n",
       "      <td>0.91</td>\n",
       "      <td>0.95</td>\n",
       "      <td>0.94</td>\n",
       "      <td>0.95</td>\n",
       "      <td>0.87</td>\n",
       "      <td>0.87</td>\n",
       "      <td>0.94</td>\n",
       "      <td>...</td>\n",
       "      <td>0.75</td>\n",
       "      <td>0.89</td>\n",
       "      <td>0.88</td>\n",
       "      <td>0.95</td>\n",
       "      <td>0.94</td>\n",
       "      <td>0.95</td>\n",
       "      <td>0.92</td>\n",
       "      <td>0.90</td>\n",
       "      <td>0.96</td>\n",
       "      <td>0.85</td>\n",
       "    </tr>\n",
       "    <tr>\n",
       "      <th>average_precision_score_macro</th>\n",
       "      <td>0.98</td>\n",
       "      <td>0.99</td>\n",
       "      <td>0.98</td>\n",
       "      <td>0.94</td>\n",
       "      <td>0.98</td>\n",
       "      <td>0.98</td>\n",
       "      <td>0.98</td>\n",
       "      <td>0.93</td>\n",
       "      <td>0.91</td>\n",
       "      <td>0.98</td>\n",
       "      <td>...</td>\n",
       "      <td>0.85</td>\n",
       "      <td>0.95</td>\n",
       "      <td>0.92</td>\n",
       "      <td>0.98</td>\n",
       "      <td>0.99</td>\n",
       "      <td>0.99</td>\n",
       "      <td>0.98</td>\n",
       "      <td>0.97</td>\n",
       "      <td>0.99</td>\n",
       "      <td>0.94</td>\n",
       "    </tr>\n",
       "    <tr>\n",
       "      <th>average_precision_score_micro</th>\n",
       "      <td>0.98</td>\n",
       "      <td>0.99</td>\n",
       "      <td>0.98</td>\n",
       "      <td>0.94</td>\n",
       "      <td>0.98</td>\n",
       "      <td>0.98</td>\n",
       "      <td>0.99</td>\n",
       "      <td>0.93</td>\n",
       "      <td>0.88</td>\n",
       "      <td>0.98</td>\n",
       "      <td>...</td>\n",
       "      <td>0.82</td>\n",
       "      <td>0.95</td>\n",
       "      <td>0.93</td>\n",
       "      <td>0.98</td>\n",
       "      <td>0.99</td>\n",
       "      <td>0.99</td>\n",
       "      <td>0.98</td>\n",
       "      <td>0.97</td>\n",
       "      <td>0.99</td>\n",
       "      <td>0.91</td>\n",
       "    </tr>\n",
       "    <tr>\n",
       "      <th>average_precision_score_weighted</th>\n",
       "      <td>0.98</td>\n",
       "      <td>0.99</td>\n",
       "      <td>0.98</td>\n",
       "      <td>0.94</td>\n",
       "      <td>0.98</td>\n",
       "      <td>0.98</td>\n",
       "      <td>0.98</td>\n",
       "      <td>0.93</td>\n",
       "      <td>0.91</td>\n",
       "      <td>0.98</td>\n",
       "      <td>...</td>\n",
       "      <td>0.85</td>\n",
       "      <td>0.95</td>\n",
       "      <td>0.92</td>\n",
       "      <td>0.98</td>\n",
       "      <td>0.99</td>\n",
       "      <td>0.99</td>\n",
       "      <td>0.98</td>\n",
       "      <td>0.97</td>\n",
       "      <td>0.99</td>\n",
       "      <td>0.94</td>\n",
       "    </tr>\n",
       "    <tr>\n",
       "      <th>balanced_accuracy</th>\n",
       "      <td>0.95</td>\n",
       "      <td>0.96</td>\n",
       "      <td>0.94</td>\n",
       "      <td>0.91</td>\n",
       "      <td>0.95</td>\n",
       "      <td>0.94</td>\n",
       "      <td>0.95</td>\n",
       "      <td>0.87</td>\n",
       "      <td>0.87</td>\n",
       "      <td>0.94</td>\n",
       "      <td>...</td>\n",
       "      <td>0.75</td>\n",
       "      <td>0.89</td>\n",
       "      <td>0.88</td>\n",
       "      <td>0.95</td>\n",
       "      <td>0.94</td>\n",
       "      <td>0.95</td>\n",
       "      <td>0.92</td>\n",
       "      <td>0.90</td>\n",
       "      <td>0.96</td>\n",
       "      <td>0.86</td>\n",
       "    </tr>\n",
       "    <tr>\n",
       "      <th>f1_score_macro</th>\n",
       "      <td>0.95</td>\n",
       "      <td>0.96</td>\n",
       "      <td>0.94</td>\n",
       "      <td>0.91</td>\n",
       "      <td>0.95</td>\n",
       "      <td>0.94</td>\n",
       "      <td>0.95</td>\n",
       "      <td>0.86</td>\n",
       "      <td>0.86</td>\n",
       "      <td>0.94</td>\n",
       "      <td>...</td>\n",
       "      <td>0.72</td>\n",
       "      <td>0.89</td>\n",
       "      <td>0.88</td>\n",
       "      <td>0.95</td>\n",
       "      <td>0.94</td>\n",
       "      <td>0.95</td>\n",
       "      <td>0.92</td>\n",
       "      <td>0.90</td>\n",
       "      <td>0.96</td>\n",
       "      <td>0.83</td>\n",
       "    </tr>\n",
       "    <tr>\n",
       "      <th>f1_score_micro</th>\n",
       "      <td>0.95</td>\n",
       "      <td>0.96</td>\n",
       "      <td>0.94</td>\n",
       "      <td>0.91</td>\n",
       "      <td>0.95</td>\n",
       "      <td>0.94</td>\n",
       "      <td>0.95</td>\n",
       "      <td>0.87</td>\n",
       "      <td>0.87</td>\n",
       "      <td>0.94</td>\n",
       "      <td>...</td>\n",
       "      <td>0.75</td>\n",
       "      <td>0.89</td>\n",
       "      <td>0.88</td>\n",
       "      <td>0.95</td>\n",
       "      <td>0.94</td>\n",
       "      <td>0.95</td>\n",
       "      <td>0.92</td>\n",
       "      <td>0.90</td>\n",
       "      <td>0.96</td>\n",
       "      <td>0.85</td>\n",
       "    </tr>\n",
       "    <tr>\n",
       "      <th>f1_score_weighted</th>\n",
       "      <td>0.95</td>\n",
       "      <td>0.96</td>\n",
       "      <td>0.94</td>\n",
       "      <td>0.91</td>\n",
       "      <td>0.95</td>\n",
       "      <td>0.94</td>\n",
       "      <td>0.95</td>\n",
       "      <td>0.86</td>\n",
       "      <td>0.86</td>\n",
       "      <td>0.94</td>\n",
       "      <td>...</td>\n",
       "      <td>0.72</td>\n",
       "      <td>0.89</td>\n",
       "      <td>0.88</td>\n",
       "      <td>0.95</td>\n",
       "      <td>0.94</td>\n",
       "      <td>0.95</td>\n",
       "      <td>0.92</td>\n",
       "      <td>0.90</td>\n",
       "      <td>0.96</td>\n",
       "      <td>0.82</td>\n",
       "    </tr>\n",
       "    <tr>\n",
       "      <th>log_loss</th>\n",
       "      <td>0.54</td>\n",
       "      <td>0.24</td>\n",
       "      <td>0.32</td>\n",
       "      <td>1.62</td>\n",
       "      <td>0.78</td>\n",
       "      <td>0.34</td>\n",
       "      <td>0.33</td>\n",
       "      <td>1.01</td>\n",
       "      <td>2.16</td>\n",
       "      <td>0.29</td>\n",
       "      <td>...</td>\n",
       "      <td>1.18</td>\n",
       "      <td>1.15</td>\n",
       "      <td>0.85</td>\n",
       "      <td>0.28</td>\n",
       "      <td>0.25</td>\n",
       "      <td>0.24</td>\n",
       "      <td>0.42</td>\n",
       "      <td>0.51</td>\n",
       "      <td>0.32</td>\n",
       "      <td>0.83</td>\n",
       "    </tr>\n",
       "    <tr>\n",
       "      <th>norm_macro_recall</th>\n",
       "      <td>0.94</td>\n",
       "      <td>0.96</td>\n",
       "      <td>0.93</td>\n",
       "      <td>0.90</td>\n",
       "      <td>0.94</td>\n",
       "      <td>0.93</td>\n",
       "      <td>0.95</td>\n",
       "      <td>0.85</td>\n",
       "      <td>0.85</td>\n",
       "      <td>0.93</td>\n",
       "      <td>...</td>\n",
       "      <td>0.73</td>\n",
       "      <td>0.88</td>\n",
       "      <td>0.86</td>\n",
       "      <td>0.94</td>\n",
       "      <td>0.94</td>\n",
       "      <td>0.94</td>\n",
       "      <td>0.91</td>\n",
       "      <td>0.89</td>\n",
       "      <td>0.96</td>\n",
       "      <td>0.85</td>\n",
       "    </tr>\n",
       "    <tr>\n",
       "      <th>precision_score_macro</th>\n",
       "      <td>0.95</td>\n",
       "      <td>0.96</td>\n",
       "      <td>0.94</td>\n",
       "      <td>0.91</td>\n",
       "      <td>0.95</td>\n",
       "      <td>0.94</td>\n",
       "      <td>0.95</td>\n",
       "      <td>0.87</td>\n",
       "      <td>0.87</td>\n",
       "      <td>0.94</td>\n",
       "      <td>...</td>\n",
       "      <td>0.78</td>\n",
       "      <td>0.89</td>\n",
       "      <td>0.88</td>\n",
       "      <td>0.95</td>\n",
       "      <td>0.94</td>\n",
       "      <td>0.95</td>\n",
       "      <td>0.92</td>\n",
       "      <td>0.91</td>\n",
       "      <td>0.96</td>\n",
       "      <td>0.81</td>\n",
       "    </tr>\n",
       "    <tr>\n",
       "      <th>precision_score_micro</th>\n",
       "      <td>0.95</td>\n",
       "      <td>0.96</td>\n",
       "      <td>0.94</td>\n",
       "      <td>0.91</td>\n",
       "      <td>0.95</td>\n",
       "      <td>0.94</td>\n",
       "      <td>0.95</td>\n",
       "      <td>0.87</td>\n",
       "      <td>0.87</td>\n",
       "      <td>0.94</td>\n",
       "      <td>...</td>\n",
       "      <td>0.75</td>\n",
       "      <td>0.89</td>\n",
       "      <td>0.88</td>\n",
       "      <td>0.95</td>\n",
       "      <td>0.94</td>\n",
       "      <td>0.95</td>\n",
       "      <td>0.92</td>\n",
       "      <td>0.90</td>\n",
       "      <td>0.96</td>\n",
       "      <td>0.85</td>\n",
       "    </tr>\n",
       "    <tr>\n",
       "      <th>precision_score_weighted</th>\n",
       "      <td>0.95</td>\n",
       "      <td>0.96</td>\n",
       "      <td>0.94</td>\n",
       "      <td>0.91</td>\n",
       "      <td>0.95</td>\n",
       "      <td>0.94</td>\n",
       "      <td>0.95</td>\n",
       "      <td>0.87</td>\n",
       "      <td>0.88</td>\n",
       "      <td>0.94</td>\n",
       "      <td>...</td>\n",
       "      <td>0.78</td>\n",
       "      <td>0.89</td>\n",
       "      <td>0.88</td>\n",
       "      <td>0.95</td>\n",
       "      <td>0.94</td>\n",
       "      <td>0.95</td>\n",
       "      <td>0.92</td>\n",
       "      <td>0.91</td>\n",
       "      <td>0.96</td>\n",
       "      <td>0.81</td>\n",
       "    </tr>\n",
       "    <tr>\n",
       "      <th>recall_score_macro</th>\n",
       "      <td>0.95</td>\n",
       "      <td>0.96</td>\n",
       "      <td>0.94</td>\n",
       "      <td>0.91</td>\n",
       "      <td>0.95</td>\n",
       "      <td>0.94</td>\n",
       "      <td>0.95</td>\n",
       "      <td>0.87</td>\n",
       "      <td>0.87</td>\n",
       "      <td>0.94</td>\n",
       "      <td>...</td>\n",
       "      <td>0.75</td>\n",
       "      <td>0.89</td>\n",
       "      <td>0.88</td>\n",
       "      <td>0.95</td>\n",
       "      <td>0.94</td>\n",
       "      <td>0.95</td>\n",
       "      <td>0.92</td>\n",
       "      <td>0.90</td>\n",
       "      <td>0.96</td>\n",
       "      <td>0.86</td>\n",
       "    </tr>\n",
       "    <tr>\n",
       "      <th>recall_score_micro</th>\n",
       "      <td>0.95</td>\n",
       "      <td>0.96</td>\n",
       "      <td>0.94</td>\n",
       "      <td>0.91</td>\n",
       "      <td>0.95</td>\n",
       "      <td>0.94</td>\n",
       "      <td>0.95</td>\n",
       "      <td>0.87</td>\n",
       "      <td>0.87</td>\n",
       "      <td>0.94</td>\n",
       "      <td>...</td>\n",
       "      <td>0.75</td>\n",
       "      <td>0.89</td>\n",
       "      <td>0.88</td>\n",
       "      <td>0.95</td>\n",
       "      <td>0.94</td>\n",
       "      <td>0.95</td>\n",
       "      <td>0.92</td>\n",
       "      <td>0.90</td>\n",
       "      <td>0.96</td>\n",
       "      <td>0.85</td>\n",
       "    </tr>\n",
       "    <tr>\n",
       "      <th>recall_score_weighted</th>\n",
       "      <td>0.95</td>\n",
       "      <td>0.96</td>\n",
       "      <td>0.94</td>\n",
       "      <td>0.91</td>\n",
       "      <td>0.95</td>\n",
       "      <td>0.94</td>\n",
       "      <td>0.95</td>\n",
       "      <td>0.87</td>\n",
       "      <td>0.87</td>\n",
       "      <td>0.94</td>\n",
       "      <td>...</td>\n",
       "      <td>0.75</td>\n",
       "      <td>0.89</td>\n",
       "      <td>0.88</td>\n",
       "      <td>0.95</td>\n",
       "      <td>0.94</td>\n",
       "      <td>0.95</td>\n",
       "      <td>0.92</td>\n",
       "      <td>0.90</td>\n",
       "      <td>0.96</td>\n",
       "      <td>0.85</td>\n",
       "    </tr>\n",
       "    <tr>\n",
       "      <th>weighted_accuracy</th>\n",
       "      <td>0.95</td>\n",
       "      <td>0.96</td>\n",
       "      <td>0.93</td>\n",
       "      <td>0.91</td>\n",
       "      <td>0.95</td>\n",
       "      <td>0.94</td>\n",
       "      <td>0.95</td>\n",
       "      <td>0.87</td>\n",
       "      <td>0.87</td>\n",
       "      <td>0.94</td>\n",
       "      <td>...</td>\n",
       "      <td>0.74</td>\n",
       "      <td>0.89</td>\n",
       "      <td>0.88</td>\n",
       "      <td>0.95</td>\n",
       "      <td>0.94</td>\n",
       "      <td>0.94</td>\n",
       "      <td>0.92</td>\n",
       "      <td>0.90</td>\n",
       "      <td>0.96</td>\n",
       "      <td>0.84</td>\n",
       "    </tr>\n",
       "  </tbody>\n",
       "</table>\n",
       "<p>20 rows × 23 columns</p>\n",
       "</div>"
      ],
      "text/plain": [
       "                                    0    1    2    3    4    5    6    7    8  \\\n",
       "AUC_macro                        0.99 1.00 1.00 0.99 1.00 1.00 1.00 0.99 0.98   \n",
       "AUC_micro                        0.99 1.00 1.00 0.99 1.00 1.00 1.00 0.99 0.98   \n",
       "AUC_weighted                     0.99 1.00 1.00 0.99 1.00 1.00 1.00 0.99 0.98   \n",
       "accuracy                         0.95 0.96 0.94 0.91 0.95 0.94 0.95 0.87 0.87   \n",
       "average_precision_score_macro    0.98 0.99 0.98 0.94 0.98 0.98 0.98 0.93 0.91   \n",
       "average_precision_score_micro    0.98 0.99 0.98 0.94 0.98 0.98 0.99 0.93 0.88   \n",
       "average_precision_score_weighted 0.98 0.99 0.98 0.94 0.98 0.98 0.98 0.93 0.91   \n",
       "balanced_accuracy                0.95 0.96 0.94 0.91 0.95 0.94 0.95 0.87 0.87   \n",
       "f1_score_macro                   0.95 0.96 0.94 0.91 0.95 0.94 0.95 0.86 0.86   \n",
       "f1_score_micro                   0.95 0.96 0.94 0.91 0.95 0.94 0.95 0.87 0.87   \n",
       "f1_score_weighted                0.95 0.96 0.94 0.91 0.95 0.94 0.95 0.86 0.86   \n",
       "log_loss                         0.54 0.24 0.32 1.62 0.78 0.34 0.33 1.01 2.16   \n",
       "norm_macro_recall                0.94 0.96 0.93 0.90 0.94 0.93 0.95 0.85 0.85   \n",
       "precision_score_macro            0.95 0.96 0.94 0.91 0.95 0.94 0.95 0.87 0.87   \n",
       "precision_score_micro            0.95 0.96 0.94 0.91 0.95 0.94 0.95 0.87 0.87   \n",
       "precision_score_weighted         0.95 0.96 0.94 0.91 0.95 0.94 0.95 0.87 0.88   \n",
       "recall_score_macro               0.95 0.96 0.94 0.91 0.95 0.94 0.95 0.87 0.87   \n",
       "recall_score_micro               0.95 0.96 0.94 0.91 0.95 0.94 0.95 0.87 0.87   \n",
       "recall_score_weighted            0.95 0.96 0.94 0.91 0.95 0.94 0.95 0.87 0.87   \n",
       "weighted_accuracy                0.95 0.96 0.93 0.91 0.95 0.94 0.95 0.87 0.87   \n",
       "\n",
       "                                    9 ...    13   14   15   16   17   18   19  \\\n",
       "AUC_macro                        1.00 ...  0.97 0.99 0.98 1.00 1.00 1.00 1.00   \n",
       "AUC_micro                        1.00 ...  0.96 0.99 0.99 1.00 1.00 1.00 1.00   \n",
       "AUC_weighted                     1.00 ...  0.97 0.99 0.98 1.00 1.00 1.00 1.00   \n",
       "accuracy                         0.94 ...  0.75 0.89 0.88 0.95 0.94 0.95 0.92   \n",
       "average_precision_score_macro    0.98 ...  0.85 0.95 0.92 0.98 0.99 0.99 0.98   \n",
       "average_precision_score_micro    0.98 ...  0.82 0.95 0.93 0.98 0.99 0.99 0.98   \n",
       "average_precision_score_weighted 0.98 ...  0.85 0.95 0.92 0.98 0.99 0.99 0.98   \n",
       "balanced_accuracy                0.94 ...  0.75 0.89 0.88 0.95 0.94 0.95 0.92   \n",
       "f1_score_macro                   0.94 ...  0.72 0.89 0.88 0.95 0.94 0.95 0.92   \n",
       "f1_score_micro                   0.94 ...  0.75 0.89 0.88 0.95 0.94 0.95 0.92   \n",
       "f1_score_weighted                0.94 ...  0.72 0.89 0.88 0.95 0.94 0.95 0.92   \n",
       "log_loss                         0.29 ...  1.18 1.15 0.85 0.28 0.25 0.24 0.42   \n",
       "norm_macro_recall                0.93 ...  0.73 0.88 0.86 0.94 0.94 0.94 0.91   \n",
       "precision_score_macro            0.94 ...  0.78 0.89 0.88 0.95 0.94 0.95 0.92   \n",
       "precision_score_micro            0.94 ...  0.75 0.89 0.88 0.95 0.94 0.95 0.92   \n",
       "precision_score_weighted         0.94 ...  0.78 0.89 0.88 0.95 0.94 0.95 0.92   \n",
       "recall_score_macro               0.94 ...  0.75 0.89 0.88 0.95 0.94 0.95 0.92   \n",
       "recall_score_micro               0.94 ...  0.75 0.89 0.88 0.95 0.94 0.95 0.92   \n",
       "recall_score_weighted            0.94 ...  0.75 0.89 0.88 0.95 0.94 0.95 0.92   \n",
       "weighted_accuracy                0.94 ...  0.74 0.89 0.88 0.95 0.94 0.94 0.92   \n",
       "\n",
       "                                   20   21   22  \n",
       "AUC_macro                        0.99 1.00 0.98  \n",
       "AUC_micro                        0.99 1.00 0.98  \n",
       "AUC_weighted                     0.99 1.00 0.98  \n",
       "accuracy                         0.90 0.96 0.85  \n",
       "average_precision_score_macro    0.97 0.99 0.94  \n",
       "average_precision_score_micro    0.97 0.99 0.91  \n",
       "average_precision_score_weighted 0.97 0.99 0.94  \n",
       "balanced_accuracy                0.90 0.96 0.86  \n",
       "f1_score_macro                   0.90 0.96 0.83  \n",
       "f1_score_micro                   0.90 0.96 0.85  \n",
       "f1_score_weighted                0.90 0.96 0.82  \n",
       "log_loss                         0.51 0.32 0.83  \n",
       "norm_macro_recall                0.89 0.96 0.85  \n",
       "precision_score_macro            0.91 0.96 0.81  \n",
       "precision_score_micro            0.90 0.96 0.85  \n",
       "precision_score_weighted         0.91 0.96 0.81  \n",
       "recall_score_macro               0.90 0.96 0.86  \n",
       "recall_score_micro               0.90 0.96 0.85  \n",
       "recall_score_weighted            0.90 0.96 0.85  \n",
       "weighted_accuracy                0.90 0.96 0.84  \n",
       "\n",
       "[20 rows x 23 columns]"
      ]
     },
     "execution_count": 70,
     "metadata": {},
     "output_type": "execute_result"
    }
   ],
   "source": [
    "children = list(local_run.get_children())\n",
    "metricslist = {}\n",
    "for run in children:\n",
    "    properties = run.get_properties()\n",
    "    metrics = {k: v for k, v in run.get_metrics().items() if isinstance(v, float)}\n",
    "    metricslist[int(properties['iteration'])] = metrics\n",
    "\n",
    "rundata = pd.DataFrame(metricslist).sort_index(1)\n",
    "rundata"
   ]
  },
  {
   "cell_type": "markdown",
   "metadata": {},
   "source": [
    "## 7. Récupération du meilleur modèle\n",
    "\n",
    "Below we select the best pipeline from our iterations. The `get_output` method returns the best run and the fitted model. The Model includes the pipeline and any pre-processing.  Overloads on `get_output` allow you to retrieve the best run and fitted model for *any* logged metric or for a particular *iteration*."
   ]
  },
  {
   "cell_type": "code",
   "execution_count": 71,
   "metadata": {},
   "outputs": [
    {
     "name": "stdout",
     "output_type": "stream",
     "text": [
      "Run(Experiment: workshop2,\n",
      "Id: AutoML_d62b9716-907f-43c7-83d8-6e8443e8e7d6_21,\n",
      "Type: None,\n",
      "Status: Completed)\n",
      "\n",
      "Pipeline(memory=None,\n",
      "     steps=[('prefittedsoftvotingclassifier', PreFittedSoftVotingClassifier(classification_labels=None,\n",
      "               estimators=[('12', Pipeline(memory=None,\n",
      "     steps=[('MinMaxScaler', MinMaxScaler(copy=True, feature_range=(0, 1))), ('LightGBMClassifier', LightGBMClassifier(boosting_type='gbdt', clas...857142857142, 0.14285714285714285, 0.14285714285714285, 0.14285714285714285, 0.07142857142857142]))])\n"
     ]
    }
   ],
   "source": [
    "best_run, fitted_model = local_run.get_output()\n",
    "\n",
    "print(best_run)\n",
    "print()\n",
    "print(fitted_model)"
   ]
  },
  {
   "cell_type": "code",
   "execution_count": 72,
   "metadata": {},
   "outputs": [
    {
     "data": {
      "text/plain": [
       "<bound method Pipeline.get_params of Pipeline(memory=None,\n",
       "     steps=[('prefittedsoftvotingclassifier', PreFittedSoftVotingClassifier(classification_labels=None,\n",
       "               estimators=[('12', Pipeline(memory=None,\n",
       "     steps=[('MinMaxScaler', MinMaxScaler(copy=True, feature_range=(0, 1))), ('LightGBMClassifier', LightGBMClassifier(boosting_type='gbdt', clas...857142857142, 0.14285714285714285, 0.14285714285714285, 0.14285714285714285, 0.07142857142857142]))])>"
      ]
     },
     "execution_count": 72,
     "metadata": {},
     "output_type": "execute_result"
    }
   ],
   "source": [
    "fitted_model.get_params"
   ]
  },
  {
   "cell_type": "code",
   "execution_count": 73,
   "metadata": {},
   "outputs": [
    {
     "data": {
      "text/plain": [
       "[('prefittedsoftvotingclassifier',\n",
       "  PreFittedSoftVotingClassifier(classification_labels=None,\n",
       "                 estimators=[('12', Pipeline(memory=None,\n",
       "       steps=[('MinMaxScaler', MinMaxScaler(copy=True, feature_range=(0, 1))), ('LightGBMClassifier', LightGBMClassifier(boosting_type='gbdt', class_weight=None,\n",
       "            colsample_bytree=0.8911111111111111, importance_type='split',\n",
       "            learning_rate=0.0...mators=10, n_jobs=1,\n",
       "             oob_score=True, random_state=None, verbose=0, warm_start=False))]))],\n",
       "                 flatten_transform=None,\n",
       "                 weights=[0.14285714285714285, 0.14285714285714285, 0.07142857142857142, 0.07142857142857142, 0.07142857142857142, 0.14285714285714285, 0.14285714285714285, 0.14285714285714285, 0.07142857142857142]))]"
      ]
     },
     "execution_count": 73,
     "metadata": {},
     "output_type": "execute_result"
    }
   ],
   "source": [
    "fitted_model.steps"
   ]
  },
  {
   "cell_type": "markdown",
   "metadata": {},
   "source": [
    "### 7.1 Changement de la métrique AutoML\n"
   ]
  },
  {
   "cell_type": "code",
   "execution_count": 74,
   "metadata": {},
   "outputs": [
    {
     "name": "stdout",
     "output_type": "stream",
     "text": [
      "Meilleur modèle :\n",
      "Run(Experiment: workshop2,\n",
      "Id: AutoML_d62b9716-907f-43c7-83d8-6e8443e8e7d6_21,\n",
      "Type: None,\n",
      "Status: Completed)\n",
      "\n",
      "Pipeline(memory=None,\n",
      "     steps=[('prefittedsoftvotingclassifier', PreFittedSoftVotingClassifier(classification_labels=None,\n",
      "               estimators=[('12', Pipeline(memory=None,\n",
      "     steps=[('MinMaxScaler', MinMaxScaler(copy=True, feature_range=(0, 1))), ('LightGBMClassifier', LightGBMClassifier(boosting_type='gbdt', clas...857142857142, 0.14285714285714285, 0.14285714285714285, 0.14285714285714285, 0.07142857142857142]))])\n"
     ]
    }
   ],
   "source": [
    "lookup_metric = \"f1_score_weighted\"\n",
    "best_run, fitted_model = local_run.get_output(metric = lookup_metric)\n",
    "print(\"Meilleur modèle :\")\n",
    "print(best_run)\n",
    "print()\n",
    "print(fitted_model)"
   ]
  },
  {
   "cell_type": "markdown",
   "metadata": {},
   "source": [
    "Model from a Specific Iteration\n",
    "Show the run and the model from the third iteration:"
   ]
  },
  {
   "cell_type": "code",
   "execution_count": 75,
   "metadata": {},
   "outputs": [
    {
     "name": "stdout",
     "output_type": "stream",
     "text": [
      "Modèle 3 eme itération :\n",
      "Run(Experiment: workshop2,\n",
      "Id: AutoML_d62b9716-907f-43c7-83d8-6e8443e8e7d6_3,\n",
      "Type: None,\n",
      "Status: Completed)\n",
      "\n",
      "Pipeline(memory=None,\n",
      "     steps=[('StandardScalerWrapper', <automl.client.core.runtime.model_wrappers.StandardScalerWrapper object at 0x7f9a18209748>), ('SGDClassifierWrapper', SGDClassifierWrapper(alpha=0.0001, class_weight='balanced', eta0=0.0001,\n",
      "           fit_intercept=False, l1_ratio=0.3469387755102041,\n",
      "           learning_rate='constant', loss='modified_huber', max_iter=1000,\n",
      "           n_jobs=1, penalty='l2', power_t=0.2222222222222222,\n",
      "           random_state=None, tol=0.01))])\n"
     ]
    }
   ],
   "source": [
    "iteration = 3\n",
    "\n",
    "my_run, my_model = local_run.get_output(iteration = iteration)\n",
    "print(\"Modèle\",iteration,\"eme itération :\")\n",
    "print(my_run)\n",
    "print()\n",
    "print(my_model)"
   ]
  },
  {
   "cell_type": "markdown",
   "metadata": {},
   "source": [
    "## 8. Application du modèle\n",
    "\n",
    "### 8.1 Chargement des données"
   ]
  },
  {
   "cell_type": "code",
   "execution_count": 76,
   "metadata": {},
   "outputs": [],
   "source": [
    "digits = datasets.load_digits()\n",
    "X_test = digits.data[:10, :]\n",
    "y_test = digits.target[:10]\n",
    "images = digits.images[:10]"
   ]
  },
  {
   "cell_type": "markdown",
   "metadata": {},
   "source": [
    "### 8.2 Test\n",
    "We will try to predict 2 digits and see how our model works."
   ]
  },
  {
   "cell_type": "code",
   "execution_count": 77,
   "metadata": {},
   "outputs": [
    {
     "name": "stdout",
     "output_type": "stream",
     "text": [
      "4\n"
     ]
    },
    {
     "data": {
      "image/png": "[encoded data removed]",
      "text/plain": [
       "<Figure size 216x216 with 1 Axes>"
      ]
     },
     "metadata": {
      "needs_background": "light"
     },
     "output_type": "display_data"
    },
    {
     "name": "stdout",
     "output_type": "stream",
     "text": [
      "0\n"
     ]
    },
    {
     "data": {
      "image/png": "[encoded data removed]",
      "text/plain": [
       "<Figure size 216x216 with 1 Axes>"
      ]
     },
     "metadata": {
      "needs_background": "light"
     },
     "output_type": "display_data"
    },
    {
     "name": "stdout",
     "output_type": "stream",
     "text": [
      "CPU times: user 501 ms, sys: 0 ns, total: 501 ms\n",
      "Wall time: 373 ms\n"
     ]
    }
   ],
   "source": [
    "%%time\n",
    "# Randomly select digits and test.\n",
    "for index in np.random.choice(len(y_test), 2, replace = False):\n",
    "    print(index)\n",
    "    predicted = fitted_model.predict(X_test[index:index + 1])[0]\n",
    "    label = y_test[index]\n",
    "    title = \"Label value = %d  Predicted value = %d \" % (label, predicted)\n",
    "    fig = plt.figure(1, figsize = (3,3))\n",
    "    ax1 = fig.add_axes((0,0,.8,.8))\n",
    "    ax1.set_title(title)\n",
    "    plt.imshow(images[index], cmap = plt.cm.gray_r, interpolation = 'nearest')\n",
    "    plt.show()"
   ]
  },
  {
   "cell_type": "markdown",
   "metadata": {},
   "source": [
    "<img src=\"https://github.com/retkowsky/images/blob/master/Powered-by-MS-Azure-logo-v2.png?raw=true\" height=\"300\" width=\"300\">"
   ]
  },
  {
   "cell_type": "code",
   "execution_count": null,
   "metadata": {},
   "outputs": [],
   "source": []
  }
 ],
 "metadata": {
  "authors": [
   {
    "name": "savitam"
   }
  ],
  "kernelspec": {
   "display_name": "Python 3.6 - AzureML",
   "language": "python",
   "name": "python3-azureml"
  },
  "language_info": {
   "codemirror_mode": {
    "name": "ipython",
    "version": 3
   },
   "file_extension": ".py",
   "mimetype": "text/x-python",
   "name": "python",
   "nbconvert_exporter": "python",
   "pygments_lexer": "ipython3",
   "version": "3.6.9"
  }
 },
 "nbformat": 4,
 "nbformat_minor": 2
}
