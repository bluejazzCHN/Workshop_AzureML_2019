{
 "cells": [
  {
   "cell_type": "markdown",
   "metadata": {},
   "source": [
    "# AutoML Classification"
   ]
  },
  {
   "cell_type": "markdown",
   "metadata": {},
   "source": [
    "<img src='https://github.com/retkowsky/images/blob/master/AzureMLservicebanniere.png?raw=true'>"
   ]
  },
  {
   "cell_type": "markdown",
   "metadata": {},
   "source": [
    "This is a copy of the test set of the **UCI ML hand-written digits datasets** http://archive.ics.uci.edu/ml/datasets/Optical+Recognition+of+Handwritten+Digits\n",
    "\n",
    "The data set contains images of hand-written digits: 10 classes where each class refers to a digit.\n",
    "\n"
   ]
  },
  {
   "cell_type": "markdown",
   "metadata": {},
   "source": [
    "<img src=\"https://www.seewald.at/img/L/digits.gif\">\n"
   ]
  },
  {
   "cell_type": "markdown",
   "metadata": {},
   "source": [
    "## Documentation Azure ML service\n",
    "> https://docs.microsoft.com/en-us/azure/machine-learning/service/how-to-automated-ml"
   ]
  },
  {
   "cell_type": "markdown",
   "metadata": {},
   "source": [
    "## 1. Informations\n",
    "\n",
    "As part of the setup you have already created an Azure ML `Workspace` object. <br> For AutoML you will need to create an `Experiment` object, which is a named object in a `Workspace` used to run experiments."
   ]
  },
  {
   "cell_type": "code",
   "execution_count": 25,
   "metadata": {},
   "outputs": [
    {
     "data": {
      "text/plain": [
       "'3.6.9 |Anaconda, Inc.| (default, Jul 30 2019, 19:07:31) \\n[GCC 7.3.0]'"
      ]
     },
     "execution_count": 25,
     "metadata": {},
     "output_type": "execute_result"
    }
   ],
   "source": [
    "import sys\n",
    "sys.version"
   ]
  },
  {
   "cell_type": "code",
   "execution_count": 26,
   "metadata": {},
   "outputs": [
    {
     "name": "stdout",
     "output_type": "stream",
     "text": [
      "Version Azure ML Service : 1.0.74\n"
     ]
    }
   ],
   "source": [
    "import azureml.core\n",
    "print(\"Version Azure ML Service :\", azureml.core.VERSION)"
   ]
  },
  {
   "cell_type": "code",
   "execution_count": 27,
   "metadata": {},
   "outputs": [],
   "source": [
    "import logging\n",
    "import os\n",
    "import random\n",
    "\n",
    "from matplotlib import pyplot as plt\n",
    "from matplotlib.pyplot import imshow\n",
    "import numpy as np\n",
    "import pandas as pd\n",
    "from sklearn import datasets\n",
    "\n",
    "import azureml.core\n",
    "from azureml.core.experiment import Experiment\n",
    "from azureml.core.workspace import Workspace\n",
    "from azureml.train.automl import AutoMLConfig\n",
    "from azureml.train.automl.run import AutoMLRun"
   ]
  },
  {
   "cell_type": "markdown",
   "metadata": {},
   "source": [
    "## 2. Connexion workspace Azure ML service"
   ]
  },
  {
   "cell_type": "code",
   "execution_count": 28,
   "metadata": {},
   "outputs": [
    {
     "data": {
      "text/html": [
       "<div>\n",
       "<style scoped>\n",
       "    .dataframe tbody tr th:only-of-type {\n",
       "        vertical-align: middle;\n",
       "    }\n",
       "\n",
       "    .dataframe tbody tr th {\n",
       "        vertical-align: top;\n",
       "    }\n",
       "\n",
       "    .dataframe thead th {\n",
       "        text-align: right;\n",
       "    }\n",
       "</style>\n",
       "<table border=\"1\" class=\"dataframe\">\n",
       "  <thead>\n",
       "    <tr style=\"text-align: right;\">\n",
       "      <th></th>\n",
       "      <th></th>\n",
       "    </tr>\n",
       "  </thead>\n",
       "  <tbody>\n",
       "    <tr>\n",
       "      <th>SDK version</th>\n",
       "      <td>1.0.74</td>\n",
       "    </tr>\n",
       "    <tr>\n",
       "      <th>Workspace Name</th>\n",
       "      <td>workshopml</td>\n",
       "    </tr>\n",
       "    <tr>\n",
       "      <th>Resource Group</th>\n",
       "      <td>workshopmlRG</td>\n",
       "    </tr>\n",
       "    <tr>\n",
       "      <th>Location</th>\n",
       "      <td>northeurope</td>\n",
       "    </tr>\n",
       "    <tr>\n",
       "      <th>Project Directory</th>\n",
       "      <td>./sample_projects/workshop2</td>\n",
       "    </tr>\n",
       "    <tr>\n",
       "      <th>Experiment Name</th>\n",
       "      <td>workshop2</td>\n",
       "    </tr>\n",
       "  </tbody>\n",
       "</table>\n",
       "</div>"
      ],
      "text/plain": [
       "                                              \n",
       "SDK version        1.0.74                     \n",
       "Workspace Name     workshopml                 \n",
       "Resource Group     workshopmlRG               \n",
       "Location           northeurope                \n",
       "Project Directory  ./sample_projects/workshop2\n",
       "Experiment Name    workshop2                  "
      ]
     },
     "execution_count": 28,
     "metadata": {},
     "output_type": "execute_result"
    }
   ],
   "source": [
    "ws = Workspace.from_config()\n",
    "\n",
    "experiment_name = 'workshop2'\n",
    "project_folder = './sample_projects/workshop2'\n",
    "\n",
    "experiment = Experiment(ws, experiment_name)\n",
    "\n",
    "output = {}\n",
    "output['SDK version'] = azureml.core.VERSION\n",
    "output['Workspace Name'] = ws.name\n",
    "output['Resource Group'] = ws.resource_group\n",
    "output['Location'] = ws.location\n",
    "output['Project Directory'] = project_folder\n",
    "output['Experiment Name'] = experiment.name\n",
    "pd.set_option('display.max_colwidth', -1)\n",
    "pd.DataFrame(data = output, index = ['']).T"
   ]
  },
  {
   "cell_type": "markdown",
   "metadata": {},
   "source": [
    "## 3. Chargement des données\n",
    "\n",
    "This uses scikit-learn's [load_digits](http://scikit-learn.org/stable/modules/generated/sklearn.datasets.load_digits.html) method."
   ]
  },
  {
   "cell_type": "code",
   "execution_count": 29,
   "metadata": {},
   "outputs": [],
   "source": [
    "from sklearn import datasets\n",
    "\n",
    "digits = datasets.load_digits()\n",
    "\n",
    "# Exclude the first 100 rows from training so that they can be used for test.\n",
    "X_train = digits.data[100:,:]\n",
    "y_train = digits.target[100:]"
   ]
  },
  {
   "cell_type": "code",
   "execution_count": 30,
   "metadata": {},
   "outputs": [
    {
     "name": "stdout",
     "output_type": "stream",
     "text": [
      "(1797, 64)\n"
     ]
    }
   ],
   "source": [
    "print(digits.data.shape)"
   ]
  },
  {
   "cell_type": "markdown",
   "metadata": {},
   "source": [
    "## 4. Configuration AutoML\n",
    "\n"
   ]
  },
  {
   "cell_type": "code",
   "execution_count": 33,
   "metadata": {},
   "outputs": [
    {
     "name": "stderr",
     "output_type": "stream",
     "text": [
      "WARNING - The AutoMLConfig inputs you have specified will soon be deprecated. Please use the AutoMLConfig shown in our documentation: https://aka.ms/AutoMLConfig\n"
     ]
    }
   ],
   "source": [
    "automl_config = AutoMLConfig(task = 'classification',\n",
    "                             debug_log = 'automl_errors.log',\n",
    "                             primary_metric = 'AUC_weighted',\n",
    "                             iteration_timeout_minutes = 5,\n",
    "                             experiment_timeout_minutes = 10,\n",
    "                             enable_early_stopping=True,\n",
    "                             #iterations = 10,\n",
    "                             n_cross_validations = 3,\n",
    "                             verbosity = logging.INFO,\n",
    "                             X = X_train, \n",
    "                             y = y_train,\n",
    "                             path = project_folder)"
   ]
  },
  {
   "cell_type": "markdown",
   "metadata": {},
   "source": [
    "## 5. AutoML\n",
    "\n",
    "Call the `submit` method on the experiment object and pass the run configuration. Execution of local runs is synchronous. Depending on the data and the number of iterations this can run for a while.\n",
    "In this example, we specify `show_output = True` to print currently running iterations to the console.\n",
    "\n",
    "`AUC_weighted` is the **metric** used."
   ]
  },
  {
   "cell_type": "code",
   "execution_count": 34,
   "metadata": {},
   "outputs": [
    {
     "name": "stdout",
     "output_type": "stream",
     "text": [
      "Running on local machine\n",
      "Parent Run ID: AutoML_0cdf4f3c-e0e0-4fc1-98bc-e09d8760e428\n",
      "Current status: DatasetCrossValidationSplit. Generating CV splits.\n",
      "\n",
      "****************************************************************************************************\n",
      "DATA GUARDRAILS SUMMARY:\n",
      "For more details, use API: run.get_guardrails()\n",
      "\n",
      "TYPE:         Class balancing detection\n",
      "STATUS:       PASSED\n",
      "DESCRIPTION:  Classes are balanced in the training data.\n",
      "\n",
      "****************************************************************************************************\n",
      "Current status: ModelSelection. Beginning model selection.\n",
      "\n",
      "****************************************************************************************************\n",
      "ITERATION: The iteration being evaluated.\n",
      "PIPELINE: A summary description of the pipeline being evaluated.\n",
      "DURATION: Time taken for the current iteration.\n",
      "METRIC: The result of computing score on the fitted pipeline.\n",
      "BEST: The best observed score thus far.\n",
      "****************************************************************************************************\n",
      "\n",
      " ITERATION   PIPELINE                                       DURATION      METRIC      BEST\n",
      "         0   StandardScalerWrapper SGD                      0:00:12       0.9942    0.9942\n",
      "         1   StandardScalerWrapper SGD                      0:00:12       0.9970    0.9970\n",
      "         2   MinMaxScaler LightGBM                          0:00:13       0.9977    0.9977\n",
      "         3   StandardScalerWrapper SGD                      0:00:11       0.9893    0.9977\n",
      "         4   StandardScalerWrapper ExtremeRandomTrees       0:00:14       0.9965    0.9977\n",
      "         5   StandardScalerWrapper LightGBM                 0:00:11       0.9974    0.9977\n",
      "         6   StandardScalerWrapper SGD                      0:00:13       0.9967    0.9977\n",
      "         7   MinMaxScaler RandomForest                      0:00:12       0.9836    0.9977\n",
      "         8   StandardScalerWrapper SGD                      0:00:13       0.9838    0.9977\n",
      "         9   MinMaxScaler SGD                               0:00:12       0.9960    0.9977\n",
      "        10   MinMaxScaler RandomForest                      0:00:12       0.9849    0.9977\n",
      "        11   MaxAbsScaler LightGBM                          0:00:13       0.9892    0.9977\n",
      "        12   MinMaxScaler LightGBM                          0:00:13       0.9982    0.9982\n",
      "        13   MinMaxScaler ExtremeRandomTrees                0:00:13       0.9743    0.9982\n",
      "        14   MinMaxScaler LightGBM                          0:00:14       0.9895    0.9982\n",
      "        15   StandardScalerWrapper BernoulliNaiveBayes      0:00:13       0.9840    0.9982\n",
      "        16   StandardScalerWrapper LogisticRegression       0:00:15       0.9960    0.9982\n",
      "        17   RobustScaler LightGBM                          0:00:16       0.9978    0.9982\n",
      "        18   MaxAbsScaler LightGBM                          0:00:22       0.9980    0.9982\n",
      "        19   RobustScaler LightGBM                          0:00:25       0.9986    0.9986\n",
      "        20   RobustScaler LightGBM                          0:00:16       0.9941    0.9986\n",
      "        21   MaxAbsScaler LightGBM                          0:00:16       0.9982    0.9986\n",
      "        22   RobustScaler GradientBoosting                  0:01:00       0.9991    0.9991\n",
      "        23   RobustScaler LightGBM                          0:00:25       0.9988    0.9991\n",
      "        24   RobustScaler LightGBM                          0:00:17       0.9982    0.9991\n",
      "        25   SparseNormalizer GradientBoosting              0:00:25       0.5000    0.9991\n",
      "        26   RobustScaler LogisticRegression                0:00:15       0.9965    0.9991\n",
      "        27   StandardScalerWrapper LightGBM                 0:00:19       0.9990    0.9991\n",
      "        28   SparseNormalizer GradientBoosting              0:00:21       0.9972    0.9991\n",
      "        29   RobustScaler SVM                               0:00:15       0.9994    0.9994\n",
      "        30   MinMaxScaler SVM                               0:00:18       0.9986    0.9994\n",
      "        31   StandardScalerWrapper LogisticRegression       0:00:15       0.9988    0.9994\n",
      "        32   StandardScalerWrapper LogisticRegression       0:00:13       0.9987    0.9994\n",
      "        33   StandardScalerWrapper GradientBoosting         0:01:13       0.9992    0.9994\n",
      "        34   VotingEnsemble                                 0:00:36       0.9997    0.9997\n",
      "        35   StackEnsemble                                  0:00:46       0.9603    0.9997\n",
      "Stopping criteria reached at iteration 35. Ending experiment.\n",
      "CPU times: user 41.5 s, sys: 6.83 s, total: 48.4 s\n",
      "Wall time: 12min 18s\n"
     ]
    }
   ],
   "source": [
    "%%time\n",
    "local_run = experiment.submit(automl_config, show_output = True)"
   ]
  },
  {
   "cell_type": "code",
   "execution_count": 35,
   "metadata": {},
   "outputs": [
    {
     "data": {
      "text/html": [
       "<table style=\"width:100%\"><tr><th>Experiment</th><th>Id</th><th>Type</th><th>Status</th><th>Details Page</th><th>Docs Page</th></tr><tr><td>workshop2</td><td>AutoML_0cdf4f3c-e0e0-4fc1-98bc-e09d8760e428</td><td>automl</td><td>Running</td><td><a href=\"https://ml.azure.com/experiments/workshop2/runs/AutoML_0cdf4f3c-e0e0-4fc1-98bc-e09d8760e428?wsid=/subscriptions/70b8f39e-8863-49f7-b6ba-34a80799550c/resourcegroups/workshopmlRG/workspaces/workshopml\" target=\"_blank\" rel=\"noopener\">Link to Azure Machine Learning studio</a></td><td><a href=\"https://docs.microsoft.com/en-us/python/api/overview/azure/ml/intro?view=azure-ml-py\" target=\"_blank\" rel=\"noopener\">Link to Documentation</a></td></tr></table>"
      ],
      "text/plain": [
       "Run(Experiment: workshop2,\n",
       "Id: AutoML_0cdf4f3c-e0e0-4fc1-98bc-e09d8760e428,\n",
       "Type: automl,\n",
       "Status: Running)"
      ]
     },
     "execution_count": 35,
     "metadata": {},
     "output_type": "execute_result"
    }
   ],
   "source": [
    "local_run"
   ]
  },
  {
   "cell_type": "markdown",
   "metadata": {},
   "source": [
    "## 6. Exploration des résultats AutoML"
   ]
  },
  {
   "cell_type": "markdown",
   "metadata": {},
   "source": [
    "### 6.1 Notebook Widget\n",
    "\n",
    "The widget will first report a \"loading\" status while running the first iteration. After completing the first iteration, an auto-updating graph and table will be shown. The widget will refresh once per minute, so you should see the graph update as child runs complete.\n",
    "\n",
    "**Note:** The widget displays a link at the bottom. Use this link to open a web interface to explore the individual run details."
   ]
  },
  {
   "cell_type": "code",
   "execution_count": 36,
   "metadata": {},
   "outputs": [
    {
     "data": {
      "application/vnd.jupyter.widget-view+json": {
       "model_id": "3f4cbcd66a1f42e3a9f67a70314e5e39",
       "version_major": 2,
       "version_minor": 0
      },
      "text/plain": [
       "_AutoMLWidget(widget_settings={'childWidgetDisplay': 'popup', 'send_telemetry': False, 'log_level': 'INFO', 's…"
      ]
     },
     "metadata": {},
     "output_type": "display_data"
    },
    {
     "data": {
      "application/aml.mini.widget.v1": "{\"status\": \"Completed\", \"workbench_run_details_uri\": \"https://ml.azure.com/experiments/workshop2/runs/AutoML_0cdf4f3c-e0e0-4fc1-98bc-e09d8760e428?wsid=/subscriptions/70b8f39e-8863-49f7-b6ba-34a80799550c/resourcegroups/workshopmlRG/workspaces/workshopml\", \"run_id\": \"AutoML_0cdf4f3c-e0e0-4fc1-98bc-e09d8760e428\", \"run_properties\": {\"run_id\": \"AutoML_0cdf4f3c-e0e0-4fc1-98bc-e09d8760e428\", \"created_utc\": \"2019-11-21T09:50:59.912755Z\", \"properties\": {\"num_iterations\": \"1000\", \"training_type\": \"TrainFull\", \"acquisition_function\": \"EI\", \"primary_metric\": \"AUC_weighted\", \"train_split\": \"0\", \"MaxTimeSeconds\": \"300\", \"acquisition_parameter\": \"0\", \"num_cross_validation\": \"3\", \"target\": \"local\", \"RawAMLSettingsString\": \"{'name': 'workshop2', 'path': './sample_projects/workshop2', 'subscription_id': '70b8f39e-8863-49f7-b6ba-34a80799550c', 'resource_group': 'workshopmlRG', 'workspace_name': 'workshopml', 'region': 'northeurope', 'compute_target': 'local', 'spark_service': None, 'azure_service': None, 'iterations': 1000, 'primary_metric': 'AUC_weighted', 'task_type': 'classification', 'data_script': None, 'validation_size': 0.0, 'n_cross_validations': 3, 'y_min': None, 'y_max': None, 'num_classes': 10, 'featurization': 'off', 'preprocess': False, 'lag_length': 0, 'is_timeseries': False, 'max_cores_per_iteration': 1, 'max_concurrent_iterations': 1, 'iteration_timeout_minutes': 5, 'mem_in_mb': None, 'enforce_time_on_windows': False, 'experiment_timeout_minutes': 10, 'experiment_exit_score': None, 'whitelist_models': None, 'blacklist_algos': ['XGBoostClassifier', 'Prophet'], 'supported_models': ['MultinomialNaiveBayes', 'RandomForest', 'DecisionTree', 'BernoulliNaiveBayes', 'LinearSVM', 'LightGBM', 'SGD', 'TensorFlowLinearClassifier', 'GradientBoosting', 'SVM', 'LogisticRegression', 'KNN', 'AveragedPerceptronClassifier', 'ExtremeRandomTrees', 'XGBoostClassifier', 'TensorFlowDNN', 'LinearSVMClassifier'], 'auto_blacklist': True, 'blacklist_samples_reached': False, 'exclude_nan_labels': True, 'verbosity': 20, 'debug_log': 'automl_errors.log', 'show_warnings': False, 'model_explainability': False, 'service_url': None, 'sdk_url': None, 'sdk_packages': None, 'enable_onnx_compatible_models': False, 'enable_split_onnx_featurizer_estimator_models': False, 'vm_type': None, 'telemetry_verbosity': 'INFO', 'send_telemetry': True, 'enable_dnn': False, 'enable_feature_sweeping': True, 'enable_early_stopping': True, 'early_stopping_n_iters': 10, 'metrics': None, 'enable_ensembling': True, 'enable_stack_ensembling': True, 'ensemble_iterations': 15, 'enable_tf': False, 'enable_cache': True, 'enable_subsampling': None, 'subsample_seed': None, 'enable_nimbusml': False, 'enable_streaming': False, 'label_column_name': None, 'weight_column_name': None, 'cost_mode': 0, 'metric_operation': 'maximize'}\", \"AMLSettingsJsonString\": \"{\\\"name\\\":\\\"workshop2\\\",\\\"path\\\":\\\"./sample_projects/workshop2\\\",\\\"subscription_id\\\":\\\"70b8f39e-8863-49f7-b6ba-34a80799550c\\\",\\\"resource_group\\\":\\\"workshopmlRG\\\",\\\"workspace_name\\\":\\\"workshopml\\\",\\\"region\\\":\\\"northeurope\\\",\\\"compute_target\\\":\\\"local\\\",\\\"spark_service\\\":null,\\\"azure_service\\\":null,\\\"iterations\\\":1000,\\\"primary_metric\\\":\\\"AUC_weighted\\\",\\\"task_type\\\":\\\"classification\\\",\\\"data_script\\\":null,\\\"validation_size\\\":0.0,\\\"n_cross_validations\\\":3,\\\"y_min\\\":null,\\\"y_max\\\":null,\\\"num_classes\\\":10,\\\"featurization\\\":\\\"off\\\",\\\"preprocess\\\":false,\\\"lag_length\\\":0,\\\"is_timeseries\\\":false,\\\"max_cores_per_iteration\\\":1,\\\"max_concurrent_iterations\\\":1,\\\"iteration_timeout_minutes\\\":5,\\\"mem_in_mb\\\":null,\\\"enforce_time_on_windows\\\":false,\\\"experiment_timeout_minutes\\\":10,\\\"experiment_exit_score\\\":null,\\\"whitelist_models\\\":null,\\\"blacklist_algos\\\":[\\\"XGBoostClassifier\\\",\\\"Prophet\\\",\\\"AutoArima\\\"],\\\"supported_models\\\":[\\\"MultinomialNaiveBayes\\\",\\\"RandomForest\\\",\\\"DecisionTree\\\",\\\"BernoulliNaiveBayes\\\",\\\"LinearSVM\\\",\\\"LightGBM\\\",\\\"SGD\\\",\\\"TensorFlowLinearClassifier\\\",\\\"GradientBoosting\\\",\\\"SVM\\\",\\\"LogisticRegression\\\",\\\"KNN\\\",\\\"AveragedPerceptronClassifier\\\",\\\"ExtremeRandomTrees\\\",\\\"XGBoostClassifier\\\",\\\"TensorFlowDNN\\\",\\\"LinearSVMClassifier\\\"],\\\"auto_blacklist\\\":true,\\\"blacklist_samples_reached\\\":false,\\\"exclude_nan_labels\\\":true,\\\"verbosity\\\":20,\\\"debug_log\\\":\\\"automl_errors.log\\\",\\\"show_warnings\\\":false,\\\"model_explainability\\\":false,\\\"service_url\\\":null,\\\"sdk_url\\\":null,\\\"sdk_packages\\\":null,\\\"enable_onnx_compatible_models\\\":false,\\\"enable_split_onnx_featurizer_estimator_models\\\":false,\\\"vm_type\\\":null,\\\"telemetry_verbosity\\\":\\\"INFO\\\",\\\"send_telemetry\\\":true,\\\"enable_dnn\\\":false,\\\"enable_feature_sweeping\\\":true,\\\"enable_early_stopping\\\":true,\\\"early_stopping_n_iters\\\":10,\\\"metrics\\\":null,\\\"enable_ensembling\\\":true,\\\"enable_stack_ensembling\\\":true,\\\"ensemble_iterations\\\":15,\\\"enable_tf\\\":false,\\\"enable_cache\\\":true,\\\"enable_subsampling\\\":null,\\\"subsample_seed\\\":null,\\\"enable_nimbusml\\\":false,\\\"enable_streaming\\\":false,\\\"label_column_name\\\":null,\\\"weight_column_name\\\":null,\\\"cost_mode\\\":0,\\\"metric_operation\\\":\\\"maximize\\\"}\", \"DataPrepJsonString\": null, \"EnableSubsampling\": null, \"runTemplate\": \"AutoML\", \"azureml.runsource\": \"automl\", \"display_task_type\": \"classification\", \"dependencies_versions\": \"{\\\"azureml-widgets\\\": \\\"1.0.74\\\", \\\"azureml-train\\\": \\\"1.0.74\\\", \\\"azureml-train-restclients-hyperdrive\\\": \\\"1.0.74\\\", \\\"azureml-train-core\\\": \\\"1.0.74\\\", \\\"azureml-train-automl\\\": \\\"1.0.74\\\", \\\"azureml-tensorboard\\\": \\\"1.0.74\\\", \\\"azureml-telemetry\\\": \\\"1.0.74\\\", \\\"azureml-sdk\\\": \\\"1.0.74\\\", \\\"azureml-samples\\\": \\\"0+unknown\\\", \\\"azureml-pipeline\\\": \\\"1.0.74\\\", \\\"azureml-pipeline-steps\\\": \\\"1.0.74\\\", \\\"azureml-pipeline-core\\\": \\\"1.0.74\\\", \\\"azureml-opendatasets\\\": \\\"1.0.74\\\", \\\"azureml-model-management-sdk\\\": \\\"1.0.1b6.post1\\\", \\\"azureml-mlflow\\\": \\\"1.0.74\\\", \\\"azureml-interpret\\\": \\\"1.0.74\\\", \\\"azureml-explain-model\\\": \\\"1.0.74\\\", \\\"azureml-defaults\\\": \\\"1.0.74\\\", \\\"azureml-dataprep\\\": \\\"1.1.30\\\", \\\"azureml-dataprep-native\\\": \\\"13.1.0\\\", \\\"azureml-datadrift\\\": \\\"1.0.74\\\", \\\"azureml-core\\\": \\\"1.0.74\\\", \\\"azureml-contrib-services\\\": \\\"1.0.74\\\", \\\"azureml-contrib-server\\\": \\\"1.0.74\\\", \\\"azureml-contrib-reinforcementlearning\\\": \\\"0.1.0.5919674\\\", \\\"azureml-contrib-opendatasets\\\": \\\"1.0.45\\\", \\\"azureml-contrib-notebook\\\": \\\"1.0.74\\\", \\\"azureml-contrib-interpret\\\": \\\"1.0.74\\\", \\\"azureml-contrib-datadrift\\\": \\\"1.0.74\\\", \\\"azureml-automl-core\\\": \\\"1.0.74\\\"}\", \"ProblemInfoJsonString\": \"{\\\"dataset_num_categorical\\\": 0, \\\"is_sparse\\\": false, \\\"subsampling\\\": false, \\\"dataset_classes\\\": 10, \\\"dataset_features\\\": 64, \\\"dataset_samples\\\": 1697, \\\"single_frequency_class_detected\\\": false}\"}, \"tags\": {\"model_explain_run\": \"best_run\", \"experiment_status\": \"ModelSelection\", \"experiment_status_descr\": \"Beginning model selection.\", \"dynamic_whitelisting_iterations\": \"<20>;<25>;<30>;\"}, \"end_time_utc\": \"2019-11-21T10:03:14.517651Z\", \"status\": \"Completed\", \"log_files\": {}, \"log_groups\": [], \"run_duration\": \"0:12:14\"}, \"child_runs\": [{\"run_id\": \"AutoML_0cdf4f3c-e0e0-4fc1-98bc-e09d8760e428_0\", \"run_number\": 24, \"metric\": null, \"status\": \"Completed\", \"run_type\": null, \"training_percent\": \"100\", \"start_time\": \"2019-11-21T09:51:03.201173Z\", \"end_time\": \"2019-11-21T09:51:14.972041Z\", \"created_time\": \"2019-11-21T09:51:03.128573Z\", \"created_time_dt\": \"2019-11-21T09:51:03.128573Z\", \"duration\": \"0:00:11\", \"iteration\": \"0\", \"goal\": \"AUC_weighted_max\", \"run_name\": \"StandardScalerWrapper, SGD\", \"run_properties\": \"alpha=2.653134693877551, class_weight=None, eta0=0.0001,\\n           fit_intercept=True, l1_ratio=0.36734693877551017,\\n           learning_rate='constant', loss='modified_huber', max_iter=1000,\\n           n_jobs=1, penalty='none', power_t=0.1111111111111111,\\n           random_state=None, tol=0.001\", \"primary_metric\": 0.99415154, \"best_metric\": 0.99415154}, {\"run_id\": \"AutoML_0cdf4f3c-e0e0-4fc1-98bc-e09d8760e428_1\", \"run_number\": 25, \"metric\": null, \"status\": \"Completed\", \"run_type\": null, \"training_percent\": \"100\", \"start_time\": \"2019-11-21T09:51:16.574826Z\", \"end_time\": \"2019-11-21T09:51:27.864576Z\", \"created_time\": \"2019-11-21T09:51:16.441551Z\", \"created_time_dt\": \"2019-11-21T09:51:16.441551Z\", \"duration\": \"0:00:11\", \"iteration\": \"1\", \"goal\": \"AUC_weighted_max\", \"run_name\": \"StandardScalerWrapper, SGD\", \"run_properties\": \"alpha=1.4286571428571428, class_weight=None, eta0=0.01,\\n           fit_intercept=True, l1_ratio=0.7551020408163265,\\n           learning_rate='constant', loss='log', max_iter=1000, n_jobs=1,\\n           penalty='none', power_t=0.4444444444444444, random_state=None,\\n           tol=0.001\", \"primary_metric\": 0.99701888, \"best_metric\": 0.99701888}, {\"run_id\": \"AutoML_0cdf4f3c-e0e0-4fc1-98bc-e09d8760e428_2\", \"run_number\": 26, \"metric\": null, \"status\": \"Completed\", \"run_type\": null, \"training_percent\": \"100\", \"start_time\": \"2019-11-21T09:51:28.99433Z\", \"end_time\": \"2019-11-21T09:51:40.705582Z\", \"created_time\": \"2019-11-21T09:51:28.803201Z\", \"created_time_dt\": \"2019-11-21T09:51:28.803201Z\", \"duration\": \"0:00:11\", \"iteration\": \"2\", \"goal\": \"AUC_weighted_max\", \"run_name\": \"MinMaxScaler, LightGBM\", \"run_properties\": \"boosting_type='goss', class_weight=None,\\n          colsample_bytree=0.7922222222222222, importance_type='split',\\n          learning_rate=0.1, max_bin=170, max_depth=4,\\n          min_child_samples=65, min_child_weight=4,\\n          min_split_gain=0.8421052631578947, n_estimators=50, n_jobs=1,\\n          num_leaves=62, objective=None, random_state=None,\\n          reg_alpha=0.7894736842105263, reg_lambda=0.15789473684210525,\\n          silent=True, subsample=1, subsample_for_bin=200000,\\n          subsample_freq=0, verbose=-10\", \"primary_metric\": 0.99765641, \"best_metric\": 0.99765641}, {\"run_id\": \"AutoML_0cdf4f3c-e0e0-4fc1-98bc-e09d8760e428_3\", \"run_number\": 27, \"metric\": null, \"status\": \"Completed\", \"run_type\": null, \"training_percent\": \"100\", \"start_time\": \"2019-11-21T09:51:41.960856Z\", \"end_time\": \"2019-11-21T09:51:52.684606Z\", \"created_time\": \"2019-11-21T09:51:41.879285Z\", \"created_time_dt\": \"2019-11-21T09:51:41.879285Z\", \"duration\": \"0:00:10\", \"iteration\": \"3\", \"goal\": \"AUC_weighted_max\", \"run_name\": \"StandardScalerWrapper, SGD\", \"run_properties\": \"alpha=0.0001, class_weight='balanced', eta0=0.0001,\\n           fit_intercept=False, l1_ratio=0.3469387755102041,\\n           learning_rate='constant', loss='modified_huber', max_iter=1000,\\n           n_jobs=1, penalty='l2', power_t=0.2222222222222222,\\n           random_state=None, tol=0.01\", \"primary_metric\": 0.98926211, \"best_metric\": 0.99765641}, {\"run_id\": \"AutoML_0cdf4f3c-e0e0-4fc1-98bc-e09d8760e428_4\", \"run_number\": 28, \"metric\": null, \"status\": \"Completed\", \"run_type\": null, \"training_percent\": \"100\", \"start_time\": \"2019-11-21T09:51:55.378615Z\", \"end_time\": \"2019-11-21T09:52:06.877562Z\", \"created_time\": \"2019-11-21T09:51:55.246369Z\", \"created_time_dt\": \"2019-11-21T09:51:55.246369Z\", \"duration\": \"0:00:11\", \"iteration\": \"4\", \"goal\": \"AUC_weighted_max\", \"run_name\": \"StandardScalerWrapper, ExtremeRandomTrees\", \"run_properties\": \"bootstrap=True, class_weight=None, criterion='entropy',\\n           max_depth=None, max_features='sqrt', max_leaf_nodes=None,\\n           min_impurity_decrease=0.0, min_impurity_split=None,\\n           min_samples_leaf=0.01, min_samples_split=0.01,\\n           min_weight_fraction_leaf=0.0, n_estimators=100, n_jobs=1,\\n           oob_score=False, random_state=None, verbose=0, warm_start=False\", \"primary_metric\": 0.99645835, \"best_metric\": 0.99765641}, {\"run_id\": \"AutoML_0cdf4f3c-e0e0-4fc1-98bc-e09d8760e428_5\", \"run_number\": 29, \"metric\": null, \"status\": \"Completed\", \"run_type\": null, \"training_percent\": \"100\", \"start_time\": \"2019-11-21T09:52:07.842973Z\", \"end_time\": \"2019-11-21T09:52:18.763732Z\", \"created_time\": \"2019-11-21T09:52:07.751721Z\", \"created_time_dt\": \"2019-11-21T09:52:07.751721Z\", \"duration\": \"0:00:11\", \"iteration\": \"5\", \"goal\": \"AUC_weighted_max\", \"run_name\": \"StandardScalerWrapper, LightGBM\", \"run_properties\": \"boosting_type='gbdt', class_weight=None,\\n          colsample_bytree=0.6933333333333332, importance_type='split',\\n          learning_rate=0.07894947368421053, max_bin=240, max_depth=3,\\n          min_child_samples=30, min_child_weight=6,\\n          min_split_gain=0.631578947368421, n_estimators=50, n_jobs=1,\\n          num_leaves=65, objective=None, random_state=None,\\n          reg_alpha=0.5789473684210527, reg_lambda=0.631578947368421,\\n          silent=True, subsample=0.3963157894736842,\\n          subsample_for_bin=200000, subsample_freq=0, verbose=-10\", \"primary_metric\": 0.99738858, \"best_metric\": 0.99765641}, {\"run_id\": \"AutoML_0cdf4f3c-e0e0-4fc1-98bc-e09d8760e428_6\", \"run_number\": 30, \"metric\": null, \"status\": \"Completed\", \"run_type\": null, \"training_percent\": \"100\", \"start_time\": \"2019-11-21T09:52:19.967718Z\", \"end_time\": \"2019-11-21T09:52:32.617505Z\", \"created_time\": \"2019-11-21T09:52:19.843718Z\", \"created_time_dt\": \"2019-11-21T09:52:19.843718Z\", \"duration\": \"0:00:12\", \"iteration\": \"6\", \"goal\": \"AUC_weighted_max\", \"run_name\": \"StandardScalerWrapper, SGD\", \"run_properties\": \"alpha=1.2245775510204082, class_weight=None, eta0=0.01,\\n           fit_intercept=True, l1_ratio=0.2040816326530612,\\n           learning_rate='constant', loss='log', max_iter=1000, n_jobs=1,\\n           penalty='none', power_t=0.1111111111111111, random_state=None,\\n           tol=0.01\", \"primary_metric\": 0.99673766, \"best_metric\": 0.99765641}, {\"run_id\": \"AutoML_0cdf4f3c-e0e0-4fc1-98bc-e09d8760e428_7\", \"run_number\": 31, \"metric\": null, \"status\": \"Completed\", \"run_type\": null, \"training_percent\": \"100\", \"start_time\": \"2019-11-21T09:52:34.144797Z\", \"end_time\": \"2019-11-21T09:52:45.501404Z\", \"created_time\": \"2019-11-21T09:52:33.830354Z\", \"created_time_dt\": \"2019-11-21T09:52:33.830354Z\", \"duration\": \"0:00:11\", \"iteration\": \"7\", \"goal\": \"AUC_weighted_max\", \"run_name\": \"MinMaxScaler, RandomForest\", \"run_properties\": \"bootstrap=False, class_weight='balanced',\\n            criterion='entropy', max_depth=None, max_features='sqrt',\\n            max_leaf_nodes=None, min_impurity_decrease=0.0,\\n            min_impurity_split=None, min_samples_leaf=0.06157894736842105,\\n            min_samples_split=0.15052631578947367,\\n            min_weight_fraction_leaf=0.0, n_estimators=25, n_jobs=1,\\n            oob_score=False, random_state=None, verbose=0,\\n            warm_start=False\", \"primary_metric\": 0.98355977, \"best_metric\": 0.99765641}, {\"run_id\": \"AutoML_0cdf4f3c-e0e0-4fc1-98bc-e09d8760e428_8\", \"run_number\": 32, \"metric\": null, \"status\": \"Completed\", \"run_type\": null, \"training_percent\": \"100\", \"start_time\": \"2019-11-21T09:52:46.624222Z\", \"end_time\": \"2019-11-21T09:52:59.086282Z\", \"created_time\": \"2019-11-21T09:52:46.546741Z\", \"created_time_dt\": \"2019-11-21T09:52:46.546741Z\", \"duration\": \"0:00:12\", \"iteration\": \"8\", \"goal\": \"AUC_weighted_max\", \"run_name\": \"StandardScalerWrapper, SGD\", \"run_properties\": \"alpha=4.693930612244897, class_weight=None, eta0=1e-05,\\n           fit_intercept=False, l1_ratio=0.6122448979591836,\\n           learning_rate='optimal', loss='log', max_iter=1000, n_jobs=1,\\n           penalty='l2', power_t=0.2222222222222222, random_state=None,\\n           tol=0.001\", \"primary_metric\": 0.98376984, \"best_metric\": 0.99765641}, {\"run_id\": \"AutoML_0cdf4f3c-e0e0-4fc1-98bc-e09d8760e428_9\", \"run_number\": 33, \"metric\": null, \"status\": \"Completed\", \"run_type\": null, \"training_percent\": \"100\", \"start_time\": \"2019-11-21T09:53:00.446874Z\", \"end_time\": \"2019-11-21T09:53:11.919837Z\", \"created_time\": \"2019-11-21T09:53:00.288144Z\", \"created_time_dt\": \"2019-11-21T09:53:00.288144Z\", \"duration\": \"0:00:11\", \"iteration\": \"9\", \"goal\": \"AUC_weighted_max\", \"run_name\": \"MinMaxScaler, SGD\", \"run_properties\": \"alpha=0.0001, class_weight='balanced', eta0=0.001,\\n           fit_intercept=False, l1_ratio=0.16326530612244897,\\n           learning_rate='constant', loss='squared_hinge', max_iter=1000,\\n           n_jobs=1, penalty='l2', power_t=0.7777777777777777,\\n           random_state=None, tol=0.01\", \"primary_metric\": 0.99599868, \"best_metric\": 0.99765641}, {\"run_id\": \"AutoML_0cdf4f3c-e0e0-4fc1-98bc-e09d8760e428_10\", \"run_number\": 34, \"metric\": null, \"status\": \"Completed\", \"run_type\": null, \"training_percent\": \"100\", \"start_time\": \"2019-11-21T09:53:13.050789Z\", \"end_time\": \"2019-11-21T09:53:24.419213Z\", \"created_time\": \"2019-11-21T09:53:12.915399Z\", \"created_time_dt\": \"2019-11-21T09:53:12.915399Z\", \"duration\": \"0:00:11\", \"iteration\": \"10\", \"goal\": \"AUC_weighted_max\", \"run_name\": \"MinMaxScaler, RandomForest\", \"run_properties\": \"bootstrap=True, class_weight=None, criterion='gini',\\n            max_depth=None, max_features='sqrt', max_leaf_nodes=None,\\n            min_impurity_decrease=0.0, min_impurity_split=None,\\n            min_samples_leaf=0.035789473684210524, min_samples_split=0.01,\\n            min_weight_fraction_leaf=0.0, n_estimators=10, n_jobs=1,\\n            oob_score=True, random_state=None, verbose=0, warm_start=False\", \"primary_metric\": 0.9848799, \"best_metric\": 0.99765641}, {\"run_id\": \"AutoML_0cdf4f3c-e0e0-4fc1-98bc-e09d8760e428_11\", \"run_number\": 35, \"metric\": null, \"status\": \"Completed\", \"run_type\": null, \"training_percent\": \"100\", \"start_time\": \"2019-11-21T09:53:25.502164Z\", \"end_time\": \"2019-11-21T09:53:38.498889Z\", \"created_time\": \"2019-11-21T09:53:25.416624Z\", \"created_time_dt\": \"2019-11-21T09:53:25.416624Z\", \"duration\": \"0:00:13\", \"iteration\": \"11\", \"goal\": \"AUC_weighted_max\", \"run_name\": \"MaxAbsScaler, LightGBM\", \"run_properties\": \"boosting_type='goss', class_weight=None,\\n          colsample_bytree=0.99, importance_type='split',\\n          learning_rate=0.1, max_bin=40, max_depth=10,\\n          min_child_samples=47, min_child_weight=0,\\n          min_split_gain=0.7368421052631579, n_estimators=10, n_jobs=1,\\n          num_leaves=125, objective=None, random_state=None,\\n          reg_alpha=0.8421052631578947, reg_lambda=0.8421052631578947,\\n          silent=True, subsample=1, subsample_for_bin=200000,\\n          subsample_freq=0, verbose=-10\", \"primary_metric\": 0.98920468, \"best_metric\": 0.99765641}, {\"run_id\": \"AutoML_0cdf4f3c-e0e0-4fc1-98bc-e09d8760e428_12\", \"run_number\": 36, \"metric\": null, \"status\": \"Completed\", \"run_type\": null, \"training_percent\": \"100\", \"start_time\": \"2019-11-21T09:53:39.539428Z\", \"end_time\": \"2019-11-21T09:53:52.097878Z\", \"created_time\": \"2019-11-21T09:53:39.404003Z\", \"created_time_dt\": \"2019-11-21T09:53:39.404003Z\", \"duration\": \"0:00:12\", \"iteration\": \"12\", \"goal\": \"AUC_weighted_max\", \"run_name\": \"MinMaxScaler, LightGBM\", \"run_properties\": \"boosting_type='gbdt', class_weight=None,\\n          colsample_bytree=0.8911111111111111, importance_type='split',\\n          learning_rate=0.08947473684210526, max_bin=170, max_depth=10,\\n          min_child_samples=129, min_child_weight=4,\\n          min_split_gain=0.5263157894736842, n_estimators=100, n_jobs=1,\\n          num_leaves=164, objective=None, random_state=None, reg_alpha=1,\\n          reg_lambda=0, silent=True, subsample=0.09947368421052633,\\n          subsample_for_bin=200000, subsample_freq=0, verbose=-10\", \"primary_metric\": 0.99819442, \"best_metric\": 0.99819442}, {\"run_id\": \"AutoML_0cdf4f3c-e0e0-4fc1-98bc-e09d8760e428_13\", \"run_number\": 37, \"metric\": null, \"status\": \"Completed\", \"run_type\": null, \"training_percent\": \"100\", \"start_time\": \"2019-11-21T09:53:53.56344Z\", \"end_time\": \"2019-11-21T09:54:05.522464Z\", \"created_time\": \"2019-11-21T09:53:53.387529Z\", \"created_time_dt\": \"2019-11-21T09:53:53.387529Z\", \"duration\": \"0:00:12\", \"iteration\": \"13\", \"goal\": \"AUC_weighted_max\", \"run_name\": \"MinMaxScaler, ExtremeRandomTrees\", \"run_properties\": \"bootstrap=True, class_weight=None, criterion='gini',\\n           max_depth=None, max_features=0.9, max_leaf_nodes=None,\\n           min_impurity_decrease=0.0, min_impurity_split=None,\\n           min_samples_leaf=0.01, min_samples_split=0.15052631578947367,\\n           min_weight_fraction_leaf=0.0, n_estimators=10, n_jobs=1,\\n           oob_score=True, random_state=None, verbose=0, warm_start=False\", \"primary_metric\": 0.9742796, \"best_metric\": 0.99819442}, {\"run_id\": \"AutoML_0cdf4f3c-e0e0-4fc1-98bc-e09d8760e428_14\", \"run_number\": 38, \"metric\": null, \"status\": \"Completed\", \"run_type\": null, \"training_percent\": \"100\", \"start_time\": \"2019-11-21T09:54:06.9147Z\", \"end_time\": \"2019-11-21T09:54:19.599704Z\", \"created_time\": \"2019-11-21T09:54:06.713892Z\", \"created_time_dt\": \"2019-11-21T09:54:06.713892Z\", \"duration\": \"0:00:12\", \"iteration\": \"14\", \"goal\": \"AUC_weighted_max\", \"run_name\": \"MinMaxScaler, LightGBM\", \"run_properties\": \"boosting_type='gbdt', class_weight=None,\\n          colsample_bytree=0.8911111111111111, importance_type='split',\\n          learning_rate=0.07894947368421053, max_bin=310, max_depth=10,\\n          min_child_samples=30, min_child_weight=9,\\n          min_split_gain=0.5263157894736842, n_estimators=10, n_jobs=1,\\n          num_leaves=182, objective=None, random_state=None,\\n          reg_alpha=0.5263157894736842, reg_lambda=0.3157894736842105,\\n          silent=True, subsample=0.19842105263157894,\\n          subsample_for_bin=200000, subsample_freq=0, verbose=-10\", \"primary_metric\": 0.98951878, \"best_metric\": 0.99819442}, {\"run_id\": \"AutoML_0cdf4f3c-e0e0-4fc1-98bc-e09d8760e428_15\", \"run_number\": 39, \"metric\": null, \"status\": \"Completed\", \"run_type\": null, \"training_percent\": \"100\", \"start_time\": \"2019-11-21T09:54:22.326722Z\", \"end_time\": \"2019-11-21T09:54:33.951775Z\", \"created_time\": \"2019-11-21T09:54:22.229497Z\", \"created_time_dt\": \"2019-11-21T09:54:22.229497Z\", \"duration\": \"0:00:11\", \"iteration\": \"15\", \"goal\": \"AUC_weighted_max\", \"run_name\": \"StandardScalerWrapper, BernoulliNaiveBayes\", \"run_properties\": \"alpha=0.42105263157894735, class_prior=None, fit_prior=False,\\n     model='Multinomial'\", \"primary_metric\": 0.98401286, \"best_metric\": 0.99819442}, {\"run_id\": \"AutoML_0cdf4f3c-e0e0-4fc1-98bc-e09d8760e428_16\", \"run_number\": 40, \"metric\": null, \"status\": \"Completed\", \"run_type\": null, \"training_percent\": \"100\", \"start_time\": \"2019-11-21T09:54:36.248447Z\", \"end_time\": \"2019-11-21T09:54:49.100189Z\", \"created_time\": \"2019-11-21T09:54:36.164975Z\", \"created_time_dt\": \"2019-11-21T09:54:36.164975Z\", \"duration\": \"0:00:12\", \"iteration\": \"16\", \"goal\": \"AUC_weighted_max\", \"run_name\": \"StandardScalerWrapper, LogisticRegression\", \"run_properties\": \"C=75.43120063354607, class_weight='balanced', dual=False,\\n          fit_intercept=True, intercept_scaling=1, max_iter=100,\\n          multi_class='ovr', n_jobs=1, penalty='l2', random_state=None,\\n          solver='lbfgs', tol=0.0001, verbose=0, warm_start=False\", \"primary_metric\": 0.99598713, \"best_metric\": 0.99819442}, {\"run_id\": \"AutoML_0cdf4f3c-e0e0-4fc1-98bc-e09d8760e428_17\", \"run_number\": 41, \"metric\": null, \"status\": \"Completed\", \"run_type\": null, \"training_percent\": \"100\", \"start_time\": \"2019-11-21T09:54:51.047732Z\", \"end_time\": \"2019-11-21T09:55:05.158499Z\", \"created_time\": \"2019-11-21T09:54:50.964658Z\", \"created_time_dt\": \"2019-11-21T09:54:50.964658Z\", \"duration\": \"0:00:14\", \"iteration\": \"17\", \"goal\": \"AUC_weighted_max\", \"run_name\": \"RobustScaler, LightGBM\", \"run_properties\": \"boosting_type='gbdt', class_weight=None,\\n          colsample_bytree=0.99, importance_type='split',\\n          learning_rate=0.05789894736842106, max_bin=200, max_depth=5,\\n          min_child_samples=100, min_child_weight=3,\\n          min_split_gain=0.894736842105263, n_estimators=200, n_jobs=1,\\n          num_leaves=134, objective=None, random_state=None,\\n          reg_alpha=0.894736842105263, reg_lambda=0.7894736842105263,\\n          silent=True, subsample=0.99, subsample_for_bin=200000,\\n          subsample_freq=0, verbose=-10\", \"primary_metric\": 0.99779937, \"best_metric\": 0.99819442}, {\"run_id\": \"AutoML_0cdf4f3c-e0e0-4fc1-98bc-e09d8760e428_18\", \"run_number\": 42, \"metric\": null, \"status\": \"Completed\", \"run_type\": null, \"training_percent\": \"100\", \"start_time\": \"2019-11-21T09:55:06.993372Z\", \"end_time\": \"2019-11-21T09:55:25.395377Z\", \"created_time\": \"2019-11-21T09:55:06.916384Z\", \"created_time_dt\": \"2019-11-21T09:55:06.916384Z\", \"duration\": \"0:00:18\", \"iteration\": \"18\", \"goal\": \"AUC_weighted_max\", \"run_name\": \"MaxAbsScaler, LightGBM\", \"run_properties\": \"boosting_type='gbdt', class_weight=None,\\n          colsample_bytree=0.7922222222222222, importance_type='split',\\n          learning_rate=0.06842421052631578, max_bin=190, max_depth=4,\\n          min_child_samples=1, min_child_weight=5,\\n          min_split_gain=0.7894736842105263, n_estimators=200, n_jobs=1,\\n          num_leaves=32, objective=None, random_state=None, reg_alpha=1,\\n          reg_lambda=0.7894736842105263, silent=True,\\n          subsample=0.9405263157894738, subsample_for_bin=200000,\\n          subsample_freq=0, verbose=-10\", \"primary_metric\": 0.99803139, \"best_metric\": 0.99819442}, {\"run_id\": \"AutoML_0cdf4f3c-e0e0-4fc1-98bc-e09d8760e428_19\", \"run_number\": 43, \"metric\": null, \"status\": \"Completed\", \"run_type\": null, \"training_percent\": \"100\", \"start_time\": \"2019-11-21T09:55:30.596404Z\", \"end_time\": \"2019-11-21T09:55:52.710115Z\", \"created_time\": \"2019-11-21T09:55:30.342065Z\", \"created_time_dt\": \"2019-11-21T09:55:30.342065Z\", \"duration\": \"0:00:22\", \"iteration\": \"19\", \"goal\": \"AUC_weighted_max\", \"run_name\": \"RobustScaler, LightGBM\", \"run_properties\": \"boosting_type='goss', class_weight=None,\\n          colsample_bytree=0.6933333333333332, importance_type='split',\\n          learning_rate=0.010535263157894737, max_bin=280, max_depth=7,\\n          min_child_samples=1, min_child_weight=10,\\n          min_split_gain=0.6842105263157894, n_estimators=600, n_jobs=1,\\n          num_leaves=5, objective=None, random_state=None,\\n          reg_alpha=0.10526315789473684, reg_lambda=0.6842105263157894,\\n          silent=True, subsample=1, subsample_for_bin=200000,\\n          subsample_freq=0, verbose=-10\", \"primary_metric\": 0.99860895, \"best_metric\": 0.99860895}, {\"run_id\": \"AutoML_0cdf4f3c-e0e0-4fc1-98bc-e09d8760e428_20\", \"run_number\": 44, \"metric\": null, \"status\": \"Completed\", \"run_type\": null, \"training_percent\": \"100\", \"start_time\": \"2019-11-21T09:55:56.373569Z\", \"end_time\": \"2019-11-21T09:56:09.51594Z\", \"created_time\": \"2019-11-21T09:55:55.85431Z\", \"created_time_dt\": \"2019-11-21T09:55:55.85431Z\", \"duration\": \"0:00:13\", \"iteration\": \"20\", \"goal\": \"AUC_weighted_max\", \"run_name\": \"RobustScaler, LightGBM\", \"run_properties\": \"boosting_type='gbdt', class_weight=None,\\n          colsample_bytree=0.8911111111111111, importance_type='split',\\n          learning_rate=0.03158578947368421, max_bin=80, max_depth=7,\\n          min_child_samples=164, min_child_weight=7,\\n          min_split_gain=0.3157894736842105, n_estimators=100, n_jobs=1,\\n          num_leaves=86, objective=None, random_state=None,\\n          reg_alpha=0.5789473684210527, reg_lambda=0.3684210526315789,\\n          silent=True, subsample=0.19842105263157894,\\n          subsample_for_bin=200000, subsample_freq=0, verbose=-10\", \"primary_metric\": 0.99410353, \"best_metric\": 0.99860895}, {\"run_id\": \"AutoML_0cdf4f3c-e0e0-4fc1-98bc-e09d8760e428_21\", \"run_number\": 45, \"metric\": null, \"status\": \"Completed\", \"run_type\": null, \"training_percent\": \"100\", \"start_time\": \"2019-11-21T09:56:11.590941Z\", \"end_time\": \"2019-11-21T09:56:26.34349Z\", \"created_time\": \"2019-11-21T09:56:11.343819Z\", \"created_time_dt\": \"2019-11-21T09:56:11.343819Z\", \"duration\": \"0:00:14\", \"iteration\": \"21\", \"goal\": \"AUC_weighted_max\", \"run_name\": \"MaxAbsScaler, LightGBM\", \"run_properties\": \"boosting_type='gbdt', class_weight=None,\\n          colsample_bytree=0.99, importance_type='split',\\n          learning_rate=0.07894947368421053, max_bin=180, max_depth=9,\\n          min_child_samples=41, min_child_weight=6,\\n          min_split_gain=0.894736842105263, n_estimators=400, n_jobs=1,\\n          num_leaves=89, objective=None, random_state=None,\\n          reg_alpha=0.2631578947368421, reg_lambda=0.631578947368421,\\n          silent=True, subsample=0.4457894736842105,\\n          subsample_for_bin=200000, subsample_freq=0, verbose=-10\", \"primary_metric\": 0.99816472, \"best_metric\": 0.99860895}, {\"run_id\": \"AutoML_0cdf4f3c-e0e0-4fc1-98bc-e09d8760e428_22\", \"run_number\": 46, \"metric\": null, \"status\": \"Completed\", \"run_type\": null, \"training_percent\": \"100\", \"start_time\": \"2019-11-21T09:56:29.153201Z\", \"end_time\": \"2019-11-21T09:57:26.653214Z\", \"created_time\": \"2019-11-21T09:56:29.061942Z\", \"created_time_dt\": \"2019-11-21T09:56:29.061942Z\", \"duration\": \"0:00:57\", \"iteration\": \"22\", \"goal\": \"AUC_weighted_max\", \"run_name\": \"RobustScaler, GradientBoosting\", \"run_properties\": \"criterion='friedman_mse', init=None,\\n              learning_rate=0.046415888336127774, loss='deviance',\\n              max_depth=3, max_features=0.5, max_leaf_nodes=None,\\n              min_impurity_decrease=0.0, min_impurity_split=None,\\n              min_samples_leaf=0.035789473684210524,\\n              min_samples_split=0.8063157894736842,\\n              min_weight_fraction_leaf=0.0, n_estimators=600,\\n              n_iter_no_change=None, presort='auto', random_state=None,\\n              subsample=1, tol=0.0001, validation_fraction=0.1, verbose=0,\\n              warm_start=False\", \"primary_metric\": 0.99908143, \"best_metric\": 0.99908143}, {\"run_id\": \"AutoML_0cdf4f3c-e0e0-4fc1-98bc-e09d8760e428_23\", \"run_number\": 47, \"metric\": null, \"status\": \"Completed\", \"run_type\": null, \"training_percent\": \"100\", \"start_time\": \"2019-11-21T09:57:28.73175Z\", \"end_time\": \"2019-11-21T09:57:52.242641Z\", \"created_time\": \"2019-11-21T09:57:28.653629Z\", \"created_time_dt\": \"2019-11-21T09:57:28.653629Z\", \"duration\": \"0:00:23\", \"iteration\": \"23\", \"goal\": \"AUC_weighted_max\", \"run_name\": \"RobustScaler, LightGBM\", \"run_properties\": \"boosting_type='gbdt', class_weight=None,\\n          colsample_bytree=0.8911111111111111, importance_type='split',\\n          learning_rate=0.026323157894736843, max_bin=270, max_depth=6,\\n          min_child_samples=1, min_child_weight=7, min_split_gain=0,\\n          n_estimators=600, n_jobs=1, num_leaves=191, objective=None,\\n          random_state=None, reg_alpha=0.3684210526315789,\\n          reg_lambda=0.6842105263157894, silent=True,\\n          subsample=0.8415789473684211, subsample_for_bin=200000,\\n          subsample_freq=0, verbose=-10\", \"primary_metric\": 0.99880228, \"best_metric\": 0.99908143}, {\"run_id\": \"AutoML_0cdf4f3c-e0e0-4fc1-98bc-e09d8760e428_24\", \"run_number\": 48, \"metric\": null, \"status\": \"Completed\", \"run_type\": null, \"training_percent\": \"100\", \"start_time\": \"2019-11-21T09:57:56.034579Z\", \"end_time\": \"2019-11-21T09:58:09.669381Z\", \"created_time\": \"2019-11-21T09:57:54.063092Z\", \"created_time_dt\": \"2019-11-21T09:57:54.063092Z\", \"duration\": \"0:00:15\", \"iteration\": \"24\", \"goal\": \"AUC_weighted_max\", \"run_name\": \"RobustScaler, LightGBM\", \"run_properties\": \"boosting_type='gbdt', class_weight=None,\\n          colsample_bytree=0.6933333333333332, importance_type='split',\\n          learning_rate=0.05789894736842106, max_bin=200, max_depth=9,\\n          min_child_samples=6, min_child_weight=4, min_split_gain=1,\\n          n_estimators=400, n_jobs=1, num_leaves=77, objective=None,\\n          random_state=None, reg_alpha=0.5789473684210527,\\n          reg_lambda=0.2631578947368421, silent=True,\\n          subsample=0.5447368421052632, subsample_for_bin=200000,\\n          subsample_freq=0, verbose=-10\", \"primary_metric\": 0.99821029, \"best_metric\": 0.99908143}, {\"run_id\": \"AutoML_0cdf4f3c-e0e0-4fc1-98bc-e09d8760e428_25\", \"run_number\": 49, \"metric\": null, \"status\": \"Completed\", \"run_type\": null, \"training_percent\": \"100\", \"start_time\": \"2019-11-21T09:58:12.294592Z\", \"end_time\": \"2019-11-21T09:58:35.890561Z\", \"created_time\": \"2019-11-21T09:58:12.168196Z\", \"created_time_dt\": \"2019-11-21T09:58:12.168196Z\", \"duration\": \"0:00:23\", \"iteration\": \"25\", \"goal\": \"AUC_weighted_max\", \"run_name\": \"SparseNormalizer, GradientBoosting\", \"run_properties\": \"criterion='mse', init=None, learning_rate=0.001,\\n              loss='deviance', max_depth=9, max_features=0.6,\\n              max_leaf_nodes=None, min_impurity_decrease=0.0,\\n              min_impurity_split=None, min_samples_leaf=0.3452631578947368,\\n              min_samples_split=0.29105263157894734,\\n              min_weight_fraction_leaf=0.0, n_estimators=200,\\n              n_iter_no_change=None, presort='auto', random_state=None,\\n              subsample=0.4789473684210527, tol=0.0001,\\n              validation_fraction=0.1, verbose=0, warm_start=False\", \"primary_metric\": 0.5, \"best_metric\": 0.99908143}, {\"run_id\": \"AutoML_0cdf4f3c-e0e0-4fc1-98bc-e09d8760e428_26\", \"run_number\": 50, \"metric\": null, \"status\": \"Completed\", \"run_type\": null, \"training_percent\": \"100\", \"start_time\": \"2019-11-21T09:58:37.929514Z\", \"end_time\": \"2019-11-21T09:58:51.816212Z\", \"created_time\": \"2019-11-21T09:58:37.850417Z\", \"created_time_dt\": \"2019-11-21T09:58:37.850417Z\", \"duration\": \"0:00:13\", \"iteration\": \"26\", \"goal\": \"AUC_weighted_max\", \"run_name\": \"RobustScaler, LogisticRegression\", \"run_properties\": \"C=0.3906939937054613, class_weight='balanced', dual=False,\\n          fit_intercept=True, intercept_scaling=1, max_iter=100,\\n          multi_class='ovr', n_jobs=1, penalty='l2', random_state=None,\\n          solver='newton-cg', tol=0.0001, verbose=0, warm_start=False\", \"primary_metric\": 0.99651568, \"best_metric\": 0.99908143}, {\"run_id\": \"AutoML_0cdf4f3c-e0e0-4fc1-98bc-e09d8760e428_27\", \"run_number\": 51, \"metric\": null, \"status\": \"Completed\", \"run_type\": null, \"training_percent\": \"100\", \"start_time\": \"2019-11-21T09:58:53.630555Z\", \"end_time\": \"2019-11-21T09:59:10.532077Z\", \"created_time\": \"2019-11-21T09:58:53.537854Z\", \"created_time_dt\": \"2019-11-21T09:58:53.537854Z\", \"duration\": \"0:00:16\", \"iteration\": \"27\", \"goal\": \"AUC_weighted_max\", \"run_name\": \"StandardScalerWrapper, LightGBM\", \"run_properties\": \"boosting_type='gbdt', class_weight=None,\\n          colsample_bytree=0.3966666666666666, importance_type='split',\\n          learning_rate=0.05263631578947369, max_bin=370, max_depth=10,\\n          min_child_samples=59, min_child_weight=3,\\n          min_split_gain=0.5263157894736842, n_estimators=600, n_jobs=1,\\n          num_leaves=158, objective=None, random_state=None,\\n          reg_alpha=0.2631578947368421, reg_lambda=0.631578947368421,\\n          silent=True, subsample=0.4457894736842105,\\n          subsample_for_bin=200000, subsample_freq=0, verbose=-10\", \"primary_metric\": 0.9989635, \"best_metric\": 0.99908143}, {\"run_id\": \"AutoML_0cdf4f3c-e0e0-4fc1-98bc-e09d8760e428_28\", \"run_number\": 52, \"metric\": null, \"status\": \"Completed\", \"run_type\": null, \"training_percent\": \"100\", \"start_time\": \"2019-11-21T09:59:13.587582Z\", \"end_time\": \"2019-11-21T09:59:32.30192Z\", \"created_time\": \"2019-11-21T09:59:13.504763Z\", \"created_time_dt\": \"2019-11-21T09:59:13.504763Z\", \"duration\": \"0:00:18\", \"iteration\": \"28\", \"goal\": \"AUC_weighted_max\", \"run_name\": \"SparseNormalizer, GradientBoosting\", \"run_properties\": \"criterion='friedman_mse', init=None,\\n              learning_rate=0.1, loss='deviance', max_depth=4,\\n              max_features='sqrt', max_leaf_nodes=None,\\n              min_impurity_decrease=0.0, min_impurity_split=None,\\n              min_samples_leaf=0.24210526315789474,\\n              min_samples_split=0.6657894736842105,\\n              min_weight_fraction_leaf=0.0, n_estimators=100,\\n              n_iter_no_change=None, presort='auto', random_state=None,\\n              subsample=1, tol=0.0001, validation_fraction=0.1, verbose=0,\\n              warm_start=False\", \"primary_metric\": 0.99718542, \"best_metric\": 0.99908143}, {\"run_id\": \"AutoML_0cdf4f3c-e0e0-4fc1-98bc-e09d8760e428_29\", \"run_number\": 53, \"metric\": null, \"status\": \"Completed\", \"run_type\": null, \"training_percent\": \"100\", \"start_time\": \"2019-11-21T09:59:35.386518Z\", \"end_time\": \"2019-11-21T09:59:48.301096Z\", \"created_time\": \"2019-11-21T09:59:35.278671Z\", \"created_time_dt\": \"2019-11-21T09:59:35.278671Z\", \"duration\": \"0:00:13\", \"iteration\": \"29\", \"goal\": \"AUC_weighted_max\", \"run_name\": \"RobustScaler, SVM\", \"run_properties\": \"C=159.98587196060572, cache_size=200, class_weight=None, coef0=0.0,\\n      decision_function_shape='ovr', degree=3, gamma='auto_deprecated',\\n      kernel='rbf', max_iter=-1, probability=True, random_state=None,\\n      shrinking=True, tol=0.001, verbose=False\", \"primary_metric\": 0.99941149, \"best_metric\": 0.99941149}, {\"run_id\": \"AutoML_0cdf4f3c-e0e0-4fc1-98bc-e09d8760e428_30\", \"run_number\": 54, \"metric\": null, \"status\": \"Completed\", \"run_type\": null, \"training_percent\": \"100\", \"start_time\": \"2019-11-21T09:59:51.738972Z\", \"end_time\": \"2019-11-21T10:00:05.680321Z\", \"created_time\": \"2019-11-21T09:59:50.857309Z\", \"created_time_dt\": \"2019-11-21T09:59:50.857309Z\", \"duration\": \"0:00:14\", \"iteration\": \"30\", \"goal\": \"AUC_weighted_max\", \"run_name\": \"MinMaxScaler, SVM\", \"run_properties\": \"C=7.9060432109076855, cache_size=200, class_weight='balanced',\\n      coef0=0.0, decision_function_shape='ovr', degree=3,\\n      gamma='auto_deprecated', kernel='poly', max_iter=-1,\\n      probability=True, random_state=None, shrinking=True, tol=0.001,\\n      verbose=False\", \"primary_metric\": 0.99857285, \"best_metric\": 0.99941149}, {\"run_id\": \"AutoML_0cdf4f3c-e0e0-4fc1-98bc-e09d8760e428_31\", \"run_number\": 55, \"metric\": null, \"status\": \"Completed\", \"run_type\": null, \"training_percent\": \"100\", \"start_time\": \"2019-11-21T10:00:09.962713Z\", \"end_time\": \"2019-11-21T10:00:22.829562Z\", \"created_time\": \"2019-11-21T10:00:09.864852Z\", \"created_time_dt\": \"2019-11-21T10:00:09.864852Z\", \"duration\": \"0:00:12\", \"iteration\": \"31\", \"goal\": \"AUC_weighted_max\", \"run_name\": \"StandardScalerWrapper, LogisticRegression\", \"run_properties\": \"C=24.420530945486497, class_weight='balanced', dual=False,\\n          fit_intercept=True, intercept_scaling=1, max_iter=100,\\n          multi_class='multinomial', n_jobs=1, penalty='l2',\\n          random_state=None, solver='newton-cg', tol=0.0001, verbose=0,\\n          warm_start=False\", \"primary_metric\": 0.99881521, \"best_metric\": 0.99941149}, {\"run_id\": \"AutoML_0cdf4f3c-e0e0-4fc1-98bc-e09d8760e428_32\", \"run_number\": 56, \"metric\": null, \"status\": \"Completed\", \"run_type\": null, \"training_percent\": \"100\", \"start_time\": \"2019-11-21T10:00:24.867195Z\", \"end_time\": \"2019-11-21T10:00:36.624992Z\", \"created_time\": \"2019-11-21T10:00:24.784652Z\", \"created_time_dt\": \"2019-11-21T10:00:24.784652Z\", \"duration\": \"0:00:11\", \"iteration\": \"32\", \"goal\": \"AUC_weighted_max\", \"run_name\": \"StandardScalerWrapper, LogisticRegression\", \"run_properties\": \"C=109.85411419875572, class_weight='balanced', dual=False,\\n          fit_intercept=True, intercept_scaling=1, max_iter=100,\\n          multi_class='multinomial', n_jobs=1, penalty='l2',\\n          random_state=None, solver='lbfgs', tol=0.0001, verbose=0,\\n          warm_start=False\", \"primary_metric\": 0.99870675, \"best_metric\": 0.99941149}, {\"run_id\": \"AutoML_0cdf4f3c-e0e0-4fc1-98bc-e09d8760e428_33\", \"run_number\": 57, \"metric\": null, \"status\": \"Completed\", \"run_type\": null, \"training_percent\": \"100\", \"start_time\": \"2019-11-21T10:00:38.548758Z\", \"end_time\": \"2019-11-21T10:01:49.983458Z\", \"created_time\": \"2019-11-21T10:00:38.453955Z\", \"created_time_dt\": \"2019-11-21T10:00:38.453955Z\", \"duration\": \"0:01:11\", \"iteration\": \"33\", \"goal\": \"AUC_weighted_max\", \"run_name\": \"StandardScalerWrapper, GradientBoosting\", \"run_properties\": \"criterion='mse', init=None,\\n              learning_rate=0.021544346900318822, loss='deviance',\\n              max_depth=7, max_features=0.6, max_leaf_nodes=None,\\n              min_impurity_decrease=0.0, min_impurity_split=None,\\n              min_samples_leaf=0.01, min_samples_split=0.29105263157894734,\\n              min_weight_fraction_leaf=0.0, n_estimators=400,\\n              n_iter_no_change=None, presort='auto', random_state=None,\\n              subsample=0.9526315789473684, tol=0.0001,\\n              validation_fraction=0.1, verbose=0, warm_start=False\", \"primary_metric\": 0.99922766, \"best_metric\": 0.99941149}, {\"run_id\": \"AutoML_0cdf4f3c-e0e0-4fc1-98bc-e09d8760e428_34\", \"run_number\": 58, \"metric\": null, \"status\": \"Completed\", \"run_type\": null, \"training_percent\": \"100\", \"start_time\": \"2019-11-21T10:01:50.91383Z\", \"end_time\": \"2019-11-21T10:02:25.939047Z\", \"created_time\": \"2019-11-21T10:01:50.748903Z\", \"created_time_dt\": \"2019-11-21T10:01:50.748903Z\", \"duration\": \"0:00:35\", \"iteration\": \"34\", \"goal\": \"AUC_weighted_max\", \"run_name\": \"VotingEnsemble\", \"run_properties\": \"\", \"primary_metric\": 0.99968617, \"best_metric\": 0.99968617}, {\"run_id\": \"AutoML_0cdf4f3c-e0e0-4fc1-98bc-e09d8760e428_35\", \"run_number\": 59, \"metric\": null, \"status\": \"Completed\", \"run_type\": null, \"training_percent\": \"100\", \"start_time\": \"2019-11-21T10:02:27.714038Z\", \"end_time\": \"2019-11-21T10:03:13.71831Z\", \"created_time\": \"2019-11-21T10:02:27.607025Z\", \"created_time_dt\": \"2019-11-21T10:02:27.607025Z\", \"duration\": \"0:00:46\", \"iteration\": \"35\", \"goal\": \"AUC_weighted_max\", \"run_name\": \"StackEnsemble\", \"run_properties\": \"\", \"primary_metric\": 0.96032124, \"best_metric\": 0.99968617}], \"children_metrics\": {\"categories\": [0], \"series\": {\"norm_macro_recall\": [{\"categories\": [\"0\", \"1\", \"2\", \"3\", \"4\", \"5\", \"6\", \"7\", \"8\", \"9\", \"10\", \"11\", \"12\", \"13\", \"14\", \"15\", \"16\", \"17\", \"18\", \"19\", \"20\", \"21\", \"22\", \"23\", \"24\", \"25\", \"26\", \"27\", \"28\", \"29\", \"30\", \"31\", \"32\", \"33\", \"34\", \"35\"], \"mode\": \"markers\", \"name\": \"norm_macro_recall\", \"stepped\": false, \"type\": \"scatter\", \"data\": [0.9434502453098119, 0.9546596303149405, 0.928581417578917, 0.8979390012113949, 0.9331764262958085, 0.9333096854115723, 0.9496324342141825, 0.8520578598954688, 0.8529582887725639, 0.9360515629733285, 0.8525709756777767, 0.8680824486812192, 0.9386471396963203, 0.7695606674200904, 0.8773808038851526, 0.8642889548320866, 0.9435108374817117, 0.9351806567774262, 0.9401920678617851, 0.9489891877309754, 0.8930351266831771, 0.9401442285224801, 0.9606012289947744, 0.9462157359643273, 0.9408392223357159, 0.0, 0.9503331809290758, 0.9562044664723395, 0.9313743732588063, 0.9780437458524531, 0.9531758655706085, 0.9617649553553025, 0.9570413136680278, 0.9584677576084798, 0.982430420184004, 0.6509138948711825]}, {\"categories\": [\"0\", \"1\", \"2\", \"3\", \"4\", \"5\", \"6\", \"7\", \"8\", \"9\", \"10\", \"11\", \"12\", \"13\", \"14\", \"15\", \"16\", \"17\", \"18\", \"19\", \"20\", \"21\", \"22\", \"23\", \"24\", \"25\", \"26\", \"27\", \"28\", \"29\", \"30\", \"31\", \"32\", \"33\", \"34\", \"35\"], \"mode\": \"lines\", \"name\": \"norm_macro_recall_max\", \"stepped\": true, \"type\": \"scatter\", \"data\": [0.9434502453098119, 0.9546596303149405, 0.9546596303149405, 0.9546596303149405, 0.9546596303149405, 0.9546596303149405, 0.9546596303149405, 0.9546596303149405, 0.9546596303149405, 0.9546596303149405, 0.9546596303149405, 0.9546596303149405, 0.9546596303149405, 0.9546596303149405, 0.9546596303149405, 0.9546596303149405, 0.9546596303149405, 0.9546596303149405, 0.9546596303149405, 0.9546596303149405, 0.9546596303149405, 0.9546596303149405, 0.9606012289947744, 0.9606012289947744, 0.9606012289947744, 0.9606012289947744, 0.9606012289947744, 0.9606012289947744, 0.9606012289947744, 0.9780437458524531, 0.9780437458524531, 0.9780437458524531, 0.9780437458524531, 0.9780437458524531, 0.982430420184004, 0.982430420184004]}], \"precision_score_micro\": [{\"categories\": [\"0\", \"1\", \"2\", \"3\", \"4\", \"5\", \"6\", \"7\", \"8\", \"9\", \"10\", \"11\", \"12\", \"13\", \"14\", \"15\", \"16\", \"17\", \"18\", \"19\", \"20\", \"21\", \"22\", \"23\", \"24\", \"25\", \"26\", \"27\", \"28\", \"29\", \"30\", \"31\", \"32\", \"33\", \"34\", \"35\"], \"mode\": \"markers\", \"name\": \"precision_score_micro\", \"stepped\": false, \"type\": \"scatter\", \"data\": [0.9481482639648937, 0.9581642119307462, 0.9351824634916664, 0.9074788663393686, 0.9399022275034659, 0.9393101723005722, 0.9534517443739121, 0.8656462053222427, 0.8679977485224679, 0.9410738297007412, 0.8656451629715334, 0.8809604219435672, 0.9440226398574064, 0.7902227503465816, 0.8880317291555917, 0.8780314164503787, 0.9481472216141844, 0.9410769567528691, 0.9452004961589376, 0.9534527867246214, 0.903939043330519, 0.9452025808603564, 0.9640566204905302, 0.9510918623680125, 0.9457925513618313, 0.08426675839352908, 0.9552206135276275, 0.9605272209887739, 0.9375413031468568, 0.9805601592711884, 0.9575804955335272, 0.9646445062905865, 0.9605199245338086, 0.9617009078874678, 0.984093728175782, 0.6694810135818297]}, {\"categories\": [\"0\", \"1\", \"2\", \"3\", \"4\", \"5\", \"6\", \"7\", \"8\", \"9\", \"10\", \"11\", \"12\", \"13\", \"14\", \"15\", \"16\", \"17\", \"18\", \"19\", \"20\", \"21\", \"22\", \"23\", \"24\", \"25\", \"26\", \"27\", \"28\", \"29\", \"30\", \"31\", \"32\", \"33\", \"34\", \"35\"], \"mode\": \"lines\", \"name\": \"precision_score_micro_max\", \"stepped\": true, \"type\": \"scatter\", \"data\": [0.9481482639648937, 0.9581642119307462, 0.9581642119307462, 0.9581642119307462, 0.9581642119307462, 0.9581642119307462, 0.9581642119307462, 0.9581642119307462, 0.9581642119307462, 0.9581642119307462, 0.9581642119307462, 0.9581642119307462, 0.9581642119307462, 0.9581642119307462, 0.9581642119307462, 0.9581642119307462, 0.9581642119307462, 0.9581642119307462, 0.9581642119307462, 0.9581642119307462, 0.9581642119307462, 0.9581642119307462, 0.9640566204905302, 0.9640566204905302, 0.9640566204905302, 0.9640566204905302, 0.9640566204905302, 0.9640566204905302, 0.9640566204905302, 0.9805601592711884, 0.9805601592711884, 0.9805601592711884, 0.9805601592711884, 0.9805601592711884, 0.984093728175782, 0.984093728175782]}], \"f1_score_weighted\": [{\"categories\": [\"0\", \"1\", \"2\", \"3\", \"4\", \"5\", \"6\", \"7\", \"8\", \"9\", \"10\", \"11\", \"12\", \"13\", \"14\", \"15\", \"16\", \"17\", \"18\", \"19\", \"20\", \"21\", \"22\", \"23\", \"24\", \"25\", \"26\", \"27\", \"28\", \"29\", \"30\", \"31\", \"32\", \"33\", \"34\", \"35\"], \"mode\": \"markers\", \"name\": \"f1_score_weighted\", \"stepped\": false, \"type\": \"scatter\", \"data\": [0.9479108935699182, 0.9579644374485713, 0.9352181262455677, 0.9060957839664662, 0.9395936461820366, 0.9395483949197097, 0.9531647146964418, 0.8637252018197158, 0.8612705759788399, 0.9406450320709362, 0.8639427699356678, 0.8805775212956061, 0.9441089329021843, 0.7817852784398335, 0.8878767955476898, 0.8793633498413302, 0.948196441648585, 0.941171206206402, 0.9452603071675179, 0.9537059285218198, 0.9038423166558807, 0.9453949391653861, 0.9641861911243987, 0.9511420449337799, 0.9458596323020312, 0.013099232823779733, 0.9554609357101711, 0.9607100029475775, 0.9378132072534952, 0.9805968679329583, 0.957684973341026, 0.9645619020010989, 0.9604437878987873, 0.9618266709276443, 0.9841375763921557, 0.6127478382299645]}, {\"categories\": [\"0\", \"1\", \"2\", \"3\", \"4\", \"5\", \"6\", \"7\", \"8\", \"9\", \"10\", \"11\", \"12\", \"13\", \"14\", \"15\", \"16\", \"17\", \"18\", \"19\", \"20\", \"21\", \"22\", \"23\", \"24\", \"25\", \"26\", \"27\", \"28\", \"29\", \"30\", \"31\", \"32\", \"33\", \"34\", \"35\"], \"mode\": \"lines\", \"name\": \"f1_score_weighted_max\", \"stepped\": true, \"type\": \"scatter\", \"data\": [0.9479108935699182, 0.9579644374485713, 0.9579644374485713, 0.9579644374485713, 0.9579644374485713, 0.9579644374485713, 0.9579644374485713, 0.9579644374485713, 0.9579644374485713, 0.9579644374485713, 0.9579644374485713, 0.9579644374485713, 0.9579644374485713, 0.9579644374485713, 0.9579644374485713, 0.9579644374485713, 0.9579644374485713, 0.9579644374485713, 0.9579644374485713, 0.9579644374485713, 0.9579644374485713, 0.9579644374485713, 0.9641861911243987, 0.9641861911243987, 0.9641861911243987, 0.9641861911243987, 0.9641861911243987, 0.9641861911243987, 0.9641861911243987, 0.9805968679329583, 0.9805968679329583, 0.9805968679329583, 0.9805968679329583, 0.9805968679329583, 0.9841375763921557, 0.9841375763921557]}], \"weighted_accuracy\": [{\"categories\": [\"0\", \"1\", \"2\", \"3\", \"4\", \"5\", \"6\", \"7\", \"8\", \"9\", \"10\", \"11\", \"12\", \"13\", \"14\", \"15\", \"16\", \"17\", \"18\", \"19\", \"20\", \"21\", \"22\", \"23\", \"24\", \"25\", \"26\", \"27\", \"28\", \"29\", \"30\", \"31\", \"32\", \"33\", \"34\", \"35\"], \"mode\": \"markers\", \"name\": \"weighted_accuracy\", \"stepped\": false, \"type\": \"scatter\", \"data\": [0.9471365909281152, 0.9571028315654121, 0.9345605875314177, 0.9068655392006874, 0.9399288703572548, 0.9385547528652828, 0.952204058941892, 0.8642818137066857, 0.8683110849210446, 0.9395880883294345, 0.863823503726973, 0.8805410190848404, 0.9431394556006246, 0.7882054451434769, 0.886246780958252, 0.878146157313553, 0.9471254983097582, 0.9403725616117745, 0.9441210709261085, 0.952722042100489, 0.9039733049498243, 0.9441881412723312, 0.9634859364966983, 0.9504875461569776, 0.9447786304189325, 0.07015783551945766, 0.9550963063361516, 0.9603988730673813, 0.9368435756903123, 0.9808342256113173, 0.9573266821672556, 0.9637089155423366, 0.9597306351489366, 0.9606921283565697, 0.9839765389109284, 0.654373830060729]}, {\"categories\": [\"0\", \"1\", \"2\", \"3\", \"4\", \"5\", \"6\", \"7\", \"8\", \"9\", \"10\", \"11\", \"12\", \"13\", \"14\", \"15\", \"16\", \"17\", \"18\", \"19\", \"20\", \"21\", \"22\", \"23\", \"24\", \"25\", \"26\", \"27\", \"28\", \"29\", \"30\", \"31\", \"32\", \"33\", \"34\", \"35\"], \"mode\": \"lines\", \"name\": \"weighted_accuracy_max\", \"stepped\": true, \"type\": \"scatter\", \"data\": [0.9471365909281152, 0.9571028315654121, 0.9571028315654121, 0.9571028315654121, 0.9571028315654121, 0.9571028315654121, 0.9571028315654121, 0.9571028315654121, 0.9571028315654121, 0.9571028315654121, 0.9571028315654121, 0.9571028315654121, 0.9571028315654121, 0.9571028315654121, 0.9571028315654121, 0.9571028315654121, 0.9571028315654121, 0.9571028315654121, 0.9571028315654121, 0.9571028315654121, 0.9571028315654121, 0.9571028315654121, 0.9634859364966983, 0.9634859364966983, 0.9634859364966983, 0.9634859364966983, 0.9634859364966983, 0.9634859364966983, 0.9634859364966983, 0.9808342256113173, 0.9808342256113173, 0.9808342256113173, 0.9808342256113173, 0.9808342256113173, 0.9839765389109284, 0.9839765389109284]}], \"precision_score_macro\": [{\"categories\": [\"0\", \"1\", \"2\", \"3\", \"4\", \"5\", \"6\", \"7\", \"8\", \"9\", \"10\", \"11\", \"12\", \"13\", \"14\", \"15\", \"16\", \"17\", \"18\", \"19\", \"20\", \"21\", \"22\", \"23\", \"24\", \"25\", \"26\", \"27\", \"28\", \"29\", \"30\", \"31\", \"32\", \"33\", \"34\", \"35\"], \"mode\": \"markers\", \"name\": \"precision_score_macro\", \"stepped\": false, \"type\": \"scatter\", \"data\": [0.9492221394662294, 0.9592535048466561, 0.9370791431812971, 0.9078673495047241, 0.9407616849686198, 0.9404746020424395, 0.9542069663216993, 0.8679652188672714, 0.874710580991804, 0.9430235383986055, 0.8670793083606588, 0.8823904484861208, 0.9451772002742137, 0.8144219860102146, 0.8903933860570218, 0.8836095764478022, 0.9495512038869466, 0.9420721955941233, 0.9469498888211141, 0.9549162666516887, 0.9061561609388837, 0.9469916613271, 0.9655842597429815, 0.9522235252702567, 0.9472354986057621, 0.00842667583935291, 0.9564641982384848, 0.961758787920617, 0.9388253292752129, 0.981338318022555, 0.9588216629783854, 0.9648908735945151, 0.9622588000577753, 0.9622254706279231, 0.9847851143360606, 0.605670001808886]}, {\"categories\": [\"0\", \"1\", \"2\", \"3\", \"4\", \"5\", \"6\", \"7\", \"8\", \"9\", \"10\", \"11\", \"12\", \"13\", \"14\", \"15\", \"16\", \"17\", \"18\", \"19\", \"20\", \"21\", \"22\", \"23\", \"24\", \"25\", \"26\", \"27\", \"28\", \"29\", \"30\", \"31\", \"32\", \"33\", \"34\", \"35\"], \"mode\": \"lines\", \"name\": \"precision_score_macro_max\", \"stepped\": true, \"type\": \"scatter\", \"data\": [0.9492221394662294, 0.9592535048466561, 0.9592535048466561, 0.9592535048466561, 0.9592535048466561, 0.9592535048466561, 0.9592535048466561, 0.9592535048466561, 0.9592535048466561, 0.9592535048466561, 0.9592535048466561, 0.9592535048466561, 0.9592535048466561, 0.9592535048466561, 0.9592535048466561, 0.9592535048466561, 0.9592535048466561, 0.9592535048466561, 0.9592535048466561, 0.9592535048466561, 0.9592535048466561, 0.9592535048466561, 0.9655842597429815, 0.9655842597429815, 0.9655842597429815, 0.9655842597429815, 0.9655842597429815, 0.9655842597429815, 0.9655842597429815, 0.981338318022555, 0.981338318022555, 0.981338318022555, 0.981338318022555, 0.981338318022555, 0.9847851143360606, 0.9847851143360606]}], \"precision_score_weighted\": [{\"categories\": [\"0\", \"1\", \"2\", \"3\", \"4\", \"5\", \"6\", \"7\", \"8\", \"9\", \"10\", \"11\", \"12\", \"13\", \"14\", \"15\", \"16\", \"17\", \"18\", \"19\", \"20\", \"21\", \"22\", \"23\", \"24\", \"25\", \"26\", \"27\", \"28\", \"29\", \"30\", \"31\", \"32\", \"33\", \"34\", \"35\"], \"mode\": \"markers\", \"name\": \"precision_score_weighted\", \"stepped\": false, \"type\": \"scatter\", \"data\": [0.9494584425321202, 0.9596296106878316, 0.9376858100407213, 0.9091246864510308, 0.9414818943555008, 0.9416688955990408, 0.9547157200728268, 0.8690298365490795, 0.8770019080166965, 0.9432398674593028, 0.8689446897119394, 0.8836184895698915, 0.9457565771494146, 0.8193782189069881, 0.8919158873110594, 0.8848756589113677, 0.9500466392269015, 0.9427813974880284, 0.9469745855454178, 0.955390883290165, 0.9067549235562775, 0.9473544282154842, 0.9651509909918566, 0.9523540457530585, 0.9474019096557772, 0.007101644180944764, 0.9568503676921591, 0.9620337980073718, 0.939517647118166, 0.9809060082885971, 0.958817571043281, 0.9654837335409249, 0.9617290923785595, 0.9627325084016639, 0.9844154246121253, 0.5985483541212829]}, {\"categories\": [\"0\", \"1\", \"2\", \"3\", \"4\", \"5\", \"6\", \"7\", \"8\", \"9\", \"10\", \"11\", \"12\", \"13\", \"14\", \"15\", \"16\", \"17\", \"18\", \"19\", \"20\", \"21\", \"22\", \"23\", \"24\", \"25\", \"26\", \"27\", \"28\", \"29\", \"30\", \"31\", \"32\", \"33\", \"34\", \"35\"], \"mode\": \"lines\", \"name\": \"precision_score_weighted_max\", \"stepped\": true, \"type\": \"scatter\", \"data\": [0.9494584425321202, 0.9596296106878316, 0.9596296106878316, 0.9596296106878316, 0.9596296106878316, 0.9596296106878316, 0.9596296106878316, 0.9596296106878316, 0.9596296106878316, 0.9596296106878316, 0.9596296106878316, 0.9596296106878316, 0.9596296106878316, 0.9596296106878316, 0.9596296106878316, 0.9596296106878316, 0.9596296106878316, 0.9596296106878316, 0.9596296106878316, 0.9596296106878316, 0.9596296106878316, 0.9596296106878316, 0.9651509909918566, 0.9651509909918566, 0.9651509909918566, 0.9651509909918566, 0.9651509909918566, 0.9651509909918566, 0.9651509909918566, 0.9809060082885971, 0.9809060082885971, 0.9809060082885971, 0.9809060082885971, 0.9809060082885971, 0.9844154246121253, 0.9844154246121253]}], \"balanced_accuracy\": [{\"categories\": [\"0\", \"1\", \"2\", \"3\", \"4\", \"5\", \"6\", \"7\", \"8\", \"9\", \"10\", \"11\", \"12\", \"13\", \"14\", \"15\", \"16\", \"17\", \"18\", \"19\", \"20\", \"21\", \"22\", \"23\", \"24\", \"25\", \"26\", \"27\", \"28\", \"29\", \"30\", \"31\", \"32\", \"33\", \"34\", \"35\"], \"mode\": \"markers\", \"name\": \"balanced_accuracy\", \"stepped\": false, \"type\": \"scatter\", \"data\": [0.9491052207788307, 0.9591936672834463, 0.9357232758210251, 0.9081451010902555, 0.9398587836662277, 0.9399787168704153, 0.9546691907927641, 0.8668520739059217, 0.8676624598953074, 0.9424464066759958, 0.867313878109999, 0.8812742038130973, 0.9447824257266882, 0.7926046006780814, 0.8896427234966372, 0.8778600593488779, 0.9491597537335404, 0.9416625910996835, 0.9461728610756066, 0.954090268957878, 0.9037316140148594, 0.9461298056702322, 0.964541106095297, 0.9515941623678946, 0.9467553001021444, 0.10000000000000002, 0.9552998628361683, 0.9605840198251056, 0.9382369359329257, 0.9802393712672078, 0.9578582790135477, 0.9655884598197723, 0.9613371823012251, 0.9626209818476319, 0.9841873781656035, 0.6858225053840643]}, {\"categories\": [\"0\", \"1\", \"2\", \"3\", \"4\", \"5\", \"6\", \"7\", \"8\", \"9\", \"10\", \"11\", \"12\", \"13\", \"14\", \"15\", \"16\", \"17\", \"18\", \"19\", \"20\", \"21\", \"22\", \"23\", \"24\", \"25\", \"26\", \"27\", \"28\", \"29\", \"30\", \"31\", \"32\", \"33\", \"34\", \"35\"], \"mode\": \"lines\", \"name\": \"balanced_accuracy_max\", \"stepped\": true, \"type\": \"scatter\", \"data\": [0.9491052207788307, 0.9591936672834463, 0.9591936672834463, 0.9591936672834463, 0.9591936672834463, 0.9591936672834463, 0.9591936672834463, 0.9591936672834463, 0.9591936672834463, 0.9591936672834463, 0.9591936672834463, 0.9591936672834463, 0.9591936672834463, 0.9591936672834463, 0.9591936672834463, 0.9591936672834463, 0.9591936672834463, 0.9591936672834463, 0.9591936672834463, 0.9591936672834463, 0.9591936672834463, 0.9591936672834463, 0.964541106095297, 0.964541106095297, 0.964541106095297, 0.964541106095297, 0.964541106095297, 0.964541106095297, 0.964541106095297, 0.9802393712672078, 0.9802393712672078, 0.9802393712672078, 0.9802393712672078, 0.9802393712672078, 0.9841873781656035, 0.9841873781656035]}], \"average_precision_score_macro\": [{\"categories\": [\"0\", \"1\", \"2\", \"3\", \"4\", \"5\", \"6\", \"7\", \"8\", \"9\", \"10\", \"11\", \"12\", \"13\", \"14\", \"15\", \"16\", \"17\", \"18\", \"19\", \"20\", \"21\", \"22\", \"23\", \"24\", \"25\", \"26\", \"27\", \"28\", \"29\", \"30\", \"31\", \"32\", \"33\", \"34\", \"35\"], \"mode\": \"markers\", \"name\": \"average_precision_score_macro\", \"stepped\": false, \"type\": \"scatter\", \"data\": [0.977841741216322, 0.9871382159656076, 0.9846845264716029, 0.9416729746449842, 0.9791602053392431, 0.9837124544260384, 0.985111014352665, 0.9216044046202857, 0.9097041432229395, 0.9788125254926626, 0.9258774840229931, 0.9487262615341147, 0.9879517197632084, 0.8938704032937294, 0.9481103853173419, 0.9179529184583651, 0.9788925871242525, 0.9858801951357292, 0.9873428650080762, 0.9909788811423335, 0.9650819267503005, 0.9882279285416321, 0.9935545900578061, 0.9921153686182899, 0.9887492988752253, 0.10000000000000002, 0.9819311649699762, 0.9928803915176406, 0.9824748185959518, 0.9963731054040804, 0.9910279922712362, 0.9924245893192992, 0.991784156429612, 0.9945867095061519, 0.9978021060612535, 0.8967488724316457]}, {\"categories\": [\"0\", \"1\", \"2\", \"3\", \"4\", \"5\", \"6\", \"7\", \"8\", \"9\", \"10\", \"11\", \"12\", \"13\", \"14\", \"15\", \"16\", \"17\", \"18\", \"19\", \"20\", \"21\", \"22\", \"23\", \"24\", \"25\", \"26\", \"27\", \"28\", \"29\", \"30\", \"31\", \"32\", \"33\", \"34\", \"35\"], \"mode\": \"lines\", \"name\": \"average_precision_score_macro_max\", \"stepped\": true, \"type\": \"scatter\", \"data\": [0.977841741216322, 0.9871382159656076, 0.9871382159656076, 0.9871382159656076, 0.9871382159656076, 0.9871382159656076, 0.9871382159656076, 0.9871382159656076, 0.9871382159656076, 0.9871382159656076, 0.9871382159656076, 0.9871382159656076, 0.9879517197632084, 0.9879517197632084, 0.9879517197632084, 0.9879517197632084, 0.9879517197632084, 0.9879517197632084, 0.9879517197632084, 0.9909788811423335, 0.9909788811423335, 0.9909788811423335, 0.9935545900578061, 0.9935545900578061, 0.9935545900578061, 0.9935545900578061, 0.9935545900578061, 0.9935545900578061, 0.9935545900578061, 0.9963731054040804, 0.9963731054040804, 0.9963731054040804, 0.9963731054040804, 0.9963731054040804, 0.9978021060612535, 0.9978021060612535]}], \"AUC_macro\": [{\"categories\": [\"0\", \"1\", \"2\", \"3\", \"4\", \"5\", \"6\", \"7\", \"8\", \"9\", \"10\", \"11\", \"12\", \"13\", \"14\", \"15\", \"16\", \"17\", \"18\", \"19\", \"20\", \"21\", \"22\", \"23\", \"24\", \"25\", \"26\", \"27\", \"28\", \"29\", \"30\", \"31\", \"32\", \"33\", \"34\", \"35\"], \"mode\": \"markers\", \"name\": \"AUC_macro\", \"stepped\": false, \"type\": \"scatter\", \"data\": [0.9940565964419976, 0.9969748456484938, 0.9976954935526967, 0.9893197055332207, 0.9964605457087256, 0.9973865188586353, 0.9967012544578425, 0.9835807787001859, 0.9837589476938051, 0.9960821433035795, 0.984987141607813, 0.9893930752419585, 0.9982144516589107, 0.9743225739950789, 0.9896830486105825, 0.9840436623715333, 0.9959780449021639, 0.9978149771293668, 0.9980648749860878, 0.9986409091480738, 0.9941231875567665, 0.9981888817726472, 0.9990807050713494, 0.998827857665872, 0.9982512487726289, 0.5, 0.996477442582683, 0.9989785836882398, 0.9972327942742973, 0.9993946126458342, 0.9985923320960918, 0.9988101824588996, 0.9986975929248626, 0.9992449203033203, 0.9996871544213864, 0.9598516362594793]}, {\"categories\": [\"0\", \"1\", \"2\", \"3\", \"4\", \"5\", \"6\", \"7\", \"8\", \"9\", \"10\", \"11\", \"12\", \"13\", \"14\", \"15\", \"16\", \"17\", \"18\", \"19\", \"20\", \"21\", \"22\", \"23\", \"24\", \"25\", \"26\", \"27\", \"28\", \"29\", \"30\", \"31\", \"32\", \"33\", \"34\", \"35\"], \"mode\": \"lines\", \"name\": \"AUC_macro_max\", \"stepped\": true, \"type\": \"scatter\", \"data\": [0.9940565964419976, 0.9969748456484938, 0.9976954935526967, 0.9976954935526967, 0.9976954935526967, 0.9976954935526967, 0.9976954935526967, 0.9976954935526967, 0.9976954935526967, 0.9976954935526967, 0.9976954935526967, 0.9976954935526967, 0.9982144516589107, 0.9982144516589107, 0.9982144516589107, 0.9982144516589107, 0.9982144516589107, 0.9982144516589107, 0.9982144516589107, 0.9986409091480738, 0.9986409091480738, 0.9986409091480738, 0.9990807050713494, 0.9990807050713494, 0.9990807050713494, 0.9990807050713494, 0.9990807050713494, 0.9990807050713494, 0.9990807050713494, 0.9993946126458342, 0.9993946126458342, 0.9993946126458342, 0.9993946126458342, 0.9993946126458342, 0.9996871544213864, 0.9996871544213864]}], \"accuracy\": [{\"categories\": [\"0\", \"1\", \"2\", \"3\", \"4\", \"5\", \"6\", \"7\", \"8\", \"9\", \"10\", \"11\", \"12\", \"13\", \"14\", \"15\", \"16\", \"17\", \"18\", \"19\", \"20\", \"21\", \"22\", \"23\", \"24\", \"25\", \"26\", \"27\", \"28\", \"29\", \"30\", \"31\", \"32\", \"33\", \"34\", \"35\"], \"mode\": \"markers\", \"name\": \"accuracy\", \"stepped\": false, \"type\": \"scatter\", \"data\": [0.9481482639648937, 0.9581642119307462, 0.9351824634916664, 0.9074788663393686, 0.9399022275034659, 0.9393101723005722, 0.9534517443739121, 0.8656462053222427, 0.8679977485224679, 0.9410738297007412, 0.8656451629715334, 0.8809604219435672, 0.9440226398574064, 0.7902227503465816, 0.8880317291555917, 0.8780314164503787, 0.9481472216141844, 0.9410769567528691, 0.9452004961589376, 0.9534527867246214, 0.903939043330519, 0.9452025808603564, 0.9640566204905302, 0.9510918623680125, 0.9457925513618313, 0.08426675839352908, 0.9552206135276275, 0.9605272209887739, 0.9375413031468568, 0.9805601592711884, 0.9575804955335272, 0.9646445062905865, 0.9605199245338086, 0.9617009078874678, 0.984093728175782, 0.6694810135818297]}, {\"categories\": [\"0\", \"1\", \"2\", \"3\", \"4\", \"5\", \"6\", \"7\", \"8\", \"9\", \"10\", \"11\", \"12\", \"13\", \"14\", \"15\", \"16\", \"17\", \"18\", \"19\", \"20\", \"21\", \"22\", \"23\", \"24\", \"25\", \"26\", \"27\", \"28\", \"29\", \"30\", \"31\", \"32\", \"33\", \"34\", \"35\"], \"mode\": \"lines\", \"name\": \"accuracy_max\", \"stepped\": true, \"type\": \"scatter\", \"data\": [0.9481482639648937, 0.9581642119307462, 0.9581642119307462, 0.9581642119307462, 0.9581642119307462, 0.9581642119307462, 0.9581642119307462, 0.9581642119307462, 0.9581642119307462, 0.9581642119307462, 0.9581642119307462, 0.9581642119307462, 0.9581642119307462, 0.9581642119307462, 0.9581642119307462, 0.9581642119307462, 0.9581642119307462, 0.9581642119307462, 0.9581642119307462, 0.9581642119307462, 0.9581642119307462, 0.9581642119307462, 0.9640566204905302, 0.9640566204905302, 0.9640566204905302, 0.9640566204905302, 0.9640566204905302, 0.9640566204905302, 0.9640566204905302, 0.9805601592711884, 0.9805601592711884, 0.9805601592711884, 0.9805601592711884, 0.9805601592711884, 0.984093728175782, 0.984093728175782]}], \"recall_score_micro\": [{\"categories\": [\"0\", \"1\", \"2\", \"3\", \"4\", \"5\", \"6\", \"7\", \"8\", \"9\", \"10\", \"11\", \"12\", \"13\", \"14\", \"15\", \"16\", \"17\", \"18\", \"19\", \"20\", \"21\", \"22\", \"23\", \"24\", \"25\", \"26\", \"27\", \"28\", \"29\", \"30\", \"31\", \"32\", \"33\", \"34\", \"35\"], \"mode\": \"markers\", \"name\": \"recall_score_micro\", \"stepped\": false, \"type\": \"scatter\", \"data\": [0.9481482639648937, 0.9581642119307462, 0.9351824634916664, 0.9074788663393686, 0.9399022275034659, 0.9393101723005722, 0.9534517443739121, 0.8656462053222427, 0.8679977485224679, 0.9410738297007412, 0.8656451629715334, 0.8809604219435672, 0.9440226398574064, 0.7902227503465816, 0.8880317291555917, 0.8780314164503787, 0.9481472216141844, 0.9410769567528691, 0.9452004961589376, 0.9534527867246214, 0.903939043330519, 0.9452025808603564, 0.9640566204905302, 0.9510918623680125, 0.9457925513618313, 0.08426675839352908, 0.9552206135276275, 0.9605272209887739, 0.9375413031468568, 0.9805601592711884, 0.9575804955335272, 0.9646445062905865, 0.9605199245338086, 0.9617009078874678, 0.984093728175782, 0.6694810135818297]}, {\"categories\": [\"0\", \"1\", \"2\", \"3\", \"4\", \"5\", \"6\", \"7\", \"8\", \"9\", \"10\", \"11\", \"12\", \"13\", \"14\", \"15\", \"16\", \"17\", \"18\", \"19\", \"20\", \"21\", \"22\", \"23\", \"24\", \"25\", \"26\", \"27\", \"28\", \"29\", \"30\", \"31\", \"32\", \"33\", \"34\", \"35\"], \"mode\": \"lines\", \"name\": \"recall_score_micro_max\", \"stepped\": true, \"type\": \"scatter\", \"data\": [0.9481482639648937, 0.9581642119307462, 0.9581642119307462, 0.9581642119307462, 0.9581642119307462, 0.9581642119307462, 0.9581642119307462, 0.9581642119307462, 0.9581642119307462, 0.9581642119307462, 0.9581642119307462, 0.9581642119307462, 0.9581642119307462, 0.9581642119307462, 0.9581642119307462, 0.9581642119307462, 0.9581642119307462, 0.9581642119307462, 0.9581642119307462, 0.9581642119307462, 0.9581642119307462, 0.9581642119307462, 0.9640566204905302, 0.9640566204905302, 0.9640566204905302, 0.9640566204905302, 0.9640566204905302, 0.9640566204905302, 0.9640566204905302, 0.9805601592711884, 0.9805601592711884, 0.9805601592711884, 0.9805601592711884, 0.9805601592711884, 0.984093728175782, 0.984093728175782]}], \"AUC_weighted\": [{\"categories\": [\"0\", \"1\", \"2\", \"3\", \"4\", \"5\", \"6\", \"7\", \"8\", \"9\", \"10\", \"11\", \"12\", \"13\", \"14\", \"15\", \"16\", \"17\", \"18\", \"19\", \"20\", \"21\", \"22\", \"23\", \"24\", \"25\", \"26\", \"27\", \"28\", \"29\", \"30\", \"31\", \"32\", \"33\", \"34\", \"35\"], \"mode\": \"markers\", \"name\": \"AUC_weighted\", \"stepped\": false, \"type\": \"scatter\", \"data\": [0.9941515442695215, 0.9970188781968896, 0.9976564131295369, 0.9892621055349012, 0.9964583489144904, 0.9973885789425502, 0.9967376606461578, 0.9835597694131165, 0.9837698442485795, 0.9959986848752448, 0.9848799002274435, 0.9892046756255314, 0.9981944243900687, 0.9742795999252775, 0.9895187802109526, 0.9840128557321179, 0.995987133200472, 0.9977993725273487, 0.9980313938195396, 0.9986089545892751, 0.9941035265432613, 0.9981647164324311, 0.999081427786756, 0.9988022842809743, 0.9982102883528666, 0.5, 0.9965156827757409, 0.9989635008013145, 0.9971854203746267, 0.999411492660314, 0.9985728538634762, 0.9988152070368859, 0.9987067515162261, 0.9992276606460274, 0.9996861669897333, 0.9603212421421626]}, {\"categories\": [\"0\", \"1\", \"2\", \"3\", \"4\", \"5\", \"6\", \"7\", \"8\", \"9\", \"10\", \"11\", \"12\", \"13\", \"14\", \"15\", \"16\", \"17\", \"18\", \"19\", \"20\", \"21\", \"22\", \"23\", \"24\", \"25\", \"26\", \"27\", \"28\", \"29\", \"30\", \"31\", \"32\", \"33\", \"34\", \"35\"], \"mode\": \"lines\", \"name\": \"AUC_weighted_max\", \"stepped\": true, \"type\": \"scatter\", \"data\": [0.9941515442695215, 0.9970188781968896, 0.9976564131295369, 0.9976564131295369, 0.9976564131295369, 0.9976564131295369, 0.9976564131295369, 0.9976564131295369, 0.9976564131295369, 0.9976564131295369, 0.9976564131295369, 0.9976564131295369, 0.9981944243900687, 0.9981944243900687, 0.9981944243900687, 0.9981944243900687, 0.9981944243900687, 0.9981944243900687, 0.9981944243900687, 0.9986089545892751, 0.9986089545892751, 0.9986089545892751, 0.999081427786756, 0.999081427786756, 0.999081427786756, 0.999081427786756, 0.999081427786756, 0.999081427786756, 0.999081427786756, 0.999411492660314, 0.999411492660314, 0.999411492660314, 0.999411492660314, 0.999411492660314, 0.9996861669897333, 0.9996861669897333]}], \"average_precision_score_micro\": [{\"categories\": [\"0\", \"1\", \"2\", \"3\", \"4\", \"5\", \"6\", \"7\", \"8\", \"9\", \"10\", \"11\", \"12\", \"13\", \"14\", \"15\", \"16\", \"17\", \"18\", \"19\", \"20\", \"21\", \"22\", \"23\", \"24\", \"25\", \"26\", \"27\", \"28\", \"29\", \"30\", \"31\", \"32\", \"33\", \"34\", \"35\"], \"mode\": \"markers\", \"name\": \"average_precision_score_micro\", \"stepped\": false, \"type\": \"scatter\", \"data\": [0.9805042469559894, 0.9881081029514301, 0.9848078185355881, 0.9391639047360437, 0.981309230581319, 0.9841897135298021, 0.9867130339448593, 0.9199123997347428, 0.8792954188552643, 0.9816435195743983, 0.9279402151728929, 0.9466194670693739, 0.9882978643926754, 0.8488234337992501, 0.9470097440994234, 0.9314881926275219, 0.9797750076959053, 0.9862077388558038, 0.9874163669721897, 0.9908655365920925, 0.9663458645039773, 0.9881235736433783, 0.9932442736939295, 0.9919965718401554, 0.9889285897085888, 0.09283998021515284, 0.983615161981752, 0.992852638907601, 0.985527802364684, 0.9969087639416668, 0.9925700090427149, 0.9935007035729643, 0.9929438458484777, 0.9945685193529257, 0.9981179354040465, 0.8446514333829297]}, {\"categories\": [\"0\", \"1\", \"2\", \"3\", \"4\", \"5\", \"6\", \"7\", \"8\", \"9\", \"10\", \"11\", \"12\", \"13\", \"14\", \"15\", \"16\", \"17\", \"18\", \"19\", \"20\", \"21\", \"22\", \"23\", \"24\", \"25\", \"26\", \"27\", \"28\", \"29\", \"30\", \"31\", \"32\", \"33\", \"34\", \"35\"], \"mode\": \"lines\", \"name\": \"average_precision_score_micro_max\", \"stepped\": true, \"type\": \"scatter\", \"data\": [0.9805042469559894, 0.9881081029514301, 0.9881081029514301, 0.9881081029514301, 0.9881081029514301, 0.9881081029514301, 0.9881081029514301, 0.9881081029514301, 0.9881081029514301, 0.9881081029514301, 0.9881081029514301, 0.9881081029514301, 0.9882978643926754, 0.9882978643926754, 0.9882978643926754, 0.9882978643926754, 0.9882978643926754, 0.9882978643926754, 0.9882978643926754, 0.9908655365920925, 0.9908655365920925, 0.9908655365920925, 0.9932442736939295, 0.9932442736939295, 0.9932442736939295, 0.9932442736939295, 0.9932442736939295, 0.9932442736939295, 0.9932442736939295, 0.9969087639416668, 0.9969087639416668, 0.9969087639416668, 0.9969087639416668, 0.9969087639416668, 0.9981179354040465, 0.9981179354040465]}], \"AUC_micro\": [{\"categories\": [\"0\", \"1\", \"2\", \"3\", \"4\", \"5\", \"6\", \"7\", \"8\", \"9\", \"10\", \"11\", \"12\", \"13\", \"14\", \"15\", \"16\", \"17\", \"18\", \"19\", \"20\", \"21\", \"22\", \"23\", \"24\", \"25\", \"26\", \"27\", \"28\", \"29\", \"30\", \"31\", \"32\", \"33\", \"34\", \"35\"], \"mode\": \"markers\", \"name\": \"AUC_micro\", \"stepped\": false, \"type\": \"scatter\", \"data\": [0.994809368898598, 0.997569238234597, 0.9976906798088825, 0.9893949401757286, 0.9969169568942263, 0.9974563404883172, 0.9973573908479687, 0.9844553160999415, 0.977733517033171, 0.9966377697983405, 0.9853696945261143, 0.9886985939251373, 0.9982535937979673, 0.9716101770448938, 0.9891429281753755, 0.9859804163769773, 0.9964906961268928, 0.9978334333357276, 0.9980661361659328, 0.9986329212668091, 0.9941379383418735, 0.9981594113912925, 0.9989498855704314, 0.9988121700285549, 0.998272217487373, 0.46860694460369245, 0.9972843094461411, 0.9989839677988056, 0.997590487722024, 0.9995576051455121, 0.9988908802770465, 0.9990893428724447, 0.9989749910144935, 0.9992713381642607, 0.9997565131904605, 0.9675601074895971]}, {\"categories\": [\"0\", \"1\", \"2\", \"3\", \"4\", \"5\", \"6\", \"7\", \"8\", \"9\", \"10\", \"11\", \"12\", \"13\", \"14\", \"15\", \"16\", \"17\", \"18\", \"19\", \"20\", \"21\", \"22\", \"23\", \"24\", \"25\", \"26\", \"27\", \"28\", \"29\", \"30\", \"31\", \"32\", \"33\", \"34\", \"35\"], \"mode\": \"lines\", \"name\": \"AUC_micro_max\", \"stepped\": true, \"type\": \"scatter\", \"data\": [0.994809368898598, 0.997569238234597, 0.9976906798088825, 0.9976906798088825, 0.9976906798088825, 0.9976906798088825, 0.9976906798088825, 0.9976906798088825, 0.9976906798088825, 0.9976906798088825, 0.9976906798088825, 0.9976906798088825, 0.9982535937979673, 0.9982535937979673, 0.9982535937979673, 0.9982535937979673, 0.9982535937979673, 0.9982535937979673, 0.9982535937979673, 0.9986329212668091, 0.9986329212668091, 0.9986329212668091, 0.9989498855704314, 0.9989498855704314, 0.9989498855704314, 0.9989498855704314, 0.9989498855704314, 0.9989839677988056, 0.9989839677988056, 0.9995576051455121, 0.9995576051455121, 0.9995576051455121, 0.9995576051455121, 0.9995576051455121, 0.9997565131904605, 0.9997565131904605]}], \"f1_score_macro\": [{\"categories\": [\"0\", \"1\", \"2\", \"3\", \"4\", \"5\", \"6\", \"7\", \"8\", \"9\", \"10\", \"11\", \"12\", \"13\", \"14\", \"15\", \"16\", \"17\", \"18\", \"19\", \"20\", \"21\", \"22\", \"23\", \"24\", \"25\", \"26\", \"27\", \"28\", \"29\", \"30\", \"31\", \"32\", \"33\", \"34\", \"35\"], \"mode\": \"markers\", \"name\": \"f1_score_macro\", \"stepped\": false, \"type\": \"scatter\", \"data\": [0.9482996714596278, 0.9583239288393591, 0.9351997885254847, 0.9058251639634202, 0.9391949902743318, 0.939289584519635, 0.9535607285241253, 0.8638667830481142, 0.859817064233772, 0.9412937072301125, 0.863964722526303, 0.8801831721030481, 0.9441940469971937, 0.7802982603474895, 0.8879979950760521, 0.8786227823726821, 0.948475801665491, 0.9411034899068369, 0.9457252852994554, 0.9537737347285784, 0.9034765747589472, 0.9456725203094383, 0.9646296152765266, 0.9513270350717624, 0.9462535059811739, 0.015543428396327844, 0.9553032732486467, 0.9605858924541067, 0.9377836592989106, 0.9806568618593863, 0.9578196676830681, 0.9647399157292975, 0.9611595894875448, 0.9620353466199248, 0.9843701194372843, 0.6215760908095437]}, {\"categories\": [\"0\", \"1\", \"2\", \"3\", \"4\", \"5\", \"6\", \"7\", \"8\", \"9\", \"10\", \"11\", \"12\", \"13\", \"14\", \"15\", \"16\", \"17\", \"18\", \"19\", \"20\", \"21\", \"22\", \"23\", \"24\", \"25\", \"26\", \"27\", \"28\", \"29\", \"30\", \"31\", \"32\", \"33\", \"34\", \"35\"], \"mode\": \"lines\", \"name\": \"f1_score_macro_max\", \"stepped\": true, \"type\": \"scatter\", \"data\": [0.9482996714596278, 0.9583239288393591, 0.9583239288393591, 0.9583239288393591, 0.9583239288393591, 0.9583239288393591, 0.9583239288393591, 0.9583239288393591, 0.9583239288393591, 0.9583239288393591, 0.9583239288393591, 0.9583239288393591, 0.9583239288393591, 0.9583239288393591, 0.9583239288393591, 0.9583239288393591, 0.9583239288393591, 0.9583239288393591, 0.9583239288393591, 0.9583239288393591, 0.9583239288393591, 0.9583239288393591, 0.9646296152765266, 0.9646296152765266, 0.9646296152765266, 0.9646296152765266, 0.9646296152765266, 0.9646296152765266, 0.9646296152765266, 0.9806568618593863, 0.9806568618593863, 0.9806568618593863, 0.9806568618593863, 0.9806568618593863, 0.9843701194372843, 0.9843701194372843]}], \"average_precision_score_weighted\": [{\"categories\": [\"0\", \"1\", \"2\", \"3\", \"4\", \"5\", \"6\", \"7\", \"8\", \"9\", \"10\", \"11\", \"12\", \"13\", \"14\", \"15\", \"16\", \"17\", \"18\", \"19\", \"20\", \"21\", \"22\", \"23\", \"24\", \"25\", \"26\", \"27\", \"28\", \"29\", \"30\", \"31\", \"32\", \"33\", \"34\", \"35\"], \"mode\": \"markers\", \"name\": \"average_precision_score_weighted\", \"stepped\": false, \"type\": \"scatter\", \"data\": [0.977819624707462, 0.9871302881035869, 0.9847317338491589, 0.9416063848680997, 0.9794006185784981, 0.9839265875300168, 0.9851300467205221, 0.9222785691108691, 0.9104504870782509, 0.9786192971189571, 0.9260091265011701, 0.9485999496238554, 0.9879935193069326, 0.8944477818647402, 0.9477272896001022, 0.9182131208009782, 0.9789606507700493, 0.9859244345714958, 0.9873483984618839, 0.9909486505258421, 0.9654431979205708, 0.9882275863029631, 0.9936002169928343, 0.9921068686962817, 0.9887292467494438, 0.1012259959289039, 0.9822084566943516, 0.9928747907857782, 0.982374750211029, 0.9964626915577822, 0.9909903620664169, 0.9924419230507494, 0.9917517729025148, 0.9945744090759264, 0.9978074821590939, 0.897595793292051]}, {\"categories\": [\"0\", \"1\", \"2\", \"3\", \"4\", \"5\", \"6\", \"7\", \"8\", \"9\", \"10\", \"11\", \"12\", \"13\", \"14\", \"15\", \"16\", \"17\", \"18\", \"19\", \"20\", \"21\", \"22\", \"23\", \"24\", \"25\", \"26\", \"27\", \"28\", \"29\", \"30\", \"31\", \"32\", \"33\", \"34\", \"35\"], \"mode\": \"lines\", \"name\": \"average_precision_score_weighted_max\", \"stepped\": true, \"type\": \"scatter\", \"data\": [0.977819624707462, 0.9871302881035869, 0.9871302881035869, 0.9871302881035869, 0.9871302881035869, 0.9871302881035869, 0.9871302881035869, 0.9871302881035869, 0.9871302881035869, 0.9871302881035869, 0.9871302881035869, 0.9871302881035869, 0.9879935193069326, 0.9879935193069326, 0.9879935193069326, 0.9879935193069326, 0.9879935193069326, 0.9879935193069326, 0.9879935193069326, 0.9909486505258421, 0.9909486505258421, 0.9909486505258421, 0.9936002169928343, 0.9936002169928343, 0.9936002169928343, 0.9936002169928343, 0.9936002169928343, 0.9936002169928343, 0.9936002169928343, 0.9964626915577822, 0.9964626915577822, 0.9964626915577822, 0.9964626915577822, 0.9964626915577822, 0.9978074821590939, 0.9978074821590939]}], \"log_loss\": [{\"categories\": [\"0\", \"1\", \"2\", \"3\", \"4\", \"5\", \"6\", \"7\", \"8\", \"9\", \"10\", \"11\", \"12\", \"13\", \"14\", \"15\", \"16\", \"17\", \"18\", \"19\", \"20\", \"21\", \"22\", \"23\", \"24\", \"25\", \"26\", \"27\", \"28\", \"29\", \"30\", \"31\", \"32\", \"33\", \"34\", \"35\"], \"mode\": \"markers\", \"name\": \"log_loss\", \"stepped\": false, \"type\": \"scatter\", \"data\": [0.5409316870831232, 0.23928671112401514, 0.32456495034312055, 1.6186276945460663, 0.7724086202171327, 0.33509476736668137, 0.3226639989059414, 1.0173757950912943, 2.157847839869935, 0.2915847252319855, 0.9195282776073533, 0.9909297655942235, 0.22344296261803434, 1.1431846738643838, 1.148562119809433, 0.8524158700980801, 0.28236971421781054, 0.25077171005021176, 0.2445080924197743, 0.2414661094753474, 0.5076430195268087, 0.22233746537840005, 0.12339648616031562, 0.16508917823269575, 0.23257480143113704, 2.3042077426991354, 0.21898616582248054, 0.17848544409564412, 0.25839709968967933, 0.1280580489783917, 0.1804978011074624, 0.1364101770422142, 0.22013711772578215, 0.11881477329229055, 0.1756490437093521, 0.9892465424225305]}, {\"categories\": [\"0\", \"1\", \"2\", \"3\", \"4\", \"5\", \"6\", \"7\", \"8\", \"9\", \"10\", \"11\", \"12\", \"13\", \"14\", \"15\", \"16\", \"17\", \"18\", \"19\", \"20\", \"21\", \"22\", \"23\", \"24\", \"25\", \"26\", \"27\", \"28\", \"29\", \"30\", \"31\", \"32\", \"33\", \"34\", \"35\"], \"mode\": \"lines\", \"name\": \"log_loss_min\", \"stepped\": true, \"type\": \"scatter\", \"data\": [0.5409316870831232, 0.23928671112401514, 0.23928671112401514, 0.23928671112401514, 0.23928671112401514, 0.23928671112401514, 0.23928671112401514, 0.23928671112401514, 0.23928671112401514, 0.23928671112401514, 0.23928671112401514, 0.23928671112401514, 0.22344296261803434, 0.22344296261803434, 0.22344296261803434, 0.22344296261803434, 0.22344296261803434, 0.22344296261803434, 0.22344296261803434, 0.22344296261803434, 0.22344296261803434, 0.22233746537840005, 0.12339648616031562, 0.12339648616031562, 0.12339648616031562, 0.12339648616031562, 0.12339648616031562, 0.12339648616031562, 0.12339648616031562, 0.12339648616031562, 0.12339648616031562, 0.12339648616031562, 0.12339648616031562, 0.11881477329229055, 0.11881477329229055, 0.11881477329229055]}], \"recall_score_weighted\": [{\"categories\": [\"0\", \"1\", \"2\", \"3\", \"4\", \"5\", \"6\", \"7\", \"8\", \"9\", \"10\", \"11\", \"12\", \"13\", \"14\", \"15\", \"16\", \"17\", \"18\", \"19\", \"20\", \"21\", \"22\", \"23\", \"24\", \"25\", \"26\", \"27\", \"28\", \"29\", \"30\", \"31\", \"32\", \"33\", \"34\", \"35\"], \"mode\": \"markers\", \"name\": \"recall_score_weighted\", \"stepped\": false, \"type\": \"scatter\", \"data\": [0.9481482639648937, 0.9581642119307462, 0.9351824634916664, 0.9074788663393686, 0.9399022275034659, 0.9393101723005722, 0.9534517443739121, 0.8656462053222427, 0.8679977485224679, 0.9410738297007412, 0.8656451629715334, 0.8809604219435672, 0.9440226398574064, 0.7902227503465816, 0.8880317291555917, 0.8780314164503787, 0.9481472216141844, 0.9410769567528691, 0.9452004961589376, 0.9534527867246214, 0.903939043330519, 0.9452025808603564, 0.9640566204905302, 0.9510918623680125, 0.9457925513618313, 0.08426675839352908, 0.9552206135276275, 0.9605272209887739, 0.9375413031468568, 0.9805601592711884, 0.9575804955335272, 0.9646445062905865, 0.9605199245338086, 0.9617009078874678, 0.984093728175782, 0.6694810135818297]}, {\"categories\": [\"0\", \"1\", \"2\", \"3\", \"4\", \"5\", \"6\", \"7\", \"8\", \"9\", \"10\", \"11\", \"12\", \"13\", \"14\", \"15\", \"16\", \"17\", \"18\", \"19\", \"20\", \"21\", \"22\", \"23\", \"24\", \"25\", \"26\", \"27\", \"28\", \"29\", \"30\", \"31\", \"32\", \"33\", \"34\", \"35\"], \"mode\": \"lines\", \"name\": \"recall_score_weighted_max\", \"stepped\": true, \"type\": \"scatter\", \"data\": [0.9481482639648937, 0.9581642119307462, 0.9581642119307462, 0.9581642119307462, 0.9581642119307462, 0.9581642119307462, 0.9581642119307462, 0.9581642119307462, 0.9581642119307462, 0.9581642119307462, 0.9581642119307462, 0.9581642119307462, 0.9581642119307462, 0.9581642119307462, 0.9581642119307462, 0.9581642119307462, 0.9581642119307462, 0.9581642119307462, 0.9581642119307462, 0.9581642119307462, 0.9581642119307462, 0.9581642119307462, 0.9640566204905302, 0.9640566204905302, 0.9640566204905302, 0.9640566204905302, 0.9640566204905302, 0.9640566204905302, 0.9640566204905302, 0.9805601592711884, 0.9805601592711884, 0.9805601592711884, 0.9805601592711884, 0.9805601592711884, 0.984093728175782, 0.984093728175782]}], \"f1_score_micro\": [{\"categories\": [\"0\", \"1\", \"2\", \"3\", \"4\", \"5\", \"6\", \"7\", \"8\", \"9\", \"10\", \"11\", \"12\", \"13\", \"14\", \"15\", \"16\", \"17\", \"18\", \"19\", \"20\", \"21\", \"22\", \"23\", \"24\", \"25\", \"26\", \"27\", \"28\", \"29\", \"30\", \"31\", \"32\", \"33\", \"34\", \"35\"], \"mode\": \"markers\", \"name\": \"f1_score_micro\", \"stepped\": false, \"type\": \"scatter\", \"data\": [0.9481482639648937, 0.9581642119307462, 0.9351824634916664, 0.9074788663393686, 0.9399022275034659, 0.9393101723005722, 0.9534517443739121, 0.8656462053222427, 0.8679977485224679, 0.9410738297007412, 0.8656451629715334, 0.8809604219435672, 0.9440226398574064, 0.7902227503465816, 0.8880317291555917, 0.8780314164503787, 0.9481472216141844, 0.9410769567528691, 0.9452004961589376, 0.9534527867246214, 0.903939043330519, 0.9452025808603564, 0.9640566204905302, 0.9510918623680125, 0.9457925513618312, 0.08426675839352908, 0.9552206135276275, 0.9605272209887739, 0.9375413031468568, 0.9805601592711884, 0.9575804955335272, 0.9646445062905865, 0.9605199245338086, 0.9617009078874678, 0.984093728175782, 0.6694810135818297]}, {\"categories\": [\"0\", \"1\", \"2\", \"3\", \"4\", \"5\", \"6\", \"7\", \"8\", \"9\", \"10\", \"11\", \"12\", \"13\", \"14\", \"15\", \"16\", \"17\", \"18\", \"19\", \"20\", \"21\", \"22\", \"23\", \"24\", \"25\", \"26\", \"27\", \"28\", \"29\", \"30\", \"31\", \"32\", \"33\", \"34\", \"35\"], \"mode\": \"lines\", \"name\": \"f1_score_micro_max\", \"stepped\": true, \"type\": \"scatter\", \"data\": [0.9481482639648937, 0.9581642119307462, 0.9581642119307462, 0.9581642119307462, 0.9581642119307462, 0.9581642119307462, 0.9581642119307462, 0.9581642119307462, 0.9581642119307462, 0.9581642119307462, 0.9581642119307462, 0.9581642119307462, 0.9581642119307462, 0.9581642119307462, 0.9581642119307462, 0.9581642119307462, 0.9581642119307462, 0.9581642119307462, 0.9581642119307462, 0.9581642119307462, 0.9581642119307462, 0.9581642119307462, 0.9640566204905302, 0.9640566204905302, 0.9640566204905302, 0.9640566204905302, 0.9640566204905302, 0.9640566204905302, 0.9640566204905302, 0.9805601592711884, 0.9805601592711884, 0.9805601592711884, 0.9805601592711884, 0.9805601592711884, 0.984093728175782, 0.984093728175782]}], \"recall_score_macro\": [{\"categories\": [\"0\", \"1\", \"2\", \"3\", \"4\", \"5\", \"6\", \"7\", \"8\", \"9\", \"10\", \"11\", \"12\", \"13\", \"14\", \"15\", \"16\", \"17\", \"18\", \"19\", \"20\", \"21\", \"22\", \"23\", \"24\", \"25\", \"26\", \"27\", \"28\", \"29\", \"30\", \"31\", \"32\", \"33\", \"34\", \"35\"], \"mode\": \"markers\", \"name\": \"recall_score_macro\", \"stepped\": false, \"type\": \"scatter\", \"data\": [0.9491052207788307, 0.9591936672834463, 0.9357232758210251, 0.9081451010902555, 0.9398587836662277, 0.9399787168704153, 0.9546691907927641, 0.8668520739059217, 0.8676624598953074, 0.9424464066759958, 0.867313878109999, 0.8812742038130973, 0.9447824257266882, 0.7926046006780814, 0.8896427234966372, 0.8778600593488779, 0.9491597537335404, 0.9416625910996835, 0.9461728610756066, 0.954090268957878, 0.9037316140148594, 0.9461298056702322, 0.964541106095297, 0.9515941623678946, 0.9467553001021444, 0.10000000000000002, 0.9552998628361683, 0.9605840198251056, 0.9382369359329257, 0.9802393712672078, 0.9578582790135477, 0.9655884598197723, 0.9613371823012251, 0.9626209818476319, 0.9841873781656035, 0.6858225053840643]}, {\"categories\": [\"0\", \"1\", \"2\", \"3\", \"4\", \"5\", \"6\", \"7\", \"8\", \"9\", \"10\", \"11\", \"12\", \"13\", \"14\", \"15\", \"16\", \"17\", \"18\", \"19\", \"20\", \"21\", \"22\", \"23\", \"24\", \"25\", \"26\", \"27\", \"28\", \"29\", \"30\", \"31\", \"32\", \"33\", \"34\", \"35\"], \"mode\": \"lines\", \"name\": \"recall_score_macro_max\", \"stepped\": true, \"type\": \"scatter\", \"data\": [0.9491052207788307, 0.9591936672834463, 0.9591936672834463, 0.9591936672834463, 0.9591936672834463, 0.9591936672834463, 0.9591936672834463, 0.9591936672834463, 0.9591936672834463, 0.9591936672834463, 0.9591936672834463, 0.9591936672834463, 0.9591936672834463, 0.9591936672834463, 0.9591936672834463, 0.9591936672834463, 0.9591936672834463, 0.9591936672834463, 0.9591936672834463, 0.9591936672834463, 0.9591936672834463, 0.9591936672834463, 0.964541106095297, 0.964541106095297, 0.964541106095297, 0.964541106095297, 0.964541106095297, 0.964541106095297, 0.964541106095297, 0.9802393712672078, 0.9802393712672078, 0.9802393712672078, 0.9802393712672078, 0.9802393712672078, 0.9841873781656035, 0.9841873781656035]}]}, \"metricName\": null, \"primaryMetricName\": \"AUC_weighted\", \"showLegend\": false}, \"run_metrics\": [], \"run_logs\": \"\\nRun is completed.\", \"graph\": {}, \"widget_settings\": {\"childWidgetDisplay\": \"popup\", \"send_telemetry\": false, \"log_level\": \"INFO\", \"sdk_version\": \"1.0.74\"}, \"loading\": false}"
     },
     "metadata": {},
     "output_type": "display_data"
    }
   ],
   "source": [
    "from azureml.widgets import RunDetails\n",
    "RunDetails(local_run).show() "
   ]
  },
  {
   "cell_type": "markdown",
   "metadata": {},
   "source": [
    "\n",
    "### 6.2 Métriques par itération\n"
   ]
  },
  {
   "cell_type": "code",
   "execution_count": 37,
   "metadata": {},
   "outputs": [
    {
     "data": {
      "text/html": [
       "<div>\n",
       "<style scoped>\n",
       "    .dataframe tbody tr th:only-of-type {\n",
       "        vertical-align: middle;\n",
       "    }\n",
       "\n",
       "    .dataframe tbody tr th {\n",
       "        vertical-align: top;\n",
       "    }\n",
       "\n",
       "    .dataframe thead th {\n",
       "        text-align: right;\n",
       "    }\n",
       "</style>\n",
       "<table border=\"1\" class=\"dataframe\">\n",
       "  <thead>\n",
       "    <tr style=\"text-align: right;\">\n",
       "      <th></th>\n",
       "      <th>0</th>\n",
       "      <th>1</th>\n",
       "      <th>2</th>\n",
       "      <th>3</th>\n",
       "      <th>4</th>\n",
       "      <th>5</th>\n",
       "      <th>6</th>\n",
       "      <th>7</th>\n",
       "      <th>8</th>\n",
       "      <th>9</th>\n",
       "      <th>...</th>\n",
       "      <th>26</th>\n",
       "      <th>27</th>\n",
       "      <th>28</th>\n",
       "      <th>29</th>\n",
       "      <th>30</th>\n",
       "      <th>31</th>\n",
       "      <th>32</th>\n",
       "      <th>33</th>\n",
       "      <th>34</th>\n",
       "      <th>35</th>\n",
       "    </tr>\n",
       "  </thead>\n",
       "  <tbody>\n",
       "    <tr>\n",
       "      <th>AUC_macro</th>\n",
       "      <td>0.99</td>\n",
       "      <td>1.00</td>\n",
       "      <td>1.00</td>\n",
       "      <td>0.99</td>\n",
       "      <td>1.00</td>\n",
       "      <td>1.00</td>\n",
       "      <td>1.00</td>\n",
       "      <td>0.98</td>\n",
       "      <td>0.98</td>\n",
       "      <td>1.00</td>\n",
       "      <td>...</td>\n",
       "      <td>1.00</td>\n",
       "      <td>1.00</td>\n",
       "      <td>1.00</td>\n",
       "      <td>1.00</td>\n",
       "      <td>1.00</td>\n",
       "      <td>1.00</td>\n",
       "      <td>1.00</td>\n",
       "      <td>1.00</td>\n",
       "      <td>1.00</td>\n",
       "      <td>0.96</td>\n",
       "    </tr>\n",
       "    <tr>\n",
       "      <th>AUC_micro</th>\n",
       "      <td>0.99</td>\n",
       "      <td>1.00</td>\n",
       "      <td>1.00</td>\n",
       "      <td>0.99</td>\n",
       "      <td>1.00</td>\n",
       "      <td>1.00</td>\n",
       "      <td>1.00</td>\n",
       "      <td>0.98</td>\n",
       "      <td>0.98</td>\n",
       "      <td>1.00</td>\n",
       "      <td>...</td>\n",
       "      <td>1.00</td>\n",
       "      <td>1.00</td>\n",
       "      <td>1.00</td>\n",
       "      <td>1.00</td>\n",
       "      <td>1.00</td>\n",
       "      <td>1.00</td>\n",
       "      <td>1.00</td>\n",
       "      <td>1.00</td>\n",
       "      <td>1.00</td>\n",
       "      <td>0.97</td>\n",
       "    </tr>\n",
       "    <tr>\n",
       "      <th>AUC_weighted</th>\n",
       "      <td>0.99</td>\n",
       "      <td>1.00</td>\n",
       "      <td>1.00</td>\n",
       "      <td>0.99</td>\n",
       "      <td>1.00</td>\n",
       "      <td>1.00</td>\n",
       "      <td>1.00</td>\n",
       "      <td>0.98</td>\n",
       "      <td>0.98</td>\n",
       "      <td>1.00</td>\n",
       "      <td>...</td>\n",
       "      <td>1.00</td>\n",
       "      <td>1.00</td>\n",
       "      <td>1.00</td>\n",
       "      <td>1.00</td>\n",
       "      <td>1.00</td>\n",
       "      <td>1.00</td>\n",
       "      <td>1.00</td>\n",
       "      <td>1.00</td>\n",
       "      <td>1.00</td>\n",
       "      <td>0.96</td>\n",
       "    </tr>\n",
       "    <tr>\n",
       "      <th>accuracy</th>\n",
       "      <td>0.95</td>\n",
       "      <td>0.96</td>\n",
       "      <td>0.94</td>\n",
       "      <td>0.91</td>\n",
       "      <td>0.94</td>\n",
       "      <td>0.94</td>\n",
       "      <td>0.95</td>\n",
       "      <td>0.87</td>\n",
       "      <td>0.87</td>\n",
       "      <td>0.94</td>\n",
       "      <td>...</td>\n",
       "      <td>0.96</td>\n",
       "      <td>0.96</td>\n",
       "      <td>0.94</td>\n",
       "      <td>0.98</td>\n",
       "      <td>0.96</td>\n",
       "      <td>0.96</td>\n",
       "      <td>0.96</td>\n",
       "      <td>0.96</td>\n",
       "      <td>0.98</td>\n",
       "      <td>0.67</td>\n",
       "    </tr>\n",
       "    <tr>\n",
       "      <th>average_precision_score_macro</th>\n",
       "      <td>0.98</td>\n",
       "      <td>0.99</td>\n",
       "      <td>0.98</td>\n",
       "      <td>0.94</td>\n",
       "      <td>0.98</td>\n",
       "      <td>0.98</td>\n",
       "      <td>0.99</td>\n",
       "      <td>0.92</td>\n",
       "      <td>0.91</td>\n",
       "      <td>0.98</td>\n",
       "      <td>...</td>\n",
       "      <td>0.98</td>\n",
       "      <td>0.99</td>\n",
       "      <td>0.98</td>\n",
       "      <td>1.00</td>\n",
       "      <td>0.99</td>\n",
       "      <td>0.99</td>\n",
       "      <td>0.99</td>\n",
       "      <td>0.99</td>\n",
       "      <td>1.00</td>\n",
       "      <td>0.90</td>\n",
       "    </tr>\n",
       "    <tr>\n",
       "      <th>average_precision_score_micro</th>\n",
       "      <td>0.98</td>\n",
       "      <td>0.99</td>\n",
       "      <td>0.98</td>\n",
       "      <td>0.94</td>\n",
       "      <td>0.98</td>\n",
       "      <td>0.98</td>\n",
       "      <td>0.99</td>\n",
       "      <td>0.92</td>\n",
       "      <td>0.88</td>\n",
       "      <td>0.98</td>\n",
       "      <td>...</td>\n",
       "      <td>0.98</td>\n",
       "      <td>0.99</td>\n",
       "      <td>0.99</td>\n",
       "      <td>1.00</td>\n",
       "      <td>0.99</td>\n",
       "      <td>0.99</td>\n",
       "      <td>0.99</td>\n",
       "      <td>0.99</td>\n",
       "      <td>1.00</td>\n",
       "      <td>0.84</td>\n",
       "    </tr>\n",
       "    <tr>\n",
       "      <th>average_precision_score_weighted</th>\n",
       "      <td>0.98</td>\n",
       "      <td>0.99</td>\n",
       "      <td>0.98</td>\n",
       "      <td>0.94</td>\n",
       "      <td>0.98</td>\n",
       "      <td>0.98</td>\n",
       "      <td>0.99</td>\n",
       "      <td>0.92</td>\n",
       "      <td>0.91</td>\n",
       "      <td>0.98</td>\n",
       "      <td>...</td>\n",
       "      <td>0.98</td>\n",
       "      <td>0.99</td>\n",
       "      <td>0.98</td>\n",
       "      <td>1.00</td>\n",
       "      <td>0.99</td>\n",
       "      <td>0.99</td>\n",
       "      <td>0.99</td>\n",
       "      <td>0.99</td>\n",
       "      <td>1.00</td>\n",
       "      <td>0.90</td>\n",
       "    </tr>\n",
       "    <tr>\n",
       "      <th>balanced_accuracy</th>\n",
       "      <td>0.95</td>\n",
       "      <td>0.96</td>\n",
       "      <td>0.94</td>\n",
       "      <td>0.91</td>\n",
       "      <td>0.94</td>\n",
       "      <td>0.94</td>\n",
       "      <td>0.95</td>\n",
       "      <td>0.87</td>\n",
       "      <td>0.87</td>\n",
       "      <td>0.94</td>\n",
       "      <td>...</td>\n",
       "      <td>0.96</td>\n",
       "      <td>0.96</td>\n",
       "      <td>0.94</td>\n",
       "      <td>0.98</td>\n",
       "      <td>0.96</td>\n",
       "      <td>0.97</td>\n",
       "      <td>0.96</td>\n",
       "      <td>0.96</td>\n",
       "      <td>0.98</td>\n",
       "      <td>0.69</td>\n",
       "    </tr>\n",
       "    <tr>\n",
       "      <th>f1_score_macro</th>\n",
       "      <td>0.95</td>\n",
       "      <td>0.96</td>\n",
       "      <td>0.94</td>\n",
       "      <td>0.91</td>\n",
       "      <td>0.94</td>\n",
       "      <td>0.94</td>\n",
       "      <td>0.95</td>\n",
       "      <td>0.86</td>\n",
       "      <td>0.86</td>\n",
       "      <td>0.94</td>\n",
       "      <td>...</td>\n",
       "      <td>0.96</td>\n",
       "      <td>0.96</td>\n",
       "      <td>0.94</td>\n",
       "      <td>0.98</td>\n",
       "      <td>0.96</td>\n",
       "      <td>0.96</td>\n",
       "      <td>0.96</td>\n",
       "      <td>0.96</td>\n",
       "      <td>0.98</td>\n",
       "      <td>0.62</td>\n",
       "    </tr>\n",
       "    <tr>\n",
       "      <th>f1_score_micro</th>\n",
       "      <td>0.95</td>\n",
       "      <td>0.96</td>\n",
       "      <td>0.94</td>\n",
       "      <td>0.91</td>\n",
       "      <td>0.94</td>\n",
       "      <td>0.94</td>\n",
       "      <td>0.95</td>\n",
       "      <td>0.87</td>\n",
       "      <td>0.87</td>\n",
       "      <td>0.94</td>\n",
       "      <td>...</td>\n",
       "      <td>0.96</td>\n",
       "      <td>0.96</td>\n",
       "      <td>0.94</td>\n",
       "      <td>0.98</td>\n",
       "      <td>0.96</td>\n",
       "      <td>0.96</td>\n",
       "      <td>0.96</td>\n",
       "      <td>0.96</td>\n",
       "      <td>0.98</td>\n",
       "      <td>0.67</td>\n",
       "    </tr>\n",
       "    <tr>\n",
       "      <th>f1_score_weighted</th>\n",
       "      <td>0.95</td>\n",
       "      <td>0.96</td>\n",
       "      <td>0.94</td>\n",
       "      <td>0.91</td>\n",
       "      <td>0.94</td>\n",
       "      <td>0.94</td>\n",
       "      <td>0.95</td>\n",
       "      <td>0.86</td>\n",
       "      <td>0.86</td>\n",
       "      <td>0.94</td>\n",
       "      <td>...</td>\n",
       "      <td>0.96</td>\n",
       "      <td>0.96</td>\n",
       "      <td>0.94</td>\n",
       "      <td>0.98</td>\n",
       "      <td>0.96</td>\n",
       "      <td>0.96</td>\n",
       "      <td>0.96</td>\n",
       "      <td>0.96</td>\n",
       "      <td>0.98</td>\n",
       "      <td>0.61</td>\n",
       "    </tr>\n",
       "    <tr>\n",
       "      <th>log_loss</th>\n",
       "      <td>0.54</td>\n",
       "      <td>0.24</td>\n",
       "      <td>0.32</td>\n",
       "      <td>1.62</td>\n",
       "      <td>0.77</td>\n",
       "      <td>0.34</td>\n",
       "      <td>0.32</td>\n",
       "      <td>1.02</td>\n",
       "      <td>2.16</td>\n",
       "      <td>0.29</td>\n",
       "      <td>...</td>\n",
       "      <td>0.22</td>\n",
       "      <td>0.18</td>\n",
       "      <td>0.26</td>\n",
       "      <td>0.13</td>\n",
       "      <td>0.18</td>\n",
       "      <td>0.14</td>\n",
       "      <td>0.22</td>\n",
       "      <td>0.12</td>\n",
       "      <td>0.18</td>\n",
       "      <td>0.99</td>\n",
       "    </tr>\n",
       "    <tr>\n",
       "      <th>norm_macro_recall</th>\n",
       "      <td>0.94</td>\n",
       "      <td>0.95</td>\n",
       "      <td>0.93</td>\n",
       "      <td>0.90</td>\n",
       "      <td>0.93</td>\n",
       "      <td>0.93</td>\n",
       "      <td>0.95</td>\n",
       "      <td>0.85</td>\n",
       "      <td>0.85</td>\n",
       "      <td>0.94</td>\n",
       "      <td>...</td>\n",
       "      <td>0.95</td>\n",
       "      <td>0.96</td>\n",
       "      <td>0.93</td>\n",
       "      <td>0.98</td>\n",
       "      <td>0.95</td>\n",
       "      <td>0.96</td>\n",
       "      <td>0.96</td>\n",
       "      <td>0.96</td>\n",
       "      <td>0.98</td>\n",
       "      <td>0.65</td>\n",
       "    </tr>\n",
       "    <tr>\n",
       "      <th>precision_score_macro</th>\n",
       "      <td>0.95</td>\n",
       "      <td>0.96</td>\n",
       "      <td>0.94</td>\n",
       "      <td>0.91</td>\n",
       "      <td>0.94</td>\n",
       "      <td>0.94</td>\n",
       "      <td>0.95</td>\n",
       "      <td>0.87</td>\n",
       "      <td>0.87</td>\n",
       "      <td>0.94</td>\n",
       "      <td>...</td>\n",
       "      <td>0.96</td>\n",
       "      <td>0.96</td>\n",
       "      <td>0.94</td>\n",
       "      <td>0.98</td>\n",
       "      <td>0.96</td>\n",
       "      <td>0.96</td>\n",
       "      <td>0.96</td>\n",
       "      <td>0.96</td>\n",
       "      <td>0.98</td>\n",
       "      <td>0.61</td>\n",
       "    </tr>\n",
       "    <tr>\n",
       "      <th>precision_score_micro</th>\n",
       "      <td>0.95</td>\n",
       "      <td>0.96</td>\n",
       "      <td>0.94</td>\n",
       "      <td>0.91</td>\n",
       "      <td>0.94</td>\n",
       "      <td>0.94</td>\n",
       "      <td>0.95</td>\n",
       "      <td>0.87</td>\n",
       "      <td>0.87</td>\n",
       "      <td>0.94</td>\n",
       "      <td>...</td>\n",
       "      <td>0.96</td>\n",
       "      <td>0.96</td>\n",
       "      <td>0.94</td>\n",
       "      <td>0.98</td>\n",
       "      <td>0.96</td>\n",
       "      <td>0.96</td>\n",
       "      <td>0.96</td>\n",
       "      <td>0.96</td>\n",
       "      <td>0.98</td>\n",
       "      <td>0.67</td>\n",
       "    </tr>\n",
       "    <tr>\n",
       "      <th>precision_score_weighted</th>\n",
       "      <td>0.95</td>\n",
       "      <td>0.96</td>\n",
       "      <td>0.94</td>\n",
       "      <td>0.91</td>\n",
       "      <td>0.94</td>\n",
       "      <td>0.94</td>\n",
       "      <td>0.95</td>\n",
       "      <td>0.87</td>\n",
       "      <td>0.88</td>\n",
       "      <td>0.94</td>\n",
       "      <td>...</td>\n",
       "      <td>0.96</td>\n",
       "      <td>0.96</td>\n",
       "      <td>0.94</td>\n",
       "      <td>0.98</td>\n",
       "      <td>0.96</td>\n",
       "      <td>0.97</td>\n",
       "      <td>0.96</td>\n",
       "      <td>0.96</td>\n",
       "      <td>0.98</td>\n",
       "      <td>0.60</td>\n",
       "    </tr>\n",
       "    <tr>\n",
       "      <th>recall_score_macro</th>\n",
       "      <td>0.95</td>\n",
       "      <td>0.96</td>\n",
       "      <td>0.94</td>\n",
       "      <td>0.91</td>\n",
       "      <td>0.94</td>\n",
       "      <td>0.94</td>\n",
       "      <td>0.95</td>\n",
       "      <td>0.87</td>\n",
       "      <td>0.87</td>\n",
       "      <td>0.94</td>\n",
       "      <td>...</td>\n",
       "      <td>0.96</td>\n",
       "      <td>0.96</td>\n",
       "      <td>0.94</td>\n",
       "      <td>0.98</td>\n",
       "      <td>0.96</td>\n",
       "      <td>0.97</td>\n",
       "      <td>0.96</td>\n",
       "      <td>0.96</td>\n",
       "      <td>0.98</td>\n",
       "      <td>0.69</td>\n",
       "    </tr>\n",
       "    <tr>\n",
       "      <th>recall_score_micro</th>\n",
       "      <td>0.95</td>\n",
       "      <td>0.96</td>\n",
       "      <td>0.94</td>\n",
       "      <td>0.91</td>\n",
       "      <td>0.94</td>\n",
       "      <td>0.94</td>\n",
       "      <td>0.95</td>\n",
       "      <td>0.87</td>\n",
       "      <td>0.87</td>\n",
       "      <td>0.94</td>\n",
       "      <td>...</td>\n",
       "      <td>0.96</td>\n",
       "      <td>0.96</td>\n",
       "      <td>0.94</td>\n",
       "      <td>0.98</td>\n",
       "      <td>0.96</td>\n",
       "      <td>0.96</td>\n",
       "      <td>0.96</td>\n",
       "      <td>0.96</td>\n",
       "      <td>0.98</td>\n",
       "      <td>0.67</td>\n",
       "    </tr>\n",
       "    <tr>\n",
       "      <th>recall_score_weighted</th>\n",
       "      <td>0.95</td>\n",
       "      <td>0.96</td>\n",
       "      <td>0.94</td>\n",
       "      <td>0.91</td>\n",
       "      <td>0.94</td>\n",
       "      <td>0.94</td>\n",
       "      <td>0.95</td>\n",
       "      <td>0.87</td>\n",
       "      <td>0.87</td>\n",
       "      <td>0.94</td>\n",
       "      <td>...</td>\n",
       "      <td>0.96</td>\n",
       "      <td>0.96</td>\n",
       "      <td>0.94</td>\n",
       "      <td>0.98</td>\n",
       "      <td>0.96</td>\n",
       "      <td>0.96</td>\n",
       "      <td>0.96</td>\n",
       "      <td>0.96</td>\n",
       "      <td>0.98</td>\n",
       "      <td>0.67</td>\n",
       "    </tr>\n",
       "    <tr>\n",
       "      <th>weighted_accuracy</th>\n",
       "      <td>0.95</td>\n",
       "      <td>0.96</td>\n",
       "      <td>0.93</td>\n",
       "      <td>0.91</td>\n",
       "      <td>0.94</td>\n",
       "      <td>0.94</td>\n",
       "      <td>0.95</td>\n",
       "      <td>0.86</td>\n",
       "      <td>0.87</td>\n",
       "      <td>0.94</td>\n",
       "      <td>...</td>\n",
       "      <td>0.96</td>\n",
       "      <td>0.96</td>\n",
       "      <td>0.94</td>\n",
       "      <td>0.98</td>\n",
       "      <td>0.96</td>\n",
       "      <td>0.96</td>\n",
       "      <td>0.96</td>\n",
       "      <td>0.96</td>\n",
       "      <td>0.98</td>\n",
       "      <td>0.65</td>\n",
       "    </tr>\n",
       "  </tbody>\n",
       "</table>\n",
       "<p>20 rows × 36 columns</p>\n",
       "</div>"
      ],
      "text/plain": [
       "                                    0    1    2    3    4    5    6    7    8  \\\n",
       "AUC_macro                        0.99 1.00 1.00 0.99 1.00 1.00 1.00 0.98 0.98   \n",
       "AUC_micro                        0.99 1.00 1.00 0.99 1.00 1.00 1.00 0.98 0.98   \n",
       "AUC_weighted                     0.99 1.00 1.00 0.99 1.00 1.00 1.00 0.98 0.98   \n",
       "accuracy                         0.95 0.96 0.94 0.91 0.94 0.94 0.95 0.87 0.87   \n",
       "average_precision_score_macro    0.98 0.99 0.98 0.94 0.98 0.98 0.99 0.92 0.91   \n",
       "average_precision_score_micro    0.98 0.99 0.98 0.94 0.98 0.98 0.99 0.92 0.88   \n",
       "average_precision_score_weighted 0.98 0.99 0.98 0.94 0.98 0.98 0.99 0.92 0.91   \n",
       "balanced_accuracy                0.95 0.96 0.94 0.91 0.94 0.94 0.95 0.87 0.87   \n",
       "f1_score_macro                   0.95 0.96 0.94 0.91 0.94 0.94 0.95 0.86 0.86   \n",
       "f1_score_micro                   0.95 0.96 0.94 0.91 0.94 0.94 0.95 0.87 0.87   \n",
       "f1_score_weighted                0.95 0.96 0.94 0.91 0.94 0.94 0.95 0.86 0.86   \n",
       "log_loss                         0.54 0.24 0.32 1.62 0.77 0.34 0.32 1.02 2.16   \n",
       "norm_macro_recall                0.94 0.95 0.93 0.90 0.93 0.93 0.95 0.85 0.85   \n",
       "precision_score_macro            0.95 0.96 0.94 0.91 0.94 0.94 0.95 0.87 0.87   \n",
       "precision_score_micro            0.95 0.96 0.94 0.91 0.94 0.94 0.95 0.87 0.87   \n",
       "precision_score_weighted         0.95 0.96 0.94 0.91 0.94 0.94 0.95 0.87 0.88   \n",
       "recall_score_macro               0.95 0.96 0.94 0.91 0.94 0.94 0.95 0.87 0.87   \n",
       "recall_score_micro               0.95 0.96 0.94 0.91 0.94 0.94 0.95 0.87 0.87   \n",
       "recall_score_weighted            0.95 0.96 0.94 0.91 0.94 0.94 0.95 0.87 0.87   \n",
       "weighted_accuracy                0.95 0.96 0.93 0.91 0.94 0.94 0.95 0.86 0.87   \n",
       "\n",
       "                                    9 ...    26   27   28   29   30   31   32  \\\n",
       "AUC_macro                        1.00 ...  1.00 1.00 1.00 1.00 1.00 1.00 1.00   \n",
       "AUC_micro                        1.00 ...  1.00 1.00 1.00 1.00 1.00 1.00 1.00   \n",
       "AUC_weighted                     1.00 ...  1.00 1.00 1.00 1.00 1.00 1.00 1.00   \n",
       "accuracy                         0.94 ...  0.96 0.96 0.94 0.98 0.96 0.96 0.96   \n",
       "average_precision_score_macro    0.98 ...  0.98 0.99 0.98 1.00 0.99 0.99 0.99   \n",
       "average_precision_score_micro    0.98 ...  0.98 0.99 0.99 1.00 0.99 0.99 0.99   \n",
       "average_precision_score_weighted 0.98 ...  0.98 0.99 0.98 1.00 0.99 0.99 0.99   \n",
       "balanced_accuracy                0.94 ...  0.96 0.96 0.94 0.98 0.96 0.97 0.96   \n",
       "f1_score_macro                   0.94 ...  0.96 0.96 0.94 0.98 0.96 0.96 0.96   \n",
       "f1_score_micro                   0.94 ...  0.96 0.96 0.94 0.98 0.96 0.96 0.96   \n",
       "f1_score_weighted                0.94 ...  0.96 0.96 0.94 0.98 0.96 0.96 0.96   \n",
       "log_loss                         0.29 ...  0.22 0.18 0.26 0.13 0.18 0.14 0.22   \n",
       "norm_macro_recall                0.94 ...  0.95 0.96 0.93 0.98 0.95 0.96 0.96   \n",
       "precision_score_macro            0.94 ...  0.96 0.96 0.94 0.98 0.96 0.96 0.96   \n",
       "precision_score_micro            0.94 ...  0.96 0.96 0.94 0.98 0.96 0.96 0.96   \n",
       "precision_score_weighted         0.94 ...  0.96 0.96 0.94 0.98 0.96 0.97 0.96   \n",
       "recall_score_macro               0.94 ...  0.96 0.96 0.94 0.98 0.96 0.97 0.96   \n",
       "recall_score_micro               0.94 ...  0.96 0.96 0.94 0.98 0.96 0.96 0.96   \n",
       "recall_score_weighted            0.94 ...  0.96 0.96 0.94 0.98 0.96 0.96 0.96   \n",
       "weighted_accuracy                0.94 ...  0.96 0.96 0.94 0.98 0.96 0.96 0.96   \n",
       "\n",
       "                                   33   34   35  \n",
       "AUC_macro                        1.00 1.00 0.96  \n",
       "AUC_micro                        1.00 1.00 0.97  \n",
       "AUC_weighted                     1.00 1.00 0.96  \n",
       "accuracy                         0.96 0.98 0.67  \n",
       "average_precision_score_macro    0.99 1.00 0.90  \n",
       "average_precision_score_micro    0.99 1.00 0.84  \n",
       "average_precision_score_weighted 0.99 1.00 0.90  \n",
       "balanced_accuracy                0.96 0.98 0.69  \n",
       "f1_score_macro                   0.96 0.98 0.62  \n",
       "f1_score_micro                   0.96 0.98 0.67  \n",
       "f1_score_weighted                0.96 0.98 0.61  \n",
       "log_loss                         0.12 0.18 0.99  \n",
       "norm_macro_recall                0.96 0.98 0.65  \n",
       "precision_score_macro            0.96 0.98 0.61  \n",
       "precision_score_micro            0.96 0.98 0.67  \n",
       "precision_score_weighted         0.96 0.98 0.60  \n",
       "recall_score_macro               0.96 0.98 0.69  \n",
       "recall_score_micro               0.96 0.98 0.67  \n",
       "recall_score_weighted            0.96 0.98 0.67  \n",
       "weighted_accuracy                0.96 0.98 0.65  \n",
       "\n",
       "[20 rows x 36 columns]"
      ]
     },
     "execution_count": 37,
     "metadata": {},
     "output_type": "execute_result"
    }
   ],
   "source": [
    "children = list(local_run.get_children())\n",
    "metricslist = {}\n",
    "for run in children:\n",
    "    properties = run.get_properties()\n",
    "    metrics = {k: v for k, v in run.get_metrics().items() if isinstance(v, float)}\n",
    "    metricslist[int(properties['iteration'])] = metrics\n",
    "\n",
    "rundata = pd.DataFrame(metricslist).sort_index(1)\n",
    "rundata"
   ]
  },
  {
   "cell_type": "markdown",
   "metadata": {},
   "source": [
    "## 7. Récupération du meilleur modèle\n",
    "\n",
    "Below we select the best pipeline from our iterations. The `get_output` method returns the best run and the fitted model. The Model includes the pipeline and any pre-processing.  Overloads on `get_output` allow you to retrieve the best run and fitted model for *any* logged metric or for a particular *iteration*."
   ]
  },
  {
   "cell_type": "code",
   "execution_count": 38,
   "metadata": {},
   "outputs": [
    {
     "name": "stdout",
     "output_type": "stream",
     "text": [
      "Run(Experiment: workshop2,\n",
      "Id: AutoML_0cdf4f3c-e0e0-4fc1-98bc-e09d8760e428_34,\n",
      "Type: None,\n",
      "Status: Completed)\n",
      "\n",
      "Pipeline(memory=None,\n",
      "     steps=[('prefittedsoftvotingclassifier', PreFittedSoftVotingClassifier(classification_labels=None,\n",
      "               estimators=[('29', Pipeline(memory=None,\n",
      "     steps=[('RobustScaler', RobustScaler(copy=True, quantile_range=[10, 90], with_centering=True,\n",
      "       with_scaling=True)), ('SVCWrapper', SVC...))],\n",
      "               flatten_transform=None,\n",
      "               weights=[0.5, 0.1, 0.1, 0.1, 0.1, 0.1]))])\n"
     ]
    }
   ],
   "source": [
    "best_run, fitted_model = local_run.get_output()\n",
    "\n",
    "print(best_run)\n",
    "print()\n",
    "print(fitted_model)"
   ]
  },
  {
   "cell_type": "markdown",
   "metadata": {},
   "source": [
    "### 7.1 Changement de la métrique AutoML\n"
   ]
  },
  {
   "cell_type": "code",
   "execution_count": 39,
   "metadata": {},
   "outputs": [
    {
     "name": "stdout",
     "output_type": "stream",
     "text": [
      "Meilleur modèle :\n",
      "Run(Experiment: workshop2,\n",
      "Id: AutoML_0cdf4f3c-e0e0-4fc1-98bc-e09d8760e428_34,\n",
      "Type: None,\n",
      "Status: Completed)\n",
      "\n",
      "Pipeline(memory=None,\n",
      "     steps=[('prefittedsoftvotingclassifier', PreFittedSoftVotingClassifier(classification_labels=None,\n",
      "               estimators=[('29', Pipeline(memory=None,\n",
      "     steps=[('RobustScaler', RobustScaler(copy=True, quantile_range=[10, 90], with_centering=True,\n",
      "       with_scaling=True)), ('SVCWrapper', SVC...))],\n",
      "               flatten_transform=None,\n",
      "               weights=[0.5, 0.1, 0.1, 0.1, 0.1, 0.1]))])\n"
     ]
    }
   ],
   "source": [
    "lookup_metric = \"f1_score_weighted\"\n",
    "best_run, fitted_model = local_run.get_output(metric = lookup_metric)\n",
    "print(\"Meilleur modèle :\")\n",
    "print(best_run)\n",
    "print()\n",
    "print(fitted_model)"
   ]
  },
  {
   "cell_type": "markdown",
   "metadata": {},
   "source": [
    "Model from a Specific Iteration\n",
    "Show the run and the model from the third iteration:"
   ]
  },
  {
   "cell_type": "code",
   "execution_count": 40,
   "metadata": {},
   "outputs": [
    {
     "name": "stdout",
     "output_type": "stream",
     "text": [
      "Modèle 3 eme itération :\n",
      "Run(Experiment: workshop2,\n",
      "Id: AutoML_0cdf4f3c-e0e0-4fc1-98bc-e09d8760e428_3,\n",
      "Type: None,\n",
      "Status: Completed)\n",
      "\n",
      "Pipeline(memory=None,\n",
      "     steps=[('StandardScalerWrapper', <automl.client.core.runtime.model_wrappers.StandardScalerWrapper object at 0x7f9a6cf92b70>), ('SGDClassifierWrapper', SGDClassifierWrapper(alpha=0.0001, class_weight='balanced', eta0=0.0001,\n",
      "           fit_intercept=False, l1_ratio=0.3469387755102041,\n",
      "           learning_rate='constant', loss='modified_huber', max_iter=1000,\n",
      "           n_jobs=1, penalty='l2', power_t=0.2222222222222222,\n",
      "           random_state=None, tol=0.01))])\n"
     ]
    }
   ],
   "source": [
    "iteration = 3\n",
    "\n",
    "my_run, my_model = local_run.get_output(iteration = iteration)\n",
    "print(\"Modèle\",iteration,\"eme itération :\")\n",
    "print(my_run)\n",
    "print()\n",
    "print(my_model)"
   ]
  },
  {
   "cell_type": "markdown",
   "metadata": {},
   "source": [
    "## 8. Application du modèle\n",
    "\n",
    "### 8.1 Chargement des données"
   ]
  },
  {
   "cell_type": "code",
   "execution_count": 41,
   "metadata": {},
   "outputs": [],
   "source": [
    "digits = datasets.load_digits()\n",
    "X_test = digits.data[:10, :]\n",
    "y_test = digits.target[:10]\n",
    "images = digits.images[:10]"
   ]
  },
  {
   "cell_type": "markdown",
   "metadata": {},
   "source": [
    "### 8.2 Test\n",
    "We will try to predict 2 digits and see how our model works."
   ]
  },
  {
   "cell_type": "code",
   "execution_count": 42,
   "metadata": {},
   "outputs": [
    {
     "name": "stdout",
     "output_type": "stream",
     "text": [
      "4\n"
     ]
    },
    {
     "data": {
      "image/png": "[encoded data removed]",
      "text/plain": [
       "<Figure size 216x216 with 1 Axes>"
      ]
     },
     "metadata": {
      "needs_background": "light"
     },
     "output_type": "display_data"
    },
    {
     "name": "stdout",
     "output_type": "stream",
     "text": [
      "0\n"
     ]
    },
    {
     "data": {
      "image/png": "[encoded data removed]",
      "text/plain": [
       "<Figure size 216x216 with 1 Axes>"
      ]
     },
     "metadata": {
      "needs_background": "light"
     },
     "output_type": "display_data"
    },
    {
     "name": "stdout",
     "output_type": "stream",
     "text": [
      "CPU times: user 430 ms, sys: 24.3 ms, total: 455 ms\n",
      "Wall time: 375 ms\n"
     ]
    }
   ],
   "source": [
    "%%time\n",
    "# Randomly select digits and test.\n",
    "for index in np.random.choice(len(y_test), 2, replace = False):\n",
    "    print(index)\n",
    "    predicted = fitted_model.predict(X_test[index:index + 1])[0]\n",
    "    label = y_test[index]\n",
    "    title = \"Label value = %d  Predicted value = %d \" % (label, predicted)\n",
    "    fig = plt.figure(1, figsize = (3,3))\n",
    "    ax1 = fig.add_axes((0,0,.8,.8))\n",
    "    ax1.set_title(title)\n",
    "    plt.imshow(images[index], cmap = plt.cm.gray_r, interpolation = 'nearest')\n",
    "    plt.show()"
   ]
  },
  {
   "cell_type": "markdown",
   "metadata": {},
   "source": [
    "<img src=\"https://github.com/retkowsky/images/blob/master/Powered-by-MS-Azure-logo-v2.png?raw=true\" height=\"300\" width=\"300\">"
   ]
  },
  {
   "cell_type": "code",
   "execution_count": null,
   "metadata": {},
   "outputs": [],
   "source": []
  }
 ],
 "metadata": {
  "authors": [
   {
    "name": "savitam"
   }
  ],
  "kernelspec": {
   "display_name": "Python 3.6 - AzureML",
   "language": "python",
   "name": "python3-azureml"
  },
  "language_info": {
   "codemirror_mode": {
    "name": "ipython",
    "version": 3
   },
   "file_extension": ".py",
   "mimetype": "text/x-python",
   "name": "python",
   "nbconvert_exporter": "python",
   "pygments_lexer": "ipython3",
   "version": "3.6.9"
  }
 },
 "nbformat": 4,
 "nbformat_minor": 2
}
