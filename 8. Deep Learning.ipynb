{
 "cells": [
  {
   "cell_type": "markdown",
   "metadata": {},
   "source": [
    "# Deep Learning"
   ]
  },
  {
   "cell_type": "markdown",
   "metadata": {},
   "source": [
    "<img src='https://github.com/retkowsky/images/blob/master/AzureMLservicebanniere.png?raw=true'>"
   ]
  },
  {
   "cell_type": "markdown",
   "metadata": {},
   "source": [
    "https://en.wikipedia.org/wiki/MNIST_database\n",
    "\n",
    "Exemple **MNIST** (Modified National Institute of Standards and Technology.<br>\n",
    "Pour représenter cette image, nous allons utiliser un vecteur binaire de **784 variables (28x28)**. La ième valeur du vecteur prendra la valeur 0 ou 1 suivant si le ième pixel dans l'image est blanc ou noir.\n",
    "\n",
    "Un algorithme de **Deep Learning** va commencer par subdiviser ce problème complexe, en sous problèmes plus simple à résoudre. Pour cela, il va prendre des sous parties de l'image, par exemple, des groupements de pixels de 5x5, 4x4, ou 3x3, et opérer une fonction afin d'extraire des motifs dans cette sous-partie (on parle d'opération de convolution).\n",
    "Ainsi, différentes transformations sont opérées sur différentes parties de l'image d'entrée, retravaillées puis combinées à la couche suivante, etc., etc. permettant ainsi de générer des cartographies des pixels importants dans l'image.<br>\n"
   ]
  },
  {
   "cell_type": "markdown",
   "metadata": {},
   "source": [
    "<img src=\"https://upload.wikimedia.org/wikipedia/commons/2/27/MnistExamples.png\">"
   ]
  },
  {
   "cell_type": "markdown",
   "metadata": {},
   "source": [
    "<img src=\"https://msdnshared.blob.core.windows.net/media/2016/04/042816_1315_Unepremirei32.png\">"
   ]
  },
  {
   "cell_type": "markdown",
   "metadata": {},
   "source": [
    "L'illustration ci-dessus met en évidence la succession des couches, et l'extraction de l'information qu'elles réalisent. Elle permet aussi de refléter la hiérarchie entre les couches :\n",
    "\n",
    "La première se focalise sur une petite portion de l'image (5x5 par exemple).\n",
    "La seconde récupère le résultat de toutes les portions précédentes et essaye de repérer de nouveaux indicateurs.\n",
    "La troisième va encore plus loin, en suivant le même principe, permettant d'identifier assez précisément les contours du visage.\n",
    "Vous l'aurez donc compris, chaque couche est génératrice de variables. Chaque couche va venir rajouter son lot de variable issues de la combinaison des précédentes. C'est ici qu'intervient la véritable différence entre un réseau de neurones « classique » et un algorithme de Deep Learning.\n",
    "\n",
    "Cette faculté à générer des variables, qui plus est, très pertinentes dans un problème donné, permet à l'algorithme de découvrir des indicateurs de « haut niveaux » générant un fort pouvoir prédictif.\n",
    "\n",
    "En combinant toutes ces informations issues des différentes couches, correctement pondérées, nous obtenons un système capable d'identifier les éléments importants d'une image, dans le but final de prédire la sortie avec la plus forte probabilité d'être correcte."
   ]
  },
  {
   "cell_type": "markdown",
   "metadata": {},
   "source": [
    "## Partitionnement des données\n",
    "On va utiliser une partie des données pour apprendre (60 000) et le reste (10 000) pour vérifier si notre algorithme est correct. <br>Nous utilisons KERAS qui est une surcouche à TensorFlow."
   ]
  },
  {
   "cell_type": "code",
   "execution_count": 1,
   "metadata": {},
   "outputs": [
    {
     "data": {
      "text/plain": [
       "'3.6.9 |Anaconda, Inc.| (default, Jul 30 2019, 19:07:31) \\n[GCC 7.3.0]'"
      ]
     },
     "execution_count": 1,
     "metadata": {},
     "output_type": "execute_result"
    }
   ],
   "source": [
    "import sys\n",
    "sys.version"
   ]
  },
  {
   "cell_type": "code",
   "execution_count": 2,
   "metadata": {},
   "outputs": [
    {
     "name": "stderr",
     "output_type": "stream",
     "text": [
      "Using TensorFlow backend.\n"
     ]
    }
   ],
   "source": [
    "%matplotlib inline\n",
    "import matplotlib.pyplot as plt\n",
    "import numpy as np\n",
    "from keras.datasets import mnist\n",
    "from keras.models import Sequential\n",
    "from keras.layers.core import Dense, Activation\n",
    "from keras.optimizers import SGD\n",
    "from keras.utils import np_utils"
   ]
  },
  {
   "cell_type": "code",
   "execution_count": 3,
   "metadata": {},
   "outputs": [
    {
     "name": "stdout",
     "output_type": "stream",
     "text": [
      "Downloading data from https://s3.amazonaws.com/img-datasets/mnist.npz\n",
      "11493376/11490434 [==============================] - 1s 0us/step\n",
      "1. Training : 60000\n",
      "2. Test : 10000\n"
     ]
    }
   ],
   "source": [
    "nb_classes = 10 # On doit reconnaitre 10 chiffres différents\n",
    "\n",
    "# Affichage du nombre de lignes\n",
    "(training_images, training_labels), (test_images, test_labels) = mnist.load_data()\n",
    "print ('1. Training :', training_images.shape[0])\n",
    "print ('2. Test :', test_images.shape[0])"
   ]
  },
  {
   "cell_type": "markdown",
   "metadata": {},
   "source": [
    "## Visualisation"
   ]
  },
  {
   "cell_type": "code",
   "execution_count": 4,
   "metadata": {},
   "outputs": [
    {
     "data": {
      "image/png": "[encoded data removed]",
      "text/plain": [
       "<Figure size 432x288 with 8 Axes>"
      ]
     },
     "metadata": {
      "needs_background": "light"
     },
     "output_type": "display_data"
    }
   ],
   "source": [
    "for i in range(8):\n",
    "    plt.subplot(2,4,i+1)\n",
    "    plt.imshow(training_images[i], cmap='gray', interpolation='none')\n",
    "    plt.title(\"Chiffre : {}\".format(training_labels[i]))"
   ]
  },
  {
   "cell_type": "markdown",
   "metadata": {},
   "source": [
    "## Traitement\n",
    "Les images sont représentées par 28 pixels sur 28 pixels.\n",
    "Nous allons donc générer un réseau de 784 neurones (28 X 28).\n",
    "En sortie nous voulons 10 neurones (= les 10 chiffres de 0 à 9).\n",
    "\n",
    "Nous allons convertir les images qui sont sous forme de tableaux 28 par 28 en un vecteur de longueur 784.\n",
    "Nous allons diviser les valeurs par 255 pour que notre vecteur ne contienne que des données entre 0 et 1.<br>\n",
    "Au final nous allons convertir les classes de chiffres en catégories."
   ]
  },
  {
   "cell_type": "code",
   "execution_count": 5,
   "metadata": {},
   "outputs": [],
   "source": [
    "training_images = training_images.reshape(60000, 784)\n",
    "test_images = test_images.reshape(10000, 784)\n",
    "training_images = training_images.astype('float32')\n",
    "test_images = test_images.astype('float32')\n",
    "training_images /= 255\n",
    "test_images /= 255\n",
    "\n",
    "training_labels_categories = np_utils.to_categorical(training_labels, nb_classes)\n",
    "test_labels_categories = np_utils.to_categorical(test_labels, nb_classes)"
   ]
  },
  {
   "cell_type": "markdown",
   "metadata": {},
   "source": [
    "## Estimtation\n",
    "Nous allons estimer un réseau avec une première couche de 500 neurones et une couche de sortie de 10 neurones.<br>\n",
    "Autres paramétres :\n",
    "- Fonction d’optimisation : SGD (Stochastique Gradient Descent) et « vitesse d’apprentissage » 0.5\n",
    "- Taille du batch : 500 (nombre d’images utilisées pour entrainer le réseau)\n",
    "- Nombre d’epoch : 1 (un epoch = un apprentissage sur toutes les données)\n"
   ]
  },
  {
   "cell_type": "code",
   "execution_count": 6,
   "metadata": {},
   "outputs": [
    {
     "name": "stdout",
     "output_type": "stream",
     "text": [
      "Train on 60000 samples, validate on 10000 samples\n",
      "Epoch 1/1\n",
      "60000/60000 [==============================] - 2s 30us/step - loss: 0.4855 - accuracy: 0.8545 - val_loss: 0.2646 - val_accuracy: 0.9227\n",
      "\n",
      "==> Accuracy sur la base de Test : 0.9226999878883362\n",
      "\n",
      "CPU times: user 2.62 s, sys: 319 ms, total: 2.94 s\n",
      "Wall time: 3.66 s\n"
     ]
    }
   ],
   "source": [
    "%%time\n",
    "model = Sequential()\n",
    "model.add(Dense(100, input_shape=(784,)))\n",
    "model.add(Activation('relu'))\n",
    "model.add(Dense(10))\n",
    "model.add(Activation('softmax'))\n",
    "\n",
    "model.compile(loss='categorical_crossentropy', optimizer=SGD(0.5), metrics=['accuracy'])\n",
    "\n",
    "history = model.fit(training_images, training_labels_categories, batch_size=500, epochs=1,\n",
    "                    verbose=1, validation_data=(test_images, test_labels_categories))\n",
    "score = model.evaluate(test_images, test_labels_categories, verbose=0)\n",
    "print()\n",
    "print('==> Accuracy sur la base de Test :', score[1])\n",
    "print()"
   ]
  },
  {
   "cell_type": "markdown",
   "metadata": {},
   "source": [
    "## Nouveau modèle :"
   ]
  },
  {
   "cell_type": "code",
   "execution_count": 7,
   "metadata": {},
   "outputs": [
    {
     "name": "stdout",
     "output_type": "stream",
     "text": [
      "Train on 60000 samples, validate on 10000 samples\n",
      "Epoch 1/20\n",
      "60000/60000 [==============================] - 2s 33us/step - loss: 0.5391 - accuracy: 0.8382 - val_loss: 0.2702 - val_accuracy: 0.9260\n",
      "Epoch 2/20\n",
      "60000/60000 [==============================] - 2s 36us/step - loss: 0.2489 - accuracy: 0.9299 - val_loss: 0.2090 - val_accuracy: 0.9421\n",
      "Epoch 3/20\n",
      "60000/60000 [==============================] - 2s 35us/step - loss: 0.1954 - accuracy: 0.9455 - val_loss: 0.1748 - val_accuracy: 0.9507\n",
      "Epoch 4/20\n",
      "60000/60000 [==============================] - 2s 34us/step - loss: 0.1643 - accuracy: 0.9543 - val_loss: 0.1516 - val_accuracy: 0.9566\n",
      "Epoch 5/20\n",
      "60000/60000 [==============================] - 2s 36us/step - loss: 0.1426 - accuracy: 0.9605 - val_loss: 0.1346 - val_accuracy: 0.9619\n",
      "Epoch 6/20\n",
      "60000/60000 [==============================] - 2s 35us/step - loss: 0.1256 - accuracy: 0.9655 - val_loss: 0.1236 - val_accuracy: 0.9648\n",
      "Epoch 7/20\n",
      "60000/60000 [==============================] - 2s 35us/step - loss: 0.1124 - accuracy: 0.9690 - val_loss: 0.1157 - val_accuracy: 0.9664\n",
      "Epoch 8/20\n",
      "60000/60000 [==============================] - 2s 35us/step - loss: 0.1018 - accuracy: 0.9722 - val_loss: 0.1060 - val_accuracy: 0.9697\n",
      "Epoch 9/20\n",
      "60000/60000 [==============================] - 2s 38us/step - loss: 0.0924 - accuracy: 0.9743 - val_loss: 0.1001 - val_accuracy: 0.9713\n",
      "Epoch 10/20\n",
      "60000/60000 [==============================] - 2s 35us/step - loss: 0.0851 - accuracy: 0.9771 - val_loss: 0.0936 - val_accuracy: 0.9727\n",
      "Epoch 11/20\n",
      "60000/60000 [==============================] - 2s 32us/step - loss: 0.0787 - accuracy: 0.9790 - val_loss: 0.0911 - val_accuracy: 0.9733\n",
      "Epoch 12/20\n",
      "60000/60000 [==============================] - 2s 35us/step - loss: 0.0729 - accuracy: 0.9809 - val_loss: 0.0882 - val_accuracy: 0.9746\n",
      "Epoch 13/20\n",
      "60000/60000 [==============================] - 2s 34us/step - loss: 0.0681 - accuracy: 0.9821 - val_loss: 0.0833 - val_accuracy: 0.9752\n",
      "Epoch 14/20\n",
      "60000/60000 [==============================] - 2s 33us/step - loss: 0.0634 - accuracy: 0.9835 - val_loss: 0.0816 - val_accuracy: 0.9753\n",
      "Epoch 15/20\n",
      "60000/60000 [==============================] - 2s 33us/step - loss: 0.0594 - accuracy: 0.9850 - val_loss: 0.0774 - val_accuracy: 0.9765\n",
      "Epoch 16/20\n",
      "60000/60000 [==============================] - 2s 32us/step - loss: 0.0556 - accuracy: 0.9857 - val_loss: 0.0762 - val_accuracy: 0.9768\n",
      "Epoch 17/20\n",
      "60000/60000 [==============================] - 2s 35us/step - loss: 0.0523 - accuracy: 0.9867 - val_loss: 0.0738 - val_accuracy: 0.9780\n",
      "Epoch 18/20\n",
      "60000/60000 [==============================] - 2s 34us/step - loss: 0.0496 - accuracy: 0.9877 - val_loss: 0.0730 - val_accuracy: 0.9776\n",
      "Epoch 19/20\n",
      "60000/60000 [==============================] - 2s 33us/step - loss: 0.0464 - accuracy: 0.9888 - val_loss: 0.0707 - val_accuracy: 0.9783\n",
      "Epoch 20/20\n",
      "60000/60000 [==============================] - 2s 35us/step - loss: 0.0444 - accuracy: 0.9891 - val_loss: 0.0714 - val_accuracy: 0.9773\n",
      "\n",
      "Accuracy sur la base de Test : 0.9772999882698059\n",
      "\n",
      "CPU times: user 3min 31s, sys: 15.9 s, total: 3min 47s\n",
      "Wall time: 42.1 s\n"
     ]
    }
   ],
   "source": [
    "%%time\n",
    "\n",
    "model = Sequential()\n",
    "model.add(Dense(2000, input_shape=(784,)))\n",
    "model.add(Activation('relu'))\n",
    "model.add(Dense(10))\n",
    "model.add(Activation('softmax'))\n",
    "\n",
    "model.compile(loss='categorical_crossentropy', optimizer=SGD(0.5), metrics=['accuracy'])\n",
    "\n",
    "history = model.fit(training_images, training_labels_categories, batch_size=800, epochs=20,\n",
    "                    verbose=1, validation_data=(test_images, test_labels_categories))\n",
    "score = model.evaluate(test_images, test_labels_categories, verbose=0)\n",
    "print()\n",
    "print('Accuracy sur la base de Test :', score[1])\n",
    "print()"
   ]
  },
  {
   "cell_type": "markdown",
   "metadata": {},
   "source": [
    "## Test du modèle"
   ]
  },
  {
   "cell_type": "code",
   "execution_count": 8,
   "metadata": {},
   "outputs": [
    {
     "data": {
      "image/png": "[encoded data removed]",
      "text/plain": [
       "<Figure size 432x288 with 3 Axes>"
      ]
     },
     "metadata": {
      "needs_background": "light"
     },
     "output_type": "display_data"
    }
   ],
   "source": [
    "classes_predites = model.predict_classes(test_images)\n",
    "correct_indices = np.nonzero(classes_predites == test_labels)[0]\n",
    "incorrect_indices = np.nonzero(classes_predites != test_labels)[0]\n",
    "\n",
    "plt.figure()\n",
    "for i, correct in enumerate(correct_indices[:3]):\n",
    "    plt.subplot(1,3,i+1)\n",
    "    plt.imshow(test_images[correct].reshape(28,28), cmap='gray', interpolation='none')\n",
    "    plt.title(\"Score={} Chiffre={}\".format(classes_predites[correct], test_labels[correct]))"
   ]
  },
  {
   "cell_type": "markdown",
   "metadata": {},
   "source": [
    "### Erreurs du modèle :"
   ]
  },
  {
   "cell_type": "code",
   "execution_count": 9,
   "metadata": {},
   "outputs": [
    {
     "data": {
      "text/plain": [
       "array([   8,  247,  259,  321,  340,  381,  445,  495,  582,  610,  659,\n",
       "        684,  691,  707,  720,  740,  882,  947,  951,  956,  965, 1003,\n",
       "       1014, 1032, 1039, 1112, 1178, 1181, 1182, 1194, 1224, 1226, 1232,\n",
       "       1242, 1247, 1260, 1299, 1319, 1326, 1328, 1378, 1393, 1414, 1444,\n",
       "       1464, 1494, 1500, 1522, 1530, 1549, 1553, 1581, 1609, 1621, 1681,\n",
       "       1709, 1717, 1754, 1790, 1878, 1901, 1940, 1941, 1952, 1984, 1987,\n",
       "       2004, 2016, 2035, 2044, 2053, 2070, 2093, 2098, 2109, 2118, 2129,\n",
       "       2130, 2135, 2182, 2189, 2224, 2272, 2293, 2387, 2406, 2414, 2454,\n",
       "       2488, 2526, 2597, 2607, 2648, 2654, 2758, 2810, 2863, 2877, 2896,\n",
       "       2915, 2921, 2939, 2953, 3005, 3060, 3073, 3117, 3289, 3405, 3422,\n",
       "       3503, 3520, 3558, 3559, 3567, 3597, 3681, 3718, 3751, 3757, 3767,\n",
       "       3776, 3780, 3796, 3808, 3811, 3838, 3853, 3893, 3906, 3926, 3941,\n",
       "       3968, 3976, 3985, 4065, 4075, 4078, 4093, 4163, 4176, 4199, 4201,\n",
       "       4224, 4248, 4289, 4355, 4360, 4443, 4497, 4534, 4536, 4601, 4807,\n",
       "       4814, 4823, 4876, 4880, 4886, 4956, 5331, 5457, 5600, 5642, 5676,\n",
       "       5734, 5749, 5842, 5887, 5888, 5936, 5937, 5955, 5972, 5973, 5982,\n",
       "       6024, 6045, 6059, 6071, 6166, 6505, 6560, 6571, 6576, 6597, 6598,\n",
       "       6625, 6651, 6755, 6765, 6783, 7216, 7434, 7451, 7886, 7921, 8020,\n",
       "       8062, 8094, 8183, 8311, 8339, 8408, 8520, 8522, 9009, 9015, 9019,\n",
       "       9024, 9280, 9482, 9587, 9634, 9679, 9692, 9698, 9719, 9729, 9745,\n",
       "       9749, 9768, 9770, 9779, 9808, 9839, 9944])"
      ]
     },
     "execution_count": 9,
     "metadata": {},
     "output_type": "execute_result"
    }
   ],
   "source": [
    "incorrect_indices"
   ]
  },
  {
   "cell_type": "code",
   "execution_count": 10,
   "metadata": {},
   "outputs": [
    {
     "data": {
      "image/png": "[encoded data removed]",
      "text/plain": [
       "<Figure size 432x288 with 3 Axes>"
      ]
     },
     "metadata": {
      "needs_background": "light"
     },
     "output_type": "display_data"
    }
   ],
   "source": [
    "plt.figure()\n",
    "for i, incorrect in enumerate(incorrect_indices[:3]):\n",
    "    plt.subplot(1,3,i+1)\n",
    "    plt.imshow(test_images[incorrect].reshape(28,28), cmap='gray', interpolation='none')\n",
    "    plt.title(\"Score={} Chiffre={}\".format(classes_predites[incorrect], test_labels[incorrect]))"
   ]
  },
  {
   "cell_type": "markdown",
   "metadata": {},
   "source": [
    "<img src=\"https://github.com/retkowsky/images/blob/master/Powered-by-MS-Azure-logo-v2.png?raw=true\" height=\"300\" width=\"300\">"
   ]
  },
  {
   "cell_type": "code",
   "execution_count": null,
   "metadata": {},
   "outputs": [],
   "source": []
  }
 ],
 "metadata": {
  "kernelspec": {
   "display_name": "Python 3.6 - AzureML",
   "language": "python",
   "name": "python3-azureml"
  },
  "language_info": {
   "codemirror_mode": {
    "name": "ipython",
    "version": 3
   },
   "file_extension": ".py",
   "mimetype": "text/x-python",
   "name": "python",
   "nbconvert_exporter": "python",
   "pygments_lexer": "ipython3",
   "version": "3.6.9"
  }
 },
 "nbformat": 4,
 "nbformat_minor": 2
}
