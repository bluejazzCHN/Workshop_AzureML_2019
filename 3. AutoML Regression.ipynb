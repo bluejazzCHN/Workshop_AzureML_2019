{
 "cells": [
  {
   "cell_type": "markdown",
   "metadata": {},
   "source": [
    "# AutoML Regression\n"
   ]
  },
  {
   "cell_type": "markdown",
   "metadata": {},
   "source": [
    "<img src='https://github.com/retkowsky/images/blob/master/AzureMLservicebanniere.png?raw=true'>"
   ]
  },
  {
   "cell_type": "code",
   "execution_count": 20,
   "metadata": {},
   "outputs": [
    {
     "name": "stdout",
     "output_type": "stream",
     "text": [
      "Version Python :  3.6.9 |Anaconda, Inc.| (default, Jul 30 2019, 19:07:31) \n",
      "[GCC 7.3.0]\n"
     ]
    }
   ],
   "source": [
    "import sys\n",
    "print(\"Version Python : \", sys.version)"
   ]
  },
  {
   "cell_type": "code",
   "execution_count": 21,
   "metadata": {},
   "outputs": [
    {
     "name": "stdout",
     "output_type": "stream",
     "text": [
      "2019-11-21 13:58:43.313179\n"
     ]
    }
   ],
   "source": [
    "import datetime\n",
    "now = datetime.datetime.now()\n",
    "print(now)"
   ]
  },
  {
   "cell_type": "code",
   "execution_count": 22,
   "metadata": {},
   "outputs": [
    {
     "name": "stdout",
     "output_type": "stream",
     "text": [
      "Version Azure ML service : 1.0.74\n"
     ]
    }
   ],
   "source": [
    "import azureml.core\n",
    "print(\"Version Azure ML service :\", azureml.core.VERSION)"
   ]
  },
  {
   "cell_type": "markdown",
   "metadata": {},
   "source": [
    "## 1. Création expérimentation\n",
    "\n",
    "As part of the setup you have already created an Azure ML `Workspace` object. For AutoML you will need to create an `Experiment` object, which is a named object in a `Workspace` used to run experiments."
   ]
  },
  {
   "cell_type": "code",
   "execution_count": 23,
   "metadata": {},
   "outputs": [],
   "source": [
    "import logging\n",
    "import os\n",
    "import random\n",
    "\n",
    "from matplotlib import pyplot as plt\n",
    "from matplotlib.pyplot import imshow\n",
    "import numpy as np\n",
    "import pandas as pd\n",
    "from sklearn import datasets\n",
    "\n",
    "import azureml.core\n",
    "from azureml.core.experiment import Experiment\n",
    "from azureml.core.workspace import Workspace\n",
    "from azureml.train.automl import AutoMLConfig\n",
    "from azureml.train.automl.run import AutoMLRun"
   ]
  },
  {
   "cell_type": "code",
   "execution_count": 24,
   "metadata": {},
   "outputs": [
    {
     "data": {
      "text/html": [
       "<div>\n",
       "<style scoped>\n",
       "    .dataframe tbody tr th:only-of-type {\n",
       "        vertical-align: middle;\n",
       "    }\n",
       "\n",
       "    .dataframe tbody tr th {\n",
       "        vertical-align: top;\n",
       "    }\n",
       "\n",
       "    .dataframe thead th {\n",
       "        text-align: right;\n",
       "    }\n",
       "</style>\n",
       "<table border=\"1\" class=\"dataframe\">\n",
       "  <thead>\n",
       "    <tr style=\"text-align: right;\">\n",
       "      <th></th>\n",
       "      <th></th>\n",
       "    </tr>\n",
       "  </thead>\n",
       "  <tbody>\n",
       "    <tr>\n",
       "      <th>SDK version</th>\n",
       "      <td>1.0.74</td>\n",
       "    </tr>\n",
       "    <tr>\n",
       "      <th>Workspace Name</th>\n",
       "      <td>workshopml</td>\n",
       "    </tr>\n",
       "    <tr>\n",
       "      <th>Resource Group</th>\n",
       "      <td>workshopmlRG</td>\n",
       "    </tr>\n",
       "    <tr>\n",
       "      <th>Location</th>\n",
       "      <td>northeurope</td>\n",
       "    </tr>\n",
       "    <tr>\n",
       "      <th>Project Directory</th>\n",
       "      <td>./sample_projects/workshop3</td>\n",
       "    </tr>\n",
       "    <tr>\n",
       "      <th>Experiment Name</th>\n",
       "      <td>workshop3</td>\n",
       "    </tr>\n",
       "  </tbody>\n",
       "</table>\n",
       "</div>"
      ],
      "text/plain": [
       "                                              \n",
       "SDK version        1.0.74                     \n",
       "Workspace Name     workshopml                 \n",
       "Resource Group     workshopmlRG               \n",
       "Location           northeurope                \n",
       "Project Directory  ./sample_projects/workshop3\n",
       "Experiment Name    workshop3                  "
      ]
     },
     "execution_count": 24,
     "metadata": {},
     "output_type": "execute_result"
    }
   ],
   "source": [
    "ws = Workspace.from_config()\n",
    "\n",
    "# Choose a name for the experiment and specify the project folder.\n",
    "experiment_name = 'workshop3'\n",
    "project_folder = './sample_projects/workshop3'\n",
    "\n",
    "experiment = Experiment(ws, experiment_name)\n",
    "\n",
    "output = {}\n",
    "output['SDK version'] = azureml.core.VERSION\n",
    "output['Workspace Name'] = ws.name\n",
    "output['Resource Group'] = ws.resource_group\n",
    "output['Location'] = ws.location\n",
    "output['Project Directory'] = project_folder\n",
    "output['Experiment Name'] = experiment.name\n",
    "pd.set_option('display.max_colwidth', -1)\n",
    "pd.DataFrame(data = output, index = ['']).T"
   ]
  },
  {
   "cell_type": "markdown",
   "metadata": {},
   "source": [
    "## 2. Chargement des données\n",
    "\n",
    "This uses scikit-learn's [load_diabetes](http://scikit-learn.org/stable/modules/generated/sklearn.datasets.load_diabetes.html) method."
   ]
  },
  {
   "cell_type": "code",
   "execution_count": 25,
   "metadata": {},
   "outputs": [],
   "source": [
    "# Load the diabetes dataset, a well-known built-in small dataset that comes with scikit-learn.\n",
    "from sklearn.datasets import load_diabetes\n",
    "from sklearn.linear_model import Ridge\n",
    "from sklearn.metrics import mean_squared_error\n",
    "from sklearn.model_selection import train_test_split\n",
    "\n",
    "X, y = load_diabetes(return_X_y = True)\n",
    "\n",
    "columns = ['age', 'gender', 'bmi', 'bp', 's1', 's2', 's3', 's4', 's5', 's6']\n",
    "\n",
    "X_train, X_test, y_train, y_test = train_test_split(X, y, test_size = 0.2, random_state = 0)"
   ]
  },
  {
   "cell_type": "markdown",
   "metadata": {},
   "source": [
    "## 3. Configuration AutoML\n"
   ]
  },
  {
   "cell_type": "code",
   "execution_count": 29,
   "metadata": {},
   "outputs": [
    {
     "name": "stderr",
     "output_type": "stream",
     "text": [
      "WARNING - The AutoMLConfig inputs you have specified will soon be deprecated. Please use the AutoMLConfig shown in our documentation: https://aka.ms/AutoMLConfig\n"
     ]
    }
   ],
   "source": [
    "automl_config = AutoMLConfig(task = 'regression',\n",
    "                             iteration_timeout_minutes = 2, #Temps max par itération\n",
    "                             experiment_timeout_minutes = 5, #Temps max pour l'automl\n",
    "                             enable_early_stopping=True, # critère de sortie si pas d'amélioration de la métrique\n",
    "                             primary_metric = 'spearman_correlation', #métrique\n",
    "                             n_cross_validations = 5, #nombre de validation croisées\n",
    "                             debug_log = 'automl.log',\n",
    "                             verbosity = logging.INFO,\n",
    "                             X = X_train, \n",
    "                             y = y_train,\n",
    "                             path = project_folder)"
   ]
  },
  {
   "cell_type": "markdown",
   "metadata": {},
   "source": [
    "## 4. AutoML\n",
    "\n",
    "Call the `submit` method on the experiment object and pass the run configuration. Execution of local runs is synchronous. Depending on the data and the number of iterations this can run for a while.\n",
    "In this example, we specify `show_output = True` to print currently running iterations to the console.\n",
    "\n",
    "`spearman_correlation` is the metric used."
   ]
  },
  {
   "cell_type": "code",
   "execution_count": 30,
   "metadata": {
    "scrolled": true
   },
   "outputs": [
    {
     "name": "stdout",
     "output_type": "stream",
     "text": [
      "Running on local machine\n",
      "Parent Run ID: AutoML_5fb4ac23-adde-46be-9e46-4f7f3f89cd05\n",
      "Current status: DatasetCrossValidationSplit. Generating CV splits.\n",
      "Current status: ModelSelection. Beginning model selection.\n",
      "\n",
      "****************************************************************************************************\n",
      "ITERATION: The iteration being evaluated.\n",
      "PIPELINE: A summary description of the pipeline being evaluated.\n",
      "DURATION: Time taken for the current iteration.\n",
      "METRIC: The result of computing score on the fitted pipeline.\n",
      "BEST: The best observed score thus far.\n",
      "****************************************************************************************************\n",
      "\n",
      " ITERATION   PIPELINE                                       DURATION      METRIC      BEST\n",
      "         0   StandardScalerWrapper RandomForest             0:00:13       0.6959    0.6959\n",
      "         1   MinMaxScaler RandomForest                      0:00:14       0.6797    0.6959\n",
      "         2   StandardScalerWrapper ExtremeRandomTrees       0:00:15       0.7054    0.7054\n",
      "         3   StandardScalerWrapper LightGBM                 0:00:12       0.6831    0.7054\n",
      "         4   RobustScaler DecisionTree                      0:00:18       0.4789    0.7054\n",
      "         5   StandardScalerWrapper LassoLars                0:00:16       0.7176    0.7176\n",
      "         6   StandardScalerWrapper LightGBM                 0:00:12       0.6774    0.7176\n",
      "         7   StandardScalerWrapper RandomForest             0:00:16       0.6941    0.7176\n",
      "         8   StandardScalerWrapper LassoLars                0:00:14       0.7179    0.7179\n",
      "         9   MinMaxScaler ExtremeRandomTrees                0:00:13       0.6495    0.7179\n",
      "        10   RobustScaler ExtremeRandomTrees                0:00:13       0.7067    0.7179\n",
      "        11   StandardScalerWrapper ExtremeRandomTrees       0:00:15       0.6838    0.7179\n",
      "        12   MinMaxScaler ExtremeRandomTrees                0:00:13       0.6902    0.7179\n",
      "        13   RobustScaler RandomForest                      0:00:13       0.6694    0.7179\n",
      "        14   StandardScalerWrapper LassoLars                0:00:14       0.7177    0.7179\n",
      "        15   StandardScalerWrapper ExtremeRandomTrees       0:00:13       0.7007    0.7179\n",
      "        16   StandardScalerWrapper RandomForest             0:00:12       0.6892    0.7179\n",
      "        17   MinMaxScaler SGD                               0:00:13       0.6925    0.7179\n",
      "        18   StandardScalerWrapper RandomForest             0:00:12       0.6718    0.7179\n",
      "        19   MinMaxScaler RandomForest                      0:00:14       0.6922    0.7179\n",
      "        20   StandardScalerWrapper LassoLars                0:00:17       0.6866    0.7179\n",
      "        21   VotingEnsemble                                 0:00:16       0.7322    0.7322\n",
      "        22   StackEnsemble                                  0:00:18       0.7244    0.7322\n",
      "Stopping criteria reached at iteration 22. Ending experiment.\n",
      "CPU times: user 17.7 s, sys: 5.45 s, total: 23.2 s\n",
      "Wall time: 5min 46s\n"
     ]
    }
   ],
   "source": [
    "%%time\n",
    "local_run = experiment.submit(automl_config, show_output = True)"
   ]
  },
  {
   "cell_type": "code",
   "execution_count": 31,
   "metadata": {},
   "outputs": [
    {
     "data": {
      "text/html": [
       "<table style=\"width:100%\"><tr><th>Experiment</th><th>Id</th><th>Type</th><th>Status</th><th>Details Page</th><th>Docs Page</th></tr><tr><td>workshop3</td><td>AutoML_5fb4ac23-adde-46be-9e46-4f7f3f89cd05</td><td>automl</td><td>Running</td><td><a href=\"https://ml.azure.com/experiments/workshop3/runs/AutoML_5fb4ac23-adde-46be-9e46-4f7f3f89cd05?wsid=/subscriptions/70b8f39e-8863-49f7-b6ba-34a80799550c/resourcegroups/workshopmlRG/workspaces/workshopml\" target=\"_blank\" rel=\"noopener\">Link to Azure Machine Learning studio</a></td><td><a href=\"https://docs.microsoft.com/en-us/python/api/overview/azure/ml/intro?view=azure-ml-py\" target=\"_blank\" rel=\"noopener\">Link to Documentation</a></td></tr></table>"
      ],
      "text/plain": [
       "Run(Experiment: workshop3,\n",
       "Id: AutoML_5fb4ac23-adde-46be-9e46-4f7f3f89cd05,\n",
       "Type: automl,\n",
       "Status: Running)"
      ]
     },
     "execution_count": 31,
     "metadata": {},
     "output_type": "execute_result"
    }
   ],
   "source": [
    "local_run"
   ]
  },
  {
   "cell_type": "markdown",
   "metadata": {},
   "source": [
    "## Autre AutoML"
   ]
  },
  {
   "cell_type": "markdown",
   "metadata": {},
   "source": [
    "> Avec cette fois un changement de métrique, ajout d'une whiteliste, compatibilité ONNX, pas de méthodes ensembles et un score de sortie et 20 itérations au max.\n",
    "https://docs.microsoft.com/en-us/python/api/azureml-train-automl/azureml.train.automl.automlconfig?view=azure-ml-py"
   ]
  },
  {
   "cell_type": "code",
   "execution_count": 41,
   "metadata": {},
   "outputs": [
    {
     "name": "stderr",
     "output_type": "stream",
     "text": [
      "WARNING - The AutoMLConfig inputs you have specified will soon be deprecated. Please use the AutoMLConfig shown in our documentation: https://aka.ms/AutoMLConfig\n"
     ]
    }
   ],
   "source": [
    "automl_config = AutoMLConfig(task = 'regression',\n",
    "                             iteration_timeout_minutes = 5,\n",
    "                             iterations = 20, # nombre itérations au max\n",
    "                             primary_metric = 'r2_score',\n",
    "                             n_cross_validations = 5,\n",
    "                             debug_log = 'automl2.log',\n",
    "                             verbosity = logging.INFO,\n",
    "                             whitelist_models = [\"LightGBM\", \"RandomForest\"], # Whiteliste de modèles à évaluer\n",
    "                             experiment_exit_score = 0.47, # Score de sortie de la métrique\n",
    "                             enable_onnx_compatible_models=True, # Modèles compatibles ONNX\n",
    "                             enable_stack_ensemble=False, # Pas de méthode stack ensemble\n",
    "                             enable_voting_ensemble=False, # Pase de méthode vote ensemble\n",
    "                             X = X_train, \n",
    "                             y = y_train,\n",
    "                             path = project_folder)"
   ]
  },
  {
   "cell_type": "code",
   "execution_count": 42,
   "metadata": {},
   "outputs": [
    {
     "name": "stdout",
     "output_type": "stream",
     "text": [
      "Running on local machine\n",
      "Parent Run ID: AutoML_501df57e-a91c-4ddb-a6c0-5f7f5b5dde3f\n",
      "Current status: DatasetCrossValidationSplit. Generating CV splits.\n",
      "Current status: ModelSelection. Beginning model selection.\n",
      "\n",
      "****************************************************************************************************\n",
      "ITERATION: The iteration being evaluated.\n",
      "PIPELINE: A summary description of the pipeline being evaluated.\n",
      "DURATION: Time taken for the current iteration.\n",
      "METRIC: The result of computing score on the fitted pipeline.\n",
      "BEST: The best observed score thus far.\n",
      "****************************************************************************************************\n",
      "\n",
      " ITERATION   PIPELINE                                       DURATION      METRIC      BEST\n",
      "         0   StandardScalerWrapper LightGBM                 0:00:13       0.4201    0.4201\n",
      "         1   MaxAbsScaler LightGBM                          0:00:13       0.4055    0.4201\n",
      "         2   SparseNormalizer RandomForest                  0:00:22       0.4335    0.4335\n",
      "         3   RobustScaler LightGBM                          0:00:16       0.3970    0.4335\n",
      "         4   StandardScalerWrapper LightGBM                 0:00:14       0.2830    0.4335\n",
      "         5   StandardScalerWrapper LightGBM                 0:00:12       0.4319    0.4335\n",
      "         6   MaxAbsScaler RandomForest                      0:00:12       0.4855    0.4855\n",
      "Stopping criteria reached at iteration 6. Ending experiment.\n",
      "CPU times: user 15.6 s, sys: 2.97 s, total: 18.6 s\n",
      "Wall time: 1min 55s\n"
     ]
    }
   ],
   "source": [
    "%%time\n",
    "local_run = experiment.submit(automl_config, show_output = True)"
   ]
  },
  {
   "cell_type": "code",
   "execution_count": 43,
   "metadata": {},
   "outputs": [
    {
     "data": {
      "text/html": [
       "<table style=\"width:100%\"><tr><th>Experiment</th><th>Id</th><th>Type</th><th>Status</th><th>Details Page</th><th>Docs Page</th></tr><tr><td>workshop3</td><td>AutoML_501df57e-a91c-4ddb-a6c0-5f7f5b5dde3f</td><td>automl</td><td>Running</td><td><a href=\"https://ml.azure.com/experiments/workshop3/runs/AutoML_501df57e-a91c-4ddb-a6c0-5f7f5b5dde3f?wsid=/subscriptions/70b8f39e-8863-49f7-b6ba-34a80799550c/resourcegroups/workshopmlRG/workspaces/workshopml\" target=\"_blank\" rel=\"noopener\">Link to Azure Machine Learning studio</a></td><td><a href=\"https://docs.microsoft.com/en-us/python/api/overview/azure/ml/intro?view=azure-ml-py\" target=\"_blank\" rel=\"noopener\">Link to Documentation</a></td></tr></table>"
      ],
      "text/plain": [
       "Run(Experiment: workshop3,\n",
       "Id: AutoML_501df57e-a91c-4ddb-a6c0-5f7f5b5dde3f,\n",
       "Type: automl,\n",
       "Status: Running)"
      ]
     },
     "execution_count": 43,
     "metadata": {},
     "output_type": "execute_result"
    }
   ],
   "source": [
    "local_run"
   ]
  },
  {
   "cell_type": "markdown",
   "metadata": {},
   "source": [
    "## 5. Exploration des résultats"
   ]
  },
  {
   "cell_type": "markdown",
   "metadata": {},
   "source": [
    "### 5.1 Widget Notebook\n",
    "\n",
    "The widget will first report a \"loading\" status while running the first iteration. After completing the first iteration, an auto-updating graph and table will be shown. The widget will refresh once per minute, so you should see the graph update as child runs complete.\n",
    "\n",
    "**Note:** The widget displays a link at the bottom. Use this link to open a web interface to explore the individual run details."
   ]
  },
  {
   "cell_type": "code",
   "execution_count": 44,
   "metadata": {},
   "outputs": [
    {
     "data": {
      "application/vnd.jupyter.widget-view+json": {
       "model_id": "ef02737d9f2540ba8ee8044ca48d7061",
       "version_major": 2,
       "version_minor": 0
      },
      "text/plain": [
       "_AutoMLWidget(widget_settings={'childWidgetDisplay': 'popup', 'send_telemetry': False, 'log_level': 'INFO', 's…"
      ]
     },
     "metadata": {},
     "output_type": "display_data"
    },
    {
     "data": {
      "application/aml.mini.widget.v1": "{\"status\": \"Completed\", \"workbench_run_details_uri\": \"https://ml.azure.com/experiments/workshop3/runs/AutoML_501df57e-a91c-4ddb-a6c0-5f7f5b5dde3f?wsid=/subscriptions/70b8f39e-8863-49f7-b6ba-34a80799550c/resourcegroups/workshopmlRG/workspaces/workshopml\", \"run_id\": \"AutoML_501df57e-a91c-4ddb-a6c0-5f7f5b5dde3f\", \"run_properties\": {\"run_id\": \"AutoML_501df57e-a91c-4ddb-a6c0-5f7f5b5dde3f\", \"created_utc\": \"2019-11-21T14:29:58.434975Z\", \"properties\": {\"num_iterations\": \"20\", \"training_type\": \"TrainFull\", \"acquisition_function\": \"EI\", \"primary_metric\": \"r2_score\", \"train_split\": \"0\", \"MaxTimeSeconds\": \"300\", \"acquisition_parameter\": \"0\", \"num_cross_validation\": \"5\", \"target\": \"local\", \"RawAMLSettingsString\": \"{'name': 'workshop3', 'path': './sample_projects/workshop3', 'subscription_id': '70b8f39e-8863-49f7-b6ba-34a80799550c', 'resource_group': 'workshopmlRG', 'workspace_name': 'workshopml', 'region': 'northeurope', 'compute_target': 'local', 'spark_service': None, 'azure_service': None, 'iterations': 20, 'primary_metric': 'r2_score', 'task_type': 'regression', 'data_script': None, 'validation_size': 0.0, 'n_cross_validations': 5, 'y_min': 25.0, 'y_max': 346.0, 'num_classes': None, 'featurization': 'off', 'preprocess': False, 'lag_length': 0, 'is_timeseries': False, 'max_cores_per_iteration': 1, 'max_concurrent_iterations': 1, 'iteration_timeout_minutes': 5, 'mem_in_mb': None, 'enforce_time_on_windows': False, 'experiment_timeout_minutes': None, 'experiment_exit_score': 0.47, 'whitelist_models': ['LightGBM', 'RandomForest'], 'blacklist_algos': ['XGBoostRegressor', 'Prophet'], 'supported_models': ['TensorFlowLinearRegressor', 'GradientBoosting', 'KNN', 'DecisionTree', 'ExtremeRandomTrees', 'FastLinearRegressor', 'LassoLars', 'SGD', 'RandomForest', 'TensorFlowDNN', 'XGBoostRegressor', 'OnlineGradientDescentRegressor', 'LightGBM', 'ElasticNet'], 'auto_blacklist': True, 'blacklist_samples_reached': False, 'exclude_nan_labels': True, 'verbosity': 20, 'debug_log': 'automl2.log', 'show_warnings': False, 'model_explainability': False, 'service_url': None, 'sdk_url': None, 'sdk_packages': None, 'enable_onnx_compatible_models': True, 'enable_split_onnx_featurizer_estimator_models': False, 'vm_type': None, 'telemetry_verbosity': 'INFO', 'send_telemetry': True, 'enable_dnn': False, 'enable_feature_sweeping': False, 'enable_early_stopping': False, 'early_stopping_n_iters': 10, 'metrics': None, 'enable_ensembling': False, 'enable_stack_ensembling': False, 'ensemble_iterations': 15, 'enable_tf': False, 'enable_cache': True, 'enable_subsampling': False, 'subsample_seed': None, 'enable_nimbusml': False, 'enable_streaming': False, 'label_column_name': None, 'weight_column_name': None, 'cost_mode': 0, 'metric_operation': 'maximize'}\", \"AMLSettingsJsonString\": \"{\\\"name\\\":\\\"workshop3\\\",\\\"path\\\":\\\"./sample_projects/workshop3\\\",\\\"subscription_id\\\":\\\"70b8f39e-8863-49f7-b6ba-34a80799550c\\\",\\\"resource_group\\\":\\\"workshopmlRG\\\",\\\"workspace_name\\\":\\\"workshopml\\\",\\\"region\\\":\\\"northeurope\\\",\\\"compute_target\\\":\\\"local\\\",\\\"spark_service\\\":null,\\\"azure_service\\\":null,\\\"iterations\\\":20,\\\"primary_metric\\\":\\\"r2_score\\\",\\\"task_type\\\":\\\"regression\\\",\\\"data_script\\\":null,\\\"validation_size\\\":0.0,\\\"n_cross_validations\\\":5,\\\"y_min\\\":25.0,\\\"y_max\\\":346.0,\\\"num_classes\\\":null,\\\"featurization\\\":\\\"off\\\",\\\"preprocess\\\":false,\\\"lag_length\\\":0,\\\"is_timeseries\\\":false,\\\"max_cores_per_iteration\\\":1,\\\"max_concurrent_iterations\\\":1,\\\"iteration_timeout_minutes\\\":5,\\\"mem_in_mb\\\":null,\\\"enforce_time_on_windows\\\":false,\\\"experiment_timeout_minutes\\\":null,\\\"experiment_exit_score\\\":0.47,\\\"whitelist_models\\\":[\\\"LightGBM\\\",\\\"RandomForest\\\"],\\\"blacklist_algos\\\":[\\\"XGBoostRegressor\\\",\\\"Prophet\\\",\\\"AutoArima\\\"],\\\"supported_models\\\":[\\\"TensorFlowLinearRegressor\\\",\\\"GradientBoosting\\\",\\\"KNN\\\",\\\"DecisionTree\\\",\\\"ExtremeRandomTrees\\\",\\\"FastLinearRegressor\\\",\\\"LassoLars\\\",\\\"SGD\\\",\\\"RandomForest\\\",\\\"TensorFlowDNN\\\",\\\"XGBoostRegressor\\\",\\\"OnlineGradientDescentRegressor\\\",\\\"LightGBM\\\",\\\"ElasticNet\\\"],\\\"auto_blacklist\\\":true,\\\"blacklist_samples_reached\\\":false,\\\"exclude_nan_labels\\\":true,\\\"verbosity\\\":20,\\\"debug_log\\\":\\\"automl2.log\\\",\\\"show_warnings\\\":false,\\\"model_explainability\\\":false,\\\"service_url\\\":null,\\\"sdk_url\\\":null,\\\"sdk_packages\\\":null,\\\"enable_onnx_compatible_models\\\":true,\\\"enable_split_onnx_featurizer_estimator_models\\\":false,\\\"vm_type\\\":null,\\\"telemetry_verbosity\\\":\\\"INFO\\\",\\\"send_telemetry\\\":true,\\\"enable_dnn\\\":false,\\\"enable_feature_sweeping\\\":false,\\\"enable_early_stopping\\\":false,\\\"early_stopping_n_iters\\\":10,\\\"metrics\\\":null,\\\"enable_ensembling\\\":false,\\\"enable_stack_ensembling\\\":false,\\\"ensemble_iterations\\\":15,\\\"enable_tf\\\":false,\\\"enable_cache\\\":true,\\\"enable_subsampling\\\":false,\\\"subsample_seed\\\":null,\\\"enable_nimbusml\\\":false,\\\"enable_streaming\\\":false,\\\"label_column_name\\\":null,\\\"weight_column_name\\\":null,\\\"cost_mode\\\":0,\\\"metric_operation\\\":\\\"maximize\\\"}\", \"DataPrepJsonString\": null, \"EnableSubsampling\": \"False\", \"runTemplate\": \"AutoML\", \"azureml.runsource\": \"automl\", \"display_task_type\": \"regression\", \"dependencies_versions\": \"{\\\"azureml-widgets\\\": \\\"1.0.74\\\", \\\"azureml-train\\\": \\\"1.0.74\\\", \\\"azureml-train-restclients-hyperdrive\\\": \\\"1.0.74\\\", \\\"azureml-train-core\\\": \\\"1.0.74\\\", \\\"azureml-train-automl\\\": \\\"1.0.74\\\", \\\"azureml-tensorboard\\\": \\\"1.0.74\\\", \\\"azureml-telemetry\\\": \\\"1.0.74\\\", \\\"azureml-sdk\\\": \\\"1.0.74\\\", \\\"azureml-samples\\\": \\\"0+unknown\\\", \\\"azureml-pipeline\\\": \\\"1.0.74\\\", \\\"azureml-pipeline-steps\\\": \\\"1.0.74\\\", \\\"azureml-pipeline-core\\\": \\\"1.0.74\\\", \\\"azureml-opendatasets\\\": \\\"1.0.74\\\", \\\"azureml-model-management-sdk\\\": \\\"1.0.1b6.post1\\\", \\\"azureml-mlflow\\\": \\\"1.0.74\\\", \\\"azureml-interpret\\\": \\\"1.0.74\\\", \\\"azureml-explain-model\\\": \\\"1.0.74\\\", \\\"azureml-defaults\\\": \\\"1.0.74\\\", \\\"azureml-dataprep\\\": \\\"1.1.30\\\", \\\"azureml-dataprep-native\\\": \\\"13.1.0\\\", \\\"azureml-datadrift\\\": \\\"1.0.74\\\", \\\"azureml-core\\\": \\\"1.0.74\\\", \\\"azureml-contrib-services\\\": \\\"1.0.74\\\", \\\"azureml-contrib-server\\\": \\\"1.0.74\\\", \\\"azureml-contrib-reinforcementlearning\\\": \\\"0.1.0.5919674\\\", \\\"azureml-contrib-opendatasets\\\": \\\"1.0.45\\\", \\\"azureml-contrib-notebook\\\": \\\"1.0.74\\\", \\\"azureml-contrib-interpret\\\": \\\"1.0.74\\\", \\\"azureml-contrib-datadrift\\\": \\\"1.0.74\\\", \\\"azureml-automl-core\\\": \\\"1.0.74\\\"}\", \"ProblemInfoJsonString\": \"{\\\"dataset_num_categorical\\\": 0, \\\"is_sparse\\\": false, \\\"subsampling\\\": false, \\\"dataset_classes\\\": 194, \\\"dataset_features\\\": 10, \\\"dataset_samples\\\": 353, \\\"single_frequency_class_detected\\\": false}\"}, \"tags\": {\"model_explain_run\": \"best_run\", \"experiment_status\": \"ModelSelection\", \"experiment_status_descr\": \"Beginning model selection.\"}, \"end_time_utc\": \"2019-11-21T14:31:48.012653Z\", \"status\": \"Completed\", \"log_files\": {}, \"log_groups\": [], \"run_duration\": \"0:01:49\"}, \"child_runs\": [{\"run_id\": \"AutoML_501df57e-a91c-4ddb-a6c0-5f7f5b5dde3f_0\", \"run_number\": 159, \"metric\": null, \"status\": \"Completed\", \"run_type\": null, \"training_percent\": \"100\", \"start_time\": \"2019-11-21T14:30:00.674079Z\", \"end_time\": \"2019-11-21T14:30:13.283189Z\", \"created_time\": \"2019-11-21T14:30:00.574984Z\", \"created_time_dt\": \"2019-11-21T14:30:00.574984Z\", \"duration\": \"0:00:12\", \"iteration\": \"0\", \"goal\": \"r2_score_max\", \"run_name\": \"StandardScalerWrapper, LightGBM\", \"run_properties\": \"boosting_type='gbdt', class_weight=None,\\n         colsample_bytree=0.7000000000000001, importance_type='split',\\n         learning_rate=0.11579368421052631, max_bin=255, max_depth=8,\\n         min_child_samples=1, min_child_weight=0.001,\\n         min_split_gain=0.3684210526315789, n_estimators=400, n_jobs=1,\\n         num_leaves=31, objective=None, random_state=None, reg_alpha=1.05,\\n         reg_lambda=0.15, silent=True, subsample=0.7,\\n         subsample_for_bin=200000, subsample_freq=1, verbose=-1\", \"primary_metric\": 0.42010321, \"best_metric\": 0.42010321}, {\"run_id\": \"AutoML_501df57e-a91c-4ddb-a6c0-5f7f5b5dde3f_1\", \"run_number\": 160, \"metric\": null, \"status\": \"Completed\", \"run_type\": null, \"training_percent\": \"100\", \"start_time\": \"2019-11-21T14:30:14.680603Z\", \"end_time\": \"2019-11-21T14:30:27.44195Z\", \"created_time\": \"2019-11-21T14:30:14.595343Z\", \"created_time_dt\": \"2019-11-21T14:30:14.595343Z\", \"duration\": \"0:00:12\", \"iteration\": \"1\", \"goal\": \"r2_score_max\", \"run_name\": \"MaxAbsScaler, LightGBM\", \"run_properties\": \"boosting_type='gbdt', class_weight=None,\\n         colsample_bytree=0.5, importance_type='split',\\n         learning_rate=0.15789684210526317, max_bin=63, max_depth=9,\\n         min_child_samples=11, min_child_weight=0.001,\\n         min_split_gain=0.21052631578947367, n_estimators=800, n_jobs=1,\\n         num_leaves=511, objective=None, random_state=None, reg_alpha=0.3,\\n         reg_lambda=1.2, silent=True, subsample=0.35,\\n         subsample_for_bin=200000, subsample_freq=0, verbose=-1\", \"primary_metric\": 0.40551427, \"best_metric\": 0.42010321}, {\"run_id\": \"AutoML_501df57e-a91c-4ddb-a6c0-5f7f5b5dde3f_2\", \"run_number\": 161, \"metric\": null, \"status\": \"Completed\", \"run_type\": null, \"training_percent\": \"100\", \"start_time\": \"2019-11-21T14:30:29.076795Z\", \"end_time\": \"2019-11-21T14:30:50.008884Z\", \"created_time\": \"2019-11-21T14:30:28.979677Z\", \"created_time_dt\": \"2019-11-21T14:30:28.979677Z\", \"duration\": \"0:00:21\", \"iteration\": \"2\", \"goal\": \"r2_score_max\", \"run_name\": \"SparseNormalizer, RandomForest\", \"run_properties\": \"bootstrap=False, criterion='mse', max_depth=None,\\n           max_features=0.5, max_leaf_nodes=None,\\n           min_impurity_decrease=0.0, min_impurity_split=None,\\n           min_samples_leaf=0.0023646822772690063,\\n           min_samples_split=0.026024633095283807,\\n           min_weight_fraction_leaf=0.0, n_estimators=600, n_jobs=1,\\n           oob_score=False, random_state=None, verbose=0, warm_start=False\", \"primary_metric\": 0.43347583, \"best_metric\": 0.43347583}, {\"run_id\": \"AutoML_501df57e-a91c-4ddb-a6c0-5f7f5b5dde3f_3\", \"run_number\": 162, \"metric\": null, \"status\": \"Completed\", \"run_type\": null, \"training_percent\": \"100\", \"start_time\": \"2019-11-21T14:30:51.134248Z\", \"end_time\": \"2019-11-21T14:31:06.539649Z\", \"created_time\": \"2019-11-21T14:30:50.980152Z\", \"created_time_dt\": \"2019-11-21T14:30:50.980152Z\", \"duration\": \"0:00:15\", \"iteration\": \"3\", \"goal\": \"r2_score_max\", \"run_name\": \"RobustScaler, LightGBM\", \"run_properties\": \"boosting_type='gbdt', class_weight=None,\\n         colsample_bytree=0.7000000000000001, importance_type='split',\\n         learning_rate=0.07369052631578947, max_bin=63, max_depth=10,\\n         min_child_samples=1, min_child_weight=0.001,\\n         min_split_gain=0.8421052631578947, n_estimators=400, n_jobs=1,\\n         num_leaves=127, objective=None, random_state=None, reg_alpha=0.15,\\n         reg_lambda=0, silent=True, subsample=0.44999999999999996,\\n         subsample_for_bin=200000, subsample_freq=2, verbose=-1\", \"primary_metric\": 0.39704641, \"best_metric\": 0.43347583}, {\"run_id\": \"AutoML_501df57e-a91c-4ddb-a6c0-5f7f5b5dde3f_4\", \"run_number\": 163, \"metric\": null, \"status\": \"Completed\", \"run_type\": null, \"training_percent\": \"100\", \"start_time\": \"2019-11-21T14:31:08.099638Z\", \"end_time\": \"2019-11-21T14:31:20.611086Z\", \"created_time\": \"2019-11-21T14:31:07.962307Z\", \"created_time_dt\": \"2019-11-21T14:31:07.962307Z\", \"duration\": \"0:00:12\", \"iteration\": \"4\", \"goal\": \"r2_score_max\", \"run_name\": \"StandardScalerWrapper, LightGBM\", \"run_properties\": \"boosting_type='gbdt', class_weight=None,\\n         colsample_bytree=0.7000000000000001, importance_type='split',\\n         learning_rate=0.1894742105263158, max_bin=7, max_depth=3,\\n         min_child_samples=2, min_child_weight=0.001,\\n         min_split_gain=0.9473684210526315, n_estimators=800, n_jobs=1,\\n         num_leaves=7, objective=None, random_state=None, reg_alpha=0.075,\\n         reg_lambda=0.6, silent=True, subsample=0.7999999999999999,\\n         subsample_for_bin=200000, subsample_freq=0, verbose=-1\", \"primary_metric\": 0.28299692, \"best_metric\": 0.43347583}, {\"run_id\": \"AutoML_501df57e-a91c-4ddb-a6c0-5f7f5b5dde3f_5\", \"run_number\": 164, \"metric\": null, \"status\": \"Completed\", \"run_type\": null, \"training_percent\": \"100\", \"start_time\": \"2019-11-21T14:31:22.635113Z\", \"end_time\": \"2019-11-21T14:31:34.278924Z\", \"created_time\": \"2019-11-21T14:31:22.554115Z\", \"created_time_dt\": \"2019-11-21T14:31:22.554115Z\", \"duration\": \"0:00:11\", \"iteration\": \"5\", \"goal\": \"r2_score_max\", \"run_name\": \"StandardScalerWrapper, LightGBM\", \"run_properties\": \"boosting_type='gbdt', class_weight=None,\\n         colsample_bytree=0.5, importance_type='split',\\n         learning_rate=0.1789484210526316, max_bin=255, max_depth=9,\\n         min_child_samples=2, min_child_weight=0.001,\\n         min_split_gain=0.9473684210526315, n_estimators=100, n_jobs=1,\\n         num_leaves=127, objective=None, random_state=None,\\n         reg_alpha=1.125, reg_lambda=0.75, silent=True, subsample=0.7,\\n         subsample_for_bin=200000, subsample_freq=0, verbose=-1\", \"primary_metric\": 0.43192847, \"best_metric\": 0.43347583}, {\"run_id\": \"AutoML_501df57e-a91c-4ddb-a6c0-5f7f5b5dde3f_6\", \"run_number\": 165, \"metric\": null, \"status\": \"Completed\", \"run_type\": null, \"training_percent\": \"100\", \"start_time\": \"2019-11-21T14:31:35.477792Z\", \"end_time\": \"2019-11-21T14:31:47.047347Z\", \"created_time\": \"2019-11-21T14:31:35.380817Z\", \"created_time_dt\": \"2019-11-21T14:31:35.380817Z\", \"duration\": \"0:00:11\", \"iteration\": \"6\", \"goal\": \"r2_score_max\", \"run_name\": \"MaxAbsScaler, RandomForest\", \"run_properties\": \"bootstrap=False, criterion='mse', max_depth=None,\\n           max_features=0.2, max_leaf_nodes=None,\\n           min_impurity_decrease=0.0, min_impurity_split=None,\\n           min_samples_leaf=0.01321775243133542,\\n           min_samples_split=0.004427451843494491,\\n           min_weight_fraction_leaf=0.0, n_estimators=25, n_jobs=1,\\n           oob_score=False, random_state=None, verbose=0, warm_start=False\", \"primary_metric\": 0.48545538, \"best_metric\": 0.48545538}], \"children_metrics\": {\"categories\": [0], \"series\": {\"spearman_correlation\": [{\"categories\": [\"0\", \"1\", \"2\", \"3\", \"4\", \"5\", \"6\"], \"mode\": \"markers\", \"name\": \"spearman_correlation\", \"stepped\": false, \"type\": \"scatter\", \"data\": [0.650772099540192, 0.6592297303815041, 0.6622971119823196, 0.6440651835150322, 0.6414437092271539, 0.6589119013054943, 0.6919794545512364]}, {\"categories\": [\"0\", \"1\", \"2\", \"3\", \"4\", \"5\", \"6\"], \"mode\": \"lines\", \"name\": \"spearman_correlation_max\", \"stepped\": true, \"type\": \"scatter\", \"data\": [0.650772099540192, 0.6592297303815041, 0.6622971119823196, 0.6622971119823196, 0.6622971119823196, 0.6622971119823196, 0.6919794545512364]}], \"mean_absolute_percentage_error\": [{\"categories\": [\"0\", \"1\", \"2\", \"3\", \"4\", \"5\", \"6\"], \"mode\": \"markers\", \"name\": \"mean_absolute_percentage_error\", \"stepped\": false, \"type\": \"scatter\", \"data\": [41.62944220812738, 41.95393738919638, 42.49420979327672, 42.74530649521431, 44.16301521161824, 42.817635782256744, 41.902091896618266]}, {\"categories\": [\"0\", \"1\", \"2\", \"3\", \"4\", \"5\", \"6\"], \"mode\": \"lines\", \"name\": \"mean_absolute_percentage_error_min\", \"stepped\": true, \"type\": \"scatter\", \"data\": [41.62944220812738, 41.62944220812738, 41.62944220812738, 41.62944220812738, 41.62944220812738, 41.62944220812738, 41.62944220812738]}], \"normalized_median_absolute_error\": [{\"categories\": [\"0\", \"1\", \"2\", \"3\", \"4\", \"5\", \"6\"], \"mode\": \"markers\", \"name\": \"normalized_median_absolute_error\", \"stepped\": false, \"type\": \"scatter\", \"data\": [0.1229678274609598, 0.1299266218032385, 0.13177688770212165, 0.1311596122952724, 0.14015615453622518, 0.13739593361530908, 0.13411258468080894]}, {\"categories\": [\"0\", \"1\", \"2\", \"3\", \"4\", \"5\", \"6\"], \"mode\": \"lines\", \"name\": \"normalized_median_absolute_error_min\", \"stepped\": true, \"type\": \"scatter\", \"data\": [0.1229678274609598, 0.1229678274609598, 0.1229678274609598, 0.1229678274609598, 0.1229678274609598, 0.1229678274609598, 0.1229678274609598]}], \"explained_variance\": [{\"categories\": [\"0\", \"1\", \"2\", \"3\", \"4\", \"5\", \"6\"], \"mode\": \"markers\", \"name\": \"explained_variance\", \"stepped\": false, \"type\": \"scatter\", \"data\": [0.4371124720408375, 0.4276494234819312, 0.4529575037086936, 0.4134569896061495, 0.30441706061731105, 0.44937136230502245, 0.5038271589177814]}, {\"categories\": [\"0\", \"1\", \"2\", \"3\", \"4\", \"5\", \"6\"], \"mode\": \"lines\", \"name\": \"explained_variance_max\", \"stepped\": true, \"type\": \"scatter\", \"data\": [0.4371124720408375, 0.4371124720408375, 0.4529575037086936, 0.4529575037086936, 0.4529575037086936, 0.4529575037086936, 0.5038271589177814]}], \"median_absolute_error\": [{\"categories\": [\"0\", \"1\", \"2\", \"3\", \"4\", \"5\", \"6\"], \"mode\": \"markers\", \"name\": \"median_absolute_error\", \"stepped\": false, \"type\": \"scatter\", \"data\": [39.47267261496809, 41.70644559883955, 42.30038095238105, 42.10223554678244, 44.990125606128274, 44.104094690514216, 43.05013968253967]}, {\"categories\": [\"0\", \"1\", \"2\", \"3\", \"4\", \"5\", \"6\"], \"mode\": \"lines\", \"name\": \"median_absolute_error_min\", \"stepped\": true, \"type\": \"scatter\", \"data\": [39.47267261496809, 39.47267261496809, 39.47267261496809, 39.47267261496809, 39.47267261496809, 39.47267261496809, 39.47267261496809]}], \"root_mean_squared_log_error\": [{\"categories\": [\"0\", \"1\", \"2\", \"3\", \"4\", \"5\", \"6\"], \"mode\": \"markers\", \"name\": \"root_mean_squared_log_error\", \"stepped\": false, \"type\": \"scatter\", \"data\": [0.451857628502273, 0.46560405633688556, 0.44433178057266787, 0.45814709900560774, 0.4864417577496069, 0.44443316913140796, 0.43164474818206655]}, {\"categories\": [\"0\", \"1\", \"2\", \"3\", \"4\", \"5\", \"6\"], \"mode\": \"lines\", \"name\": \"root_mean_squared_log_error_min\", \"stepped\": true, \"type\": \"scatter\", \"data\": [0.451857628502273, 0.451857628502273, 0.44433178057266787, 0.44433178057266787, 0.44433178057266787, 0.44433178057266787, 0.43164474818206655]}], \"r2_score\": [{\"categories\": [\"0\", \"1\", \"2\", \"3\", \"4\", \"5\", \"6\"], \"mode\": \"markers\", \"name\": \"r2_score\", \"stepped\": false, \"type\": \"scatter\", \"data\": [0.4201032068591454, 0.4055142744931272, 0.43347582943319846, 0.3970464122434921, 0.28299691848049163, 0.43192847364050146, 0.4854553780114827]}, {\"categories\": [\"0\", \"1\", \"2\", \"3\", \"4\", \"5\", \"6\"], \"mode\": \"lines\", \"name\": \"r2_score_max\", \"stepped\": true, \"type\": \"scatter\", \"data\": [0.4201032068591454, 0.4201032068591454, 0.43347582943319846, 0.43347582943319846, 0.43347582943319846, 0.43347582943319846, 0.4854553780114827]}], \"root_mean_squared_error\": [{\"categories\": [\"0\", \"1\", \"2\", \"3\", \"4\", \"5\", \"6\"], \"mode\": \"markers\", \"name\": \"root_mean_squared_error\", \"stepped\": false, \"type\": \"scatter\", \"data\": [58.78001955559459, 59.67801870469064, 58.18707742660617, 60.061242559151914, 65.40112926768825, 58.27922620409347, 55.38770849191851]}, {\"categories\": [\"0\", \"1\", \"2\", \"3\", \"4\", \"5\", \"6\"], \"mode\": \"lines\", \"name\": \"root_mean_squared_error_min\", \"stepped\": true, \"type\": \"scatter\", \"data\": [58.78001955559459, 58.78001955559459, 58.18707742660617, 58.18707742660617, 58.18707742660617, 58.18707742660617, 55.38770849191851]}], \"mean_absolute_error\": [{\"categories\": [\"0\", \"1\", \"2\", \"3\", \"4\", \"5\", \"6\"], \"mode\": \"markers\", \"name\": \"mean_absolute_error\", \"stepped\": false, \"type\": \"scatter\", \"data\": [47.124008275951766, 47.84692173905201, 47.2849694152215, 48.548095215373856, 51.70856817097788, 47.76771697441865, 46.076057885843205]}, {\"categories\": [\"0\", \"1\", \"2\", \"3\", \"4\", \"5\", \"6\"], \"mode\": \"lines\", \"name\": \"mean_absolute_error_min\", \"stepped\": true, \"type\": \"scatter\", \"data\": [47.124008275951766, 47.124008275951766, 47.124008275951766, 47.124008275951766, 47.124008275951766, 47.124008275951766, 46.076057885843205]}], \"normalized_mean_absolute_error\": [{\"categories\": [\"0\", \"1\", \"2\", \"3\", \"4\", \"5\", \"6\"], \"mode\": \"markers\", \"name\": \"normalized_mean_absolute_error\", \"stepped\": false, \"type\": \"scatter\", \"data\": [0.14680376409953821, 0.14905583096277883, 0.14730520067047195, 0.15124017201051046, 0.16108588215257907, 0.14880908714772165, 0.14353912113969844]}, {\"categories\": [\"0\", \"1\", \"2\", \"3\", \"4\", \"5\", \"6\"], \"mode\": \"lines\", \"name\": \"normalized_mean_absolute_error_min\", \"stepped\": true, \"type\": \"scatter\", \"data\": [0.14680376409953821, 0.14680376409953821, 0.14680376409953821, 0.14680376409953821, 0.14680376409953821, 0.14680376409953821, 0.14353912113969844]}], \"normalized_root_mean_squared_error\": [{\"categories\": [\"0\", \"1\", \"2\", \"3\", \"4\", \"5\", \"6\"], \"mode\": \"markers\", \"name\": \"normalized_root_mean_squared_error\", \"stepped\": false, \"type\": \"scatter\", \"data\": [0.18311532571836323, 0.1859128308557341, 0.18126815397696625, 0.18710667463910252, 0.20374183572488552, 0.18155522181960584, 0.17254737847949692]}, {\"categories\": [\"0\", \"1\", \"2\", \"3\", \"4\", \"5\", \"6\"], \"mode\": \"lines\", \"name\": \"normalized_root_mean_squared_error_min\", \"stepped\": true, \"type\": \"scatter\", \"data\": [0.18311532571836323, 0.18311532571836323, 0.18126815397696625, 0.18126815397696625, 0.18126815397696625, 0.18126815397696625, 0.17254737847949692]}], \"normalized_root_mean_squared_log_error\": [{\"categories\": [\"0\", \"1\", \"2\", \"3\", \"4\", \"5\", \"6\"], \"mode\": \"markers\", \"name\": \"normalized_root_mean_squared_log_error\", \"stepped\": false, \"type\": \"scatter\", \"data\": [0.1743797096648369, 0.17968469500429834, 0.17147535419053364, 0.1768069256088332, 0.18772632602528402, 0.17151448179693274, 0.16657920795944195]}, {\"categories\": [\"0\", \"1\", \"2\", \"3\", \"4\", \"5\", \"6\"], \"mode\": \"lines\", \"name\": \"normalized_root_mean_squared_log_error_min\", \"stepped\": true, \"type\": \"scatter\", \"data\": [0.1743797096648369, 0.1743797096648369, 0.17147535419053364, 0.17147535419053364, 0.17147535419053364, 0.17147535419053364, 0.16657920795944195]}]}, \"metricName\": null, \"primaryMetricName\": \"r2_score\", \"showLegend\": false}, \"run_metrics\": [], \"run_logs\": \"\\nRun is completed.\", \"graph\": {}, \"widget_settings\": {\"childWidgetDisplay\": \"popup\", \"send_telemetry\": false, \"log_level\": \"INFO\", \"sdk_version\": \"1.0.74\"}, \"loading\": false}"
     },
     "metadata": {},
     "output_type": "display_data"
    }
   ],
   "source": [
    "from azureml.widgets import RunDetails\n",
    "RunDetails(local_run).show() "
   ]
  },
  {
   "cell_type": "markdown",
   "metadata": {},
   "source": [
    "\n",
    "### 5.2 Récupération de toutes les itérations"
   ]
  },
  {
   "cell_type": "code",
   "execution_count": 45,
   "metadata": {},
   "outputs": [
    {
     "data": {
      "text/html": [
       "<div>\n",
       "<style scoped>\n",
       "    .dataframe tbody tr th:only-of-type {\n",
       "        vertical-align: middle;\n",
       "    }\n",
       "\n",
       "    .dataframe tbody tr th {\n",
       "        vertical-align: top;\n",
       "    }\n",
       "\n",
       "    .dataframe thead th {\n",
       "        text-align: right;\n",
       "    }\n",
       "</style>\n",
       "<table border=\"1\" class=\"dataframe\">\n",
       "  <thead>\n",
       "    <tr style=\"text-align: right;\">\n",
       "      <th></th>\n",
       "      <th>0</th>\n",
       "      <th>1</th>\n",
       "      <th>2</th>\n",
       "      <th>3</th>\n",
       "      <th>4</th>\n",
       "      <th>5</th>\n",
       "      <th>6</th>\n",
       "    </tr>\n",
       "  </thead>\n",
       "  <tbody>\n",
       "    <tr>\n",
       "      <th>explained_variance</th>\n",
       "      <td>0.44</td>\n",
       "      <td>0.43</td>\n",
       "      <td>0.45</td>\n",
       "      <td>0.41</td>\n",
       "      <td>0.30</td>\n",
       "      <td>0.45</td>\n",
       "      <td>0.50</td>\n",
       "    </tr>\n",
       "    <tr>\n",
       "      <th>mean_absolute_error</th>\n",
       "      <td>47.12</td>\n",
       "      <td>47.85</td>\n",
       "      <td>47.28</td>\n",
       "      <td>48.55</td>\n",
       "      <td>51.71</td>\n",
       "      <td>47.77</td>\n",
       "      <td>46.08</td>\n",
       "    </tr>\n",
       "    <tr>\n",
       "      <th>mean_absolute_percentage_error</th>\n",
       "      <td>41.63</td>\n",
       "      <td>41.95</td>\n",
       "      <td>42.49</td>\n",
       "      <td>42.75</td>\n",
       "      <td>44.16</td>\n",
       "      <td>42.82</td>\n",
       "      <td>41.90</td>\n",
       "    </tr>\n",
       "    <tr>\n",
       "      <th>median_absolute_error</th>\n",
       "      <td>39.47</td>\n",
       "      <td>41.71</td>\n",
       "      <td>42.30</td>\n",
       "      <td>42.10</td>\n",
       "      <td>44.99</td>\n",
       "      <td>44.10</td>\n",
       "      <td>43.05</td>\n",
       "    </tr>\n",
       "    <tr>\n",
       "      <th>normalized_mean_absolute_error</th>\n",
       "      <td>0.15</td>\n",
       "      <td>0.15</td>\n",
       "      <td>0.15</td>\n",
       "      <td>0.15</td>\n",
       "      <td>0.16</td>\n",
       "      <td>0.15</td>\n",
       "      <td>0.14</td>\n",
       "    </tr>\n",
       "    <tr>\n",
       "      <th>normalized_median_absolute_error</th>\n",
       "      <td>0.12</td>\n",
       "      <td>0.13</td>\n",
       "      <td>0.13</td>\n",
       "      <td>0.13</td>\n",
       "      <td>0.14</td>\n",
       "      <td>0.14</td>\n",
       "      <td>0.13</td>\n",
       "    </tr>\n",
       "    <tr>\n",
       "      <th>normalized_root_mean_squared_error</th>\n",
       "      <td>0.18</td>\n",
       "      <td>0.19</td>\n",
       "      <td>0.18</td>\n",
       "      <td>0.19</td>\n",
       "      <td>0.20</td>\n",
       "      <td>0.18</td>\n",
       "      <td>0.17</td>\n",
       "    </tr>\n",
       "    <tr>\n",
       "      <th>normalized_root_mean_squared_log_error</th>\n",
       "      <td>0.17</td>\n",
       "      <td>0.18</td>\n",
       "      <td>0.17</td>\n",
       "      <td>0.18</td>\n",
       "      <td>0.19</td>\n",
       "      <td>0.17</td>\n",
       "      <td>0.17</td>\n",
       "    </tr>\n",
       "    <tr>\n",
       "      <th>r2_score</th>\n",
       "      <td>0.42</td>\n",
       "      <td>0.41</td>\n",
       "      <td>0.43</td>\n",
       "      <td>0.40</td>\n",
       "      <td>0.28</td>\n",
       "      <td>0.43</td>\n",
       "      <td>0.49</td>\n",
       "    </tr>\n",
       "    <tr>\n",
       "      <th>root_mean_squared_error</th>\n",
       "      <td>58.78</td>\n",
       "      <td>59.68</td>\n",
       "      <td>58.19</td>\n",
       "      <td>60.06</td>\n",
       "      <td>65.40</td>\n",
       "      <td>58.28</td>\n",
       "      <td>55.39</td>\n",
       "    </tr>\n",
       "    <tr>\n",
       "      <th>root_mean_squared_log_error</th>\n",
       "      <td>0.45</td>\n",
       "      <td>0.47</td>\n",
       "      <td>0.44</td>\n",
       "      <td>0.46</td>\n",
       "      <td>0.49</td>\n",
       "      <td>0.44</td>\n",
       "      <td>0.43</td>\n",
       "    </tr>\n",
       "    <tr>\n",
       "      <th>spearman_correlation</th>\n",
       "      <td>0.65</td>\n",
       "      <td>0.66</td>\n",
       "      <td>0.66</td>\n",
       "      <td>0.64</td>\n",
       "      <td>0.64</td>\n",
       "      <td>0.66</td>\n",
       "      <td>0.69</td>\n",
       "    </tr>\n",
       "  </tbody>\n",
       "</table>\n",
       "</div>"
      ],
      "text/plain": [
       "                                           0     1     2     3     4     5  \\\n",
       "explained_variance                     0.44  0.43  0.45  0.41  0.30  0.45    \n",
       "mean_absolute_error                    47.12 47.85 47.28 48.55 51.71 47.77   \n",
       "mean_absolute_percentage_error         41.63 41.95 42.49 42.75 44.16 42.82   \n",
       "median_absolute_error                  39.47 41.71 42.30 42.10 44.99 44.10   \n",
       "normalized_mean_absolute_error         0.15  0.15  0.15  0.15  0.16  0.15    \n",
       "normalized_median_absolute_error       0.12  0.13  0.13  0.13  0.14  0.14    \n",
       "normalized_root_mean_squared_error     0.18  0.19  0.18  0.19  0.20  0.18    \n",
       "normalized_root_mean_squared_log_error 0.17  0.18  0.17  0.18  0.19  0.17    \n",
       "r2_score                               0.42  0.41  0.43  0.40  0.28  0.43    \n",
       "root_mean_squared_error                58.78 59.68 58.19 60.06 65.40 58.28   \n",
       "root_mean_squared_log_error            0.45  0.47  0.44  0.46  0.49  0.44    \n",
       "spearman_correlation                   0.65  0.66  0.66  0.64  0.64  0.66    \n",
       "\n",
       "                                           6  \n",
       "explained_variance                     0.50   \n",
       "mean_absolute_error                    46.08  \n",
       "mean_absolute_percentage_error         41.90  \n",
       "median_absolute_error                  43.05  \n",
       "normalized_mean_absolute_error         0.14   \n",
       "normalized_median_absolute_error       0.13   \n",
       "normalized_root_mean_squared_error     0.17   \n",
       "normalized_root_mean_squared_log_error 0.17   \n",
       "r2_score                               0.49   \n",
       "root_mean_squared_error                55.39  \n",
       "root_mean_squared_log_error            0.43   \n",
       "spearman_correlation                   0.69   "
      ]
     },
     "execution_count": 45,
     "metadata": {},
     "output_type": "execute_result"
    }
   ],
   "source": [
    "children = list(local_run.get_children())\n",
    "metricslist = {}\n",
    "for run in children:\n",
    "    properties = run.get_properties()\n",
    "    metrics = {k: v for k, v in run.get_metrics().items() if isinstance(v, float)}\n",
    "    metricslist[int(properties['iteration'])] = metrics\n",
    "\n",
    "rundata = pd.DataFrame(metricslist).sort_index(1)\n",
    "rundata"
   ]
  },
  {
   "cell_type": "markdown",
   "metadata": {},
   "source": [
    "### 5.3 Obtention du meilleur modèle\n",
    "\n",
    "Below we select the best pipeline from our iterations. The `get_output` method returns the best run and the fitted model. The Model includes the pipeline and any pre-processing.  Overloads on `get_output` allow you to retrieve the best run and fitted model for *any* logged metric or for a particular *iteration*."
   ]
  },
  {
   "cell_type": "code",
   "execution_count": 46,
   "metadata": {},
   "outputs": [
    {
     "name": "stdout",
     "output_type": "stream",
     "text": [
      "Run(Experiment: workshop3,\n",
      "Id: AutoML_501df57e-a91c-4ddb-a6c0-5f7f5b5dde3f_6,\n",
      "Type: None,\n",
      "Status: Completed)\n",
      "RegressionPipeline(pipeline=Pipeline(memory=None,\n",
      "     steps=[('MaxAbsScaler', MaxAbsScaler(copy=True)), ('RandomForestRegressor', RandomForestRegressor(bootstrap=False, criterion='mse', max_depth=None,\n",
      "           max_features=0.2, max_leaf_nodes=None,\n",
      "           min_impurity_decrease=0.0, min_impurity_split=None,\n",
      "           min_samples_leaf=0.013217752...timators=25, n_jobs=1,\n",
      "           oob_score=False, random_state=None, verbose=0, warm_start=False))]),\n",
      "          stddev=None)\n"
     ]
    }
   ],
   "source": [
    "best_run, fitted_model = local_run.get_output()\n",
    "print(best_run)\n",
    "print(fitted_model)"
   ]
  },
  {
   "cell_type": "markdown",
   "metadata": {},
   "source": [
    "### 5.4 Changement de métrique\n",
    "Show the run and the model that has the smallest `root_mean_squared_error` value (which turned out to be the same as the one with largest `spearman_correlation` value):"
   ]
  },
  {
   "cell_type": "code",
   "execution_count": 47,
   "metadata": {},
   "outputs": [
    {
     "name": "stdout",
     "output_type": "stream",
     "text": [
      "Run(Experiment: workshop3,\n",
      "Id: AutoML_501df57e-a91c-4ddb-a6c0-5f7f5b5dde3f_6,\n",
      "Type: None,\n",
      "Status: Completed)\n",
      "RegressionPipeline(pipeline=Pipeline(memory=None,\n",
      "     steps=[('MaxAbsScaler', MaxAbsScaler(copy=True)), ('RandomForestRegressor', RandomForestRegressor(bootstrap=False, criterion='mse', max_depth=None,\n",
      "           max_features=0.2, max_leaf_nodes=None,\n",
      "           min_impurity_decrease=0.0, min_impurity_split=None,\n",
      "           min_samples_leaf=0.013217752...timators=25, n_jobs=1,\n",
      "           oob_score=False, random_state=None, verbose=0, warm_start=False))]),\n",
      "          stddev=None)\n"
     ]
    }
   ],
   "source": [
    "lookup_metric = \"root_mean_squared_error\"\n",
    "best_run, fitted_model = local_run.get_output(metric = lookup_metric)\n",
    "print(best_run)\n",
    "print(fitted_model)"
   ]
  },
  {
   "cell_type": "markdown",
   "metadata": {},
   "source": [
    "### 5.5 Choix d'une itération spécifique\n",
    "Show the run and the model from the third iteration:"
   ]
  },
  {
   "cell_type": "code",
   "execution_count": 48,
   "metadata": {},
   "outputs": [
    {
     "name": "stdout",
     "output_type": "stream",
     "text": [
      "Run(Experiment: workshop3,\n",
      "Id: AutoML_501df57e-a91c-4ddb-a6c0-5f7f5b5dde3f_3,\n",
      "Type: None,\n",
      "Status: Completed)\n",
      "RegressionPipeline(pipeline=Pipeline(memory=None,\n",
      "     steps=[('RobustScaler', RobustScaler(copy=True, quantile_range=[25, 75], with_centering=True,\n",
      "       with_scaling=False)), ('LightGBMRegressor', LightGBMRegressor(boosting_type='gbdt', class_weight=None,\n",
      "         colsample_bytree=0.7000000000000001, importance_type='split',\n",
      "         learning_rate=0....e, subsample=0.44999999999999996,\n",
      "         subsample_for_bin=200000, subsample_freq=2, verbose=-1))]),\n",
      "          stddev=None)\n"
     ]
    }
   ],
   "source": [
    "iteration = 3\n",
    "ite_run, ite_model = local_run.get_output(iteration = iteration)\n",
    "print(ite_run)\n",
    "print(ite_model)"
   ]
  },
  {
   "cell_type": "markdown",
   "metadata": {},
   "source": [
    "## 6. Validation"
   ]
  },
  {
   "cell_type": "markdown",
   "metadata": {},
   "source": [
    "Predict on training and test set, and calculate residual values."
   ]
  },
  {
   "cell_type": "code",
   "execution_count": 49,
   "metadata": {},
   "outputs": [],
   "source": [
    "y_pred_train = fitted_model.predict(X_train)\n",
    "y_residual_train = y_train - y_pred_train\n",
    "\n",
    "y_pred_test = fitted_model.predict(X_test)\n",
    "y_residual_test = y_test - y_pred_test"
   ]
  },
  {
   "cell_type": "code",
   "execution_count": 50,
   "metadata": {},
   "outputs": [
    {
     "data": {
      "image/png": "[encoded data removed]",
      "text/plain": [
       "<Figure size 1152x432 with 2 Axes>"
      ]
     },
     "metadata": {
      "needs_background": "light"
     },
     "output_type": "display_data"
    }
   ],
   "source": [
    "%matplotlib inline\n",
    "import matplotlib.pyplot as plt\n",
    "import numpy as np\n",
    "from sklearn import datasets\n",
    "from sklearn.metrics import mean_squared_error, r2_score\n",
    "\n",
    "# Set up a multi-plot chart.\n",
    "f, (a0, a1) = plt.subplots(1, 2, gridspec_kw = {'width_ratios':[1, 1], 'wspace':0, 'hspace': 0})\n",
    "f.suptitle('Regression Residual Values', fontsize = 18)\n",
    "f.set_figheight(6)\n",
    "f.set_figwidth(16)\n",
    "\n",
    "# Plot residual values of training set.\n",
    "a0.axis([0, 360, -200, 200])\n",
    "a0.plot(y_residual_train, 'bo', alpha = 0.5)\n",
    "a0.plot([-10,360],[0,0], 'r-', lw = 3)\n",
    "a0.text(16,170,'RMSE = {0:.2f}'.format(np.sqrt(mean_squared_error(y_train, y_pred_train))), fontsize = 12)\n",
    "a0.text(16,140,'R2 score = {0:.2f}'.format(r2_score(y_train, y_pred_train)), fontsize = 12)\n",
    "a0.set_xlabel('Training samples', fontsize = 12)\n",
    "a0.set_ylabel('Residual Values', fontsize = 12)\n",
    "\n",
    "# Plot a histogram.\n",
    "a0.hist(y_residual_train, orientation = 'horizontal', color = 'b', bins = 10, histtype = 'step');\n",
    "a0.hist(y_residual_train, orientation = 'horizontal', color = 'b', alpha = 0.2, bins = 10);\n",
    "\n",
    "# Plot residual values of test set.\n",
    "a1.axis([0, 90, -200, 200])\n",
    "a1.plot(y_residual_test, 'bo', alpha = 0.5)\n",
    "a1.plot([-10,360],[0,0], 'r-', lw = 3)\n",
    "a1.text(5,170,'RMSE = {0:.2f}'.format(np.sqrt(mean_squared_error(y_test, y_pred_test))), fontsize = 12)\n",
    "a1.text(5,140,'R2 score = {0:.2f}'.format(r2_score(y_test, y_pred_test)), fontsize = 12)\n",
    "a1.set_xlabel('Test samples', fontsize = 12)\n",
    "a1.set_yticklabels([])\n",
    "\n",
    "# Plot a histogram.\n",
    "a1.hist(y_residual_test, orientation = 'horizontal', color = 'b', bins = 10, histtype = 'step')\n",
    "a1.hist(y_residual_test, orientation = 'horizontal', color = 'b', alpha = 0.2, bins = 10)\n",
    "\n",
    "plt.show()"
   ]
  },
  {
   "cell_type": "markdown",
   "metadata": {},
   "source": [
    "> Plus d'information : https://docs.microsoft.com/en-us/azure/machine-learning/service/"
   ]
  },
  {
   "cell_type": "markdown",
   "metadata": {},
   "source": [
    "<img src=\"https://github.com/retkowsky/images/blob/master/Powered-by-MS-Azure-logo-v2.png?raw=true\" height=\"300\" width=\"300\">"
   ]
  },
  {
   "cell_type": "code",
   "execution_count": null,
   "metadata": {},
   "outputs": [],
   "source": []
  }
 ],
 "metadata": {
  "authors": [
   {
    "name": "savitam"
   }
  ],
  "kernelspec": {
   "display_name": "Python 3.6 - AzureML",
   "language": "python",
   "name": "python3-azureml"
  },
  "language_info": {
   "codemirror_mode": {
    "name": "ipython",
    "version": 3
   },
   "file_extension": ".py",
   "mimetype": "text/x-python",
   "name": "python",
   "nbconvert_exporter": "python",
   "pygments_lexer": "ipython3",
   "version": "3.6.9"
  }
 },
 "nbformat": 4,
 "nbformat_minor": 2
}
