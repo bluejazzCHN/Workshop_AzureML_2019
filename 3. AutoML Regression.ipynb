{
 "cells": [
  {
   "cell_type": "markdown",
   "metadata": {},
   "source": [
    "# AutoML Regression\n"
   ]
  },
  {
   "cell_type": "markdown",
   "metadata": {},
   "source": [
    "<img src='https://github.com/retkowsky/images/blob/master/AzureMLservicebanniere.png?raw=true'>"
   ]
  },
  {
   "cell_type": "code",
   "execution_count": 76,
   "metadata": {},
   "outputs": [
    {
     "name": "stdout",
     "output_type": "stream",
     "text": [
      "Version Python :  3.6.9 |Anaconda, Inc.| (default, Jul 30 2019, 19:07:31) \n",
      "[GCC 7.3.0]\n"
     ]
    }
   ],
   "source": [
    "import sys\n",
    "print(\"Version Python : \", sys.version)"
   ]
  },
  {
   "cell_type": "code",
   "execution_count": 77,
   "metadata": {},
   "outputs": [
    {
     "name": "stdout",
     "output_type": "stream",
     "text": [
      "2019-11-22 10:06:16.244807\n"
     ]
    }
   ],
   "source": [
    "import datetime\n",
    "now = datetime.datetime.now()\n",
    "print(now)"
   ]
  },
  {
   "cell_type": "code",
   "execution_count": 78,
   "metadata": {},
   "outputs": [
    {
     "name": "stdout",
     "output_type": "stream",
     "text": [
      "Version Azure ML service : 1.0.74\n"
     ]
    }
   ],
   "source": [
    "import azureml.core\n",
    "print(\"Version Azure ML service :\", azureml.core.VERSION)"
   ]
  },
  {
   "cell_type": "markdown",
   "metadata": {},
   "source": [
    "## 1. Création expérimentation\n",
    "\n",
    "As part of the setup you have already created an Azure ML `Workspace` object. For AutoML you will need to create an `Experiment` object, which is a named object in a `Workspace` used to run experiments."
   ]
  },
  {
   "cell_type": "code",
   "execution_count": 79,
   "metadata": {},
   "outputs": [],
   "source": [
    "import logging\n",
    "import os\n",
    "import random\n",
    "\n",
    "from matplotlib import pyplot as plt\n",
    "from matplotlib.pyplot import imshow\n",
    "import numpy as np\n",
    "import pandas as pd\n",
    "from sklearn import datasets\n",
    "\n",
    "import azureml.core\n",
    "from azureml.core.experiment import Experiment\n",
    "from azureml.core.workspace import Workspace\n",
    "from azureml.train.automl import AutoMLConfig\n",
    "from azureml.train.automl.run import AutoMLRun"
   ]
  },
  {
   "cell_type": "code",
   "execution_count": 80,
   "metadata": {},
   "outputs": [
    {
     "data": {
      "text/html": [
       "<div>\n",
       "<style scoped>\n",
       "    .dataframe tbody tr th:only-of-type {\n",
       "        vertical-align: middle;\n",
       "    }\n",
       "\n",
       "    .dataframe tbody tr th {\n",
       "        vertical-align: top;\n",
       "    }\n",
       "\n",
       "    .dataframe thead th {\n",
       "        text-align: right;\n",
       "    }\n",
       "</style>\n",
       "<table border=\"1\" class=\"dataframe\">\n",
       "  <thead>\n",
       "    <tr style=\"text-align: right;\">\n",
       "      <th></th>\n",
       "      <th></th>\n",
       "    </tr>\n",
       "  </thead>\n",
       "  <tbody>\n",
       "    <tr>\n",
       "      <th>SDK version</th>\n",
       "      <td>1.0.74</td>\n",
       "    </tr>\n",
       "    <tr>\n",
       "      <th>Workspace Name</th>\n",
       "      <td>workshopml</td>\n",
       "    </tr>\n",
       "    <tr>\n",
       "      <th>Resource Group</th>\n",
       "      <td>workshopmlRG</td>\n",
       "    </tr>\n",
       "    <tr>\n",
       "      <th>Location</th>\n",
       "      <td>northeurope</td>\n",
       "    </tr>\n",
       "    <tr>\n",
       "      <th>Project Directory</th>\n",
       "      <td>./sample_projects/workshop3</td>\n",
       "    </tr>\n",
       "    <tr>\n",
       "      <th>Experiment Name</th>\n",
       "      <td>workshop3</td>\n",
       "    </tr>\n",
       "  </tbody>\n",
       "</table>\n",
       "</div>"
      ],
      "text/plain": [
       "                                              \n",
       "SDK version        1.0.74                     \n",
       "Workspace Name     workshopml                 \n",
       "Resource Group     workshopmlRG               \n",
       "Location           northeurope                \n",
       "Project Directory  ./sample_projects/workshop3\n",
       "Experiment Name    workshop3                  "
      ]
     },
     "execution_count": 80,
     "metadata": {},
     "output_type": "execute_result"
    }
   ],
   "source": [
    "ws = Workspace.from_config()\n",
    "\n",
    "# Choose a name for the experiment and specify the project folder.\n",
    "experiment_name = 'workshop3'\n",
    "project_folder = './sample_projects/workshop3'\n",
    "\n",
    "experiment = Experiment(ws, experiment_name)\n",
    "\n",
    "output = {}\n",
    "output['SDK version'] = azureml.core.VERSION\n",
    "output['Workspace Name'] = ws.name\n",
    "output['Resource Group'] = ws.resource_group\n",
    "output['Location'] = ws.location\n",
    "output['Project Directory'] = project_folder\n",
    "output['Experiment Name'] = experiment.name\n",
    "pd.set_option('display.max_colwidth', -1)\n",
    "pd.DataFrame(data = output, index = ['']).T"
   ]
  },
  {
   "cell_type": "markdown",
   "metadata": {},
   "source": [
    "## 2. Chargement des données\n",
    "\n",
    "This uses scikit-learn's [load_diabetes](http://scikit-learn.org/stable/modules/generated/sklearn.datasets.load_diabetes.html) method."
   ]
  },
  {
   "cell_type": "code",
   "execution_count": 81,
   "metadata": {},
   "outputs": [],
   "source": [
    "# Load the diabetes dataset, a well-known built-in small dataset that comes with scikit-learn.\n",
    "from sklearn.datasets import load_diabetes\n",
    "from sklearn.linear_model import Ridge\n",
    "from sklearn.metrics import mean_squared_error\n",
    "from sklearn.model_selection import train_test_split\n",
    "\n",
    "X, y = load_diabetes(return_X_y = True)\n",
    "\n",
    "columns = ['age', 'gender', 'bmi', 'bp', 's1', 's2', 's3', 's4', 's5', 's6']\n",
    "\n",
    "X_train, X_test, y_train, y_test = train_test_split(X, y, test_size = 0.2, random_state = 0)"
   ]
  },
  {
   "cell_type": "markdown",
   "metadata": {},
   "source": [
    "## 3. Configuration AutoML\n"
   ]
  },
  {
   "cell_type": "code",
   "execution_count": 82,
   "metadata": {},
   "outputs": [
    {
     "name": "stderr",
     "output_type": "stream",
     "text": [
      "WARNING - The AutoMLConfig inputs you have specified will soon be deprecated. Please use the AutoMLConfig shown in our documentation: https://aka.ms/AutoMLConfig\n"
     ]
    }
   ],
   "source": [
    "automl_config = AutoMLConfig(task = 'regression',\n",
    "                             iteration_timeout_minutes = 2, #Temps max par itération\n",
    "                             experiment_timeout_minutes = 5, #Temps max pour l'automl\n",
    "                             enable_early_stopping=True, # critère de sortie si pas d'amélioration de la métrique\n",
    "                             primary_metric = 'spearman_correlation', #métrique\n",
    "                             n_cross_validations = 5, #nombre de validation croisées\n",
    "                             debug_log = 'automl.log',\n",
    "                             verbosity = logging.INFO,\n",
    "                             X = X_train, \n",
    "                             y = y_train,\n",
    "                             path = project_folder)"
   ]
  },
  {
   "cell_type": "markdown",
   "metadata": {},
   "source": [
    "## 4. AutoML\n",
    "\n",
    "Call the `submit` method on the experiment object and pass the run configuration. Execution of local runs is synchronous. Depending on the data and the number of iterations this can run for a while.\n",
    "In this example, we specify `show_output = True` to print currently running iterations to the console.\n",
    "\n",
    "`spearman_correlation` is the metric used."
   ]
  },
  {
   "cell_type": "code",
   "execution_count": 83,
   "metadata": {
    "scrolled": true
   },
   "outputs": [
    {
     "name": "stdout",
     "output_type": "stream",
     "text": [
      "Running on local machine\n",
      "Parent Run ID: AutoML_a4cf0cb0-e35c-4907-ae54-b5ee3d7f8137\n",
      "Current status: DatasetCrossValidationSplit. Generating CV splits.\n",
      "Current status: ModelSelection. Beginning model selection.\n",
      "\n",
      "****************************************************************************************************\n",
      "ITERATION: The iteration being evaluated.\n",
      "PIPELINE: A summary description of the pipeline being evaluated.\n",
      "DURATION: Time taken for the current iteration.\n",
      "METRIC: The result of computing score on the fitted pipeline.\n",
      "BEST: The best observed score thus far.\n",
      "****************************************************************************************************\n",
      "\n",
      " ITERATION   PIPELINE                                       DURATION      METRIC      BEST\n",
      "         0   StandardScalerWrapper RandomForest             0:00:12       0.7000    0.7000\n",
      "         1   MinMaxScaler RandomForest                      0:00:13       0.6805    0.7000\n",
      "         2   StandardScalerWrapper ExtremeRandomTrees       0:00:12       0.6846    0.7000\n",
      "         3   StandardScalerWrapper LightGBM                 0:00:20       0.6831    0.7000\n",
      "         4   RobustScaler DecisionTree                      0:00:12       0.4635    0.7000\n",
      "         5   StandardScalerWrapper LassoLars                0:00:12       0.7176    0.7176\n",
      "         6   StandardScalerWrapper LightGBM                 0:00:13       0.6774    0.7176\n",
      "         7   StandardScalerWrapper RandomForest             0:00:13       0.6942    0.7176\n",
      "         8   StandardScalerWrapper LassoLars                0:00:12       0.7179    0.7179\n",
      "         9   MinMaxScaler ExtremeRandomTrees                0:00:12       0.6670    0.7179\n",
      "        10   RobustScaler ExtremeRandomTrees                0:00:13       0.7075    0.7179\n",
      "        11   StandardScalerWrapper ExtremeRandomTrees       0:00:12       0.6935    0.7179\n",
      "        12   MinMaxScaler ExtremeRandomTrees                0:00:13       0.6983    0.7179\n",
      "        13   RobustScaler RandomForest                      0:00:14       0.6946    0.7179\n",
      "        14   StandardScalerWrapper LassoLars                0:00:13       0.7177    0.7179\n",
      "        15   StandardScalerWrapper ExtremeRandomTrees       0:00:13       0.6987    0.7179\n",
      "        16   StandardScalerWrapper RandomForest             0:00:12       0.6914    0.7179\n",
      "        17   MinMaxScaler SGD                               0:00:13       0.6931    0.7179\n",
      "        18   StandardScalerWrapper RandomForest             0:00:14       0.6605    0.7179\n",
      "        19   MinMaxScaler RandomForest                      0:00:12       0.6985    0.7179\n",
      "        20   PCA LassoLars                                  0:00:15       0.5721    0.7179\n",
      "        21   RobustScaler LightGBM                          0:00:15       0.6717    0.7179\n",
      "        22                                                  0:00:02          nan    0.7179\n",
      "        23   VotingEnsemble                                 0:00:18       0.7316    0.7316\n",
      "        24   StackEnsemble                                  0:00:18       0.7243    0.7316\n",
      "Stopping criteria reached at iteration 24. Ending experiment.\n",
      "CPU times: user 29.5 s, sys: 12.2 s, total: 41.8 s\n",
      "Wall time: 5min 57s\n"
     ]
    }
   ],
   "source": [
    "%%time\n",
    "local_run = experiment.submit(automl_config, show_output = True)"
   ]
  },
  {
   "cell_type": "code",
   "execution_count": 84,
   "metadata": {},
   "outputs": [
    {
     "data": {
      "text/html": [
       "<table style=\"width:100%\"><tr><th>Experiment</th><th>Id</th><th>Type</th><th>Status</th><th>Details Page</th><th>Docs Page</th></tr><tr><td>workshop3</td><td>AutoML_a4cf0cb0-e35c-4907-ae54-b5ee3d7f8137</td><td>automl</td><td>Running</td><td><a href=\"https://ml.azure.com/experiments/workshop3/runs/AutoML_a4cf0cb0-e35c-4907-ae54-b5ee3d7f8137?wsid=/subscriptions/70b8f39e-8863-49f7-b6ba-34a80799550c/resourcegroups/workshopmlRG/workspaces/workshopml\" target=\"_blank\" rel=\"noopener\">Link to Azure Machine Learning studio</a></td><td><a href=\"https://docs.microsoft.com/en-us/python/api/overview/azure/ml/intro?view=azure-ml-py\" target=\"_blank\" rel=\"noopener\">Link to Documentation</a></td></tr></table>"
      ],
      "text/plain": [
       "Run(Experiment: workshop3,\n",
       "Id: AutoML_a4cf0cb0-e35c-4907-ae54-b5ee3d7f8137,\n",
       "Type: automl,\n",
       "Status: Running)"
      ]
     },
     "execution_count": 84,
     "metadata": {},
     "output_type": "execute_result"
    }
   ],
   "source": [
    "local_run"
   ]
  },
  {
   "cell_type": "code",
   "execution_count": 85,
   "metadata": {},
   "outputs": [
    {
     "data": {
      "application/vnd.jupyter.widget-view+json": {
       "model_id": "39b4ef6b4814412c8f18a73d40c0b213",
       "version_major": 2,
       "version_minor": 0
      },
      "text/plain": [
       "_AutoMLWidget(widget_settings={'childWidgetDisplay': 'popup', 'send_telemetry': False, 'log_level': 'INFO', 's…"
      ]
     },
     "metadata": {},
     "output_type": "display_data"
    },
    {
     "data": {
      "application/aml.mini.widget.v1": "{\"status\": \"Completed\", \"workbench_run_details_uri\": \"https://ml.azure.com/experiments/workshop3/runs/AutoML_a4cf0cb0-e35c-4907-ae54-b5ee3d7f8137?wsid=/subscriptions/70b8f39e-8863-49f7-b6ba-34a80799550c/resourcegroups/workshopmlRG/workspaces/workshopml\", \"run_id\": \"AutoML_a4cf0cb0-e35c-4907-ae54-b5ee3d7f8137\", \"run_properties\": {\"run_id\": \"AutoML_a4cf0cb0-e35c-4907-ae54-b5ee3d7f8137\", \"created_utc\": \"2019-11-22T10:06:23.314541Z\", \"properties\": {\"num_iterations\": \"1000\", \"training_type\": \"TrainFull\", \"acquisition_function\": \"EI\", \"primary_metric\": \"spearman_correlation\", \"train_split\": \"0\", \"MaxTimeSeconds\": \"120\", \"acquisition_parameter\": \"0\", \"num_cross_validation\": \"5\", \"target\": \"local\", \"RawAMLSettingsString\": \"{'name': 'workshop3', 'path': './sample_projects/workshop3', 'subscription_id': '70b8f39e-8863-49f7-b6ba-34a80799550c', 'resource_group': 'workshopmlRG', 'workspace_name': 'workshopml', 'region': 'northeurope', 'compute_target': 'local', 'spark_service': None, 'azure_service': None, 'iterations': 1000, 'primary_metric': 'spearman_correlation', 'task_type': 'regression', 'data_script': None, 'validation_size': 0.0, 'n_cross_validations': 5, 'y_min': 25.0, 'y_max': 346.0, 'num_classes': None, 'featurization': 'off', 'preprocess': False, 'lag_length': 0, 'is_timeseries': False, 'max_cores_per_iteration': 1, 'max_concurrent_iterations': 1, 'iteration_timeout_minutes': 2, 'mem_in_mb': None, 'enforce_time_on_windows': False, 'experiment_timeout_minutes': 5, 'experiment_exit_score': None, 'whitelist_models': None, 'blacklist_algos': ['XGBoostRegressor', 'Prophet'], 'supported_models': ['TensorFlowLinearRegressor', 'GradientBoosting', 'KNN', 'DecisionTree', 'ExtremeRandomTrees', 'FastLinearRegressor', 'LassoLars', 'SGD', 'RandomForest', 'TensorFlowDNN', 'XGBoostRegressor', 'OnlineGradientDescentRegressor', 'LightGBM', 'ElasticNet'], 'auto_blacklist': True, 'blacklist_samples_reached': False, 'exclude_nan_labels': True, 'verbosity': 20, 'debug_log': 'automl.log', 'show_warnings': False, 'model_explainability': False, 'service_url': None, 'sdk_url': None, 'sdk_packages': None, 'enable_onnx_compatible_models': False, 'enable_split_onnx_featurizer_estimator_models': False, 'vm_type': None, 'telemetry_verbosity': 'INFO', 'send_telemetry': True, 'enable_dnn': False, 'enable_feature_sweeping': True, 'enable_early_stopping': True, 'early_stopping_n_iters': 10, 'metrics': None, 'enable_ensembling': True, 'enable_stack_ensembling': True, 'ensemble_iterations': 15, 'enable_tf': False, 'enable_cache': True, 'enable_subsampling': None, 'subsample_seed': None, 'enable_nimbusml': False, 'enable_streaming': False, 'label_column_name': None, 'weight_column_name': None, 'cost_mode': 0, 'metric_operation': 'maximize'}\", \"AMLSettingsJsonString\": \"{\\\"name\\\":\\\"workshop3\\\",\\\"path\\\":\\\"./sample_projects/workshop3\\\",\\\"subscription_id\\\":\\\"70b8f39e-8863-49f7-b6ba-34a80799550c\\\",\\\"resource_group\\\":\\\"workshopmlRG\\\",\\\"workspace_name\\\":\\\"workshopml\\\",\\\"region\\\":\\\"northeurope\\\",\\\"compute_target\\\":\\\"local\\\",\\\"spark_service\\\":null,\\\"azure_service\\\":null,\\\"iterations\\\":1000,\\\"primary_metric\\\":\\\"spearman_correlation\\\",\\\"task_type\\\":\\\"regression\\\",\\\"data_script\\\":null,\\\"validation_size\\\":0.0,\\\"n_cross_validations\\\":5,\\\"y_min\\\":25.0,\\\"y_max\\\":346.0,\\\"num_classes\\\":null,\\\"featurization\\\":\\\"off\\\",\\\"preprocess\\\":false,\\\"lag_length\\\":0,\\\"is_timeseries\\\":false,\\\"max_cores_per_iteration\\\":1,\\\"max_concurrent_iterations\\\":1,\\\"iteration_timeout_minutes\\\":2,\\\"mem_in_mb\\\":null,\\\"enforce_time_on_windows\\\":false,\\\"experiment_timeout_minutes\\\":5,\\\"experiment_exit_score\\\":null,\\\"whitelist_models\\\":null,\\\"blacklist_algos\\\":[\\\"XGBoostRegressor\\\",\\\"Prophet\\\",\\\"AutoArima\\\"],\\\"supported_models\\\":[\\\"TensorFlowLinearRegressor\\\",\\\"GradientBoosting\\\",\\\"KNN\\\",\\\"DecisionTree\\\",\\\"ExtremeRandomTrees\\\",\\\"FastLinearRegressor\\\",\\\"LassoLars\\\",\\\"SGD\\\",\\\"RandomForest\\\",\\\"TensorFlowDNN\\\",\\\"XGBoostRegressor\\\",\\\"OnlineGradientDescentRegressor\\\",\\\"LightGBM\\\",\\\"ElasticNet\\\"],\\\"auto_blacklist\\\":true,\\\"blacklist_samples_reached\\\":false,\\\"exclude_nan_labels\\\":true,\\\"verbosity\\\":20,\\\"debug_log\\\":\\\"automl.log\\\",\\\"show_warnings\\\":false,\\\"model_explainability\\\":false,\\\"service_url\\\":null,\\\"sdk_url\\\":null,\\\"sdk_packages\\\":null,\\\"enable_onnx_compatible_models\\\":false,\\\"enable_split_onnx_featurizer_estimator_models\\\":false,\\\"vm_type\\\":null,\\\"telemetry_verbosity\\\":\\\"INFO\\\",\\\"send_telemetry\\\":true,\\\"enable_dnn\\\":false,\\\"enable_feature_sweeping\\\":true,\\\"enable_early_stopping\\\":true,\\\"early_stopping_n_iters\\\":10,\\\"metrics\\\":null,\\\"enable_ensembling\\\":true,\\\"enable_stack_ensembling\\\":true,\\\"ensemble_iterations\\\":15,\\\"enable_tf\\\":false,\\\"enable_cache\\\":true,\\\"enable_subsampling\\\":null,\\\"subsample_seed\\\":null,\\\"enable_nimbusml\\\":false,\\\"enable_streaming\\\":false,\\\"label_column_name\\\":null,\\\"weight_column_name\\\":null,\\\"cost_mode\\\":0,\\\"metric_operation\\\":\\\"maximize\\\"}\", \"DataPrepJsonString\": null, \"EnableSubsampling\": null, \"runTemplate\": \"AutoML\", \"azureml.runsource\": \"automl\", \"display_task_type\": \"regression\", \"dependencies_versions\": \"{\\\"azureml-widgets\\\": \\\"1.0.74\\\", \\\"azureml-train\\\": \\\"1.0.74\\\", \\\"azureml-train-restclients-hyperdrive\\\": \\\"1.0.74\\\", \\\"azureml-train-core\\\": \\\"1.0.74\\\", \\\"azureml-train-automl\\\": \\\"1.0.74\\\", \\\"azureml-tensorboard\\\": \\\"1.0.74\\\", \\\"azureml-telemetry\\\": \\\"1.0.74\\\", \\\"azureml-sdk\\\": \\\"1.0.74\\\", \\\"azureml-samples\\\": \\\"0+unknown\\\", \\\"azureml-pipeline\\\": \\\"1.0.74\\\", \\\"azureml-pipeline-steps\\\": \\\"1.0.74\\\", \\\"azureml-pipeline-core\\\": \\\"1.0.74\\\", \\\"azureml-opendatasets\\\": \\\"1.0.74\\\", \\\"azureml-model-management-sdk\\\": \\\"1.0.1b6.post1\\\", \\\"azureml-mlflow\\\": \\\"1.0.74\\\", \\\"azureml-interpret\\\": \\\"1.0.74\\\", \\\"azureml-explain-model\\\": \\\"1.0.74\\\", \\\"azureml-defaults\\\": \\\"1.0.74\\\", \\\"azureml-dataprep\\\": \\\"1.1.30\\\", \\\"azureml-dataprep-native\\\": \\\"13.1.0\\\", \\\"azureml-datadrift\\\": \\\"1.0.74\\\", \\\"azureml-core\\\": \\\"1.0.74\\\", \\\"azureml-contrib-services\\\": \\\"1.0.74\\\", \\\"azureml-contrib-server\\\": \\\"1.0.74\\\", \\\"azureml-contrib-reinforcementlearning\\\": \\\"0.1.0.5919674\\\", \\\"azureml-contrib-opendatasets\\\": \\\"1.0.45\\\", \\\"azureml-contrib-notebook\\\": \\\"1.0.74\\\", \\\"azureml-contrib-interpret\\\": \\\"1.0.74\\\", \\\"azureml-contrib-datadrift\\\": \\\"1.0.74\\\", \\\"azureml-automl-core\\\": \\\"1.0.74\\\"}\", \"ProblemInfoJsonString\": \"{\\\"dataset_num_categorical\\\": 0, \\\"is_sparse\\\": false, \\\"subsampling\\\": false, \\\"dataset_classes\\\": 194, \\\"dataset_features\\\": 10, \\\"dataset_samples\\\": 353, \\\"single_frequency_class_detected\\\": false}\"}, \"tags\": {\"model_explain_run\": \"best_run\", \"experiment_status\": \"ModelSelection\", \"experiment_status_descr\": \"Beginning model selection.\", \"dynamic_whitelisting_iterations\": \"<20>;\"}, \"end_time_utc\": \"2019-11-22T10:12:03.306702Z\", \"status\": \"Completed\", \"log_files\": {}, \"log_groups\": [], \"run_duration\": \"0:05:39\"}, \"child_runs\": [{\"run_id\": \"AutoML_a4cf0cb0-e35c-4907-ae54-b5ee3d7f8137_0\", \"run_number\": 216, \"metric\": null, \"status\": \"Completed\", \"run_type\": null, \"training_percent\": \"100\", \"start_time\": \"2019-11-22T10:06:25.447191Z\", \"end_time\": \"2019-11-22T10:06:37.092596Z\", \"created_time\": \"2019-11-22T10:06:25.315849Z\", \"created_time_dt\": \"2019-11-22T10:06:25.315849Z\", \"duration\": \"0:00:11\", \"iteration\": \"0\", \"goal\": \"spearman_correlation_max\", \"run_name\": \"StandardScalerWrapper, RandomForest\", \"run_properties\": \"bootstrap=False, criterion='mse', max_depth=None,\\n           max_features='sqrt', max_leaf_nodes=None,\\n           min_impurity_decrease=0.0, min_impurity_split=None,\\n           min_samples_leaf=0.05040306135985514,\\n           min_samples_split=0.002602463309528381,\\n           min_weight_fraction_leaf=0.0, n_estimators=25, n_jobs=1,\\n           oob_score=False, random_state=None, verbose=0, warm_start=False\", \"primary_metric\": 0.70000102, \"best_metric\": 0.70000102}, {\"run_id\": \"AutoML_a4cf0cb0-e35c-4907-ae54-b5ee3d7f8137_1\", \"run_number\": 217, \"metric\": null, \"status\": \"Completed\", \"run_type\": null, \"training_percent\": \"100\", \"start_time\": \"2019-11-22T10:06:38.180009Z\", \"end_time\": \"2019-11-22T10:06:50.161515Z\", \"created_time\": \"2019-11-22T10:06:38.069679Z\", \"created_time_dt\": \"2019-11-22T10:06:38.069679Z\", \"duration\": \"0:00:12\", \"iteration\": \"1\", \"goal\": \"spearman_correlation_max\", \"run_name\": \"MinMaxScaler, RandomForest\", \"run_properties\": \"bootstrap=True, criterion='mse', max_depth=None,\\n           max_features=0.9, max_leaf_nodes=None,\\n           min_impurity_decrease=0.0, min_impurity_split=None,\\n           min_samples_leaf=0.006151578686713196,\\n           min_samples_split=0.010734188827013528,\\n           min_weight_fraction_leaf=0.0, n_estimators=25, n_jobs=1,\\n           oob_score=False, random_state=None, verbose=0, warm_start=False\", \"primary_metric\": 0.68047158, \"best_metric\": 0.70000102}, {\"run_id\": \"AutoML_a4cf0cb0-e35c-4907-ae54-b5ee3d7f8137_2\", \"run_number\": 218, \"metric\": null, \"status\": \"Completed\", \"run_type\": null, \"training_percent\": \"100\", \"start_time\": \"2019-11-22T10:06:51.302991Z\", \"end_time\": \"2019-11-22T10:07:02.869539Z\", \"created_time\": \"2019-11-22T10:06:51.190714Z\", \"created_time_dt\": \"2019-11-22T10:06:51.190714Z\", \"duration\": \"0:00:11\", \"iteration\": \"2\", \"goal\": \"spearman_correlation_max\", \"run_name\": \"StandardScalerWrapper, ExtremeRandomTrees\", \"run_properties\": \"bootstrap=True, criterion='mse', max_depth=None,\\n          max_features=0.9, max_leaf_nodes=None, min_impurity_decrease=0.0,\\n          min_impurity_split=None, min_samples_leaf=0.0023646822772690063,\\n          min_samples_split=0.052853885930792446,\\n          min_weight_fraction_leaf=0.0, n_estimators=10, n_jobs=1,\\n          oob_score=False, random_state=None, verbose=0, warm_start=False\", \"primary_metric\": 0.68462351, \"best_metric\": 0.70000102}, {\"run_id\": \"AutoML_a4cf0cb0-e35c-4907-ae54-b5ee3d7f8137_3\", \"run_number\": 219, \"metric\": null, \"status\": \"Completed\", \"run_type\": null, \"training_percent\": \"100\", \"start_time\": \"2019-11-22T10:07:04.060506Z\", \"end_time\": \"2019-11-22T10:07:23.232165Z\", \"created_time\": \"2019-11-22T10:07:03.96423Z\", \"created_time_dt\": \"2019-11-22T10:07:03.96423Z\", \"duration\": \"0:00:19\", \"iteration\": \"3\", \"goal\": \"spearman_correlation_max\", \"run_name\": \"StandardScalerWrapper, LightGBM\", \"run_properties\": \"boosting_type='gbdt', class_weight=None, colsample_bytree=1,\\n         importance_type='split', learning_rate=0.12631947368421054,\\n         max_bin=63, max_depth=5, min_child_samples=11,\\n         min_child_weight=0.001, min_split_gain=0.8421052631578947,\\n         n_estimators=25, n_jobs=1, num_leaves=3, objective=None,\\n         random_state=None, reg_alpha=0.3, reg_lambda=0.15, silent=True,\\n         subsample=0.9, subsample_for_bin=200000, subsample_freq=3,\\n         verbose=-1\", \"primary_metric\": 0.68306368, \"best_metric\": 0.70000102}, {\"run_id\": \"AutoML_a4cf0cb0-e35c-4907-ae54-b5ee3d7f8137_4\", \"run_number\": 220, \"metric\": null, \"status\": \"Completed\", \"run_type\": null, \"training_percent\": \"100\", \"start_time\": \"2019-11-22T10:07:24.476146Z\", \"end_time\": \"2019-11-22T10:07:35.345732Z\", \"created_time\": \"2019-11-22T10:07:24.2823Z\", \"created_time_dt\": \"2019-11-22T10:07:24.2823Z\", \"duration\": \"0:00:11\", \"iteration\": \"4\", \"goal\": \"spearman_correlation_max\", \"run_name\": \"RobustScaler, DecisionTree\", \"run_properties\": \"criterion='mse', max_depth=None, max_features=None,\\n           max_leaf_nodes=None, min_impurity_decrease=0.0,\\n           min_impurity_split=None, min_samples_leaf=0.0030712916328495916,\\n           min_samples_split=0.0037087774117744725,\\n           min_weight_fraction_leaf=0.0, presort=False, random_state=None,\\n           splitter='best'\", \"primary_metric\": 0.46347707, \"best_metric\": 0.70000102}, {\"run_id\": \"AutoML_a4cf0cb0-e35c-4907-ae54-b5ee3d7f8137_5\", \"run_number\": 221, \"metric\": null, \"status\": \"Completed\", \"run_type\": null, \"training_percent\": \"100\", \"start_time\": \"2019-11-22T10:07:36.522576Z\", \"end_time\": \"2019-11-22T10:07:47.395397Z\", \"created_time\": \"2019-11-22T10:07:36.383985Z\", \"created_time_dt\": \"2019-11-22T10:07:36.383985Z\", \"duration\": \"0:00:11\", \"iteration\": \"5\", \"goal\": \"spearman_correlation_max\", \"run_name\": \"StandardScalerWrapper, LassoLars\", \"run_properties\": \"alpha=0.001, copy_X=True, eps=2.220446049250313e-16,\\n     fit_intercept=True, fit_path=True, max_iter=500, normalize=True,\\n     positive=False, precompute='auto', verbose=False\", \"primary_metric\": 0.71762326, \"best_metric\": 0.71762326}, {\"run_id\": \"AutoML_a4cf0cb0-e35c-4907-ae54-b5ee3d7f8137_6\", \"run_number\": 222, \"metric\": null, \"status\": \"Completed\", \"run_type\": null, \"training_percent\": \"100\", \"start_time\": \"2019-11-22T10:07:48.684776Z\", \"end_time\": \"2019-11-22T10:08:00.651695Z\", \"created_time\": \"2019-11-22T10:07:48.575921Z\", \"created_time_dt\": \"2019-11-22T10:07:48.575921Z\", \"duration\": \"0:00:12\", \"iteration\": \"6\", \"goal\": \"spearman_correlation_max\", \"run_name\": \"StandardScalerWrapper, LightGBM\", \"run_properties\": \"boosting_type='gbdt', class_weight=None, colsample_bytree=1,\\n         importance_type='split', learning_rate=0.1052678947368421,\\n         max_bin=7, max_depth=7, min_child_samples=1,\\n         min_child_weight=0.001, min_split_gain=0.7368421052631579,\\n         n_estimators=50, n_jobs=1, num_leaves=31, objective=None,\\n         random_state=None, reg_alpha=0, reg_lambda=1.5, silent=True,\\n         subsample=0.65, subsample_for_bin=200000, subsample_freq=1,\\n         verbose=-1\", \"primary_metric\": 0.6774315, \"best_metric\": 0.71762326}, {\"run_id\": \"AutoML_a4cf0cb0-e35c-4907-ae54-b5ee3d7f8137_7\", \"run_number\": 223, \"metric\": null, \"status\": \"Completed\", \"run_type\": null, \"training_percent\": \"100\", \"start_time\": \"2019-11-22T10:08:01.96395Z\", \"end_time\": \"2019-11-22T10:08:13.982915Z\", \"created_time\": \"2019-11-22T10:08:01.836507Z\", \"created_time_dt\": \"2019-11-22T10:08:01.836507Z\", \"duration\": \"0:00:12\", \"iteration\": \"7\", \"goal\": \"spearman_correlation_max\", \"run_name\": \"StandardScalerWrapper, RandomForest\", \"run_properties\": \"bootstrap=False, criterion='mse', max_depth=None,\\n           max_features='sqrt', max_leaf_nodes=None,\\n           min_impurity_decrease=0.0, min_impurity_split=None,\\n           min_samples_leaf=0.02840067375118317,\\n           min_samples_split=0.0008991789964660114,\\n           min_weight_fraction_leaf=0.0, n_estimators=25, n_jobs=1,\\n           oob_score=False, random_state=None, verbose=0, warm_start=False\", \"primary_metric\": 0.69415708, \"best_metric\": 0.71762326}, {\"run_id\": \"AutoML_a4cf0cb0-e35c-4907-ae54-b5ee3d7f8137_8\", \"run_number\": 224, \"metric\": null, \"status\": \"Completed\", \"run_type\": null, \"training_percent\": \"100\", \"start_time\": \"2019-11-22T10:08:15.221764Z\", \"end_time\": \"2019-11-22T10:08:26.948559Z\", \"created_time\": \"2019-11-22T10:08:15.051838Z\", \"created_time_dt\": \"2019-11-22T10:08:15.051838Z\", \"duration\": \"0:00:11\", \"iteration\": \"8\", \"goal\": \"spearman_correlation_max\", \"run_name\": \"StandardScalerWrapper, LassoLars\", \"run_properties\": \"alpha=0.001, copy_X=True, eps=2.220446049250313e-16,\\n     fit_intercept=True, fit_path=True, max_iter=500, normalize=False,\\n     positive=False, precompute='auto', verbose=False\", \"primary_metric\": 0.71789607, \"best_metric\": 0.71789607}, {\"run_id\": \"AutoML_a4cf0cb0-e35c-4907-ae54-b5ee3d7f8137_9\", \"run_number\": 225, \"metric\": null, \"status\": \"Completed\", \"run_type\": null, \"training_percent\": \"100\", \"start_time\": \"2019-11-22T10:08:28.104915Z\", \"end_time\": \"2019-11-22T10:08:39.22518Z\", \"created_time\": \"2019-11-22T10:08:27.9453Z\", \"created_time_dt\": \"2019-11-22T10:08:27.9453Z\", \"duration\": \"0:00:11\", \"iteration\": \"9\", \"goal\": \"spearman_correlation_max\", \"run_name\": \"MinMaxScaler, ExtremeRandomTrees\", \"run_properties\": \"bootstrap=False, criterion='mse', max_depth=None,\\n          max_features=0.6, max_leaf_nodes=None, min_impurity_decrease=0.0,\\n          min_impurity_split=None, min_samples_leaf=0.003466237459044996,\\n          min_samples_split=0.0008991789964660114,\\n          min_weight_fraction_leaf=0.0, n_estimators=10, n_jobs=1,\\n          oob_score=False, random_state=None, verbose=0, warm_start=False\", \"primary_metric\": 0.66700726, \"best_metric\": 0.71789607}, {\"run_id\": \"AutoML_a4cf0cb0-e35c-4907-ae54-b5ee3d7f8137_10\", \"run_number\": 226, \"metric\": null, \"status\": \"Completed\", \"run_type\": null, \"training_percent\": \"100\", \"start_time\": \"2019-11-22T10:08:40.297448Z\", \"end_time\": \"2019-11-22T10:08:52.402687Z\", \"created_time\": \"2019-11-22T10:08:40.175151Z\", \"created_time_dt\": \"2019-11-22T10:08:40.175151Z\", \"duration\": \"0:00:12\", \"iteration\": \"10\", \"goal\": \"spearman_correlation_max\", \"run_name\": \"RobustScaler, ExtremeRandomTrees\", \"run_properties\": \"bootstrap=False, criterion='mse', max_depth=None,\\n          max_features=0.9, max_leaf_nodes=None, min_impurity_decrease=0.0,\\n          min_impurity_split=None, min_samples_leaf=0.0074478228980205795,\\n          min_samples_split=0.001529732116091358,\\n          min_weight_fraction_leaf=0.0, n_estimators=50, n_jobs=1,\\n          oob_score=False, random_state=None, verbose=0, warm_start=False\", \"primary_metric\": 0.70753937, \"best_metric\": 0.71789607}, {\"run_id\": \"AutoML_a4cf0cb0-e35c-4907-ae54-b5ee3d7f8137_11\", \"run_number\": 227, \"metric\": null, \"status\": \"Completed\", \"run_type\": null, \"training_percent\": \"100\", \"start_time\": \"2019-11-22T10:08:53.553828Z\", \"end_time\": \"2019-11-22T10:09:05.060761Z\", \"created_time\": \"2019-11-22T10:08:53.451687Z\", \"created_time_dt\": \"2019-11-22T10:08:53.451687Z\", \"duration\": \"0:00:11\", \"iteration\": \"11\", \"goal\": \"spearman_correlation_max\", \"run_name\": \"StandardScalerWrapper, ExtremeRandomTrees\", \"run_properties\": \"bootstrap=False, criterion='mse', max_depth=None,\\n          max_features=0.6, max_leaf_nodes=None, min_impurity_decrease=0.0,\\n          min_impurity_split=None, min_samples_leaf=0.006151578686713196,\\n          min_samples_split=0.03708777411774474,\\n          min_weight_fraction_leaf=0.0, n_estimators=10, n_jobs=1,\\n          oob_score=False, random_state=None, verbose=0, warm_start=False\", \"primary_metric\": 0.69348051, \"best_metric\": 0.71789607}, {\"run_id\": \"AutoML_a4cf0cb0-e35c-4907-ae54-b5ee3d7f8137_12\", \"run_number\": 228, \"metric\": null, \"status\": \"Completed\", \"run_type\": null, \"training_percent\": \"100\", \"start_time\": \"2019-11-22T10:09:06.646805Z\", \"end_time\": \"2019-11-22T10:09:18.393298Z\", \"created_time\": \"2019-11-22T10:09:06.535907Z\", \"created_time_dt\": \"2019-11-22T10:09:06.535907Z\", \"duration\": \"0:00:11\", \"iteration\": \"12\", \"goal\": \"spearman_correlation_max\", \"run_name\": \"MinMaxScaler, ExtremeRandomTrees\", \"run_properties\": \"bootstrap=False, criterion='mse', max_depth=None,\\n          max_features=0.9, max_leaf_nodes=None, min_impurity_decrease=0.0,\\n          min_impurity_split=None, min_samples_leaf=0.01600296187889058,\\n          min_samples_split=0.015297321160913582,\\n          min_weight_fraction_leaf=0.0, n_estimators=10, n_jobs=1,\\n          oob_score=False, random_state=None, verbose=0, warm_start=False\", \"primary_metric\": 0.69827292, \"best_metric\": 0.71789607}, {\"run_id\": \"AutoML_a4cf0cb0-e35c-4907-ae54-b5ee3d7f8137_13\", \"run_number\": 229, \"metric\": null, \"status\": \"Completed\", \"run_type\": null, \"training_percent\": \"100\", \"start_time\": \"2019-11-22T10:09:20.29066Z\", \"end_time\": \"2019-11-22T10:09:32.314256Z\", \"created_time\": \"2019-11-22T10:09:20.174001Z\", \"created_time_dt\": \"2019-11-22T10:09:20.174001Z\", \"duration\": \"0:00:12\", \"iteration\": \"13\", \"goal\": \"spearman_correlation_max\", \"run_name\": \"RobustScaler, RandomForest\", \"run_properties\": \"bootstrap=True, criterion='mse', max_depth=None,\\n           max_features=0.1, max_leaf_nodes=None,\\n           min_impurity_decrease=0.0, min_impurity_split=None,\\n           min_samples_leaf=0.004196633747563344,\\n           min_samples_split=0.001529732116091358,\\n           min_weight_fraction_leaf=0.0, n_estimators=25, n_jobs=1,\\n           oob_score=False, random_state=None, verbose=0, warm_start=False\", \"primary_metric\": 0.69464958, \"best_metric\": 0.71789607}, {\"run_id\": \"AutoML_a4cf0cb0-e35c-4907-ae54-b5ee3d7f8137_14\", \"run_number\": 230, \"metric\": null, \"status\": \"Completed\", \"run_type\": null, \"training_percent\": \"100\", \"start_time\": \"2019-11-22T10:09:34.086289Z\", \"end_time\": \"2019-11-22T10:09:45.92917Z\", \"created_time\": \"2019-11-22T10:09:33.987806Z\", \"created_time_dt\": \"2019-11-22T10:09:33.987806Z\", \"duration\": \"0:00:11\", \"iteration\": \"14\", \"goal\": \"spearman_correlation_max\", \"run_name\": \"StandardScalerWrapper, LassoLars\", \"run_properties\": \"alpha=0.47421052631578947, copy_X=True, eps=2.220446049250313e-16,\\n     fit_intercept=True, fit_path=True, max_iter=500, normalize=False,\\n     positive=False, precompute='auto', verbose=False\", \"primary_metric\": 0.7177189, \"best_metric\": 0.71789607}, {\"run_id\": \"AutoML_a4cf0cb0-e35c-4907-ae54-b5ee3d7f8137_15\", \"run_number\": 231, \"metric\": null, \"status\": \"Completed\", \"run_type\": null, \"training_percent\": \"100\", \"start_time\": \"2019-11-22T10:09:47.095605Z\", \"end_time\": \"2019-11-22T10:09:59.592887Z\", \"created_time\": \"2019-11-22T10:09:46.978426Z\", \"created_time_dt\": \"2019-11-22T10:09:46.978426Z\", \"duration\": \"0:00:12\", \"iteration\": \"15\", \"goal\": \"spearman_correlation_max\", \"run_name\": \"StandardScalerWrapper, ExtremeRandomTrees\", \"run_properties\": \"bootstrap=True, criterion='mse', max_depth=None,\\n          max_features='log2', max_leaf_nodes=None,\\n          min_impurity_decrease=0.0, min_impurity_split=None,\\n          min_samples_leaf=0.001953125,\\n          min_samples_split=0.026024633095283807,\\n          min_weight_fraction_leaf=0.0, n_estimators=50, n_jobs=1,\\n          oob_score=False, random_state=None, verbose=0, warm_start=False\", \"primary_metric\": 0.6987077, \"best_metric\": 0.71789607}, {\"run_id\": \"AutoML_a4cf0cb0-e35c-4907-ae54-b5ee3d7f8137_16\", \"run_number\": 232, \"metric\": null, \"status\": \"Completed\", \"run_type\": null, \"training_percent\": \"100\", \"start_time\": \"2019-11-22T10:10:00.820062Z\", \"end_time\": \"2019-11-22T10:10:12.513655Z\", \"created_time\": \"2019-11-22T10:10:00.693885Z\", \"created_time_dt\": \"2019-11-22T10:10:00.693885Z\", \"duration\": \"0:00:11\", \"iteration\": \"16\", \"goal\": \"spearman_correlation_max\", \"run_name\": \"StandardScalerWrapper, RandomForest\", \"run_properties\": \"bootstrap=True, criterion='mse', max_depth=None,\\n           max_features='log2', max_leaf_nodes=None,\\n           min_impurity_decrease=0.0, min_impurity_split=None,\\n           min_samples_leaf=0.006151578686713196,\\n           min_samples_split=0.018261584682702607,\\n           min_weight_fraction_leaf=0.0, n_estimators=25, n_jobs=1,\\n           oob_score=False, random_state=None, verbose=0, warm_start=False\", \"primary_metric\": 0.6914344, \"best_metric\": 0.71789607}, {\"run_id\": \"AutoML_a4cf0cb0-e35c-4907-ae54-b5ee3d7f8137_17\", \"run_number\": 233, \"metric\": null, \"status\": \"Completed\", \"run_type\": null, \"training_percent\": \"100\", \"start_time\": \"2019-11-22T10:10:13.713538Z\", \"end_time\": \"2019-11-22T10:10:25.737195Z\", \"created_time\": \"2019-11-22T10:10:13.558167Z\", \"created_time_dt\": \"2019-11-22T10:10:13.558167Z\", \"duration\": \"0:00:12\", \"iteration\": \"17\", \"goal\": \"spearman_correlation_max\", \"run_name\": \"MinMaxScaler, SGD\", \"run_properties\": \"alpha=0.0001, average=False, early_stopping=False, epsilon=0.1,\\n       eta0=0.001, fit_intercept=False, l1_ratio=0.5714285714285714,\\n       learning_rate='constant', loss='squared_epsilon_insensitive',\\n       max_iter=None, n_iter=50, n_iter_no_change=5, penalty='none',\\n       power_t=0.3333333333333333, random_state=None, shuffle=True,\\n       tol=0.001, validation_fraction=0.1, verbose=0, warm_start=False\", \"primary_metric\": 0.69306334, \"best_metric\": 0.71789607}, {\"run_id\": \"AutoML_a4cf0cb0-e35c-4907-ae54-b5ee3d7f8137_18\", \"run_number\": 234, \"metric\": null, \"status\": \"Completed\", \"run_type\": null, \"training_percent\": \"100\", \"start_time\": \"2019-11-22T10:10:27.634917Z\", \"end_time\": \"2019-11-22T10:10:40.389866Z\", \"created_time\": \"2019-11-22T10:10:27.423549Z\", \"created_time_dt\": \"2019-11-22T10:10:27.423549Z\", \"duration\": \"0:00:12\", \"iteration\": \"18\", \"goal\": \"spearman_correlation_max\", \"run_name\": \"StandardScalerWrapper, RandomForest\", \"run_properties\": \"bootstrap=True, criterion='mse', max_depth=None,\\n           max_features=0.6, max_leaf_nodes=None,\\n           min_impurity_decrease=0.0, min_impurity_split=None,\\n           min_samples_leaf=0.0074478228980205795,\\n           min_samples_split=0.0018261584682702607,\\n           min_weight_fraction_leaf=0.0, n_estimators=10, n_jobs=1,\\n           oob_score=False, random_state=None, verbose=0, warm_start=False\", \"primary_metric\": 0.66047708, \"best_metric\": 0.71789607}, {\"run_id\": \"AutoML_a4cf0cb0-e35c-4907-ae54-b5ee3d7f8137_19\", \"run_number\": 235, \"metric\": null, \"status\": \"Completed\", \"run_type\": null, \"training_percent\": \"100\", \"start_time\": \"2019-11-22T10:10:41.555177Z\", \"end_time\": \"2019-11-22T10:10:53.178866Z\", \"created_time\": \"2019-11-22T10:10:41.461279Z\", \"created_time_dt\": \"2019-11-22T10:10:41.461279Z\", \"duration\": \"0:00:11\", \"iteration\": \"19\", \"goal\": \"spearman_correlation_max\", \"run_name\": \"MinMaxScaler, RandomForest\", \"run_properties\": \"bootstrap=True, criterion='mse', max_depth=None,\\n           max_features='log2', max_leaf_nodes=None,\\n           min_impurity_decrease=0.0, min_impurity_split=None,\\n           min_samples_leaf=0.01600296187889058,\\n           min_samples_split=0.15297321160913582,\\n           min_weight_fraction_leaf=0.0, n_estimators=25, n_jobs=1,\\n           oob_score=False, random_state=None, verbose=0, warm_start=False\", \"primary_metric\": 0.69848193, \"best_metric\": 0.71789607}, {\"run_id\": \"AutoML_a4cf0cb0-e35c-4907-ae54-b5ee3d7f8137_20\", \"run_number\": 236, \"metric\": null, \"status\": \"Completed\", \"run_type\": null, \"training_percent\": \"100\", \"start_time\": \"2019-11-22T10:10:55.981348Z\", \"end_time\": \"2019-11-22T10:11:08.165649Z\", \"created_time\": \"2019-11-22T10:10:55.870639Z\", \"created_time_dt\": \"2019-11-22T10:10:55.870639Z\", \"duration\": \"0:00:12\", \"iteration\": \"20\", \"goal\": \"spearman_correlation_max\", \"run_name\": \"PCA, LassoLars\", \"run_properties\": \"alpha=0.001, copy_X=True, eps=2.220446049250313e-16,\\n     fit_intercept=True, fit_path=True, max_iter=500, normalize=False,\\n     positive=False, precompute='auto', verbose=False\", \"primary_metric\": 0.57209877, \"best_metric\": 0.71789607}, {\"run_id\": \"AutoML_a4cf0cb0-e35c-4907-ae54-b5ee3d7f8137_21\", \"run_number\": 237, \"metric\": null, \"status\": \"Completed\", \"run_type\": null, \"training_percent\": \"100\", \"start_time\": \"2019-11-22T10:11:11.024338Z\", \"end_time\": \"2019-11-22T10:11:23.36453Z\", \"created_time\": \"2019-11-22T10:11:10.902797Z\", \"created_time_dt\": \"2019-11-22T10:11:10.902797Z\", \"duration\": \"0:00:12\", \"iteration\": \"21\", \"goal\": \"spearman_correlation_max\", \"run_name\": \"RobustScaler, LightGBM\", \"run_properties\": \"boosting_type='gbdt', class_weight=None,\\n         colsample_bytree=0.8, importance_type='split',\\n         learning_rate=0.11579368421052631, max_bin=1023, max_depth=7,\\n         min_child_samples=15, min_child_weight=0.001, min_split_gain=1,\\n         n_estimators=50, n_jobs=1, num_leaves=63, objective=None,\\n         random_state=None, reg_alpha=0.975, reg_lambda=0.525, silent=True,\\n         subsample=1, subsample_for_bin=200000, subsample_freq=1,\\n         verbose=-1\", \"primary_metric\": 0.6717355, \"best_metric\": 0.71789607}, {\"run_id\": \"AutoML_a4cf0cb0-e35c-4907-ae54-b5ee3d7f8137_22\", \"run_number\": 238, \"metric\": null, \"status\": \"Failed\", \"run_type\": null, \"training_percent\": \"100\", \"start_time\": \"2019-11-22T10:11:25.5765Z\", \"end_time\": \"2019-11-22T10:11:26.16816Z\", \"created_time\": \"2019-11-22T10:11:25.457843Z\", \"created_time_dt\": \"2019-11-22T10:11:25.457843Z\", \"duration\": \"0:00:00\", \"iteration\": \"22\", \"goal\": \"spearman_correlation_max\", \"run_name\": \"Failed\", \"run_properties\": \"\"}, {\"run_id\": \"AutoML_a4cf0cb0-e35c-4907-ae54-b5ee3d7f8137_23\", \"run_number\": 239, \"metric\": null, \"status\": \"Completed\", \"run_type\": null, \"training_percent\": \"100\", \"start_time\": \"2019-11-22T10:11:27.071385Z\", \"end_time\": \"2019-11-22T10:11:44.390043Z\", \"created_time\": \"2019-11-22T10:11:26.974155Z\", \"created_time_dt\": \"2019-11-22T10:11:26.974155Z\", \"duration\": \"0:00:17\", \"iteration\": \"23\", \"goal\": \"spearman_correlation_max\", \"run_name\": \"VotingEnsemble\", \"run_properties\": \"\", \"primary_metric\": 0.73157114, \"best_metric\": 0.73157114}, {\"run_id\": \"AutoML_a4cf0cb0-e35c-4907-ae54-b5ee3d7f8137_24\", \"run_number\": 240, \"metric\": null, \"status\": \"Completed\", \"run_type\": null, \"training_percent\": \"100\", \"start_time\": \"2019-11-22T10:11:45.28487Z\", \"end_time\": \"2019-11-22T10:12:02.610356Z\", \"created_time\": \"2019-11-22T10:11:45.097095Z\", \"created_time_dt\": \"2019-11-22T10:11:45.097095Z\", \"duration\": \"0:00:17\", \"iteration\": \"24\", \"goal\": \"spearman_correlation_max\", \"run_name\": \"StackEnsemble\", \"run_properties\": \"\", \"primary_metric\": 0.72429092, \"best_metric\": 0.73157114}], \"children_metrics\": {\"categories\": [0], \"series\": {\"spearman_correlation\": [{\"categories\": [\"0\", \"1\", \"2\", \"3\", \"4\", \"5\", \"6\", \"7\", \"8\", \"9\", \"10\", \"11\", \"12\", \"13\", \"14\", \"15\", \"16\", \"17\", \"18\", \"19\", \"20\", \"21\", \"23\", \"24\"], \"mode\": \"markers\", \"name\": \"spearman_correlation\", \"stepped\": false, \"type\": \"scatter\", \"data\": [0.700001023476571, 0.6804715819945197, 0.6846235050486936, 0.6830636781822348, 0.4634770739493474, 0.7176232571297562, 0.6774314996972028, 0.6941570797971159, 0.7178960696394084, 0.667007262051072, 0.7075393670578254, 0.6934805069929285, 0.6982729211300076, 0.694649578888143, 0.7177189024618246, 0.698707697297715, 0.691434401597881, 0.6930633430413743, 0.6604770779025921, 0.698481932155004, 0.5720987686697236, 0.6717354962317812, 0.7315711401204108, 0.7242909222537437]}, {\"categories\": [\"0\", \"1\", \"2\", \"3\", \"4\", \"5\", \"6\", \"7\", \"8\", \"9\", \"10\", \"11\", \"12\", \"13\", \"14\", \"15\", \"16\", \"17\", \"18\", \"19\", \"20\", \"21\", \"23\", \"24\"], \"mode\": \"lines\", \"name\": \"spearman_correlation_max\", \"stepped\": true, \"type\": \"scatter\", \"data\": [0.700001023476571, 0.700001023476571, 0.700001023476571, 0.700001023476571, 0.700001023476571, 0.7176232571297562, 0.7176232571297562, 0.7176232571297562, 0.7178960696394084, 0.7178960696394084, 0.7178960696394084, 0.7178960696394084, 0.7178960696394084, 0.7178960696394084, 0.7178960696394084, 0.7178960696394084, 0.7178960696394084, 0.7178960696394084, 0.7178960696394084, 0.7178960696394084, 0.7178960696394084, 0.7178960696394084, 0.7315711401204108, 0.7315711401204108]}], \"mean_absolute_percentage_error\": [{\"categories\": [\"0\", \"1\", \"2\", \"3\", \"4\", \"5\", \"6\", \"7\", \"8\", \"9\", \"10\", \"11\", \"12\", \"13\", \"14\", \"15\", \"16\", \"17\", \"18\", \"19\", \"20\", \"21\", \"23\", \"24\"], \"mode\": \"markers\", \"name\": \"mean_absolute_percentage_error\", \"stepped\": false, \"type\": \"scatter\", \"data\": [41.731604996749795, 40.939864509360596, 42.550414935748, 42.15438054717965, 54.1902064415029, 39.889310203963625, 39.96303455940697, 41.45639984397459, 39.900794459373884, 42.58704498486561, 40.37001565277901, 42.04606976085601, 40.9756974133579, 42.78149585347965, 39.862482003600704, 43.23430287265795, 41.50867227641652, 41.337299670974176, 42.767561542444014, 43.37528805044549, 48.9859981697573, 40.035868546032496, 39.69191749033541, 39.73396351256894]}, {\"categories\": [\"0\", \"1\", \"2\", \"3\", \"4\", \"5\", \"6\", \"7\", \"8\", \"9\", \"10\", \"11\", \"12\", \"13\", \"14\", \"15\", \"16\", \"17\", \"18\", \"19\", \"20\", \"21\", \"23\", \"24\"], \"mode\": \"lines\", \"name\": \"mean_absolute_percentage_error_min\", \"stepped\": true, \"type\": \"scatter\", \"data\": [41.731604996749795, 40.939864509360596, 40.939864509360596, 40.939864509360596, 40.939864509360596, 39.889310203963625, 39.889310203963625, 39.889310203963625, 39.889310203963625, 39.889310203963625, 39.889310203963625, 39.889310203963625, 39.889310203963625, 39.889310203963625, 39.862482003600704, 39.862482003600704, 39.862482003600704, 39.862482003600704, 39.862482003600704, 39.862482003600704, 39.862482003600704, 39.862482003600704, 39.69191749033541, 39.69191749033541]}], \"normalized_median_absolute_error\": [{\"categories\": [\"0\", \"1\", \"2\", \"3\", \"4\", \"5\", \"6\", \"7\", \"8\", \"9\", \"10\", \"11\", \"12\", \"13\", \"14\", \"15\", \"16\", \"17\", \"18\", \"19\", \"20\", \"21\", \"23\", \"24\"], \"mode\": \"markers\", \"name\": \"normalized_median_absolute_error\", \"stepped\": false, \"type\": \"scatter\", \"data\": [0.1355020557019948, 0.12146401621915641, 0.1373088566657298, 0.1267808359968559, 0.1616822429906542, 0.11751054000640766, 0.1237312599304475, 0.13525536712895156, 0.11734035662501321, 0.1296884735202492, 0.12259168768234185, 0.1342065964495871, 0.13478973985516038, 0.1391711171678263, 0.11974261676740139, 0.13346839872505073, 0.1347311252264523, 0.12885248312778902, 0.13916891658013153, 0.13852016783226273, 0.16133166084999828, 0.12528212819381745, 0.12661900861877862, 0.12696460504560897]}, {\"categories\": [\"0\", \"1\", \"2\", \"3\", \"4\", \"5\", \"6\", \"7\", \"8\", \"9\", \"10\", \"11\", \"12\", \"13\", \"14\", \"15\", \"16\", \"17\", \"18\", \"19\", \"20\", \"21\", \"23\", \"24\"], \"mode\": \"lines\", \"name\": \"normalized_median_absolute_error_min\", \"stepped\": true, \"type\": \"scatter\", \"data\": [0.1355020557019948, 0.12146401621915641, 0.12146401621915641, 0.12146401621915641, 0.12146401621915641, 0.11751054000640766, 0.11751054000640766, 0.11751054000640766, 0.11734035662501321, 0.11734035662501321, 0.11734035662501321, 0.11734035662501321, 0.11734035662501321, 0.11734035662501321, 0.11734035662501321, 0.11734035662501321, 0.11734035662501321, 0.11734035662501321, 0.11734035662501321, 0.11734035662501321, 0.11734035662501321, 0.11734035662501321, 0.11734035662501321, 0.11734035662501321]}], \"explained_variance\": [{\"categories\": [\"0\", \"1\", \"2\", \"3\", \"4\", \"5\", \"6\", \"7\", \"8\", \"9\", \"10\", \"11\", \"12\", \"13\", \"14\", \"15\", \"16\", \"17\", \"18\", \"19\", \"20\", \"21\", \"23\", \"24\"], \"mode\": \"markers\", \"name\": \"explained_variance\", \"stepped\": false, \"type\": \"scatter\", \"data\": [0.5073697810560805, 0.49036080887341926, 0.49896574276925554, 0.493652302869406, 0.013613332058390704, 0.5426379546064684, 0.44642647767713833, 0.5009591981520526, 0.5425941918007008, 0.4358810749726314, 0.5164151326115508, 0.49317469377817524, 0.502252698914934, 0.48515656092117654, 0.543058465737219, 0.4960571602973604, 0.4988318969350428, 0.5036194761963776, 0.4597298668542937, 0.48669572605934597, 0.3160160624981906, 0.459279126959531, 0.5472309582946064, 0.5455580295699084]}, {\"categories\": [\"0\", \"1\", \"2\", \"3\", \"4\", \"5\", \"6\", \"7\", \"8\", \"9\", \"10\", \"11\", \"12\", \"13\", \"14\", \"15\", \"16\", \"17\", \"18\", \"19\", \"20\", \"21\", \"23\", \"24\"], \"mode\": \"lines\", \"name\": \"explained_variance_max\", \"stepped\": true, \"type\": \"scatter\", \"data\": [0.5073697810560805, 0.5073697810560805, 0.5073697810560805, 0.5073697810560805, 0.5073697810560805, 0.5426379546064684, 0.5426379546064684, 0.5426379546064684, 0.5426379546064684, 0.5426379546064684, 0.5426379546064684, 0.5426379546064684, 0.5426379546064684, 0.5426379546064684, 0.543058465737219, 0.543058465737219, 0.543058465737219, 0.543058465737219, 0.543058465737219, 0.543058465737219, 0.543058465737219, 0.543058465737219, 0.5472309582946064, 0.5472309582946064]}], \"median_absolute_error\": [{\"categories\": [\"0\", \"1\", \"2\", \"3\", \"4\", \"5\", \"6\", \"7\", \"8\", \"9\", \"10\", \"11\", \"12\", \"13\", \"14\", \"15\", \"16\", \"17\", \"18\", \"19\", \"20\", \"21\", \"23\", \"24\"], \"mode\": \"markers\", \"name\": \"median_absolute_error\", \"stepped\": false, \"type\": \"scatter\", \"data\": [43.49615988034033, 38.98994920634921, 44.07614298969926, 40.69664835499074, 51.9, 37.72088334205685, 39.717734437673656, 43.41697284839345, 37.666254476629234, 41.629999999999995, 39.35193174603173, 43.08031746031746, 43.26750649350648, 44.67392861087224, 38.437379982335855, 42.84335599074128, 43.2486911976912, 41.36164708402027, 44.67322222222223, 44.46497387415634, 51.78746313284945, 40.2155631502154, 40.64470176662794, 40.75563821964048]}, {\"categories\": [\"0\", \"1\", \"2\", \"3\", \"4\", \"5\", \"6\", \"7\", \"8\", \"9\", \"10\", \"11\", \"12\", \"13\", \"14\", \"15\", \"16\", \"17\", \"18\", \"19\", \"20\", \"21\", \"23\", \"24\"], \"mode\": \"lines\", \"name\": \"median_absolute_error_min\", \"stepped\": true, \"type\": \"scatter\", \"data\": [43.49615988034033, 38.98994920634921, 38.98994920634921, 38.98994920634921, 38.98994920634921, 37.72088334205685, 37.72088334205685, 37.72088334205685, 37.666254476629234, 37.666254476629234, 37.666254476629234, 37.666254476629234, 37.666254476629234, 37.666254476629234, 37.666254476629234, 37.666254476629234, 37.666254476629234, 37.666254476629234, 37.666254476629234, 37.666254476629234, 37.666254476629234, 37.666254476629234, 37.666254476629234, 37.666254476629234]}], \"root_mean_squared_log_error\": [{\"categories\": [\"0\", \"1\", \"2\", \"3\", \"4\", \"5\", \"6\", \"7\", \"8\", \"9\", \"10\", \"11\", \"12\", \"13\", \"14\", \"15\", \"16\", \"17\", \"18\", \"19\", \"20\", \"21\", \"23\", \"24\"], \"mode\": \"markers\", \"name\": \"root_mean_squared_log_error\", \"stepped\": false, \"type\": \"scatter\", \"data\": [0.43040822646770616, 0.43305093876347883, 0.4366868618926735, 0.4353292743508647, 0.5932597928681094, 0.42453564773390884, 0.4351259446307446, 0.43007290920230734, 0.4249708006920848, 0.44762292796373854, 0.4249355814635109, 0.42988298184736473, 0.42726585587526617, 0.43416246841668393, 0.4211954930638949, 0.437489895599611, 0.429780968980067, 0.43577501699447907, 0.44484821628129734, 0.4365213774086286, 0.48826238893566226, 0.4417806766898785, 0.41396576586535305, 0.4179490950595392]}, {\"categories\": [\"0\", \"1\", \"2\", \"3\", \"4\", \"5\", \"6\", \"7\", \"8\", \"9\", \"10\", \"11\", \"12\", \"13\", \"14\", \"15\", \"16\", \"17\", \"18\", \"19\", \"20\", \"21\", \"23\", \"24\"], \"mode\": \"lines\", \"name\": \"root_mean_squared_log_error_min\", \"stepped\": true, \"type\": \"scatter\", \"data\": [0.43040822646770616, 0.43040822646770616, 0.43040822646770616, 0.43040822646770616, 0.43040822646770616, 0.42453564773390884, 0.42453564773390884, 0.42453564773390884, 0.42453564773390884, 0.42453564773390884, 0.42453564773390884, 0.42453564773390884, 0.42453564773390884, 0.42453564773390884, 0.4211954930638949, 0.4211954930638949, 0.4211954930638949, 0.4211954930638949, 0.4211954930638949, 0.4211954930638949, 0.4211954930638949, 0.4211954930638949, 0.41396576586535305, 0.41396576586535305]}], \"r2_score\": [{\"categories\": [\"0\", \"1\", \"2\", \"3\", \"4\", \"5\", \"6\", \"7\", \"8\", \"9\", \"10\", \"11\", \"12\", \"13\", \"14\", \"15\", \"16\", \"17\", \"18\", \"19\", \"20\", \"21\", \"23\", \"24\"], \"mode\": \"markers\", \"name\": \"r2_score\", \"stepped\": false, \"type\": \"scatter\", \"data\": [0.4869648315011309, 0.4715870261199818, 0.4836075357815318, 0.46970483524460854, -0.022139069146340784, 0.5239837867384407, 0.4285400880219977, 0.4813916270076481, 0.5240846272619606, 0.41417816497704896, 0.4958379756763138, 0.4753361264077003, 0.48410699404421315, 0.46906183231367854, 0.5231140781361738, 0.47934614976413475, 0.48078491793727307, 0.4890664486319672, 0.43363419959805294, 0.470584405366961, 0.30420225837250825, 0.4402510479162708, 0.5294616612026847, 0.5177402159553041]}, {\"categories\": [\"0\", \"1\", \"2\", \"3\", \"4\", \"5\", \"6\", \"7\", \"8\", \"9\", \"10\", \"11\", \"12\", \"13\", \"14\", \"15\", \"16\", \"17\", \"18\", \"19\", \"20\", \"21\", \"23\", \"24\"], \"mode\": \"lines\", \"name\": \"r2_score_max\", \"stepped\": true, \"type\": \"scatter\", \"data\": [0.4869648315011309, 0.4869648315011309, 0.4869648315011309, 0.4869648315011309, 0.4869648315011309, 0.5239837867384407, 0.5239837867384407, 0.5239837867384407, 0.5240846272619606, 0.5240846272619606, 0.5240846272619606, 0.5240846272619606, 0.5240846272619606, 0.5240846272619606, 0.5240846272619606, 0.5240846272619606, 0.5240846272619606, 0.5240846272619606, 0.5240846272619606, 0.5240846272619606, 0.5240846272619606, 0.5240846272619606, 0.5294616612026847, 0.5294616612026847]}], \"root_mean_squared_error\": [{\"categories\": [\"0\", \"1\", \"2\", \"3\", \"4\", \"5\", \"6\", \"7\", \"8\", \"9\", \"10\", \"11\", \"12\", \"13\", \"14\", \"15\", \"16\", \"17\", \"18\", \"19\", \"20\", \"21\", \"23\", \"24\"], \"mode\": \"markers\", \"name\": \"root_mean_squared_error\", \"stepped\": false, \"type\": \"scatter\", \"data\": [55.37933147162907, 56.198773164802354, 55.56638148327662, 56.21894333944429, 78.13674661704968, 53.30774625913799, 58.354464868731746, 55.63157205535348, 53.30311523937557, 59.25661552580673, 54.85930251660685, 55.9527468428456, 55.53765735231195, 56.43014305326703, 53.34864528217948, 55.81118466914355, 55.683304732329894, 55.228949830287526, 58.06379144228314, 56.27616477385324, 64.5595186317935, 57.81484690270636, 53.03662315718174, 53.665155795200846]}, {\"categories\": [\"0\", \"1\", \"2\", \"3\", \"4\", \"5\", \"6\", \"7\", \"8\", \"9\", \"10\", \"11\", \"12\", \"13\", \"14\", \"15\", \"16\", \"17\", \"18\", \"19\", \"20\", \"21\", \"23\", \"24\"], \"mode\": \"lines\", \"name\": \"root_mean_squared_error_min\", \"stepped\": true, \"type\": \"scatter\", \"data\": [55.37933147162907, 55.37933147162907, 55.37933147162907, 55.37933147162907, 55.37933147162907, 53.30774625913799, 53.30774625913799, 53.30774625913799, 53.30311523937557, 53.30311523937557, 53.30311523937557, 53.30311523937557, 53.30311523937557, 53.30311523937557, 53.30311523937557, 53.30311523937557, 53.30311523937557, 53.30311523937557, 53.30311523937557, 53.30311523937557, 53.30311523937557, 53.30311523937557, 53.03662315718174, 53.03662315718174]}], \"mean_absolute_error\": [{\"categories\": [\"0\", \"1\", \"2\", \"3\", \"4\", \"5\", \"6\", \"7\", \"8\", \"9\", \"10\", \"11\", \"12\", \"13\", \"14\", \"15\", \"16\", \"17\", \"18\", \"19\", \"20\", \"21\", \"23\", \"24\"], \"mode\": \"markers\", \"name\": \"mean_absolute_error\", \"stepped\": false, \"type\": \"scatter\", \"data\": [45.97511481261678, 45.96961438355966, 46.17966771663925, 46.26537926801358, 62.366036217303815, 43.64269151688223, 46.07377506461595, 46.04816577767024, 43.64317641015494, 47.63951307847082, 45.009240416186394, 46.95077861599613, 45.754422430463094, 47.30323249617255, 43.75971153431499, 46.649195699494534, 46.16778867299031, 45.97434345009481, 47.632484100897976, 47.447741178625265, 54.01380579254936, 45.65896184560079, 43.80913973219472, 44.09980563157002]}, {\"categories\": [\"0\", \"1\", \"2\", \"3\", \"4\", \"5\", \"6\", \"7\", \"8\", \"9\", \"10\", \"11\", \"12\", \"13\", \"14\", \"15\", \"16\", \"17\", \"18\", \"19\", \"20\", \"21\", \"23\", \"24\"], \"mode\": \"lines\", \"name\": \"mean_absolute_error_min\", \"stepped\": true, \"type\": \"scatter\", \"data\": [45.97511481261678, 45.96961438355966, 45.96961438355966, 45.96961438355966, 45.96961438355966, 43.64269151688223, 43.64269151688223, 43.64269151688223, 43.64269151688223, 43.64269151688223, 43.64269151688223, 43.64269151688223, 43.64269151688223, 43.64269151688223, 43.64269151688223, 43.64269151688223, 43.64269151688223, 43.64269151688223, 43.64269151688223, 43.64269151688223, 43.64269151688223, 43.64269151688223, 43.64269151688223, 43.64269151688223]}], \"normalized_mean_absolute_error\": [{\"categories\": [\"0\", \"1\", \"2\", \"3\", \"4\", \"5\", \"6\", \"7\", \"8\", \"9\", \"10\", \"11\", \"12\", \"13\", \"14\", \"15\", \"16\", \"17\", \"18\", \"19\", \"20\", \"21\", \"23\", \"24\"], \"mode\": \"markers\", \"name\": \"normalized_mean_absolute_error\", \"stepped\": false, \"type\": \"scatter\", \"data\": [0.1432246567371239, 0.14320752144411109, 0.1438618931982531, 0.14412890737698936, 0.19428671718786236, 0.13595854055103498, 0.14353200954709017, 0.14345222983697897, 0.135960051121978, 0.14840969806377205, 0.14021570223111027, 0.14626410783799415, 0.1425371415279224, 0.14736209500365277, 0.136323088891947, 0.145324597194687, 0.14382488683174552, 0.14322225373861314, 0.14838780093737686, 0.14781227781503195, 0.16826730776495127, 0.14223975652835136, 0.136477070816806, 0.13738257206096577]}, {\"categories\": [\"0\", \"1\", \"2\", \"3\", \"4\", \"5\", \"6\", \"7\", \"8\", \"9\", \"10\", \"11\", \"12\", \"13\", \"14\", \"15\", \"16\", \"17\", \"18\", \"19\", \"20\", \"21\", \"23\", \"24\"], \"mode\": \"lines\", \"name\": \"normalized_mean_absolute_error_min\", \"stepped\": true, \"type\": \"scatter\", \"data\": [0.1432246567371239, 0.14320752144411109, 0.14320752144411109, 0.14320752144411109, 0.14320752144411109, 0.13595854055103498, 0.13595854055103498, 0.13595854055103498, 0.13595854055103498, 0.13595854055103498, 0.13595854055103498, 0.13595854055103498, 0.13595854055103498, 0.13595854055103498, 0.13595854055103498, 0.13595854055103498, 0.13595854055103498, 0.13595854055103498, 0.13595854055103498, 0.13595854055103498, 0.13595854055103498, 0.13595854055103498, 0.13595854055103498, 0.13595854055103498]}], \"normalized_root_mean_squared_error\": [{\"categories\": [\"0\", \"1\", \"2\", \"3\", \"4\", \"5\", \"6\", \"7\", \"8\", \"9\", \"10\", \"11\", \"12\", \"13\", \"14\", \"15\", \"16\", \"17\", \"18\", \"19\", \"20\", \"21\", \"23\", \"24\"], \"mode\": \"markers\", \"name\": \"normalized_root_mean_squared_error\", \"stepped\": false, \"type\": \"scatter\", \"data\": [0.17252128184308127, 0.17507405970343412, 0.17310399215974026, 0.1751368951384557, 0.24341665612788063, 0.16606774535557003, 0.18178961018296494, 0.17330707805406065, 0.16605331850272761, 0.18460004836699917, 0.17090125394581576, 0.17430762256338198, 0.17301450888570702, 0.17579483817217145, 0.1661951566423037, 0.17386661890698923, 0.17346823904152614, 0.17205280320961844, 0.1808840854899786, 0.17531515505873285, 0.20111999573767445, 0.1801085573293033, 0.16522312510025464, 0.1671811707015603]}, {\"categories\": [\"0\", \"1\", \"2\", \"3\", \"4\", \"5\", \"6\", \"7\", \"8\", \"9\", \"10\", \"11\", \"12\", \"13\", \"14\", \"15\", \"16\", \"17\", \"18\", \"19\", \"20\", \"21\", \"23\", \"24\"], \"mode\": \"lines\", \"name\": \"normalized_root_mean_squared_error_min\", \"stepped\": true, \"type\": \"scatter\", \"data\": [0.17252128184308127, 0.17252128184308127, 0.17252128184308127, 0.17252128184308127, 0.17252128184308127, 0.16606774535557003, 0.16606774535557003, 0.16606774535557003, 0.16605331850272761, 0.16605331850272761, 0.16605331850272761, 0.16605331850272761, 0.16605331850272761, 0.16605331850272761, 0.16605331850272761, 0.16605331850272761, 0.16605331850272761, 0.16605331850272761, 0.16605331850272761, 0.16605331850272761, 0.16605331850272761, 0.16605331850272761, 0.16522312510025464, 0.16522312510025464]}], \"normalized_root_mean_squared_log_error\": [{\"categories\": [\"0\", \"1\", \"2\", \"3\", \"4\", \"5\", \"6\", \"7\", \"8\", \"9\", \"10\", \"11\", \"12\", \"13\", \"14\", \"15\", \"16\", \"17\", \"18\", \"19\", \"20\", \"21\", \"23\", \"24\"], \"mode\": \"markers\", \"name\": \"normalized_root_mean_squared_log_error\", \"stepped\": false, \"type\": \"scatter\", \"data\": [0.16610201274585412, 0.16712188133674638, 0.1685250472448538, 0.1680011306249886, 0.22894926169348, 0.16383568257903186, 0.1679226621532305, 0.16597260798714802, 0.16400361566618155, 0.1727454651509735, 0.1639900239539564, 0.16589931172097216, 0.16488931733693668, 0.1675508399422528, 0.16254665885816807, 0.16883495190471526, 0.1658599431830536, 0.16817315045574002, 0.17167465570333507, 0.16846118390724135, 0.18842893923264184, 0.17049083887786715, 0.1597565815189485, 0.1612938174635623]}, {\"categories\": [\"0\", \"1\", \"2\", \"3\", \"4\", \"5\", \"6\", \"7\", \"8\", \"9\", \"10\", \"11\", \"12\", \"13\", \"14\", \"15\", \"16\", \"17\", \"18\", \"19\", \"20\", \"21\", \"23\", \"24\"], \"mode\": \"lines\", \"name\": \"normalized_root_mean_squared_log_error_min\", \"stepped\": true, \"type\": \"scatter\", \"data\": [0.16610201274585412, 0.16610201274585412, 0.16610201274585412, 0.16610201274585412, 0.16610201274585412, 0.16383568257903186, 0.16383568257903186, 0.16383568257903186, 0.16383568257903186, 0.16383568257903186, 0.16383568257903186, 0.16383568257903186, 0.16383568257903186, 0.16383568257903186, 0.16254665885816807, 0.16254665885816807, 0.16254665885816807, 0.16254665885816807, 0.16254665885816807, 0.16254665885816807, 0.16254665885816807, 0.16254665885816807, 0.1597565815189485, 0.1597565815189485]}]}, \"metricName\": null, \"primaryMetricName\": \"spearman_correlation\", \"showLegend\": false}, \"run_metrics\": [], \"run_logs\": \"\\nRun is completed.\", \"graph\": {}, \"widget_settings\": {\"childWidgetDisplay\": \"popup\", \"send_telemetry\": false, \"log_level\": \"INFO\", \"sdk_version\": \"1.0.74\"}, \"loading\": false}"
     },
     "metadata": {},
     "output_type": "display_data"
    }
   ],
   "source": [
    "from azureml.widgets import RunDetails\n",
    "RunDetails(local_run).show() "
   ]
  },
  {
   "cell_type": "markdown",
   "metadata": {},
   "source": [
    "## Autre AutoML"
   ]
  },
  {
   "cell_type": "markdown",
   "metadata": {},
   "source": [
    "> Avec cette fois un changement de métrique, ajout d'une whiteliste, compatibilité ONNX, pas de méthodes ensembles et un score de sortie et 20 itérations au max.\n",
    "https://docs.microsoft.com/en-us/python/api/azureml-train-automl/azureml.train.automl.automlconfig?view=azure-ml-py"
   ]
  },
  {
   "cell_type": "code",
   "execution_count": 88,
   "metadata": {},
   "outputs": [
    {
     "name": "stderr",
     "output_type": "stream",
     "text": [
      "WARNING - The AutoMLConfig inputs you have specified will soon be deprecated. Please use the AutoMLConfig shown in our documentation: https://aka.ms/AutoMLConfig\n"
     ]
    }
   ],
   "source": [
    "automl_config = AutoMLConfig(task = 'regression',\n",
    "                             iteration_timeout_minutes = 5,\n",
    "                             iterations = 10, # nombre itérations au max\n",
    "                             primary_metric = 'spearman_correlation',\n",
    "                             n_cross_validations = 5,\n",
    "                             debug_log = 'automl2.log',\n",
    "                             verbosity = logging.INFO,\n",
    "                             whitelist_models = [\"LightGBM\", \"RandomForest\"], # Whiteliste de modèles à évaluer\n",
    "                             experiment_exit_score = 0.7, # Score de sortie de la métrique\n",
    "                             enable_onnx_compatible_models=True, # Modèles compatibles ONNX\n",
    "                             enable_stack_ensemble=False, # Pas de méthode stack ensemble\n",
    "                             enable_voting_ensemble=False, # Pase de méthode vote ensemble\n",
    "                             X = X_train, \n",
    "                             y = y_train,\n",
    "                             path = project_folder)"
   ]
  },
  {
   "cell_type": "code",
   "execution_count": 89,
   "metadata": {},
   "outputs": [
    {
     "name": "stdout",
     "output_type": "stream",
     "text": [
      "Running on local machine\n",
      "Parent Run ID: AutoML_d7c65858-b7c5-4a35-8b93-1cb0591df736\n",
      "Current status: DatasetCrossValidationSplit. Generating CV splits.\n",
      "Current status: ModelSelection. Beginning model selection.\n",
      "\n",
      "****************************************************************************************************\n",
      "ITERATION: The iteration being evaluated.\n",
      "PIPELINE: A summary description of the pipeline being evaluated.\n",
      "DURATION: Time taken for the current iteration.\n",
      "METRIC: The result of computing score on the fitted pipeline.\n",
      "BEST: The best observed score thus far.\n",
      "****************************************************************************************************\n",
      "\n",
      " ITERATION   PIPELINE                                       DURATION      METRIC      BEST\n",
      "         0   StandardScalerWrapper RandomForest             0:00:13       0.6988    0.6988\n",
      "         1   MinMaxScaler RandomForest                      0:00:13       0.6750    0.6988\n",
      "         2   StandardScalerWrapper LightGBM                 0:00:15       0.6831    0.6988\n",
      "         3   StandardScalerWrapper LightGBM                 0:00:13       0.6774    0.6988\n",
      "         4   StandardScalerWrapper RandomForest             0:00:14       0.7018    0.7018\n",
      "Stopping criteria reached at iteration 4. Ending experiment.\n",
      "CPU times: user 7.82 s, sys: 2.78 s, total: 10.6 s\n",
      "Wall time: 1min 15s\n"
     ]
    }
   ],
   "source": [
    "%%time\n",
    "local_run = experiment.submit(automl_config, show_output = True)"
   ]
  },
  {
   "cell_type": "code",
   "execution_count": 90,
   "metadata": {},
   "outputs": [
    {
     "data": {
      "text/html": [
       "<table style=\"width:100%\"><tr><th>Experiment</th><th>Id</th><th>Type</th><th>Status</th><th>Details Page</th><th>Docs Page</th></tr><tr><td>workshop3</td><td>AutoML_d7c65858-b7c5-4a35-8b93-1cb0591df736</td><td>automl</td><td>Running</td><td><a href=\"https://ml.azure.com/experiments/workshop3/runs/AutoML_d7c65858-b7c5-4a35-8b93-1cb0591df736?wsid=/subscriptions/70b8f39e-8863-49f7-b6ba-34a80799550c/resourcegroups/workshopmlRG/workspaces/workshopml\" target=\"_blank\" rel=\"noopener\">Link to Azure Machine Learning studio</a></td><td><a href=\"https://docs.microsoft.com/en-us/python/api/overview/azure/ml/intro?view=azure-ml-py\" target=\"_blank\" rel=\"noopener\">Link to Documentation</a></td></tr></table>"
      ],
      "text/plain": [
       "Run(Experiment: workshop3,\n",
       "Id: AutoML_d7c65858-b7c5-4a35-8b93-1cb0591df736,\n",
       "Type: automl,\n",
       "Status: Running)"
      ]
     },
     "execution_count": 90,
     "metadata": {},
     "output_type": "execute_result"
    }
   ],
   "source": [
    "local_run"
   ]
  },
  {
   "cell_type": "markdown",
   "metadata": {},
   "source": [
    "## 5. Exploration des résultats"
   ]
  },
  {
   "cell_type": "markdown",
   "metadata": {},
   "source": [
    "### 5.1 Widget Notebook\n",
    "\n",
    "The widget will first report a \"loading\" status while running the first iteration. After completing the first iteration, an auto-updating graph and table will be shown. The widget will refresh once per minute, so you should see the graph update as child runs complete.\n",
    "\n",
    "**Note:** The widget displays a link at the bottom. Use this link to open a web interface to explore the individual run details."
   ]
  },
  {
   "cell_type": "code",
   "execution_count": 91,
   "metadata": {},
   "outputs": [
    {
     "data": {
      "application/vnd.jupyter.widget-view+json": {
       "model_id": "c69324db740a44e7adeb517c6ae5fb62",
       "version_major": 2,
       "version_minor": 0
      },
      "text/plain": [
       "_AutoMLWidget(widget_settings={'childWidgetDisplay': 'popup', 'send_telemetry': False, 'log_level': 'INFO', 's…"
      ]
     },
     "metadata": {},
     "output_type": "display_data"
    },
    {
     "data": {
      "application/aml.mini.widget.v1": "{\"status\": \"Completed\", \"workbench_run_details_uri\": \"https://ml.azure.com/experiments/workshop3/runs/AutoML_d7c65858-b7c5-4a35-8b93-1cb0591df736?wsid=/subscriptions/70b8f39e-8863-49f7-b6ba-34a80799550c/resourcegroups/workshopmlRG/workspaces/workshopml\", \"run_id\": \"AutoML_d7c65858-b7c5-4a35-8b93-1cb0591df736\", \"run_properties\": {\"run_id\": \"AutoML_d7c65858-b7c5-4a35-8b93-1cb0591df736\", \"created_utc\": \"2019-11-22T10:15:30.567855Z\", \"properties\": {\"num_iterations\": \"10\", \"training_type\": \"TrainFull\", \"acquisition_function\": \"EI\", \"primary_metric\": \"spearman_correlation\", \"train_split\": \"0\", \"MaxTimeSeconds\": \"300\", \"acquisition_parameter\": \"0\", \"num_cross_validation\": \"5\", \"target\": \"local\", \"RawAMLSettingsString\": \"{'name': 'workshop3', 'path': './sample_projects/workshop3', 'subscription_id': '70b8f39e-8863-49f7-b6ba-34a80799550c', 'resource_group': 'workshopmlRG', 'workspace_name': 'workshopml', 'region': 'northeurope', 'compute_target': 'local', 'spark_service': None, 'azure_service': None, 'iterations': 10, 'primary_metric': 'spearman_correlation', 'task_type': 'regression', 'data_script': None, 'validation_size': 0.0, 'n_cross_validations': 5, 'y_min': 25.0, 'y_max': 346.0, 'num_classes': None, 'featurization': 'off', 'preprocess': False, 'lag_length': 0, 'is_timeseries': False, 'max_cores_per_iteration': 1, 'max_concurrent_iterations': 1, 'iteration_timeout_minutes': 5, 'mem_in_mb': None, 'enforce_time_on_windows': False, 'experiment_timeout_minutes': None, 'experiment_exit_score': 0.7, 'whitelist_models': ['LightGBM', 'RandomForest'], 'blacklist_algos': ['XGBoostRegressor', 'Prophet'], 'supported_models': ['TensorFlowLinearRegressor', 'GradientBoosting', 'KNN', 'DecisionTree', 'ExtremeRandomTrees', 'FastLinearRegressor', 'LassoLars', 'SGD', 'RandomForest', 'TensorFlowDNN', 'XGBoostRegressor', 'OnlineGradientDescentRegressor', 'LightGBM', 'ElasticNet'], 'auto_blacklist': True, 'blacklist_samples_reached': False, 'exclude_nan_labels': True, 'verbosity': 20, 'debug_log': 'automl2.log', 'show_warnings': False, 'model_explainability': False, 'service_url': None, 'sdk_url': None, 'sdk_packages': None, 'enable_onnx_compatible_models': True, 'enable_split_onnx_featurizer_estimator_models': False, 'vm_type': None, 'telemetry_verbosity': 'INFO', 'send_telemetry': True, 'enable_dnn': False, 'enable_feature_sweeping': False, 'enable_early_stopping': False, 'early_stopping_n_iters': 10, 'metrics': None, 'enable_ensembling': False, 'enable_stack_ensembling': False, 'ensemble_iterations': 10, 'enable_tf': False, 'enable_cache': True, 'enable_subsampling': False, 'subsample_seed': None, 'enable_nimbusml': False, 'enable_streaming': False, 'label_column_name': None, 'weight_column_name': None, 'cost_mode': 0, 'metric_operation': 'maximize'}\", \"AMLSettingsJsonString\": \"{\\\"name\\\":\\\"workshop3\\\",\\\"path\\\":\\\"./sample_projects/workshop3\\\",\\\"subscription_id\\\":\\\"70b8f39e-8863-49f7-b6ba-34a80799550c\\\",\\\"resource_group\\\":\\\"workshopmlRG\\\",\\\"workspace_name\\\":\\\"workshopml\\\",\\\"region\\\":\\\"northeurope\\\",\\\"compute_target\\\":\\\"local\\\",\\\"spark_service\\\":null,\\\"azure_service\\\":null,\\\"iterations\\\":10,\\\"primary_metric\\\":\\\"spearman_correlation\\\",\\\"task_type\\\":\\\"regression\\\",\\\"data_script\\\":null,\\\"validation_size\\\":0.0,\\\"n_cross_validations\\\":5,\\\"y_min\\\":25.0,\\\"y_max\\\":346.0,\\\"num_classes\\\":null,\\\"featurization\\\":\\\"off\\\",\\\"preprocess\\\":false,\\\"lag_length\\\":0,\\\"is_timeseries\\\":false,\\\"max_cores_per_iteration\\\":1,\\\"max_concurrent_iterations\\\":1,\\\"iteration_timeout_minutes\\\":5,\\\"mem_in_mb\\\":null,\\\"enforce_time_on_windows\\\":false,\\\"experiment_timeout_minutes\\\":null,\\\"experiment_exit_score\\\":0.7,\\\"whitelist_models\\\":[\\\"LightGBM\\\",\\\"RandomForest\\\"],\\\"blacklist_algos\\\":[\\\"XGBoostRegressor\\\",\\\"Prophet\\\",\\\"AutoArima\\\"],\\\"supported_models\\\":[\\\"TensorFlowLinearRegressor\\\",\\\"GradientBoosting\\\",\\\"KNN\\\",\\\"DecisionTree\\\",\\\"ExtremeRandomTrees\\\",\\\"FastLinearRegressor\\\",\\\"LassoLars\\\",\\\"SGD\\\",\\\"RandomForest\\\",\\\"TensorFlowDNN\\\",\\\"XGBoostRegressor\\\",\\\"OnlineGradientDescentRegressor\\\",\\\"LightGBM\\\",\\\"ElasticNet\\\"],\\\"auto_blacklist\\\":true,\\\"blacklist_samples_reached\\\":false,\\\"exclude_nan_labels\\\":true,\\\"verbosity\\\":20,\\\"debug_log\\\":\\\"automl2.log\\\",\\\"show_warnings\\\":false,\\\"model_explainability\\\":false,\\\"service_url\\\":null,\\\"sdk_url\\\":null,\\\"sdk_packages\\\":null,\\\"enable_onnx_compatible_models\\\":true,\\\"enable_split_onnx_featurizer_estimator_models\\\":false,\\\"vm_type\\\":null,\\\"telemetry_verbosity\\\":\\\"INFO\\\",\\\"send_telemetry\\\":true,\\\"enable_dnn\\\":false,\\\"enable_feature_sweeping\\\":false,\\\"enable_early_stopping\\\":false,\\\"early_stopping_n_iters\\\":10,\\\"metrics\\\":null,\\\"enable_ensembling\\\":false,\\\"enable_stack_ensembling\\\":false,\\\"ensemble_iterations\\\":10,\\\"enable_tf\\\":false,\\\"enable_cache\\\":true,\\\"enable_subsampling\\\":false,\\\"subsample_seed\\\":null,\\\"enable_nimbusml\\\":false,\\\"enable_streaming\\\":false,\\\"label_column_name\\\":null,\\\"weight_column_name\\\":null,\\\"cost_mode\\\":0,\\\"metric_operation\\\":\\\"maximize\\\"}\", \"DataPrepJsonString\": null, \"EnableSubsampling\": \"False\", \"runTemplate\": \"AutoML\", \"azureml.runsource\": \"automl\", \"display_task_type\": \"regression\", \"dependencies_versions\": \"{\\\"azureml-widgets\\\": \\\"1.0.74\\\", \\\"azureml-train\\\": \\\"1.0.74\\\", \\\"azureml-train-restclients-hyperdrive\\\": \\\"1.0.74\\\", \\\"azureml-train-core\\\": \\\"1.0.74\\\", \\\"azureml-train-automl\\\": \\\"1.0.74\\\", \\\"azureml-tensorboard\\\": \\\"1.0.74\\\", \\\"azureml-telemetry\\\": \\\"1.0.74\\\", \\\"azureml-sdk\\\": \\\"1.0.74\\\", \\\"azureml-samples\\\": \\\"0+unknown\\\", \\\"azureml-pipeline\\\": \\\"1.0.74\\\", \\\"azureml-pipeline-steps\\\": \\\"1.0.74\\\", \\\"azureml-pipeline-core\\\": \\\"1.0.74\\\", \\\"azureml-opendatasets\\\": \\\"1.0.74\\\", \\\"azureml-model-management-sdk\\\": \\\"1.0.1b6.post1\\\", \\\"azureml-mlflow\\\": \\\"1.0.74\\\", \\\"azureml-interpret\\\": \\\"1.0.74\\\", \\\"azureml-explain-model\\\": \\\"1.0.74\\\", \\\"azureml-defaults\\\": \\\"1.0.74\\\", \\\"azureml-dataprep\\\": \\\"1.1.30\\\", \\\"azureml-dataprep-native\\\": \\\"13.1.0\\\", \\\"azureml-datadrift\\\": \\\"1.0.74\\\", \\\"azureml-core\\\": \\\"1.0.74\\\", \\\"azureml-contrib-services\\\": \\\"1.0.74\\\", \\\"azureml-contrib-server\\\": \\\"1.0.74\\\", \\\"azureml-contrib-reinforcementlearning\\\": \\\"0.1.0.5919674\\\", \\\"azureml-contrib-opendatasets\\\": \\\"1.0.45\\\", \\\"azureml-contrib-notebook\\\": \\\"1.0.74\\\", \\\"azureml-contrib-interpret\\\": \\\"1.0.74\\\", \\\"azureml-contrib-datadrift\\\": \\\"1.0.74\\\", \\\"azureml-automl-core\\\": \\\"1.0.74\\\"}\", \"ProblemInfoJsonString\": \"{\\\"dataset_num_categorical\\\": 0, \\\"is_sparse\\\": false, \\\"subsampling\\\": false, \\\"dataset_classes\\\": 194, \\\"dataset_features\\\": 10, \\\"dataset_samples\\\": 353, \\\"single_frequency_class_detected\\\": false}\"}, \"tags\": {\"model_explain_run\": \"best_run\", \"experiment_status\": \"ModelSelection\", \"experiment_status_descr\": \"Beginning model selection.\"}, \"end_time_utc\": \"2019-11-22T10:16:41.538084Z\", \"status\": \"Completed\", \"log_files\": {}, \"log_groups\": [], \"run_duration\": \"0:01:10\"}, \"child_runs\": [{\"run_id\": \"AutoML_d7c65858-b7c5-4a35-8b93-1cb0591df736_0\", \"run_number\": 244, \"metric\": null, \"status\": \"Completed\", \"run_type\": null, \"training_percent\": \"100\", \"start_time\": \"2019-11-22T10:15:32.616416Z\", \"end_time\": \"2019-11-22T10:15:44.560622Z\", \"created_time\": \"2019-11-22T10:15:32.513174Z\", \"created_time_dt\": \"2019-11-22T10:15:32.513174Z\", \"duration\": \"0:00:12\", \"iteration\": \"0\", \"goal\": \"spearman_correlation_max\", \"run_name\": \"StandardScalerWrapper, RandomForest\", \"run_properties\": \"bootstrap=False, criterion='mse', max_depth=None,\\n           max_features='sqrt', max_leaf_nodes=None,\\n           min_impurity_decrease=0.0, min_impurity_split=None,\\n           min_samples_leaf=0.05040306135985514,\\n           min_samples_split=0.002602463309528381,\\n           min_weight_fraction_leaf=0.0, n_estimators=25, n_jobs=1,\\n           oob_score=False, random_state=None, verbose=0, warm_start=False\", \"primary_metric\": 0.69875033, \"best_metric\": 0.69875033}, {\"run_id\": \"AutoML_d7c65858-b7c5-4a35-8b93-1cb0591df736_1\", \"run_number\": 245, \"metric\": null, \"status\": \"Completed\", \"run_type\": null, \"training_percent\": \"100\", \"start_time\": \"2019-11-22T10:15:46.191205Z\", \"end_time\": \"2019-11-22T10:15:57.820161Z\", \"created_time\": \"2019-11-22T10:15:46.099005Z\", \"created_time_dt\": \"2019-11-22T10:15:46.099005Z\", \"duration\": \"0:00:11\", \"iteration\": \"1\", \"goal\": \"spearman_correlation_max\", \"run_name\": \"MinMaxScaler, RandomForest\", \"run_properties\": \"bootstrap=True, criterion='mse', max_depth=None,\\n           max_features=0.9, max_leaf_nodes=None,\\n           min_impurity_decrease=0.0, min_impurity_split=None,\\n           min_samples_leaf=0.006151578686713196,\\n           min_samples_split=0.010734188827013528,\\n           min_weight_fraction_leaf=0.0, n_estimators=25, n_jobs=1,\\n           oob_score=False, random_state=None, verbose=0, warm_start=False\", \"primary_metric\": 0.67495414, \"best_metric\": 0.69875033}, {\"run_id\": \"AutoML_d7c65858-b7c5-4a35-8b93-1cb0591df736_2\", \"run_number\": 246, \"metric\": null, \"status\": \"Completed\", \"run_type\": null, \"training_percent\": \"100\", \"start_time\": \"2019-11-22T10:15:59.031157Z\", \"end_time\": \"2019-11-22T10:16:12.884676Z\", \"created_time\": \"2019-11-22T10:15:58.922829Z\", \"created_time_dt\": \"2019-11-22T10:15:58.922829Z\", \"duration\": \"0:00:13\", \"iteration\": \"2\", \"goal\": \"spearman_correlation_max\", \"run_name\": \"StandardScalerWrapper, LightGBM\", \"run_properties\": \"boosting_type='gbdt', class_weight=None, colsample_bytree=1,\\n         importance_type='split', learning_rate=0.12631947368421054,\\n         max_bin=63, max_depth=5, min_child_samples=11,\\n         min_child_weight=0.001, min_split_gain=0.8421052631578947,\\n         n_estimators=25, n_jobs=1, num_leaves=3, objective=None,\\n         random_state=None, reg_alpha=0.3, reg_lambda=0.15, silent=True,\\n         subsample=0.9, subsample_for_bin=200000, subsample_freq=3,\\n         verbose=-1\", \"primary_metric\": 0.68306368, \"best_metric\": 0.69875033}, {\"run_id\": \"AutoML_d7c65858-b7c5-4a35-8b93-1cb0591df736_3\", \"run_number\": 247, \"metric\": null, \"status\": \"Completed\", \"run_type\": null, \"training_percent\": \"100\", \"start_time\": \"2019-11-22T10:16:14.112377Z\", \"end_time\": \"2019-11-22T10:16:26.626919Z\", \"created_time\": \"2019-11-22T10:16:14.012398Z\", \"created_time_dt\": \"2019-11-22T10:16:14.012398Z\", \"duration\": \"0:00:12\", \"iteration\": \"3\", \"goal\": \"spearman_correlation_max\", \"run_name\": \"StandardScalerWrapper, LightGBM\", \"run_properties\": \"boosting_type='gbdt', class_weight=None, colsample_bytree=1,\\n         importance_type='split', learning_rate=0.1052678947368421,\\n         max_bin=7, max_depth=7, min_child_samples=1,\\n         min_child_weight=0.001, min_split_gain=0.7368421052631579,\\n         n_estimators=50, n_jobs=1, num_leaves=31, objective=None,\\n         random_state=None, reg_alpha=0, reg_lambda=1.5, silent=True,\\n         subsample=0.65, subsample_for_bin=200000, subsample_freq=1,\\n         verbose=-1\", \"primary_metric\": 0.6774315, \"best_metric\": 0.69875033}, {\"run_id\": \"AutoML_d7c65858-b7c5-4a35-8b93-1cb0591df736_4\", \"run_number\": 248, \"metric\": null, \"status\": \"Completed\", \"run_type\": null, \"training_percent\": \"100\", \"start_time\": \"2019-11-22T10:16:28.179113Z\", \"end_time\": \"2019-11-22T10:16:40.751022Z\", \"created_time\": \"2019-11-22T10:16:28.025734Z\", \"created_time_dt\": \"2019-11-22T10:16:28.025734Z\", \"duration\": \"0:00:12\", \"iteration\": \"4\", \"goal\": \"spearman_correlation_max\", \"run_name\": \"StandardScalerWrapper, RandomForest\", \"run_properties\": \"bootstrap=False, criterion='mse', max_depth=None,\\n           max_features='sqrt', max_leaf_nodes=None,\\n           min_impurity_decrease=0.0, min_impurity_split=None,\\n           min_samples_leaf=0.02840067375118317,\\n           min_samples_split=0.0008991789964660114,\\n           min_weight_fraction_leaf=0.0, n_estimators=25, n_jobs=1,\\n           oob_score=False, random_state=None, verbose=0, warm_start=False\", \"primary_metric\": 0.70176539, \"best_metric\": 0.70176539}], \"children_metrics\": {\"categories\": [0], \"series\": {\"spearman_correlation\": [{\"categories\": [\"0\", \"1\", \"2\", \"3\", \"4\"], \"mode\": \"markers\", \"name\": \"spearman_correlation\", \"stepped\": false, \"type\": \"scatter\", \"data\": [0.6987503327979615, 0.6749541402624004, 0.6830636781822348, 0.6774314996972028, 0.7017653937459618]}, {\"categories\": [\"0\", \"1\", \"2\", \"3\", \"4\"], \"mode\": \"lines\", \"name\": \"spearman_correlation_max\", \"stepped\": true, \"type\": \"scatter\", \"data\": [0.6987503327979615, 0.6987503327979615, 0.6987503327979615, 0.6987503327979615, 0.7017653937459618]}], \"mean_absolute_percentage_error\": [{\"categories\": [\"0\", \"1\", \"2\", \"3\", \"4\"], \"mode\": \"markers\", \"name\": \"mean_absolute_percentage_error\", \"stepped\": false, \"type\": \"scatter\", \"data\": [41.97991723311426, 41.24235424438559, 42.15438054717965, 39.96303455940697, 40.58836680366733]}, {\"categories\": [\"0\", \"1\", \"2\", \"3\", \"4\"], \"mode\": \"lines\", \"name\": \"mean_absolute_percentage_error_min\", \"stepped\": true, \"type\": \"scatter\", \"data\": [41.97991723311426, 41.24235424438559, 41.24235424438559, 39.96303455940697, 39.96303455940697]}], \"normalized_median_absolute_error\": [{\"categories\": [\"0\", \"1\", \"2\", \"3\", \"4\"], \"mode\": \"markers\", \"name\": \"normalized_median_absolute_error\", \"stepped\": false, \"type\": \"scatter\", \"data\": [0.13092810408195943, 0.1260973891114078, 0.1267808359968559, 0.1237312599304475, 0.13172899117456566]}, {\"categories\": [\"0\", \"1\", \"2\", \"3\", \"4\"], \"mode\": \"lines\", \"name\": \"normalized_median_absolute_error_min\", \"stepped\": true, \"type\": \"scatter\", \"data\": [0.13092810408195943, 0.1260973891114078, 0.1260973891114078, 0.1237312599304475, 0.1237312599304475]}], \"explained_variance\": [{\"categories\": [\"0\", \"1\", \"2\", \"3\", \"4\"], \"mode\": \"markers\", \"name\": \"explained_variance\", \"stepped\": false, \"type\": \"scatter\", \"data\": [0.5026257808392425, 0.49069927378093225, 0.493652302869406, 0.44642647767713833, 0.5201735410227736]}, {\"categories\": [\"0\", \"1\", \"2\", \"3\", \"4\"], \"mode\": \"lines\", \"name\": \"explained_variance_max\", \"stepped\": true, \"type\": \"scatter\", \"data\": [0.5026257808392425, 0.5026257808392425, 0.5026257808392425, 0.5026257808392425, 0.5201735410227736]}], \"median_absolute_error\": [{\"categories\": [\"0\", \"1\", \"2\", \"3\", \"4\"], \"mode\": \"markers\", \"name\": \"median_absolute_error\", \"stepped\": false, \"type\": \"scatter\", \"data\": [42.02792141030898, 40.4772619047619, 40.69664835499074, 39.717734437673656, 42.285006167035576]}, {\"categories\": [\"0\", \"1\", \"2\", \"3\", \"4\"], \"mode\": \"lines\", \"name\": \"median_absolute_error_min\", \"stepped\": true, \"type\": \"scatter\", \"data\": [42.02792141030898, 40.4772619047619, 40.4772619047619, 39.717734437673656, 39.717734437673656]}], \"root_mean_squared_log_error\": [{\"categories\": [\"0\", \"1\", \"2\", \"3\", \"4\"], \"mode\": \"markers\", \"name\": \"root_mean_squared_log_error\", \"stepped\": false, \"type\": \"scatter\", \"data\": [0.4321774655441547, 0.43680571937178375, 0.4353292743508647, 0.4351259446307446, 0.42600993649233543]}, {\"categories\": [\"0\", \"1\", \"2\", \"3\", \"4\"], \"mode\": \"lines\", \"name\": \"root_mean_squared_log_error_min\", \"stepped\": true, \"type\": \"scatter\", \"data\": [0.4321774655441547, 0.4321774655441547, 0.4321774655441547, 0.4321774655441547, 0.42600993649233543]}], \"r2_score\": [{\"categories\": [\"0\", \"1\", \"2\", \"3\", \"4\"], \"mode\": \"markers\", \"name\": \"r2_score\", \"stepped\": false, \"type\": \"scatter\", \"data\": [0.48228238577230576, 0.46713566208417207, 0.46970483524460854, 0.4285400880219977, 0.495177456592533]}, {\"categories\": [\"0\", \"1\", \"2\", \"3\", \"4\"], \"mode\": \"lines\", \"name\": \"r2_score_max\", \"stepped\": true, \"type\": \"scatter\", \"data\": [0.48228238577230576, 0.48228238577230576, 0.48228238577230576, 0.48228238577230576, 0.495177456592533]}], \"root_mean_squared_error\": [{\"categories\": [\"0\", \"1\", \"2\", \"3\", \"4\"], \"mode\": \"markers\", \"name\": \"root_mean_squared_error\", \"stepped\": false, \"type\": \"scatter\", \"data\": [55.61065954816934, 56.4357868629716, 56.21894333944429, 58.354464868731746, 54.83994064778854]}, {\"categories\": [\"0\", \"1\", \"2\", \"3\", \"4\"], \"mode\": \"lines\", \"name\": \"root_mean_squared_error_min\", \"stepped\": true, \"type\": \"scatter\", \"data\": [55.61065954816934, 55.61065954816934, 55.61065954816934, 55.61065954816934, 54.83994064778854]}], \"mean_absolute_error\": [{\"categories\": [\"0\", \"1\", \"2\", \"3\", \"4\"], \"mode\": \"markers\", \"name\": \"mean_absolute_error\", \"stepped\": false, \"type\": \"scatter\", \"data\": [46.05649220877875, 45.81490063288824, 46.26537926801358, 46.07377506461595, 45.215557477753244]}, {\"categories\": [\"0\", \"1\", \"2\", \"3\", \"4\"], \"mode\": \"lines\", \"name\": \"mean_absolute_error_min\", \"stepped\": true, \"type\": \"scatter\", \"data\": [46.05649220877875, 45.81490063288824, 45.81490063288824, 45.81490063288824, 45.215557477753244]}], \"normalized_mean_absolute_error\": [{\"categories\": [\"0\", \"1\", \"2\", \"3\", \"4\"], \"mode\": \"markers\", \"name\": \"normalized_mean_absolute_error\", \"stepped\": false, \"type\": \"scatter\", \"data\": [0.14347816887470013, 0.142725547142954, 0.14412890737698936, 0.14353200954709017, 0.1408584345101347]}, {\"categories\": [\"0\", \"1\", \"2\", \"3\", \"4\"], \"mode\": \"lines\", \"name\": \"normalized_mean_absolute_error_min\", \"stepped\": true, \"type\": \"scatter\", \"data\": [0.14347816887470013, 0.142725547142954, 0.142725547142954, 0.142725547142954, 0.1408584345101347]}], \"normalized_root_mean_squared_error\": [{\"categories\": [\"0\", \"1\", \"2\", \"3\", \"4\"], \"mode\": \"markers\", \"name\": \"normalized_root_mean_squared_error\", \"stepped\": false, \"type\": \"scatter\", \"data\": [0.1732419300566023, 0.1758124201338679, 0.1751368951384557, 0.18178961018296494, 0.17084093659747204]}, {\"categories\": [\"0\", \"1\", \"2\", \"3\", \"4\"], \"mode\": \"lines\", \"name\": \"normalized_root_mean_squared_error_min\", \"stepped\": true, \"type\": \"scatter\", \"data\": [0.1732419300566023, 0.1732419300566023, 0.1732419300566023, 0.1732419300566023, 0.17084093659747204]}], \"normalized_root_mean_squared_log_error\": [{\"categories\": [\"0\", \"1\", \"2\", \"3\", \"4\"], \"mode\": \"markers\", \"name\": \"normalized_root_mean_squared_log_error\", \"stepped\": false, \"type\": \"scatter\", \"data\": [0.1667847928451996, 0.1685709164111384, 0.1680011306249886, 0.1679226621532305, 0.16440463622602172]}, {\"categories\": [\"0\", \"1\", \"2\", \"3\", \"4\"], \"mode\": \"lines\", \"name\": \"normalized_root_mean_squared_log_error_min\", \"stepped\": true, \"type\": \"scatter\", \"data\": [0.1667847928451996, 0.1667847928451996, 0.1667847928451996, 0.1667847928451996, 0.16440463622602172]}]}, \"metricName\": null, \"primaryMetricName\": \"spearman_correlation\", \"showLegend\": false}, \"run_metrics\": [], \"run_logs\": \"\\nRun is completed.\", \"graph\": {}, \"widget_settings\": {\"childWidgetDisplay\": \"popup\", \"send_telemetry\": false, \"log_level\": \"INFO\", \"sdk_version\": \"1.0.74\"}, \"loading\": false}"
     },
     "metadata": {},
     "output_type": "display_data"
    }
   ],
   "source": [
    "from azureml.widgets import RunDetails\n",
    "RunDetails(local_run).show() "
   ]
  },
  {
   "cell_type": "markdown",
   "metadata": {},
   "source": [
    "\n",
    "### 5.2 Récupération de toutes les itérations"
   ]
  },
  {
   "cell_type": "code",
   "execution_count": 92,
   "metadata": {},
   "outputs": [
    {
     "data": {
      "text/html": [
       "<div>\n",
       "<style scoped>\n",
       "    .dataframe tbody tr th:only-of-type {\n",
       "        vertical-align: middle;\n",
       "    }\n",
       "\n",
       "    .dataframe tbody tr th {\n",
       "        vertical-align: top;\n",
       "    }\n",
       "\n",
       "    .dataframe thead th {\n",
       "        text-align: right;\n",
       "    }\n",
       "</style>\n",
       "<table border=\"1\" class=\"dataframe\">\n",
       "  <thead>\n",
       "    <tr style=\"text-align: right;\">\n",
       "      <th></th>\n",
       "      <th>0</th>\n",
       "      <th>1</th>\n",
       "      <th>2</th>\n",
       "      <th>3</th>\n",
       "      <th>4</th>\n",
       "    </tr>\n",
       "  </thead>\n",
       "  <tbody>\n",
       "    <tr>\n",
       "      <th>explained_variance</th>\n",
       "      <td>0.50</td>\n",
       "      <td>0.49</td>\n",
       "      <td>0.49</td>\n",
       "      <td>0.45</td>\n",
       "      <td>0.52</td>\n",
       "    </tr>\n",
       "    <tr>\n",
       "      <th>mean_absolute_error</th>\n",
       "      <td>46.06</td>\n",
       "      <td>45.81</td>\n",
       "      <td>46.27</td>\n",
       "      <td>46.07</td>\n",
       "      <td>45.22</td>\n",
       "    </tr>\n",
       "    <tr>\n",
       "      <th>mean_absolute_percentage_error</th>\n",
       "      <td>41.98</td>\n",
       "      <td>41.24</td>\n",
       "      <td>42.15</td>\n",
       "      <td>39.96</td>\n",
       "      <td>40.59</td>\n",
       "    </tr>\n",
       "    <tr>\n",
       "      <th>median_absolute_error</th>\n",
       "      <td>42.03</td>\n",
       "      <td>40.48</td>\n",
       "      <td>40.70</td>\n",
       "      <td>39.72</td>\n",
       "      <td>42.29</td>\n",
       "    </tr>\n",
       "    <tr>\n",
       "      <th>normalized_mean_absolute_error</th>\n",
       "      <td>0.14</td>\n",
       "      <td>0.14</td>\n",
       "      <td>0.14</td>\n",
       "      <td>0.14</td>\n",
       "      <td>0.14</td>\n",
       "    </tr>\n",
       "    <tr>\n",
       "      <th>normalized_median_absolute_error</th>\n",
       "      <td>0.13</td>\n",
       "      <td>0.13</td>\n",
       "      <td>0.13</td>\n",
       "      <td>0.12</td>\n",
       "      <td>0.13</td>\n",
       "    </tr>\n",
       "    <tr>\n",
       "      <th>normalized_root_mean_squared_error</th>\n",
       "      <td>0.17</td>\n",
       "      <td>0.18</td>\n",
       "      <td>0.18</td>\n",
       "      <td>0.18</td>\n",
       "      <td>0.17</td>\n",
       "    </tr>\n",
       "    <tr>\n",
       "      <th>normalized_root_mean_squared_log_error</th>\n",
       "      <td>0.17</td>\n",
       "      <td>0.17</td>\n",
       "      <td>0.17</td>\n",
       "      <td>0.17</td>\n",
       "      <td>0.16</td>\n",
       "    </tr>\n",
       "    <tr>\n",
       "      <th>r2_score</th>\n",
       "      <td>0.48</td>\n",
       "      <td>0.47</td>\n",
       "      <td>0.47</td>\n",
       "      <td>0.43</td>\n",
       "      <td>0.50</td>\n",
       "    </tr>\n",
       "    <tr>\n",
       "      <th>root_mean_squared_error</th>\n",
       "      <td>55.61</td>\n",
       "      <td>56.44</td>\n",
       "      <td>56.22</td>\n",
       "      <td>58.35</td>\n",
       "      <td>54.84</td>\n",
       "    </tr>\n",
       "    <tr>\n",
       "      <th>root_mean_squared_log_error</th>\n",
       "      <td>0.43</td>\n",
       "      <td>0.44</td>\n",
       "      <td>0.44</td>\n",
       "      <td>0.44</td>\n",
       "      <td>0.43</td>\n",
       "    </tr>\n",
       "    <tr>\n",
       "      <th>spearman_correlation</th>\n",
       "      <td>0.70</td>\n",
       "      <td>0.67</td>\n",
       "      <td>0.68</td>\n",
       "      <td>0.68</td>\n",
       "      <td>0.70</td>\n",
       "    </tr>\n",
       "  </tbody>\n",
       "</table>\n",
       "</div>"
      ],
      "text/plain": [
       "                                           0     1     2     3     4\n",
       "explained_variance                     0.50  0.49  0.49  0.45  0.52 \n",
       "mean_absolute_error                    46.06 45.81 46.27 46.07 45.22\n",
       "mean_absolute_percentage_error         41.98 41.24 42.15 39.96 40.59\n",
       "median_absolute_error                  42.03 40.48 40.70 39.72 42.29\n",
       "normalized_mean_absolute_error         0.14  0.14  0.14  0.14  0.14 \n",
       "normalized_median_absolute_error       0.13  0.13  0.13  0.12  0.13 \n",
       "normalized_root_mean_squared_error     0.17  0.18  0.18  0.18  0.17 \n",
       "normalized_root_mean_squared_log_error 0.17  0.17  0.17  0.17  0.16 \n",
       "r2_score                               0.48  0.47  0.47  0.43  0.50 \n",
       "root_mean_squared_error                55.61 56.44 56.22 58.35 54.84\n",
       "root_mean_squared_log_error            0.43  0.44  0.44  0.44  0.43 \n",
       "spearman_correlation                   0.70  0.67  0.68  0.68  0.70 "
      ]
     },
     "execution_count": 92,
     "metadata": {},
     "output_type": "execute_result"
    }
   ],
   "source": [
    "children = list(local_run.get_children())\n",
    "metricslist = {}\n",
    "for run in children:\n",
    "    properties = run.get_properties()\n",
    "    metrics = {k: v for k, v in run.get_metrics().items() if isinstance(v, float)}\n",
    "    metricslist[int(properties['iteration'])] = metrics\n",
    "\n",
    "rundata = pd.DataFrame(metricslist).sort_index(1)\n",
    "rundata"
   ]
  },
  {
   "cell_type": "markdown",
   "metadata": {},
   "source": [
    "### 5.3 Obtention du meilleur modèle\n",
    "\n",
    "Below we select the best pipeline from our iterations. The `get_output` method returns the best run and the fitted model. The Model includes the pipeline and any pre-processing.  Overloads on `get_output` allow you to retrieve the best run and fitted model for *any* logged metric or for a particular *iteration*."
   ]
  },
  {
   "cell_type": "code",
   "execution_count": 93,
   "metadata": {},
   "outputs": [
    {
     "name": "stdout",
     "output_type": "stream",
     "text": [
      "Run(Experiment: workshop3,\n",
      "Id: AutoML_d7c65858-b7c5-4a35-8b93-1cb0591df736_4,\n",
      "Type: None,\n",
      "Status: Completed)\n",
      "RegressionPipeline(pipeline=Pipeline(memory=None,\n",
      "     steps=[('StandardScalerWrapper', <automl.client.core.runtime.model_wrappers.StandardScalerWrapper object at 0x7f3e144a7358>), ('RandomForestRegressor', RandomForestRegressor(bootstrap=False, criterion='mse', max_depth=None,\n",
      "           max_features='sqrt', max_leaf_nodes=None,\n",
      "           min_impurity...timators=25, n_jobs=1,\n",
      "           oob_score=False, random_state=None, verbose=0, warm_start=False))]),\n",
      "          stddev=None)\n"
     ]
    }
   ],
   "source": [
    "best_run, fitted_model = local_run.get_output()\n",
    "print(best_run)\n",
    "print(fitted_model)"
   ]
  },
  {
   "cell_type": "code",
   "execution_count": 94,
   "metadata": {},
   "outputs": [
    {
     "data": {
      "text/plain": [
       "<bound method Pipeline.get_params of RegressionPipeline(pipeline=Pipeline(memory=None,\n",
       "     steps=[('StandardScalerWrapper', <automl.client.core.runtime.model_wrappers.StandardScalerWrapper object at 0x7f3e144a7358>), ('RandomForestRegressor', RandomForestRegressor(bootstrap=False, criterion='mse', max_depth=None,\n",
       "           max_features='sqrt', max_leaf_nodes=None,\n",
       "           min_impurity...timators=25, n_jobs=1,\n",
       "           oob_score=False, random_state=None, verbose=0, warm_start=False))]),\n",
       "          stddev=None)>"
      ]
     },
     "execution_count": 94,
     "metadata": {},
     "output_type": "execute_result"
    }
   ],
   "source": [
    "fitted_model.get_params"
   ]
  },
  {
   "cell_type": "code",
   "execution_count": 95,
   "metadata": {},
   "outputs": [
    {
     "data": {
      "text/plain": [
       "[('StandardScalerWrapper',\n",
       "  <automl.client.core.runtime.model_wrappers.StandardScalerWrapper at 0x7f3e144a7358>),\n",
       " ('RandomForestRegressor',\n",
       "  RandomForestRegressor(bootstrap=False, criterion='mse', max_depth=None,\n",
       "             max_features='sqrt', max_leaf_nodes=None,\n",
       "             min_impurity_decrease=0.0, min_impurity_split=None,\n",
       "             min_samples_leaf=0.02840067375118317,\n",
       "             min_samples_split=0.0008991789964660114,\n",
       "             min_weight_fraction_leaf=0.0, n_estimators=25, n_jobs=1,\n",
       "             oob_score=False, random_state=None, verbose=0, warm_start=False))]"
      ]
     },
     "execution_count": 95,
     "metadata": {},
     "output_type": "execute_result"
    }
   ],
   "source": [
    "fitted_model.steps"
   ]
  },
  {
   "cell_type": "markdown",
   "metadata": {},
   "source": [
    "### 5.4 Changement de métrique\n",
    "Show the run and the model that has the smallest `root_mean_squared_error` value (which turned out to be the same as the one with largest `spearman_correlation` value):"
   ]
  },
  {
   "cell_type": "code",
   "execution_count": 96,
   "metadata": {},
   "outputs": [
    {
     "name": "stdout",
     "output_type": "stream",
     "text": [
      "Run(Experiment: workshop3,\n",
      "Id: AutoML_d7c65858-b7c5-4a35-8b93-1cb0591df736_4,\n",
      "Type: None,\n",
      "Status: Completed)\n",
      "RegressionPipeline(pipeline=Pipeline(memory=None,\n",
      "     steps=[('StandardScalerWrapper', <automl.client.core.runtime.model_wrappers.StandardScalerWrapper object at 0x7f3dfc6fc9e8>), ('RandomForestRegressor', RandomForestRegressor(bootstrap=False, criterion='mse', max_depth=None,\n",
      "           max_features='sqrt', max_leaf_nodes=None,\n",
      "           min_impurity...timators=25, n_jobs=1,\n",
      "           oob_score=False, random_state=None, verbose=0, warm_start=False))]),\n",
      "          stddev=None)\n"
     ]
    }
   ],
   "source": [
    "lookup_metric = \"root_mean_squared_error\"\n",
    "best_run, fitted_model = local_run.get_output(metric = lookup_metric)\n",
    "print(best_run)\n",
    "print(fitted_model)"
   ]
  },
  {
   "cell_type": "markdown",
   "metadata": {},
   "source": [
    "### 5.5 Choix d'une itération spécifique\n",
    "Show the run and the model from the third iteration:"
   ]
  },
  {
   "cell_type": "code",
   "execution_count": 97,
   "metadata": {},
   "outputs": [
    {
     "name": "stdout",
     "output_type": "stream",
     "text": [
      "Run(Experiment: workshop3,\n",
      "Id: AutoML_d7c65858-b7c5-4a35-8b93-1cb0591df736_3,\n",
      "Type: None,\n",
      "Status: Completed)\n",
      "RegressionPipeline(pipeline=Pipeline(memory=None,\n",
      "     steps=[('StandardScalerWrapper', <automl.client.core.runtime.model_wrappers.StandardScalerWrapper object at 0x7f3dfc70bf28>), ('LightGBMRegressor', LightGBMRegressor(boosting_type='gbdt', class_weight=None, colsample_bytree=1,\n",
      "         importance_type='split', learning_rate=0.1052678947368421,\n",
      "     ...nt=True,\n",
      "         subsample=0.65, subsample_for_bin=200000, subsample_freq=1,\n",
      "         verbose=-1))]),\n",
      "          stddev=None)\n"
     ]
    }
   ],
   "source": [
    "iteration = 3\n",
    "ite_run, ite_model = local_run.get_output(iteration = iteration)\n",
    "print(ite_run)\n",
    "print(ite_model)"
   ]
  },
  {
   "cell_type": "markdown",
   "metadata": {},
   "source": [
    "## 6. Validation"
   ]
  },
  {
   "cell_type": "markdown",
   "metadata": {},
   "source": [
    "Predict on training and test set, and calculate residual values."
   ]
  },
  {
   "cell_type": "code",
   "execution_count": 98,
   "metadata": {},
   "outputs": [],
   "source": [
    "y_pred_train = fitted_model.predict(X_train)\n",
    "y_residual_train = y_train - y_pred_train\n",
    "\n",
    "y_pred_test = fitted_model.predict(X_test)\n",
    "y_residual_test = y_test - y_pred_test"
   ]
  },
  {
   "cell_type": "code",
   "execution_count": 99,
   "metadata": {},
   "outputs": [
    {
     "data": {
      "image/png": "[encoded data removed]",
      "text/plain": [
       "<Figure size 1152x432 with 2 Axes>"
      ]
     },
     "metadata": {
      "needs_background": "light"
     },
     "output_type": "display_data"
    }
   ],
   "source": [
    "%matplotlib inline\n",
    "import matplotlib.pyplot as plt\n",
    "import numpy as np\n",
    "from sklearn import datasets\n",
    "from sklearn.metrics import mean_squared_error, r2_score\n",
    "\n",
    "# Set up a multi-plot chart.\n",
    "f, (a0, a1) = plt.subplots(1, 2, gridspec_kw = {'width_ratios':[1, 1], 'wspace':0, 'hspace': 0})\n",
    "f.suptitle('Regression Residual Values', fontsize = 18)\n",
    "f.set_figheight(6)\n",
    "f.set_figwidth(16)\n",
    "\n",
    "# Plot residual values of training set.\n",
    "a0.axis([0, 360, -200, 200])\n",
    "a0.plot(y_residual_train, 'bo', alpha = 0.5)\n",
    "a0.plot([-10,360],[0,0], 'r-', lw = 3)\n",
    "a0.text(16,170,'RMSE = {0:.2f}'.format(np.sqrt(mean_squared_error(y_train, y_pred_train))), fontsize = 12)\n",
    "a0.text(16,140,'R2 score = {0:.2f}'.format(r2_score(y_train, y_pred_train)), fontsize = 12)\n",
    "a0.set_xlabel('Training samples', fontsize = 12)\n",
    "a0.set_ylabel('Residual Values', fontsize = 12)\n",
    "\n",
    "# Plot a histogram.\n",
    "a0.hist(y_residual_train, orientation = 'horizontal', color = 'b', bins = 10, histtype = 'step');\n",
    "a0.hist(y_residual_train, orientation = 'horizontal', color = 'b', alpha = 0.2, bins = 10);\n",
    "\n",
    "# Plot residual values of test set.\n",
    "a1.axis([0, 90, -200, 200])\n",
    "a1.plot(y_residual_test, 'bo', alpha = 0.5)\n",
    "a1.plot([-10,360],[0,0], 'r-', lw = 3)\n",
    "a1.text(5,170,'RMSE = {0:.2f}'.format(np.sqrt(mean_squared_error(y_test, y_pred_test))), fontsize = 12)\n",
    "a1.text(5,140,'R2 score = {0:.2f}'.format(r2_score(y_test, y_pred_test)), fontsize = 12)\n",
    "a1.set_xlabel('Test samples', fontsize = 12)\n",
    "a1.set_yticklabels([])\n",
    "\n",
    "# Plot a histogram.\n",
    "a1.hist(y_residual_test, orientation = 'horizontal', color = 'b', bins = 10, histtype = 'step')\n",
    "a1.hist(y_residual_test, orientation = 'horizontal', color = 'b', alpha = 0.2, bins = 10)\n",
    "\n",
    "plt.show()"
   ]
  },
  {
   "cell_type": "markdown",
   "metadata": {},
   "source": [
    "> Plus d'information : https://docs.microsoft.com/en-us/azure/machine-learning/service/"
   ]
  },
  {
   "cell_type": "markdown",
   "metadata": {},
   "source": [
    "<img src=\"https://github.com/retkowsky/images/blob/master/Powered-by-MS-Azure-logo-v2.png?raw=true\" height=\"300\" width=\"300\">"
   ]
  },
  {
   "cell_type": "code",
   "execution_count": null,
   "metadata": {},
   "outputs": [],
   "source": []
  }
 ],
 "metadata": {
  "authors": [
   {
    "name": "savitam"
   }
  ],
  "kernelspec": {
   "display_name": "Python 3.6 - AzureML",
   "language": "python",
   "name": "python3-azureml"
  },
  "language_info": {
   "codemirror_mode": {
    "name": "ipython",
    "version": 3
   },
   "file_extension": ".py",
   "mimetype": "text/x-python",
   "name": "python",
   "nbconvert_exporter": "python",
   "pygments_lexer": "ipython3",
   "version": "3.6.9"
  }
 },
 "nbformat": 4,
 "nbformat_minor": 2
}
