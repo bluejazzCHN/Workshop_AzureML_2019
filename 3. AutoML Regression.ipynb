{
 "cells": [
  {
   "cell_type": "markdown",
   "metadata": {},
   "source": [
    "# AutoML Regression\n"
   ]
  },
  {
   "cell_type": "markdown",
   "metadata": {},
   "source": [
    "<img src='https://github.com/retkowsky/images/blob/master/AzureMLservicebanniere.png?raw=true'>"
   ]
  },
  {
   "cell_type": "code",
   "execution_count": 1,
   "metadata": {},
   "outputs": [
    {
     "name": "stdout",
     "output_type": "stream",
     "text": [
      "Version Python :  3.6.9 |Anaconda, Inc.| (default, Jul 30 2019, 19:07:31) \n",
      "[GCC 7.3.0]\n"
     ]
    }
   ],
   "source": [
    "import sys\n",
    "print(\"Version Python : \", sys.version)"
   ]
  },
  {
   "cell_type": "code",
   "execution_count": 2,
   "metadata": {},
   "outputs": [
    {
     "name": "stdout",
     "output_type": "stream",
     "text": [
      "2019-11-21 10:05:30.476617\n"
     ]
    }
   ],
   "source": [
    "import datetime\n",
    "now = datetime.datetime.now()\n",
    "print(now)"
   ]
  },
  {
   "cell_type": "code",
   "execution_count": 3,
   "metadata": {},
   "outputs": [
    {
     "name": "stdout",
     "output_type": "stream",
     "text": [
      "Version Azure ML service : 1.0.74\n"
     ]
    }
   ],
   "source": [
    "import azureml.core\n",
    "print(\"Version Azure ML service :\", azureml.core.VERSION)"
   ]
  },
  {
   "cell_type": "markdown",
   "metadata": {},
   "source": [
    "## 1. Création expérimentation\n",
    "\n",
    "As part of the setup you have already created an Azure ML `Workspace` object. For AutoML you will need to create an `Experiment` object, which is a named object in a `Workspace` used to run experiments."
   ]
  },
  {
   "cell_type": "code",
   "execution_count": 4,
   "metadata": {},
   "outputs": [],
   "source": [
    "import logging\n",
    "import os\n",
    "import random\n",
    "\n",
    "from matplotlib import pyplot as plt\n",
    "from matplotlib.pyplot import imshow\n",
    "import numpy as np\n",
    "import pandas as pd\n",
    "from sklearn import datasets\n",
    "\n",
    "import azureml.core\n",
    "from azureml.core.experiment import Experiment\n",
    "from azureml.core.workspace import Workspace\n",
    "from azureml.train.automl import AutoMLConfig\n",
    "from azureml.train.automl.run import AutoMLRun"
   ]
  },
  {
   "cell_type": "code",
   "execution_count": 5,
   "metadata": {},
   "outputs": [
    {
     "data": {
      "text/html": [
       "<div>\n",
       "<style scoped>\n",
       "    .dataframe tbody tr th:only-of-type {\n",
       "        vertical-align: middle;\n",
       "    }\n",
       "\n",
       "    .dataframe tbody tr th {\n",
       "        vertical-align: top;\n",
       "    }\n",
       "\n",
       "    .dataframe thead th {\n",
       "        text-align: right;\n",
       "    }\n",
       "</style>\n",
       "<table border=\"1\" class=\"dataframe\">\n",
       "  <thead>\n",
       "    <tr style=\"text-align: right;\">\n",
       "      <th></th>\n",
       "      <th></th>\n",
       "    </tr>\n",
       "  </thead>\n",
       "  <tbody>\n",
       "    <tr>\n",
       "      <th>SDK version</th>\n",
       "      <td>1.0.74</td>\n",
       "    </tr>\n",
       "    <tr>\n",
       "      <th>Workspace Name</th>\n",
       "      <td>workshopml</td>\n",
       "    </tr>\n",
       "    <tr>\n",
       "      <th>Resource Group</th>\n",
       "      <td>workshopmlRG</td>\n",
       "    </tr>\n",
       "    <tr>\n",
       "      <th>Location</th>\n",
       "      <td>northeurope</td>\n",
       "    </tr>\n",
       "    <tr>\n",
       "      <th>Project Directory</th>\n",
       "      <td>./sample_projects/workshop3</td>\n",
       "    </tr>\n",
       "    <tr>\n",
       "      <th>Experiment Name</th>\n",
       "      <td>workshop3</td>\n",
       "    </tr>\n",
       "  </tbody>\n",
       "</table>\n",
       "</div>"
      ],
      "text/plain": [
       "                                              \n",
       "SDK version        1.0.74                     \n",
       "Workspace Name     workshopml                 \n",
       "Resource Group     workshopmlRG               \n",
       "Location           northeurope                \n",
       "Project Directory  ./sample_projects/workshop3\n",
       "Experiment Name    workshop3                  "
      ]
     },
     "execution_count": 5,
     "metadata": {},
     "output_type": "execute_result"
    }
   ],
   "source": [
    "ws = Workspace.from_config()\n",
    "\n",
    "# Choose a name for the experiment and specify the project folder.\n",
    "experiment_name = 'workshop3'\n",
    "project_folder = './sample_projects/workshop3'\n",
    "\n",
    "experiment = Experiment(ws, experiment_name)\n",
    "\n",
    "output = {}\n",
    "output['SDK version'] = azureml.core.VERSION\n",
    "output['Workspace Name'] = ws.name\n",
    "output['Resource Group'] = ws.resource_group\n",
    "output['Location'] = ws.location\n",
    "output['Project Directory'] = project_folder\n",
    "output['Experiment Name'] = experiment.name\n",
    "pd.set_option('display.max_colwidth', -1)\n",
    "pd.DataFrame(data = output, index = ['']).T"
   ]
  },
  {
   "cell_type": "markdown",
   "metadata": {},
   "source": [
    "## 2. Chargement des données\n",
    "\n",
    "This uses scikit-learn's [load_diabetes](http://scikit-learn.org/stable/modules/generated/sklearn.datasets.load_diabetes.html) method."
   ]
  },
  {
   "cell_type": "code",
   "execution_count": 6,
   "metadata": {},
   "outputs": [],
   "source": [
    "# Load the diabetes dataset, a well-known built-in small dataset that comes with scikit-learn.\n",
    "from sklearn.datasets import load_diabetes\n",
    "from sklearn.linear_model import Ridge\n",
    "from sklearn.metrics import mean_squared_error\n",
    "from sklearn.model_selection import train_test_split\n",
    "\n",
    "X, y = load_diabetes(return_X_y = True)\n",
    "\n",
    "columns = ['age', 'gender', 'bmi', 'bp', 's1', 's2', 's3', 's4', 's5', 's6']\n",
    "\n",
    "X_train, X_test, y_train, y_test = train_test_split(X, y, test_size = 0.2, random_state = 0)"
   ]
  },
  {
   "cell_type": "markdown",
   "metadata": {},
   "source": [
    "## 3. Configuration AutoML\n"
   ]
  },
  {
   "cell_type": "code",
   "execution_count": 7,
   "metadata": {},
   "outputs": [
    {
     "name": "stderr",
     "output_type": "stream",
     "text": [
      "WARNING - The AutoMLConfig inputs you have specified will soon be deprecated. Please use the AutoMLConfig shown in our documentation: https://aka.ms/AutoMLConfig\n"
     ]
    }
   ],
   "source": [
    "automl_config = AutoMLConfig(task = 'regression',\n",
    "                             #iterations = 5,\n",
    "                             iteration_timeout_minutes = 2,\n",
    "                             experiment_timeout_minutes = 5,\n",
    "                             enable_early_stopping=True,\n",
    "                             primary_metric = 'spearman_correlation',\n",
    "                             n_cross_validations = 3,\n",
    "                             debug_log = 'automl.log',\n",
    "                             verbosity = logging.INFO,\n",
    "                             X = X_train, \n",
    "                             y = y_train,\n",
    "                             path = project_folder)"
   ]
  },
  {
   "cell_type": "markdown",
   "metadata": {},
   "source": [
    "## 4. AutoML\n",
    "\n",
    "Call the `submit` method on the experiment object and pass the run configuration. Execution of local runs is synchronous. Depending on the data and the number of iterations this can run for a while.\n",
    "In this example, we specify `show_output = True` to print currently running iterations to the console.\n",
    "\n",
    "`spearman_correlation` is the metric used."
   ]
  },
  {
   "cell_type": "code",
   "execution_count": 8,
   "metadata": {
    "scrolled": true
   },
   "outputs": [
    {
     "name": "stdout",
     "output_type": "stream",
     "text": [
      "Running on local machine\n",
      "Parent Run ID: AutoML_5322eb3d-4fbf-4b15-ae29-a1a36a2f3d44\n",
      "Current status: DatasetCrossValidationSplit. Generating CV splits.\n",
      "Current status: ModelSelection. Beginning model selection.\n",
      "\n",
      "****************************************************************************************************\n",
      "ITERATION: The iteration being evaluated.\n",
      "PIPELINE: A summary description of the pipeline being evaluated.\n",
      "DURATION: Time taken for the current iteration.\n",
      "METRIC: The result of computing score on the fitted pipeline.\n",
      "BEST: The best observed score thus far.\n",
      "****************************************************************************************************\n",
      "\n",
      " ITERATION   PIPELINE                                       DURATION      METRIC      BEST\n",
      "         0   StandardScalerWrapper RandomForest             0:00:13       0.6795    0.6795\n",
      "         1   MinMaxScaler RandomForest                      0:00:11       0.6825    0.6825\n",
      "         2   StandardScalerWrapper ExtremeRandomTrees       0:00:14       0.6478    0.6825\n",
      "         3   StandardScalerWrapper LightGBM                 0:00:11       0.6879    0.6879\n",
      "         4   RobustScaler DecisionTree                      0:00:11       0.4806    0.6879\n",
      "         5   StandardScalerWrapper LassoLars                0:00:11       0.7123    0.7123\n",
      "         6   StandardScalerWrapper LightGBM                 0:00:11       0.6739    0.7123\n",
      "         7   StandardScalerWrapper RandomForest             0:00:11       0.6868    0.7123\n",
      "         8   StandardScalerWrapper LassoLars                0:00:11       0.7120    0.7123\n",
      "         9   MinMaxScaler ExtremeRandomTrees                0:00:11       0.6454    0.7123\n",
      "        10   RobustScaler ExtremeRandomTrees                0:00:11       0.6788    0.7123\n",
      "        11   StandardScalerWrapper ExtremeRandomTrees       0:00:11       0.6620    0.7123\n",
      "        12   MinMaxScaler ExtremeRandomTrees                0:00:11       0.6677    0.7123\n",
      "        13   RobustScaler RandomForest                      0:00:11       0.6636    0.7123\n",
      "        14   StandardScalerWrapper LassoLars                0:00:12       0.7130    0.7130\n",
      "        15   StandardScalerWrapper ExtremeRandomTrees       0:00:12       0.6951    0.7130\n",
      "        16   StandardScalerWrapper RandomForest             0:00:11       0.6809    0.7130\n",
      "        17   MinMaxScaler SGD                               0:00:12       0.6815    0.7130\n",
      "        18   StandardScalerWrapper RandomForest             0:00:12       0.6779    0.7130\n",
      "        19   MinMaxScaler RandomForest                      0:00:11       0.6881    0.7130\n",
      "        20   RobustScaler LassoLars                         0:00:14       0.7116    0.7130\n",
      "        21   RobustScaler DecisionTree                      0:00:12       0.5408    0.7130\n",
      "        22   StandardScalerWrapper ExtremeRandomTrees       0:00:14       0.6876    0.7130\n",
      "        23   MaxAbsScaler RandomForest                      0:00:13       0.5118    0.7130\n",
      "        24   MaxAbsScaler LightGBM                          0:00:13       0.6379    0.7130\n",
      "        25   VotingEnsemble                                 0:00:19       0.7264    0.7264\n",
      "        26   StackEnsemble                                  0:00:20       0.7227    0.7264\n",
      "Stopping criteria reached at iteration 26. Ending experiment.\n"
     ]
    }
   ],
   "source": [
    "local_run = experiment.submit(automl_config, show_output = True)"
   ]
  },
  {
   "cell_type": "code",
   "execution_count": 9,
   "metadata": {},
   "outputs": [
    {
     "data": {
      "text/html": [
       "<table style=\"width:100%\"><tr><th>Experiment</th><th>Id</th><th>Type</th><th>Status</th><th>Details Page</th><th>Docs Page</th></tr><tr><td>workshop3</td><td>AutoML_5322eb3d-4fbf-4b15-ae29-a1a36a2f3d44</td><td>automl</td><td>Running</td><td><a href=\"https://ml.azure.com/experiments/workshop3/runs/AutoML_5322eb3d-4fbf-4b15-ae29-a1a36a2f3d44?wsid=/subscriptions/70b8f39e-8863-49f7-b6ba-34a80799550c/resourcegroups/workshopmlRG/workspaces/workshopml\" target=\"_blank\" rel=\"noopener\">Link to Azure Machine Learning studio</a></td><td><a href=\"https://docs.microsoft.com/en-us/python/api/overview/azure/ml/intro?view=azure-ml-py\" target=\"_blank\" rel=\"noopener\">Link to Documentation</a></td></tr></table>"
      ],
      "text/plain": [
       "Run(Experiment: workshop3,\n",
       "Id: AutoML_5322eb3d-4fbf-4b15-ae29-a1a36a2f3d44,\n",
       "Type: automl,\n",
       "Status: Running)"
      ]
     },
     "execution_count": 9,
     "metadata": {},
     "output_type": "execute_result"
    }
   ],
   "source": [
    "local_run"
   ]
  },
  {
   "cell_type": "markdown",
   "metadata": {},
   "source": [
    "## Autre AutoML"
   ]
  },
  {
   "cell_type": "code",
   "execution_count": 10,
   "metadata": {},
   "outputs": [
    {
     "name": "stderr",
     "output_type": "stream",
     "text": [
      "WARNING - The AutoMLConfig inputs you have specified will soon be deprecated. Please use the AutoMLConfig shown in our documentation: https://aka.ms/AutoMLConfig\n"
     ]
    }
   ],
   "source": [
    "automl_config = AutoMLConfig(task = 'regression',\n",
    "                             iteration_timeout_minutes = 5,\n",
    "                             iterations = 10,\n",
    "                             primary_metric = 'spearman_correlation',\n",
    "                             n_cross_validations = 5,\n",
    "                             debug_log = 'automl2.log',\n",
    "                             verbosity = logging.INFO,\n",
    "                             whitelist_models = [\"LightGBM\", \"RandomForest\"],\n",
    "                             enable_stack_ensemble=False,\n",
    "                             enable_voting_ensemble=False,\n",
    "                             X = X_train, \n",
    "                             y = y_train,\n",
    "                             path = project_folder)"
   ]
  },
  {
   "cell_type": "code",
   "execution_count": 11,
   "metadata": {},
   "outputs": [
    {
     "name": "stdout",
     "output_type": "stream",
     "text": [
      "Running on local machine\n",
      "Parent Run ID: AutoML_eb2eebad-0023-4d1f-928e-1d02b8bdc960\n",
      "Current status: DatasetCrossValidationSplit. Generating CV splits.\n",
      "Current status: ModelSelection. Beginning model selection.\n",
      "\n",
      "****************************************************************************************************\n",
      "ITERATION: The iteration being evaluated.\n",
      "PIPELINE: A summary description of the pipeline being evaluated.\n",
      "DURATION: Time taken for the current iteration.\n",
      "METRIC: The result of computing score on the fitted pipeline.\n",
      "BEST: The best observed score thus far.\n",
      "****************************************************************************************************\n",
      "\n",
      " ITERATION   PIPELINE                                       DURATION      METRIC      BEST\n",
      "         0   StandardScalerWrapper RandomForest             0:00:14       0.6955    0.6955\n",
      "         1   MinMaxScaler RandomForest                      0:00:13       0.6833    0.6955\n",
      "         2   StandardScalerWrapper LightGBM                 0:00:12       0.6831    0.6955\n",
      "         3   StandardScalerWrapper LightGBM                 0:00:12       0.6774    0.6955\n",
      "         4   StandardScalerWrapper RandomForest             0:00:12       0.6977    0.6977\n",
      "         5   RobustScaler RandomForest                      0:00:12       0.6937    0.6977\n",
      "         6   StandardScalerWrapper RandomForest             0:00:12       0.6917    0.6977\n",
      "         7   StandardScalerWrapper RandomForest             0:00:12       0.6592    0.6977\n",
      "         8   MinMaxScaler RandomForest                      0:00:11       0.6801    0.6977\n",
      "         9   StandardScalerWrapper RandomForest             0:00:12       0.6798    0.6977\n"
     ]
    }
   ],
   "source": [
    "local_run = experiment.submit(automl_config, show_output = True)"
   ]
  },
  {
   "cell_type": "code",
   "execution_count": 12,
   "metadata": {},
   "outputs": [
    {
     "data": {
      "text/html": [
       "<table style=\"width:100%\"><tr><th>Experiment</th><th>Id</th><th>Type</th><th>Status</th><th>Details Page</th><th>Docs Page</th></tr><tr><td>workshop3</td><td>AutoML_eb2eebad-0023-4d1f-928e-1d02b8bdc960</td><td>automl</td><td>Running</td><td><a href=\"https://ml.azure.com/experiments/workshop3/runs/AutoML_eb2eebad-0023-4d1f-928e-1d02b8bdc960?wsid=/subscriptions/70b8f39e-8863-49f7-b6ba-34a80799550c/resourcegroups/workshopmlRG/workspaces/workshopml\" target=\"_blank\" rel=\"noopener\">Link to Azure Machine Learning studio</a></td><td><a href=\"https://docs.microsoft.com/en-us/python/api/overview/azure/ml/intro?view=azure-ml-py\" target=\"_blank\" rel=\"noopener\">Link to Documentation</a></td></tr></table>"
      ],
      "text/plain": [
       "Run(Experiment: workshop3,\n",
       "Id: AutoML_eb2eebad-0023-4d1f-928e-1d02b8bdc960,\n",
       "Type: automl,\n",
       "Status: Running)"
      ]
     },
     "execution_count": 12,
     "metadata": {},
     "output_type": "execute_result"
    }
   ],
   "source": [
    "local_run"
   ]
  },
  {
   "cell_type": "markdown",
   "metadata": {},
   "source": [
    "## 5. Exploration des résultats"
   ]
  },
  {
   "cell_type": "markdown",
   "metadata": {},
   "source": [
    "### 5.1 Widget Notebook\n",
    "\n",
    "The widget will first report a \"loading\" status while running the first iteration. After completing the first iteration, an auto-updating graph and table will be shown. The widget will refresh once per minute, so you should see the graph update as child runs complete.\n",
    "\n",
    "**Note:** The widget displays a link at the bottom. Use this link to open a web interface to explore the individual run details."
   ]
  },
  {
   "cell_type": "code",
   "execution_count": 13,
   "metadata": {},
   "outputs": [
    {
     "data": {
      "application/vnd.jupyter.widget-view+json": {
       "model_id": "9d74fc96dd514f5ca1fdfa85e6711038",
       "version_major": 2,
       "version_minor": 0
      },
      "text/plain": [
       "_AutoMLWidget(widget_settings={'childWidgetDisplay': 'popup', 'send_telemetry': False, 'log_level': 'INFO', 's…"
      ]
     },
     "metadata": {},
     "output_type": "display_data"
    },
    {
     "data": {
      "application/aml.mini.widget.v1": "{\"status\": \"Completed\", \"workbench_run_details_uri\": \"https://ml.azure.com/experiments/workshop3/runs/AutoML_eb2eebad-0023-4d1f-928e-1d02b8bdc960?wsid=/subscriptions/70b8f39e-8863-49f7-b6ba-34a80799550c/resourcegroups/workshopmlRG/workspaces/workshopml\", \"run_id\": \"AutoML_eb2eebad-0023-4d1f-928e-1d02b8bdc960\", \"run_properties\": {\"run_id\": \"AutoML_eb2eebad-0023-4d1f-928e-1d02b8bdc960\", \"created_utc\": \"2019-11-21T10:12:43.463551Z\", \"properties\": {\"num_iterations\": \"10\", \"training_type\": \"TrainFull\", \"acquisition_function\": \"EI\", \"primary_metric\": \"spearman_correlation\", \"train_split\": \"0\", \"MaxTimeSeconds\": \"300\", \"acquisition_parameter\": \"0\", \"num_cross_validation\": \"5\", \"target\": \"local\", \"RawAMLSettingsString\": \"{'name': 'workshop3', 'path': './sample_projects/workshop3', 'subscription_id': '70b8f39e-8863-49f7-b6ba-34a80799550c', 'resource_group': 'workshopmlRG', 'workspace_name': 'workshopml', 'region': 'northeurope', 'compute_target': 'local', 'spark_service': None, 'azure_service': None, 'iterations': 10, 'primary_metric': 'spearman_correlation', 'task_type': 'regression', 'data_script': None, 'validation_size': 0.0, 'n_cross_validations': 5, 'y_min': 25.0, 'y_max': 346.0, 'num_classes': None, 'featurization': 'off', 'preprocess': False, 'lag_length': 0, 'is_timeseries': False, 'max_cores_per_iteration': 1, 'max_concurrent_iterations': 1, 'iteration_timeout_minutes': 5, 'mem_in_mb': None, 'enforce_time_on_windows': False, 'experiment_timeout_minutes': None, 'experiment_exit_score': None, 'whitelist_models': ['LightGBM', 'RandomForest'], 'blacklist_algos': ['XGBoostRegressor', 'Prophet'], 'supported_models': ['TensorFlowLinearRegressor', 'GradientBoosting', 'KNN', 'DecisionTree', 'ExtremeRandomTrees', 'FastLinearRegressor', 'LassoLars', 'SGD', 'RandomForest', 'TensorFlowDNN', 'XGBoostRegressor', 'OnlineGradientDescentRegressor', 'LightGBM', 'ElasticNet'], 'auto_blacklist': True, 'blacklist_samples_reached': False, 'exclude_nan_labels': True, 'verbosity': 20, 'debug_log': 'automl2.log', 'show_warnings': False, 'model_explainability': False, 'service_url': None, 'sdk_url': None, 'sdk_packages': None, 'enable_onnx_compatible_models': False, 'enable_split_onnx_featurizer_estimator_models': False, 'vm_type': None, 'telemetry_verbosity': 'INFO', 'send_telemetry': True, 'enable_dnn': False, 'enable_feature_sweeping': True, 'enable_early_stopping': False, 'early_stopping_n_iters': 10, 'metrics': None, 'enable_ensembling': False, 'enable_stack_ensembling': False, 'ensemble_iterations': 10, 'enable_tf': False, 'enable_cache': True, 'enable_subsampling': False, 'subsample_seed': None, 'enable_nimbusml': False, 'enable_streaming': False, 'label_column_name': None, 'weight_column_name': None, 'cost_mode': 0, 'metric_operation': 'maximize'}\", \"AMLSettingsJsonString\": \"{\\\"name\\\":\\\"workshop3\\\",\\\"path\\\":\\\"./sample_projects/workshop3\\\",\\\"subscription_id\\\":\\\"70b8f39e-8863-49f7-b6ba-34a80799550c\\\",\\\"resource_group\\\":\\\"workshopmlRG\\\",\\\"workspace_name\\\":\\\"workshopml\\\",\\\"region\\\":\\\"northeurope\\\",\\\"compute_target\\\":\\\"local\\\",\\\"spark_service\\\":null,\\\"azure_service\\\":null,\\\"iterations\\\":10,\\\"primary_metric\\\":\\\"spearman_correlation\\\",\\\"task_type\\\":\\\"regression\\\",\\\"data_script\\\":null,\\\"validation_size\\\":0.0,\\\"n_cross_validations\\\":5,\\\"y_min\\\":25.0,\\\"y_max\\\":346.0,\\\"num_classes\\\":null,\\\"featurization\\\":\\\"off\\\",\\\"preprocess\\\":false,\\\"lag_length\\\":0,\\\"is_timeseries\\\":false,\\\"max_cores_per_iteration\\\":1,\\\"max_concurrent_iterations\\\":1,\\\"iteration_timeout_minutes\\\":5,\\\"mem_in_mb\\\":null,\\\"enforce_time_on_windows\\\":false,\\\"experiment_timeout_minutes\\\":null,\\\"experiment_exit_score\\\":null,\\\"whitelist_models\\\":[\\\"LightGBM\\\",\\\"RandomForest\\\"],\\\"blacklist_algos\\\":[\\\"XGBoostRegressor\\\",\\\"Prophet\\\",\\\"AutoArima\\\"],\\\"supported_models\\\":[\\\"TensorFlowLinearRegressor\\\",\\\"GradientBoosting\\\",\\\"KNN\\\",\\\"DecisionTree\\\",\\\"ExtremeRandomTrees\\\",\\\"FastLinearRegressor\\\",\\\"LassoLars\\\",\\\"SGD\\\",\\\"RandomForest\\\",\\\"TensorFlowDNN\\\",\\\"XGBoostRegressor\\\",\\\"OnlineGradientDescentRegressor\\\",\\\"LightGBM\\\",\\\"ElasticNet\\\"],\\\"auto_blacklist\\\":true,\\\"blacklist_samples_reached\\\":false,\\\"exclude_nan_labels\\\":true,\\\"verbosity\\\":20,\\\"debug_log\\\":\\\"automl2.log\\\",\\\"show_warnings\\\":false,\\\"model_explainability\\\":false,\\\"service_url\\\":null,\\\"sdk_url\\\":null,\\\"sdk_packages\\\":null,\\\"enable_onnx_compatible_models\\\":false,\\\"enable_split_onnx_featurizer_estimator_models\\\":false,\\\"vm_type\\\":null,\\\"telemetry_verbosity\\\":\\\"INFO\\\",\\\"send_telemetry\\\":true,\\\"enable_dnn\\\":false,\\\"enable_feature_sweeping\\\":true,\\\"enable_early_stopping\\\":false,\\\"early_stopping_n_iters\\\":10,\\\"metrics\\\":null,\\\"enable_ensembling\\\":false,\\\"enable_stack_ensembling\\\":false,\\\"ensemble_iterations\\\":10,\\\"enable_tf\\\":false,\\\"enable_cache\\\":true,\\\"enable_subsampling\\\":false,\\\"subsample_seed\\\":null,\\\"enable_nimbusml\\\":false,\\\"enable_streaming\\\":false,\\\"label_column_name\\\":null,\\\"weight_column_name\\\":null,\\\"cost_mode\\\":0,\\\"metric_operation\\\":\\\"maximize\\\"}\", \"DataPrepJsonString\": null, \"EnableSubsampling\": \"False\", \"runTemplate\": \"AutoML\", \"azureml.runsource\": \"automl\", \"display_task_type\": \"regression\", \"dependencies_versions\": \"{\\\"azureml-widgets\\\": \\\"1.0.74\\\", \\\"azureml-train\\\": \\\"1.0.74\\\", \\\"azureml-train-restclients-hyperdrive\\\": \\\"1.0.74\\\", \\\"azureml-train-core\\\": \\\"1.0.74\\\", \\\"azureml-train-automl\\\": \\\"1.0.74\\\", \\\"azureml-tensorboard\\\": \\\"1.0.74\\\", \\\"azureml-telemetry\\\": \\\"1.0.74\\\", \\\"azureml-sdk\\\": \\\"1.0.74\\\", \\\"azureml-samples\\\": \\\"0+unknown\\\", \\\"azureml-pipeline\\\": \\\"1.0.74\\\", \\\"azureml-pipeline-steps\\\": \\\"1.0.74\\\", \\\"azureml-pipeline-core\\\": \\\"1.0.74\\\", \\\"azureml-opendatasets\\\": \\\"1.0.74\\\", \\\"azureml-model-management-sdk\\\": \\\"1.0.1b6.post1\\\", \\\"azureml-mlflow\\\": \\\"1.0.74\\\", \\\"azureml-interpret\\\": \\\"1.0.74\\\", \\\"azureml-explain-model\\\": \\\"1.0.74\\\", \\\"azureml-defaults\\\": \\\"1.0.74\\\", \\\"azureml-dataprep\\\": \\\"1.1.30\\\", \\\"azureml-dataprep-native\\\": \\\"13.1.0\\\", \\\"azureml-datadrift\\\": \\\"1.0.74\\\", \\\"azureml-core\\\": \\\"1.0.74\\\", \\\"azureml-contrib-services\\\": \\\"1.0.74\\\", \\\"azureml-contrib-server\\\": \\\"1.0.74\\\", \\\"azureml-contrib-reinforcementlearning\\\": \\\"0.1.0.5919674\\\", \\\"azureml-contrib-opendatasets\\\": \\\"1.0.45\\\", \\\"azureml-contrib-notebook\\\": \\\"1.0.74\\\", \\\"azureml-contrib-interpret\\\": \\\"1.0.74\\\", \\\"azureml-contrib-datadrift\\\": \\\"1.0.74\\\", \\\"azureml-automl-core\\\": \\\"1.0.74\\\"}\", \"ProblemInfoJsonString\": \"{\\\"dataset_num_categorical\\\": 0, \\\"is_sparse\\\": false, \\\"subsampling\\\": false, \\\"dataset_classes\\\": 194, \\\"dataset_features\\\": 10, \\\"dataset_samples\\\": 353, \\\"single_frequency_class_detected\\\": false}\"}, \"tags\": {\"model_explain_run\": \"best_run\", \"experiment_status\": \"ModelSelection\", \"experiment_status_descr\": \"Beginning model selection.\"}, \"end_time_utc\": \"2019-11-21T10:14:54.268222Z\", \"status\": \"Completed\", \"log_files\": {}, \"log_groups\": [], \"run_duration\": \"0:02:10\"}, \"child_runs\": [{\"run_id\": \"AutoML_eb2eebad-0023-4d1f-928e-1d02b8bdc960_0\", \"run_number\": 42, \"metric\": null, \"status\": \"Completed\", \"run_type\": null, \"training_percent\": \"100\", \"start_time\": \"2019-11-21T10:12:46.476411Z\", \"end_time\": \"2019-11-21T10:13:00.470593Z\", \"created_time\": \"2019-11-21T10:12:46.388116Z\", \"created_time_dt\": \"2019-11-21T10:12:46.388116Z\", \"duration\": \"0:00:14\", \"iteration\": \"0\", \"goal\": \"spearman_correlation_max\", \"run_name\": \"StandardScalerWrapper, RandomForest\", \"run_properties\": \"bootstrap=False, criterion='mse', max_depth=None,\\n           max_features='sqrt', max_leaf_nodes=None,\\n           min_impurity_decrease=0.0, min_impurity_split=None,\\n           min_samples_leaf=0.05040306135985514,\\n           min_samples_split=0.002602463309528381,\\n           min_weight_fraction_leaf=0.0, n_estimators=25, n_jobs=1,\\n           oob_score=False, random_state=None, verbose=0, warm_start=False\", \"primary_metric\": 0.69545265, \"best_metric\": 0.69545265}, {\"run_id\": \"AutoML_eb2eebad-0023-4d1f-928e-1d02b8bdc960_1\", \"run_number\": 43, \"metric\": null, \"status\": \"Completed\", \"run_type\": null, \"training_percent\": \"100\", \"start_time\": \"2019-11-21T10:13:01.615796Z\", \"end_time\": \"2019-11-21T10:13:13.055093Z\", \"created_time\": \"2019-11-21T10:13:01.538239Z\", \"created_time_dt\": \"2019-11-21T10:13:01.538239Z\", \"duration\": \"0:00:11\", \"iteration\": \"1\", \"goal\": \"spearman_correlation_max\", \"run_name\": \"MinMaxScaler, RandomForest\", \"run_properties\": \"bootstrap=True, criterion='mse', max_depth=None,\\n           max_features=0.9, max_leaf_nodes=None,\\n           min_impurity_decrease=0.0, min_impurity_split=None,\\n           min_samples_leaf=0.006151578686713196,\\n           min_samples_split=0.010734188827013528,\\n           min_weight_fraction_leaf=0.0, n_estimators=25, n_jobs=1,\\n           oob_score=False, random_state=None, verbose=0, warm_start=False\", \"primary_metric\": 0.68329865, \"best_metric\": 0.69545265}, {\"run_id\": \"AutoML_eb2eebad-0023-4d1f-928e-1d02b8bdc960_2\", \"run_number\": 44, \"metric\": null, \"status\": \"Completed\", \"run_type\": null, \"training_percent\": \"100\", \"start_time\": \"2019-11-21T10:13:14.735307Z\", \"end_time\": \"2019-11-21T10:13:26.399388Z\", \"created_time\": \"2019-11-21T10:13:14.524534Z\", \"created_time_dt\": \"2019-11-21T10:13:14.524534Z\", \"duration\": \"0:00:11\", \"iteration\": \"2\", \"goal\": \"spearman_correlation_max\", \"run_name\": \"StandardScalerWrapper, LightGBM\", \"run_properties\": \"boosting_type='gbdt', class_weight=None, colsample_bytree=1,\\n         importance_type='split', learning_rate=0.12631947368421054,\\n         max_bin=63, max_depth=5, min_child_samples=11,\\n         min_child_weight=0.001, min_split_gain=0.8421052631578947,\\n         n_estimators=25, n_jobs=1, num_leaves=3, objective=None,\\n         random_state=None, reg_alpha=0.3, reg_lambda=0.15, silent=True,\\n         subsample=0.9, subsample_for_bin=200000, subsample_freq=3,\\n         verbose=-1\", \"primary_metric\": 0.68306368, \"best_metric\": 0.69545265}, {\"run_id\": \"AutoML_eb2eebad-0023-4d1f-928e-1d02b8bdc960_3\", \"run_number\": 45, \"metric\": null, \"status\": \"Completed\", \"run_type\": null, \"training_percent\": \"100\", \"start_time\": \"2019-11-21T10:13:27.877303Z\", \"end_time\": \"2019-11-21T10:13:38.858888Z\", \"created_time\": \"2019-11-21T10:13:27.797897Z\", \"created_time_dt\": \"2019-11-21T10:13:27.797897Z\", \"duration\": \"0:00:11\", \"iteration\": \"3\", \"goal\": \"spearman_correlation_max\", \"run_name\": \"StandardScalerWrapper, LightGBM\", \"run_properties\": \"boosting_type='gbdt', class_weight=None, colsample_bytree=1,\\n         importance_type='split', learning_rate=0.1052678947368421,\\n         max_bin=7, max_depth=7, min_child_samples=1,\\n         min_child_weight=0.001, min_split_gain=0.7368421052631579,\\n         n_estimators=50, n_jobs=1, num_leaves=31, objective=None,\\n         random_state=None, reg_alpha=0, reg_lambda=1.5, silent=True,\\n         subsample=0.65, subsample_for_bin=200000, subsample_freq=1,\\n         verbose=-1\", \"primary_metric\": 0.6774315, \"best_metric\": 0.69545265}, {\"run_id\": \"AutoML_eb2eebad-0023-4d1f-928e-1d02b8bdc960_4\", \"run_number\": 46, \"metric\": null, \"status\": \"Completed\", \"run_type\": null, \"training_percent\": \"100\", \"start_time\": \"2019-11-21T10:13:39.857371Z\", \"end_time\": \"2019-11-21T10:13:50.903649Z\", \"created_time\": \"2019-11-21T10:13:39.751127Z\", \"created_time_dt\": \"2019-11-21T10:13:39.751127Z\", \"duration\": \"0:00:11\", \"iteration\": \"4\", \"goal\": \"spearman_correlation_max\", \"run_name\": \"StandardScalerWrapper, RandomForest\", \"run_properties\": \"bootstrap=False, criterion='mse', max_depth=None,\\n           max_features='sqrt', max_leaf_nodes=None,\\n           min_impurity_decrease=0.0, min_impurity_split=None,\\n           min_samples_leaf=0.02840067375118317,\\n           min_samples_split=0.0008991789964660114,\\n           min_weight_fraction_leaf=0.0, n_estimators=25, n_jobs=1,\\n           oob_score=False, random_state=None, verbose=0, warm_start=False\", \"primary_metric\": 0.69774622, \"best_metric\": 0.69774622}, {\"run_id\": \"AutoML_eb2eebad-0023-4d1f-928e-1d02b8bdc960_5\", \"run_number\": 47, \"metric\": null, \"status\": \"Completed\", \"run_type\": null, \"training_percent\": \"100\", \"start_time\": \"2019-11-21T10:13:52.421633Z\", \"end_time\": \"2019-11-21T10:14:03.985169Z\", \"created_time\": \"2019-11-21T10:13:52.259174Z\", \"created_time_dt\": \"2019-11-21T10:13:52.259174Z\", \"duration\": \"0:00:11\", \"iteration\": \"5\", \"goal\": \"spearman_correlation_max\", \"run_name\": \"RobustScaler, RandomForest\", \"run_properties\": \"bootstrap=True, criterion='mse', max_depth=None,\\n           max_features=0.1, max_leaf_nodes=None,\\n           min_impurity_decrease=0.0, min_impurity_split=None,\\n           min_samples_leaf=0.004196633747563344,\\n           min_samples_split=0.001529732116091358,\\n           min_weight_fraction_leaf=0.0, n_estimators=25, n_jobs=1,\\n           oob_score=False, random_state=None, verbose=0, warm_start=False\", \"primary_metric\": 0.69368302, \"best_metric\": 0.69774622}, {\"run_id\": \"AutoML_eb2eebad-0023-4d1f-928e-1d02b8bdc960_6\", \"run_number\": 48, \"metric\": null, \"status\": \"Completed\", \"run_type\": null, \"training_percent\": \"100\", \"start_time\": \"2019-11-21T10:14:05.392923Z\", \"end_time\": \"2019-11-21T10:14:16.861723Z\", \"created_time\": \"2019-11-21T10:14:05.301814Z\", \"created_time_dt\": \"2019-11-21T10:14:05.301814Z\", \"duration\": \"0:00:11\", \"iteration\": \"6\", \"goal\": \"spearman_correlation_max\", \"run_name\": \"StandardScalerWrapper, RandomForest\", \"run_properties\": \"bootstrap=True, criterion='mse', max_depth=None,\\n           max_features='log2', max_leaf_nodes=None,\\n           min_impurity_decrease=0.0, min_impurity_split=None,\\n           min_samples_leaf=0.006151578686713196,\\n           min_samples_split=0.018261584682702607,\\n           min_weight_fraction_leaf=0.0, n_estimators=25, n_jobs=1,\\n           oob_score=False, random_state=None, verbose=0, warm_start=False\", \"primary_metric\": 0.69167496, \"best_metric\": 0.69774622}, {\"run_id\": \"AutoML_eb2eebad-0023-4d1f-928e-1d02b8bdc960_7\", \"run_number\": 49, \"metric\": null, \"status\": \"Completed\", \"run_type\": null, \"training_percent\": \"100\", \"start_time\": \"2019-11-21T10:14:18.050928Z\", \"end_time\": \"2019-11-21T10:14:29.083556Z\", \"created_time\": \"2019-11-21T10:14:17.972269Z\", \"created_time_dt\": \"2019-11-21T10:14:17.972269Z\", \"duration\": \"0:00:11\", \"iteration\": \"7\", \"goal\": \"spearman_correlation_max\", \"run_name\": \"StandardScalerWrapper, RandomForest\", \"run_properties\": \"bootstrap=True, criterion='mse', max_depth=None,\\n           max_features=0.6, max_leaf_nodes=None,\\n           min_impurity_decrease=0.0, min_impurity_split=None,\\n           min_samples_leaf=0.0074478228980205795,\\n           min_samples_split=0.0018261584682702607,\\n           min_weight_fraction_leaf=0.0, n_estimators=10, n_jobs=1,\\n           oob_score=False, random_state=None, verbose=0, warm_start=False\", \"primary_metric\": 0.65922647, \"best_metric\": 0.69774622}, {\"run_id\": \"AutoML_eb2eebad-0023-4d1f-928e-1d02b8bdc960_8\", \"run_number\": 50, \"metric\": null, \"status\": \"Completed\", \"run_type\": null, \"training_percent\": \"100\", \"start_time\": \"2019-11-21T10:14:30.593729Z\", \"end_time\": \"2019-11-21T10:14:41.338487Z\", \"created_time\": \"2019-11-21T10:14:30.373314Z\", \"created_time_dt\": \"2019-11-21T10:14:30.373314Z\", \"duration\": \"0:00:10\", \"iteration\": \"8\", \"goal\": \"spearman_correlation_max\", \"run_name\": \"MinMaxScaler, RandomForest\", \"run_properties\": \"bootstrap=True, criterion='mse', max_depth=None,\\n           max_features='log2', max_leaf_nodes=None,\\n           min_impurity_decrease=0.0, min_impurity_split=None,\\n           min_samples_leaf=0.01600296187889058,\\n           min_samples_split=0.15297321160913582,\\n           min_weight_fraction_leaf=0.0, n_estimators=25, n_jobs=1,\\n           oob_score=False, random_state=None, verbose=0, warm_start=False\", \"primary_metric\": 0.68007835, \"best_metric\": 0.69774622}, {\"run_id\": \"AutoML_eb2eebad-0023-4d1f-928e-1d02b8bdc960_9\", \"run_number\": 51, \"metric\": null, \"status\": \"Completed\", \"run_type\": null, \"training_percent\": \"100\", \"start_time\": \"2019-11-21T10:14:42.853862Z\", \"end_time\": \"2019-11-21T10:14:53.584403Z\", \"created_time\": \"2019-11-21T10:14:42.698006Z\", \"created_time_dt\": \"2019-11-21T10:14:42.698006Z\", \"duration\": \"0:00:10\", \"iteration\": \"9\", \"goal\": \"spearman_correlation_max\", \"run_name\": \"StandardScalerWrapper, RandomForest\", \"run_properties\": \"bootstrap=False, criterion='mse', max_depth=None,\\n           max_features=0.3, max_leaf_nodes=None,\\n           min_impurity_decrease=0.0, min_impurity_split=None,\\n           min_samples_leaf=0.07388264419939175,\\n           min_samples_split=0.005285388593079247,\\n           min_weight_fraction_leaf=0.0, n_estimators=10, n_jobs=1,\\n           oob_score=False, random_state=None, verbose=0, warm_start=False\", \"primary_metric\": 0.67979779, \"best_metric\": 0.69774622}], \"children_metrics\": {\"categories\": [0], \"series\": {\"spearman_correlation\": [{\"categories\": [\"0\", \"1\", \"2\", \"3\", \"4\", \"5\", \"6\", \"7\", \"8\", \"9\"], \"mode\": \"markers\", \"name\": \"spearman_correlation\", \"stepped\": false, \"type\": \"scatter\", \"data\": [0.6954526527900216, 0.6832986464136525, 0.6830636781822348, 0.6774314996972028, 0.6977462171023844, 0.6936830164372861, 0.6916749562881938, 0.6592264726986888, 0.680078347586335, 0.6797977901892931]}, {\"categories\": [\"0\", \"1\", \"2\", \"3\", \"4\", \"5\", \"6\", \"7\", \"8\", \"9\"], \"mode\": \"lines\", \"name\": \"spearman_correlation_max\", \"stepped\": true, \"type\": \"scatter\", \"data\": [0.6954526527900216, 0.6954526527900216, 0.6954526527900216, 0.6954526527900216, 0.6977462171023844, 0.6977462171023844, 0.6977462171023844, 0.6977462171023844, 0.6977462171023844, 0.6977462171023844]}], \"mean_absolute_percentage_error\": [{\"categories\": [\"0\", \"1\", \"2\", \"3\", \"4\", \"5\", \"6\", \"7\", \"8\", \"9\"], \"mode\": \"markers\", \"name\": \"mean_absolute_percentage_error\", \"stepped\": false, \"type\": \"scatter\", \"data\": [41.891482220019256, 39.71020940629482, 42.15438054717965, 39.96303455940697, 40.702523987168966, 43.31287332922229, 40.94452379160377, 41.04490914080414, 44.13688482489585, 42.53878240150413]}, {\"categories\": [\"0\", \"1\", \"2\", \"3\", \"4\", \"5\", \"6\", \"7\", \"8\", \"9\"], \"mode\": \"lines\", \"name\": \"mean_absolute_percentage_error_min\", \"stepped\": true, \"type\": \"scatter\", \"data\": [41.891482220019256, 39.71020940629482, 39.71020940629482, 39.71020940629482, 39.71020940629482, 39.71020940629482, 39.71020940629482, 39.71020940629482, 39.71020940629482, 39.71020940629482]}], \"normalized_median_absolute_error\": [{\"categories\": [\"0\", \"1\", \"2\", \"3\", \"4\", \"5\", \"6\", \"7\", \"8\", \"9\"], \"mode\": \"markers\", \"name\": \"normalized_median_absolute_error\", \"stepped\": false, \"type\": \"scatter\", \"data\": [0.1346461509607376, 0.11829359640013844, 0.1267808359968559, 0.1237312599304475, 0.13216249406021266, 0.13674989368540774, 0.13418686598966978, 0.12618173389435072, 0.14187234151096356, 0.13519846949620148]}, {\"categories\": [\"0\", \"1\", \"2\", \"3\", \"4\", \"5\", \"6\", \"7\", \"8\", \"9\"], \"mode\": \"lines\", \"name\": \"normalized_median_absolute_error_min\", \"stepped\": true, \"type\": \"scatter\", \"data\": [0.1346461509607376, 0.11829359640013844, 0.11829359640013844, 0.11829359640013844, 0.11829359640013844, 0.11829359640013844, 0.11829359640013844, 0.11829359640013844, 0.11829359640013844, 0.11829359640013844]}], \"explained_variance\": [{\"categories\": [\"0\", \"1\", \"2\", \"3\", \"4\", \"5\", \"6\", \"7\", \"8\", \"9\"], \"mode\": \"markers\", \"name\": \"explained_variance\", \"stepped\": false, \"type\": \"scatter\", \"data\": [0.5012055350217745, 0.488535977003135, 0.493652302869406, 0.44642647767713833, 0.5158395413892731, 0.4898591801548785, 0.5004232760038921, 0.4597255865059064, 0.473572324142345, 0.47393298483093227]}, {\"categories\": [\"0\", \"1\", \"2\", \"3\", \"4\", \"5\", \"6\", \"7\", \"8\", \"9\"], \"mode\": \"lines\", \"name\": \"explained_variance_max\", \"stepped\": true, \"type\": \"scatter\", \"data\": [0.5012055350217745, 0.5012055350217745, 0.5012055350217745, 0.5012055350217745, 0.5158395413892731, 0.5158395413892731, 0.5158395413892731, 0.5158395413892731, 0.5158395413892731, 0.5158395413892731]}], \"median_absolute_error\": [{\"categories\": [\"0\", \"1\", \"2\", \"3\", \"4\", \"5\", \"6\", \"7\", \"8\", \"9\"], \"mode\": \"markers\", \"name\": \"median_absolute_error\", \"stepped\": false, \"type\": \"scatter\", \"data\": [43.22141445839677, 37.97224444444444, 40.69664835499074, 39.717734437673656, 42.42416059332826, 43.896715873015886, 43.073983982684, 40.50433658008658, 45.5410216250193, 43.39870870828067]}, {\"categories\": [\"0\", \"1\", \"2\", \"3\", \"4\", \"5\", \"6\", \"7\", \"8\", \"9\"], \"mode\": \"lines\", \"name\": \"median_absolute_error_min\", \"stepped\": true, \"type\": \"scatter\", \"data\": [43.22141445839677, 37.97224444444444, 37.97224444444444, 37.97224444444444, 37.97224444444444, 37.97224444444444, 37.97224444444444, 37.97224444444444, 37.97224444444444, 37.97224444444444]}], \"root_mean_squared_log_error\": [{\"categories\": [\"0\", \"1\", \"2\", \"3\", \"4\", \"5\", \"6\", \"7\", \"8\", \"9\"], \"mode\": \"markers\", \"name\": \"root_mean_squared_log_error\", \"stepped\": false, \"type\": \"scatter\", \"data\": [0.43256402737748, 0.4301878905362386, 0.4353292743508647, 0.4351259446307446, 0.425455161780127, 0.43849387768112746, 0.4267051608240264, 0.44225353730716843, 0.4414735196941468, 0.4385887015061688]}, {\"categories\": [\"0\", \"1\", \"2\", \"3\", \"4\", \"5\", \"6\", \"7\", \"8\", \"9\"], \"mode\": \"lines\", \"name\": \"root_mean_squared_log_error_min\", \"stepped\": true, \"type\": \"scatter\", \"data\": [0.43256402737748, 0.4301878905362386, 0.4301878905362386, 0.4301878905362386, 0.425455161780127, 0.425455161780127, 0.425455161780127, 0.425455161780127, 0.425455161780127, 0.425455161780127]}], \"r2_score\": [{\"categories\": [\"0\", \"1\", \"2\", \"3\", \"4\", \"5\", \"6\", \"7\", \"8\", \"9\"], \"mode\": \"markers\", \"name\": \"r2_score\", \"stepped\": false, \"type\": \"scatter\", \"data\": [0.48122501200901324, 0.4664809731573934, 0.46970483524460854, 0.4285400880219977, 0.4947666898762318, 0.4704882639404245, 0.48301419291728587, 0.4409745593340567, 0.4542670846626492, 0.45195920376788806]}, {\"categories\": [\"0\", \"1\", \"2\", \"3\", \"4\", \"5\", \"6\", \"7\", \"8\", \"9\"], \"mode\": \"lines\", \"name\": \"r2_score_max\", \"stepped\": true, \"type\": \"scatter\", \"data\": [0.48122501200901324, 0.48122501200901324, 0.48122501200901324, 0.48122501200901324, 0.4947666898762318, 0.4947666898762318, 0.4947666898762318, 0.4947666898762318, 0.4947666898762318, 0.4947666898762318]}], \"root_mean_squared_error\": [{\"categories\": [\"0\", \"1\", \"2\", \"3\", \"4\", \"5\", \"6\", \"7\", \"8\", \"9\"], \"mode\": \"markers\", \"name\": \"root_mean_squared_error\", \"stepped\": false, \"type\": \"scatter\", \"data\": [55.67024204568355, 56.44853335942264, 56.21894333944429, 58.354464868731746, 54.90905778460545, 56.28681540687008, 55.52743846159369, 57.79043499562367, 57.09338440411634, 57.174557399370556]}, {\"categories\": [\"0\", \"1\", \"2\", \"3\", \"4\", \"5\", \"6\", \"7\", \"8\", \"9\"], \"mode\": \"lines\", \"name\": \"root_mean_squared_error_min\", \"stepped\": true, \"type\": \"scatter\", \"data\": [55.67024204568355, 55.67024204568355, 55.67024204568355, 55.67024204568355, 54.90905778460545, 54.90905778460545, 54.90905778460545, 54.90905778460545, 54.90905778460545, 54.90905778460545]}], \"mean_absolute_error\": [{\"categories\": [\"0\", \"1\", \"2\", \"3\", \"4\", \"5\", \"6\", \"7\", \"8\", \"9\"], \"mode\": \"markers\", \"name\": \"mean_absolute_error\", \"stepped\": false, \"type\": \"scatter\", \"data\": [46.22430462877081, 45.03704879243717, 46.26537926801358, 46.07377506461595, 45.2241328852987, 46.85168376369885, 45.799906765543874, 46.88567139064825, 48.12638855348824, 47.12841147800661]}, {\"categories\": [\"0\", \"1\", \"2\", \"3\", \"4\", \"5\", \"6\", \"7\", \"8\", \"9\"], \"mode\": \"lines\", \"name\": \"mean_absolute_error_min\", \"stepped\": true, \"type\": \"scatter\", \"data\": [46.22430462877081, 45.03704879243717, 45.03704879243717, 45.03704879243717, 45.03704879243717, 45.03704879243717, 45.03704879243717, 45.03704879243717, 45.03704879243717, 45.03704879243717]}], \"normalized_mean_absolute_error\": [{\"categories\": [\"0\", \"1\", \"2\", \"3\", \"4\", \"5\", \"6\", \"7\", \"8\", \"9\"], \"mode\": \"markers\", \"name\": \"normalized_mean_absolute_error\", \"stepped\": false, \"type\": \"scatter\", \"data\": [0.144000948999286, 0.14030233268672015, 0.14412890737698936, 0.14353200954709017, 0.14088514917538536, 0.14595540113301822, 0.1426788372758376, 0.14606128159080453, 0.14992644409186368, 0.146817481239896]}, {\"categories\": [\"0\", \"1\", \"2\", \"3\", \"4\", \"5\", \"6\", \"7\", \"8\", \"9\"], \"mode\": \"lines\", \"name\": \"normalized_mean_absolute_error_min\", \"stepped\": true, \"type\": \"scatter\", \"data\": [0.144000948999286, 0.14030233268672015, 0.14030233268672015, 0.14030233268672015, 0.14030233268672015, 0.14030233268672015, 0.14030233268672015, 0.14030233268672015, 0.14030233268672015, 0.14030233268672015]}], \"normalized_root_mean_squared_error\": [{\"categories\": [\"0\", \"1\", \"2\", \"3\", \"4\", \"5\", \"6\", \"7\", \"8\", \"9\"], \"mode\": \"markers\", \"name\": \"normalized_root_mean_squared_error\", \"stepped\": false, \"type\": \"scatter\", \"data\": [0.17342754531365595, 0.1758521288455534, 0.1751368951384557, 0.18178961018296494, 0.17105625478070235, 0.1753483346008414, 0.17298267433518283, 0.1800325077745286, 0.17786101060472378, 0.1781138859793475]}, {\"categories\": [\"0\", \"1\", \"2\", \"3\", \"4\", \"5\", \"6\", \"7\", \"8\", \"9\"], \"mode\": \"lines\", \"name\": \"normalized_root_mean_squared_error_min\", \"stepped\": true, \"type\": \"scatter\", \"data\": [0.17342754531365595, 0.17342754531365595, 0.17342754531365595, 0.17342754531365595, 0.17105625478070235, 0.17105625478070235, 0.17105625478070235, 0.17105625478070235, 0.17105625478070235, 0.17105625478070235]}], \"normalized_root_mean_squared_log_error\": [{\"categories\": [\"0\", \"1\", \"2\", \"3\", \"4\", \"5\", \"6\", \"7\", \"8\", \"9\"], \"mode\": \"markers\", \"name\": \"normalized_root_mean_squared_log_error\", \"stepped\": false, \"type\": \"scatter\", \"data\": [0.16693397377302016, 0.16601698128166173, 0.1680011306249886, 0.1679226621532305, 0.164190539025616, 0.1692224060337157, 0.16467293537483557, 0.17067332400582283, 0.17037230165649778, 0.16925900019532106]}, {\"categories\": [\"0\", \"1\", \"2\", \"3\", \"4\", \"5\", \"6\", \"7\", \"8\", \"9\"], \"mode\": \"lines\", \"name\": \"normalized_root_mean_squared_log_error_min\", \"stepped\": true, \"type\": \"scatter\", \"data\": [0.16693397377302016, 0.16601698128166173, 0.16601698128166173, 0.16601698128166173, 0.164190539025616, 0.164190539025616, 0.164190539025616, 0.164190539025616, 0.164190539025616, 0.164190539025616]}]}, \"metricName\": null, \"primaryMetricName\": \"spearman_correlation\", \"showLegend\": false}, \"run_metrics\": [], \"run_logs\": \"\\nRun is completed.\", \"graph\": {}, \"widget_settings\": {\"childWidgetDisplay\": \"popup\", \"send_telemetry\": false, \"log_level\": \"INFO\", \"sdk_version\": \"1.0.74\"}, \"loading\": false}"
     },
     "metadata": {},
     "output_type": "display_data"
    }
   ],
   "source": [
    "from azureml.widgets import RunDetails\n",
    "RunDetails(local_run).show() "
   ]
  },
  {
   "cell_type": "markdown",
   "metadata": {},
   "source": [
    "\n",
    "### 5.2 Récupération de toutes les itérations"
   ]
  },
  {
   "cell_type": "code",
   "execution_count": 14,
   "metadata": {},
   "outputs": [
    {
     "data": {
      "text/html": [
       "<div>\n",
       "<style scoped>\n",
       "    .dataframe tbody tr th:only-of-type {\n",
       "        vertical-align: middle;\n",
       "    }\n",
       "\n",
       "    .dataframe tbody tr th {\n",
       "        vertical-align: top;\n",
       "    }\n",
       "\n",
       "    .dataframe thead th {\n",
       "        text-align: right;\n",
       "    }\n",
       "</style>\n",
       "<table border=\"1\" class=\"dataframe\">\n",
       "  <thead>\n",
       "    <tr style=\"text-align: right;\">\n",
       "      <th></th>\n",
       "      <th>0</th>\n",
       "      <th>1</th>\n",
       "      <th>2</th>\n",
       "      <th>3</th>\n",
       "      <th>4</th>\n",
       "      <th>5</th>\n",
       "      <th>6</th>\n",
       "      <th>7</th>\n",
       "      <th>8</th>\n",
       "      <th>9</th>\n",
       "    </tr>\n",
       "  </thead>\n",
       "  <tbody>\n",
       "    <tr>\n",
       "      <th>explained_variance</th>\n",
       "      <td>0.50</td>\n",
       "      <td>0.49</td>\n",
       "      <td>0.49</td>\n",
       "      <td>0.45</td>\n",
       "      <td>0.52</td>\n",
       "      <td>0.49</td>\n",
       "      <td>0.50</td>\n",
       "      <td>0.46</td>\n",
       "      <td>0.47</td>\n",
       "      <td>0.47</td>\n",
       "    </tr>\n",
       "    <tr>\n",
       "      <th>mean_absolute_error</th>\n",
       "      <td>46.22</td>\n",
       "      <td>45.04</td>\n",
       "      <td>46.27</td>\n",
       "      <td>46.07</td>\n",
       "      <td>45.22</td>\n",
       "      <td>46.85</td>\n",
       "      <td>45.80</td>\n",
       "      <td>46.89</td>\n",
       "      <td>48.13</td>\n",
       "      <td>47.13</td>\n",
       "    </tr>\n",
       "    <tr>\n",
       "      <th>mean_absolute_percentage_error</th>\n",
       "      <td>41.89</td>\n",
       "      <td>39.71</td>\n",
       "      <td>42.15</td>\n",
       "      <td>39.96</td>\n",
       "      <td>40.70</td>\n",
       "      <td>43.31</td>\n",
       "      <td>40.94</td>\n",
       "      <td>41.04</td>\n",
       "      <td>44.14</td>\n",
       "      <td>42.54</td>\n",
       "    </tr>\n",
       "    <tr>\n",
       "      <th>median_absolute_error</th>\n",
       "      <td>43.22</td>\n",
       "      <td>37.97</td>\n",
       "      <td>40.70</td>\n",
       "      <td>39.72</td>\n",
       "      <td>42.42</td>\n",
       "      <td>43.90</td>\n",
       "      <td>43.07</td>\n",
       "      <td>40.50</td>\n",
       "      <td>45.54</td>\n",
       "      <td>43.40</td>\n",
       "    </tr>\n",
       "    <tr>\n",
       "      <th>normalized_mean_absolute_error</th>\n",
       "      <td>0.14</td>\n",
       "      <td>0.14</td>\n",
       "      <td>0.14</td>\n",
       "      <td>0.14</td>\n",
       "      <td>0.14</td>\n",
       "      <td>0.15</td>\n",
       "      <td>0.14</td>\n",
       "      <td>0.15</td>\n",
       "      <td>0.15</td>\n",
       "      <td>0.15</td>\n",
       "    </tr>\n",
       "    <tr>\n",
       "      <th>normalized_median_absolute_error</th>\n",
       "      <td>0.13</td>\n",
       "      <td>0.12</td>\n",
       "      <td>0.13</td>\n",
       "      <td>0.12</td>\n",
       "      <td>0.13</td>\n",
       "      <td>0.14</td>\n",
       "      <td>0.13</td>\n",
       "      <td>0.13</td>\n",
       "      <td>0.14</td>\n",
       "      <td>0.14</td>\n",
       "    </tr>\n",
       "    <tr>\n",
       "      <th>normalized_root_mean_squared_error</th>\n",
       "      <td>0.17</td>\n",
       "      <td>0.18</td>\n",
       "      <td>0.18</td>\n",
       "      <td>0.18</td>\n",
       "      <td>0.17</td>\n",
       "      <td>0.18</td>\n",
       "      <td>0.17</td>\n",
       "      <td>0.18</td>\n",
       "      <td>0.18</td>\n",
       "      <td>0.18</td>\n",
       "    </tr>\n",
       "    <tr>\n",
       "      <th>normalized_root_mean_squared_log_error</th>\n",
       "      <td>0.17</td>\n",
       "      <td>0.17</td>\n",
       "      <td>0.17</td>\n",
       "      <td>0.17</td>\n",
       "      <td>0.16</td>\n",
       "      <td>0.17</td>\n",
       "      <td>0.16</td>\n",
       "      <td>0.17</td>\n",
       "      <td>0.17</td>\n",
       "      <td>0.17</td>\n",
       "    </tr>\n",
       "    <tr>\n",
       "      <th>r2_score</th>\n",
       "      <td>0.48</td>\n",
       "      <td>0.47</td>\n",
       "      <td>0.47</td>\n",
       "      <td>0.43</td>\n",
       "      <td>0.49</td>\n",
       "      <td>0.47</td>\n",
       "      <td>0.48</td>\n",
       "      <td>0.44</td>\n",
       "      <td>0.45</td>\n",
       "      <td>0.45</td>\n",
       "    </tr>\n",
       "    <tr>\n",
       "      <th>root_mean_squared_error</th>\n",
       "      <td>55.67</td>\n",
       "      <td>56.45</td>\n",
       "      <td>56.22</td>\n",
       "      <td>58.35</td>\n",
       "      <td>54.91</td>\n",
       "      <td>56.29</td>\n",
       "      <td>55.53</td>\n",
       "      <td>57.79</td>\n",
       "      <td>57.09</td>\n",
       "      <td>57.17</td>\n",
       "    </tr>\n",
       "    <tr>\n",
       "      <th>root_mean_squared_log_error</th>\n",
       "      <td>0.43</td>\n",
       "      <td>0.43</td>\n",
       "      <td>0.44</td>\n",
       "      <td>0.44</td>\n",
       "      <td>0.43</td>\n",
       "      <td>0.44</td>\n",
       "      <td>0.43</td>\n",
       "      <td>0.44</td>\n",
       "      <td>0.44</td>\n",
       "      <td>0.44</td>\n",
       "    </tr>\n",
       "    <tr>\n",
       "      <th>spearman_correlation</th>\n",
       "      <td>0.70</td>\n",
       "      <td>0.68</td>\n",
       "      <td>0.68</td>\n",
       "      <td>0.68</td>\n",
       "      <td>0.70</td>\n",
       "      <td>0.69</td>\n",
       "      <td>0.69</td>\n",
       "      <td>0.66</td>\n",
       "      <td>0.68</td>\n",
       "      <td>0.68</td>\n",
       "    </tr>\n",
       "  </tbody>\n",
       "</table>\n",
       "</div>"
      ],
      "text/plain": [
       "                                           0     1     2     3     4     5  \\\n",
       "explained_variance                     0.50  0.49  0.49  0.45  0.52  0.49    \n",
       "mean_absolute_error                    46.22 45.04 46.27 46.07 45.22 46.85   \n",
       "mean_absolute_percentage_error         41.89 39.71 42.15 39.96 40.70 43.31   \n",
       "median_absolute_error                  43.22 37.97 40.70 39.72 42.42 43.90   \n",
       "normalized_mean_absolute_error         0.14  0.14  0.14  0.14  0.14  0.15    \n",
       "normalized_median_absolute_error       0.13  0.12  0.13  0.12  0.13  0.14    \n",
       "normalized_root_mean_squared_error     0.17  0.18  0.18  0.18  0.17  0.18    \n",
       "normalized_root_mean_squared_log_error 0.17  0.17  0.17  0.17  0.16  0.17    \n",
       "r2_score                               0.48  0.47  0.47  0.43  0.49  0.47    \n",
       "root_mean_squared_error                55.67 56.45 56.22 58.35 54.91 56.29   \n",
       "root_mean_squared_log_error            0.43  0.43  0.44  0.44  0.43  0.44    \n",
       "spearman_correlation                   0.70  0.68  0.68  0.68  0.70  0.69    \n",
       "\n",
       "                                           6     7     8     9  \n",
       "explained_variance                     0.50  0.46  0.47  0.47   \n",
       "mean_absolute_error                    45.80 46.89 48.13 47.13  \n",
       "mean_absolute_percentage_error         40.94 41.04 44.14 42.54  \n",
       "median_absolute_error                  43.07 40.50 45.54 43.40  \n",
       "normalized_mean_absolute_error         0.14  0.15  0.15  0.15   \n",
       "normalized_median_absolute_error       0.13  0.13  0.14  0.14   \n",
       "normalized_root_mean_squared_error     0.17  0.18  0.18  0.18   \n",
       "normalized_root_mean_squared_log_error 0.16  0.17  0.17  0.17   \n",
       "r2_score                               0.48  0.44  0.45  0.45   \n",
       "root_mean_squared_error                55.53 57.79 57.09 57.17  \n",
       "root_mean_squared_log_error            0.43  0.44  0.44  0.44   \n",
       "spearman_correlation                   0.69  0.66  0.68  0.68   "
      ]
     },
     "execution_count": 14,
     "metadata": {},
     "output_type": "execute_result"
    }
   ],
   "source": [
    "children = list(local_run.get_children())\n",
    "metricslist = {}\n",
    "for run in children:\n",
    "    properties = run.get_properties()\n",
    "    metrics = {k: v for k, v in run.get_metrics().items() if isinstance(v, float)}\n",
    "    metricslist[int(properties['iteration'])] = metrics\n",
    "\n",
    "rundata = pd.DataFrame(metricslist).sort_index(1)\n",
    "rundata"
   ]
  },
  {
   "cell_type": "markdown",
   "metadata": {},
   "source": [
    "### 5.3 Obtention du meilleur modèle\n",
    "\n",
    "Below we select the best pipeline from our iterations. The `get_output` method returns the best run and the fitted model. The Model includes the pipeline and any pre-processing.  Overloads on `get_output` allow you to retrieve the best run and fitted model for *any* logged metric or for a particular *iteration*."
   ]
  },
  {
   "cell_type": "code",
   "execution_count": 15,
   "metadata": {},
   "outputs": [
    {
     "name": "stdout",
     "output_type": "stream",
     "text": [
      "Run(Experiment: workshop3,\n",
      "Id: AutoML_eb2eebad-0023-4d1f-928e-1d02b8bdc960_4,\n",
      "Type: None,\n",
      "Status: Completed)\n",
      "RegressionPipeline(pipeline=Pipeline(memory=None,\n",
      "     steps=[('StandardScalerWrapper', <automl.client.core.runtime.model_wrappers.StandardScalerWrapper object at 0x7f3e34728f28>), ('RandomForestRegressor', RandomForestRegressor(bootstrap=False, criterion='mse', max_depth=None,\n",
      "           max_features='sqrt', max_leaf_nodes=None,\n",
      "           min_impurity...timators=25, n_jobs=1,\n",
      "           oob_score=False, random_state=None, verbose=0, warm_start=False))]),\n",
      "          stddev=None)\n"
     ]
    }
   ],
   "source": [
    "best_run, fitted_model = local_run.get_output()\n",
    "print(best_run)\n",
    "print(fitted_model)"
   ]
  },
  {
   "cell_type": "markdown",
   "metadata": {},
   "source": [
    "### 5.4 Changement de métrique\n",
    "Show the run and the model that has the smallest `root_mean_squared_error` value (which turned out to be the same as the one with largest `spearman_correlation` value):"
   ]
  },
  {
   "cell_type": "code",
   "execution_count": 16,
   "metadata": {},
   "outputs": [
    {
     "name": "stdout",
     "output_type": "stream",
     "text": [
      "Run(Experiment: workshop3,\n",
      "Id: AutoML_eb2eebad-0023-4d1f-928e-1d02b8bdc960_4,\n",
      "Type: None,\n",
      "Status: Completed)\n",
      "RegressionPipeline(pipeline=Pipeline(memory=None,\n",
      "     steps=[('StandardScalerWrapper', <automl.client.core.runtime.model_wrappers.StandardScalerWrapper object at 0x7f3e346adda0>), ('RandomForestRegressor', RandomForestRegressor(bootstrap=False, criterion='mse', max_depth=None,\n",
      "           max_features='sqrt', max_leaf_nodes=None,\n",
      "           min_impurity...timators=25, n_jobs=1,\n",
      "           oob_score=False, random_state=None, verbose=0, warm_start=False))]),\n",
      "          stddev=None)\n"
     ]
    }
   ],
   "source": [
    "lookup_metric = \"root_mean_squared_error\"\n",
    "best_run, fitted_model = local_run.get_output(metric = lookup_metric)\n",
    "print(best_run)\n",
    "print(fitted_model)"
   ]
  },
  {
   "cell_type": "markdown",
   "metadata": {},
   "source": [
    "### 5.5 Choix d'une itération spécifique\n",
    "Show the run and the model from the third iteration:"
   ]
  },
  {
   "cell_type": "code",
   "execution_count": 17,
   "metadata": {},
   "outputs": [
    {
     "name": "stdout",
     "output_type": "stream",
     "text": [
      "Run(Experiment: workshop3,\n",
      "Id: AutoML_eb2eebad-0023-4d1f-928e-1d02b8bdc960_1,\n",
      "Type: None,\n",
      "Status: Completed)\n",
      "RegressionPipeline(pipeline=Pipeline(memory=None,\n",
      "     steps=[('MinMaxScaler', MinMaxScaler(copy=True, feature_range=(0, 1))), ('RandomForestRegressor', RandomForestRegressor(bootstrap=True, criterion='mse', max_depth=None,\n",
      "           max_features=0.9, max_leaf_nodes=None,\n",
      "           min_impurity_decrease=0.0, min_impurity_split=None,\n",
      "           min_sam...timators=25, n_jobs=1,\n",
      "           oob_score=False, random_state=None, verbose=0, warm_start=False))]),\n",
      "          stddev=None)\n"
     ]
    }
   ],
   "source": [
    "iteration = 1\n",
    "third_run, third_model = local_run.get_output(iteration = iteration)\n",
    "print(third_run)\n",
    "print(third_model)"
   ]
  },
  {
   "cell_type": "markdown",
   "metadata": {},
   "source": [
    "## 6. Validation"
   ]
  },
  {
   "cell_type": "markdown",
   "metadata": {},
   "source": [
    "Predict on training and test set, and calculate residual values."
   ]
  },
  {
   "cell_type": "code",
   "execution_count": 18,
   "metadata": {},
   "outputs": [],
   "source": [
    "y_pred_train = fitted_model.predict(X_train)\n",
    "y_residual_train = y_train - y_pred_train\n",
    "\n",
    "y_pred_test = fitted_model.predict(X_test)\n",
    "y_residual_test = y_test - y_pred_test"
   ]
  },
  {
   "cell_type": "code",
   "execution_count": 19,
   "metadata": {},
   "outputs": [
    {
     "data": {
      "image/png": "[encoded data removed]",
      "text/plain": [
       "<Figure size 1152x432 with 2 Axes>"
      ]
     },
     "metadata": {
      "needs_background": "light"
     },
     "output_type": "display_data"
    }
   ],
   "source": [
    "%matplotlib inline\n",
    "import matplotlib.pyplot as plt\n",
    "import numpy as np\n",
    "from sklearn import datasets\n",
    "from sklearn.metrics import mean_squared_error, r2_score\n",
    "\n",
    "# Set up a multi-plot chart.\n",
    "f, (a0, a1) = plt.subplots(1, 2, gridspec_kw = {'width_ratios':[1, 1], 'wspace':0, 'hspace': 0})\n",
    "f.suptitle('Regression Residual Values', fontsize = 18)\n",
    "f.set_figheight(6)\n",
    "f.set_figwidth(16)\n",
    "\n",
    "# Plot residual values of training set.\n",
    "a0.axis([0, 360, -200, 200])\n",
    "a0.plot(y_residual_train, 'bo', alpha = 0.5)\n",
    "a0.plot([-10,360],[0,0], 'r-', lw = 3)\n",
    "a0.text(16,170,'RMSE = {0:.2f}'.format(np.sqrt(mean_squared_error(y_train, y_pred_train))), fontsize = 12)\n",
    "a0.text(16,140,'R2 score = {0:.2f}'.format(r2_score(y_train, y_pred_train)), fontsize = 12)\n",
    "a0.set_xlabel('Training samples', fontsize = 12)\n",
    "a0.set_ylabel('Residual Values', fontsize = 12)\n",
    "\n",
    "# Plot a histogram.\n",
    "a0.hist(y_residual_train, orientation = 'horizontal', color = 'b', bins = 10, histtype = 'step');\n",
    "a0.hist(y_residual_train, orientation = 'horizontal', color = 'b', alpha = 0.2, bins = 10);\n",
    "\n",
    "# Plot residual values of test set.\n",
    "a1.axis([0, 90, -200, 200])\n",
    "a1.plot(y_residual_test, 'bo', alpha = 0.5)\n",
    "a1.plot([-10,360],[0,0], 'r-', lw = 3)\n",
    "a1.text(5,170,'RMSE = {0:.2f}'.format(np.sqrt(mean_squared_error(y_test, y_pred_test))), fontsize = 12)\n",
    "a1.text(5,140,'R2 score = {0:.2f}'.format(r2_score(y_test, y_pred_test)), fontsize = 12)\n",
    "a1.set_xlabel('Test samples', fontsize = 12)\n",
    "a1.set_yticklabels([])\n",
    "\n",
    "# Plot a histogram.\n",
    "a1.hist(y_residual_test, orientation = 'horizontal', color = 'b', bins = 10, histtype = 'step')\n",
    "a1.hist(y_residual_test, orientation = 'horizontal', color = 'b', alpha = 0.2, bins = 10)\n",
    "\n",
    "plt.show()"
   ]
  },
  {
   "cell_type": "markdown",
   "metadata": {},
   "source": [
    "> Plus d'information : https://docs.microsoft.com/en-us/azure/machine-learning/service/"
   ]
  },
  {
   "cell_type": "markdown",
   "metadata": {},
   "source": [
    "<img src=\"https://github.com/retkowsky/images/blob/master/Powered-by-MS-Azure-logo-v2.png?raw=true\" height=\"300\" width=\"300\">"
   ]
  },
  {
   "cell_type": "code",
   "execution_count": null,
   "metadata": {},
   "outputs": [],
   "source": []
  }
 ],
 "metadata": {
  "authors": [
   {
    "name": "savitam"
   }
  ],
  "kernelspec": {
   "display_name": "Python 3.6 - AzureML",
   "language": "python",
   "name": "python3-azureml"
  },
  "language_info": {
   "codemirror_mode": {
    "name": "ipython",
    "version": 3
   },
   "file_extension": ".py",
   "mimetype": "text/x-python",
   "name": "python",
   "nbconvert_exporter": "python",
   "pygments_lexer": "ipython3",
   "version": "3.6.9"
  }
 },
 "nbformat": 4,
 "nbformat_minor": 2
}
