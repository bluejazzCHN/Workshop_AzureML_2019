{
 "cells": [
  {
   "cell_type": "markdown",
   "metadata": {},
   "source": [
    "# AutoML Regression\n"
   ]
  },
  {
   "cell_type": "markdown",
   "metadata": {},
   "source": [
    "<img src='https://github.com/retkowsky/images/blob/master/AzureMLservicebanniere.png?raw=true'>"
   ]
  },
  {
   "cell_type": "code",
   "execution_count": 1,
   "metadata": {},
   "outputs": [
    {
     "name": "stdout",
     "output_type": "stream",
     "text": [
      "Version Python :  3.6.9 |Anaconda, Inc.| (default, Jul 30 2019, 19:07:31) \n",
      "[GCC 7.3.0]\n"
     ]
    }
   ],
   "source": [
    "import sys\n",
    "print(\"Version Python : \", sys.version)"
   ]
  },
  {
   "cell_type": "code",
   "execution_count": 2,
   "metadata": {},
   "outputs": [
    {
     "name": "stdout",
     "output_type": "stream",
     "text": [
      "2019-11-18 10:51:41.061396\n"
     ]
    }
   ],
   "source": [
    "import datetime\n",
    "now = datetime.datetime.now()\n",
    "print(now)"
   ]
  },
  {
   "cell_type": "code",
   "execution_count": 3,
   "metadata": {},
   "outputs": [
    {
     "name": "stdout",
     "output_type": "stream",
     "text": [
      "Version Azure ML service : 1.0.74\n"
     ]
    }
   ],
   "source": [
    "import azureml.core\n",
    "print(\"Version Azure ML service :\", azureml.core.VERSION)"
   ]
  },
  {
   "cell_type": "markdown",
   "metadata": {},
   "source": [
    "## 1. Création expérimentation\n",
    "\n",
    "As part of the setup you have already created an Azure ML `Workspace` object. For AutoML you will need to create an `Experiment` object, which is a named object in a `Workspace` used to run experiments."
   ]
  },
  {
   "cell_type": "code",
   "execution_count": 4,
   "metadata": {},
   "outputs": [],
   "source": [
    "import logging\n",
    "import os\n",
    "import random\n",
    "\n",
    "from matplotlib import pyplot as plt\n",
    "from matplotlib.pyplot import imshow\n",
    "import numpy as np\n",
    "import pandas as pd\n",
    "from sklearn import datasets\n",
    "\n",
    "import azureml.core\n",
    "from azureml.core.experiment import Experiment\n",
    "from azureml.core.workspace import Workspace\n",
    "from azureml.train.automl import AutoMLConfig\n",
    "from azureml.train.automl.run import AutoMLRun"
   ]
  },
  {
   "cell_type": "code",
   "execution_count": 5,
   "metadata": {},
   "outputs": [
    {
     "data": {
      "text/html": [
       "<div>\n",
       "<style scoped>\n",
       "    .dataframe tbody tr th:only-of-type {\n",
       "        vertical-align: middle;\n",
       "    }\n",
       "\n",
       "    .dataframe tbody tr th {\n",
       "        vertical-align: top;\n",
       "    }\n",
       "\n",
       "    .dataframe thead th {\n",
       "        text-align: right;\n",
       "    }\n",
       "</style>\n",
       "<table border=\"1\" class=\"dataframe\">\n",
       "  <thead>\n",
       "    <tr style=\"text-align: right;\">\n",
       "      <th></th>\n",
       "      <th></th>\n",
       "    </tr>\n",
       "  </thead>\n",
       "  <tbody>\n",
       "    <tr>\n",
       "      <th>SDK version</th>\n",
       "      <td>1.0.74</td>\n",
       "    </tr>\n",
       "    <tr>\n",
       "      <th>Workspace Name</th>\n",
       "      <td>workshopml</td>\n",
       "    </tr>\n",
       "    <tr>\n",
       "      <th>Resource Group</th>\n",
       "      <td>workshopmlRG</td>\n",
       "    </tr>\n",
       "    <tr>\n",
       "      <th>Location</th>\n",
       "      <td>northeurope</td>\n",
       "    </tr>\n",
       "    <tr>\n",
       "      <th>Project Directory</th>\n",
       "      <td>./sample_projects/workshop3</td>\n",
       "    </tr>\n",
       "    <tr>\n",
       "      <th>Experiment Name</th>\n",
       "      <td>workshop3</td>\n",
       "    </tr>\n",
       "  </tbody>\n",
       "</table>\n",
       "</div>"
      ],
      "text/plain": [
       "                                              \n",
       "SDK version        1.0.74                     \n",
       "Workspace Name     workshopml                 \n",
       "Resource Group     workshopmlRG               \n",
       "Location           northeurope                \n",
       "Project Directory  ./sample_projects/workshop3\n",
       "Experiment Name    workshop3                  "
      ]
     },
     "execution_count": 5,
     "metadata": {},
     "output_type": "execute_result"
    }
   ],
   "source": [
    "ws = Workspace.from_config()\n",
    "\n",
    "# Choose a name for the experiment and specify the project folder.\n",
    "experiment_name = 'workshop3'\n",
    "project_folder = './sample_projects/workshop3'\n",
    "\n",
    "experiment = Experiment(ws, experiment_name)\n",
    "\n",
    "output = {}\n",
    "output['SDK version'] = azureml.core.VERSION\n",
    "output['Workspace Name'] = ws.name\n",
    "output['Resource Group'] = ws.resource_group\n",
    "output['Location'] = ws.location\n",
    "output['Project Directory'] = project_folder\n",
    "output['Experiment Name'] = experiment.name\n",
    "pd.set_option('display.max_colwidth', -1)\n",
    "pd.DataFrame(data = output, index = ['']).T"
   ]
  },
  {
   "cell_type": "markdown",
   "metadata": {},
   "source": [
    "## 2. Chargement des données\n",
    "\n",
    "This uses scikit-learn's [load_diabetes](http://scikit-learn.org/stable/modules/generated/sklearn.datasets.load_diabetes.html) method."
   ]
  },
  {
   "cell_type": "code",
   "execution_count": 6,
   "metadata": {},
   "outputs": [],
   "source": [
    "# Load the diabetes dataset, a well-known built-in small dataset that comes with scikit-learn.\n",
    "from sklearn.datasets import load_diabetes\n",
    "from sklearn.linear_model import Ridge\n",
    "from sklearn.metrics import mean_squared_error\n",
    "from sklearn.model_selection import train_test_split\n",
    "\n",
    "X, y = load_diabetes(return_X_y = True)\n",
    "\n",
    "columns = ['age', 'gender', 'bmi', 'bp', 's1', 's2', 's3', 's4', 's5', 's6']\n",
    "\n",
    "X_train, X_test, y_train, y_test = train_test_split(X, y, test_size = 0.2, random_state = 0)"
   ]
  },
  {
   "cell_type": "markdown",
   "metadata": {},
   "source": [
    "## 3. Configuration AutoML\n"
   ]
  },
  {
   "cell_type": "code",
   "execution_count": 7,
   "metadata": {},
   "outputs": [
    {
     "name": "stderr",
     "output_type": "stream",
     "text": [
      "WARNING - The AutoMLConfig inputs you have specified will soon be deprecated. Please use the AutoMLConfig shown in our documentation: https://aka.ms/AutoMLConfig\n"
     ]
    }
   ],
   "source": [
    "automl_config = AutoMLConfig(task = 'regression',\n",
    "                             iteration_timeout_minutes = 10,\n",
    "                             iterations = 5,\n",
    "                             primary_metric = 'spearman_correlation',\n",
    "                             n_cross_validations = 3,\n",
    "                             debug_log = 'automl.log',\n",
    "                             verbosity = logging.INFO,\n",
    "                             X = X_train, \n",
    "                             y = y_train,\n",
    "                             path = project_folder)"
   ]
  },
  {
   "cell_type": "markdown",
   "metadata": {},
   "source": [
    "## 4. AutoML\n",
    "\n",
    "Call the `submit` method on the experiment object and pass the run configuration. Execution of local runs is synchronous. Depending on the data and the number of iterations this can run for a while.\n",
    "In this example, we specify `show_output = True` to print currently running iterations to the console.\n",
    "\n",
    "`spearman_correlation` is the metric used."
   ]
  },
  {
   "cell_type": "code",
   "execution_count": 8,
   "metadata": {
    "scrolled": true
   },
   "outputs": [
    {
     "name": "stdout",
     "output_type": "stream",
     "text": [
      "Running on local machine\n",
      "Parent Run ID: AutoML_ad512940-5095-46b6-8d8e-5f1cf8663b84\n",
      "Current status: DatasetCrossValidationSplit. Generating CV splits.\n",
      "Current status: ModelSelection. Beginning model selection.\n",
      "\n",
      "****************************************************************************************************\n",
      "ITERATION: The iteration being evaluated.\n",
      "PIPELINE: A summary description of the pipeline being evaluated.\n",
      "DURATION: Time taken for the current iteration.\n",
      "METRIC: The result of computing score on the fitted pipeline.\n",
      "BEST: The best observed score thus far.\n",
      "****************************************************************************************************\n",
      "\n",
      " ITERATION   PIPELINE                                       DURATION      METRIC      BEST\n",
      "         0   StandardScalerWrapper RandomForest             0:00:10       0.6841    0.6841\n",
      "         1   MinMaxScaler RandomForest                      0:00:13       0.6895    0.6895\n",
      "         2   StandardScalerWrapper ExtremeRandomTrees       0:00:12       0.6896    0.6896\n",
      "         3   VotingEnsemble                                 0:00:11       0.7059    0.7059\n",
      "         4   StackEnsemble                                  0:00:11       0.6995    0.7059\n"
     ]
    }
   ],
   "source": [
    "local_run = experiment.submit(automl_config, show_output = True)"
   ]
  },
  {
   "cell_type": "code",
   "execution_count": 9,
   "metadata": {},
   "outputs": [
    {
     "data": {
      "text/html": [
       "<table style=\"width:100%\"><tr><th>Experiment</th><th>Id</th><th>Type</th><th>Status</th><th>Details Page</th><th>Docs Page</th></tr><tr><td>workshop3</td><td>AutoML_ad512940-5095-46b6-8d8e-5f1cf8663b84</td><td>automl</td><td>Running</td><td><a href=\"https://ml.azure.com/experiments/workshop3/runs/AutoML_ad512940-5095-46b6-8d8e-5f1cf8663b84?wsid=/subscriptions/70b8f39e-8863-49f7-b6ba-34a80799550c/resourcegroups/workshopmlRG/workspaces/workshopml\" target=\"_blank\" rel=\"noopener\">Link to Azure Machine Learning studio</a></td><td><a href=\"https://docs.microsoft.com/en-us/python/api/overview/azure/ml/intro?view=azure-ml-py\" target=\"_blank\" rel=\"noopener\">Link to Documentation</a></td></tr></table>"
      ],
      "text/plain": [
       "Run(Experiment: workshop3,\n",
       "Id: AutoML_ad512940-5095-46b6-8d8e-5f1cf8663b84,\n",
       "Type: automl,\n",
       "Status: Running)"
      ]
     },
     "execution_count": 9,
     "metadata": {},
     "output_type": "execute_result"
    }
   ],
   "source": [
    "local_run"
   ]
  },
  {
   "cell_type": "code",
   "execution_count": 10,
   "metadata": {},
   "outputs": [
    {
     "name": "stderr",
     "output_type": "stream",
     "text": [
      "WARNING - The AutoMLConfig inputs you have specified will soon be deprecated. Please use the AutoMLConfig shown in our documentation: https://aka.ms/AutoMLConfig\n"
     ]
    }
   ],
   "source": [
    "automl_config = AutoMLConfig(task = 'regression',\n",
    "                             iteration_timeout_minutes = 10,\n",
    "                             iterations = 5,\n",
    "                             primary_metric = 'spearman_correlation',\n",
    "                             n_cross_validations = 5,\n",
    "                             debug_log = 'automl.log',\n",
    "                             verbosity = logging.INFO,\n",
    "                             whitelist_models = [\"LightGBM\"],\n",
    "                             enable_stack_ensemble=False,\n",
    "                             enable_voting_ensemble=False,\n",
    "                             X = X_train, \n",
    "                             y = y_train,\n",
    "                             path = project_folder)"
   ]
  },
  {
   "cell_type": "code",
   "execution_count": 11,
   "metadata": {},
   "outputs": [
    {
     "name": "stdout",
     "output_type": "stream",
     "text": [
      "Running on local machine\n",
      "Parent Run ID: AutoML_c03b2d21-ba7b-4636-baf3-9c63c6fc2958\n",
      "Current status: DatasetCrossValidationSplit. Generating CV splits.\n",
      "Current status: ModelSelection. Beginning model selection.\n",
      "\n",
      "****************************************************************************************************\n",
      "ITERATION: The iteration being evaluated.\n",
      "PIPELINE: A summary description of the pipeline being evaluated.\n",
      "DURATION: Time taken for the current iteration.\n",
      "METRIC: The result of computing score on the fitted pipeline.\n",
      "BEST: The best observed score thus far.\n",
      "****************************************************************************************************\n",
      "\n",
      " ITERATION   PIPELINE                                       DURATION      METRIC      BEST\n",
      "         0   StandardScalerWrapper LightGBM                 0:00:12       0.6831    0.6831\n",
      "         1   StandardScalerWrapper LightGBM                 0:00:16       0.6774    0.6831\n",
      "         2   RobustScaler LightGBM                          0:00:15       0.6717    0.6831\n",
      "         3   MaxAbsScaler LightGBM                          0:00:13       0.5612    0.6831\n",
      "         4   MinMaxScaler LightGBM                          0:00:15       0.6706    0.6831\n"
     ]
    }
   ],
   "source": [
    "local_run = experiment.submit(automl_config, show_output = True)"
   ]
  },
  {
   "cell_type": "code",
   "execution_count": 12,
   "metadata": {},
   "outputs": [
    {
     "data": {
      "text/html": [
       "<table style=\"width:100%\"><tr><th>Experiment</th><th>Id</th><th>Type</th><th>Status</th><th>Details Page</th><th>Docs Page</th></tr><tr><td>workshop3</td><td>AutoML_c03b2d21-ba7b-4636-baf3-9c63c6fc2958</td><td>automl</td><td>Running</td><td><a href=\"https://ml.azure.com/experiments/workshop3/runs/AutoML_c03b2d21-ba7b-4636-baf3-9c63c6fc2958?wsid=/subscriptions/70b8f39e-8863-49f7-b6ba-34a80799550c/resourcegroups/workshopmlRG/workspaces/workshopml\" target=\"_blank\" rel=\"noopener\">Link to Azure Machine Learning studio</a></td><td><a href=\"https://docs.microsoft.com/en-us/python/api/overview/azure/ml/intro?view=azure-ml-py\" target=\"_blank\" rel=\"noopener\">Link to Documentation</a></td></tr></table>"
      ],
      "text/plain": [
       "Run(Experiment: workshop3,\n",
       "Id: AutoML_c03b2d21-ba7b-4636-baf3-9c63c6fc2958,\n",
       "Type: automl,\n",
       "Status: Running)"
      ]
     },
     "execution_count": 12,
     "metadata": {},
     "output_type": "execute_result"
    }
   ],
   "source": [
    "local_run"
   ]
  },
  {
   "cell_type": "markdown",
   "metadata": {},
   "source": [
    "## 5. Exploration des résultats"
   ]
  },
  {
   "cell_type": "markdown",
   "metadata": {},
   "source": [
    "### 5.1 Widget Notebook\n",
    "\n",
    "The widget will first report a \"loading\" status while running the first iteration. After completing the first iteration, an auto-updating graph and table will be shown. The widget will refresh once per minute, so you should see the graph update as child runs complete.\n",
    "\n",
    "**Note:** The widget displays a link at the bottom. Use this link to open a web interface to explore the individual run details."
   ]
  },
  {
   "cell_type": "code",
   "execution_count": 13,
   "metadata": {},
   "outputs": [
    {
     "data": {
      "application/vnd.jupyter.widget-view+json": {
       "model_id": "957329657c4443c68e46398cc6bd11ae",
       "version_major": 2,
       "version_minor": 0
      },
      "text/plain": [
       "_AutoMLWidget(widget_settings={'childWidgetDisplay': 'popup', 'send_telemetry': False, 'log_level': 'INFO', 's…"
      ]
     },
     "metadata": {},
     "output_type": "display_data"
    },
    {
     "data": {
      "application/aml.mini.widget.v1": "{\"status\": \"Completed\", \"workbench_run_details_uri\": \"https://ml.azure.com/experiments/workshop3/runs/AutoML_c03b2d21-ba7b-4636-baf3-9c63c6fc2958?wsid=/subscriptions/70b8f39e-8863-49f7-b6ba-34a80799550c/resourcegroups/workshopmlRG/workspaces/workshopml\", \"run_id\": \"AutoML_c03b2d21-ba7b-4636-baf3-9c63c6fc2958\", \"run_properties\": {\"run_id\": \"AutoML_c03b2d21-ba7b-4636-baf3-9c63c6fc2958\", \"created_utc\": \"2019-11-18T10:53:09.518387Z\", \"properties\": {\"num_iterations\": \"5\", \"training_type\": \"TrainFull\", \"acquisition_function\": \"EI\", \"primary_metric\": \"spearman_correlation\", \"train_split\": \"0\", \"MaxTimeSeconds\": \"600\", \"acquisition_parameter\": \"0\", \"num_cross_validation\": \"5\", \"target\": \"local\", \"RawAMLSettingsString\": \"{'name': 'workshop3', 'path': './sample_projects/workshop3', 'subscription_id': '70b8f39e-8863-49f7-b6ba-34a80799550c', 'resource_group': 'workshopmlRG', 'workspace_name': 'workshopml', 'region': 'northeurope', 'compute_target': 'local', 'spark_service': None, 'azure_service': None, 'iterations': 5, 'primary_metric': 'spearman_correlation', 'task_type': 'regression', 'data_script': None, 'validation_size': 0.0, 'n_cross_validations': 5, 'y_min': 25.0, 'y_max': 346.0, 'num_classes': None, 'featurization': 'off', 'preprocess': False, 'lag_length': 0, 'is_timeseries': False, 'max_cores_per_iteration': 1, 'max_concurrent_iterations': 1, 'iteration_timeout_minutes': 10, 'mem_in_mb': None, 'enforce_time_on_windows': False, 'experiment_timeout_minutes': None, 'experiment_exit_score': None, 'whitelist_models': ['LightGBM'], 'blacklist_algos': ['XGBoostRegressor', 'Prophet'], 'supported_models': ['OnlineGradientDescentRegressor', 'GradientBoosting', 'FastLinearRegressor', 'TensorFlowLinearRegressor', 'DecisionTree', 'RandomForest', 'ElasticNet', 'LightGBM', 'TensorFlowDNN', 'SGD', 'ExtremeRandomTrees', 'LassoLars', 'XGBoostRegressor', 'KNN'], 'auto_blacklist': True, 'blacklist_samples_reached': False, 'exclude_nan_labels': True, 'verbosity': 20, 'debug_log': 'automl.log', 'show_warnings': False, 'model_explainability': False, 'service_url': None, 'sdk_url': None, 'sdk_packages': None, 'enable_onnx_compatible_models': False, 'enable_split_onnx_featurizer_estimator_models': False, 'vm_type': None, 'telemetry_verbosity': 'INFO', 'send_telemetry': True, 'enable_dnn': False, 'enable_feature_sweeping': True, 'enable_early_stopping': False, 'early_stopping_n_iters': 10, 'metrics': None, 'enable_ensembling': False, 'enable_stack_ensembling': False, 'ensemble_iterations': 5, 'enable_tf': False, 'enable_cache': True, 'enable_subsampling': False, 'subsample_seed': None, 'enable_nimbusml': False, 'enable_streaming': False, 'label_column_name': None, 'weight_column_name': None, 'cost_mode': 0, 'metric_operation': 'maximize'}\", \"AMLSettingsJsonString\": \"{\\\"name\\\":\\\"workshop3\\\",\\\"path\\\":\\\"./sample_projects/workshop3\\\",\\\"subscription_id\\\":\\\"70b8f39e-8863-49f7-b6ba-34a80799550c\\\",\\\"resource_group\\\":\\\"workshopmlRG\\\",\\\"workspace_name\\\":\\\"workshopml\\\",\\\"region\\\":\\\"northeurope\\\",\\\"compute_target\\\":\\\"local\\\",\\\"spark_service\\\":null,\\\"azure_service\\\":null,\\\"iterations\\\":5,\\\"primary_metric\\\":\\\"spearman_correlation\\\",\\\"task_type\\\":\\\"regression\\\",\\\"data_script\\\":null,\\\"validation_size\\\":0.0,\\\"n_cross_validations\\\":5,\\\"y_min\\\":25.0,\\\"y_max\\\":346.0,\\\"num_classes\\\":null,\\\"featurization\\\":\\\"off\\\",\\\"preprocess\\\":false,\\\"lag_length\\\":0,\\\"is_timeseries\\\":false,\\\"max_cores_per_iteration\\\":1,\\\"max_concurrent_iterations\\\":1,\\\"iteration_timeout_minutes\\\":10,\\\"mem_in_mb\\\":null,\\\"enforce_time_on_windows\\\":false,\\\"experiment_timeout_minutes\\\":null,\\\"experiment_exit_score\\\":null,\\\"whitelist_models\\\":[\\\"LightGBM\\\"],\\\"blacklist_algos\\\":[\\\"XGBoostRegressor\\\",\\\"Prophet\\\",\\\"AutoArima\\\"],\\\"supported_models\\\":[\\\"OnlineGradientDescentRegressor\\\",\\\"GradientBoosting\\\",\\\"FastLinearRegressor\\\",\\\"TensorFlowLinearRegressor\\\",\\\"DecisionTree\\\",\\\"RandomForest\\\",\\\"ElasticNet\\\",\\\"LightGBM\\\",\\\"TensorFlowDNN\\\",\\\"SGD\\\",\\\"ExtremeRandomTrees\\\",\\\"LassoLars\\\",\\\"XGBoostRegressor\\\",\\\"KNN\\\"],\\\"auto_blacklist\\\":true,\\\"blacklist_samples_reached\\\":false,\\\"exclude_nan_labels\\\":true,\\\"verbosity\\\":20,\\\"debug_log\\\":\\\"automl.log\\\",\\\"show_warnings\\\":false,\\\"model_explainability\\\":false,\\\"service_url\\\":null,\\\"sdk_url\\\":null,\\\"sdk_packages\\\":null,\\\"enable_onnx_compatible_models\\\":false,\\\"enable_split_onnx_featurizer_estimator_models\\\":false,\\\"vm_type\\\":null,\\\"telemetry_verbosity\\\":\\\"INFO\\\",\\\"send_telemetry\\\":true,\\\"enable_dnn\\\":false,\\\"enable_feature_sweeping\\\":true,\\\"enable_early_stopping\\\":false,\\\"early_stopping_n_iters\\\":10,\\\"metrics\\\":null,\\\"enable_ensembling\\\":false,\\\"enable_stack_ensembling\\\":false,\\\"ensemble_iterations\\\":5,\\\"enable_tf\\\":false,\\\"enable_cache\\\":true,\\\"enable_subsampling\\\":false,\\\"subsample_seed\\\":null,\\\"enable_nimbusml\\\":false,\\\"enable_streaming\\\":false,\\\"label_column_name\\\":null,\\\"weight_column_name\\\":null,\\\"cost_mode\\\":0,\\\"metric_operation\\\":\\\"maximize\\\"}\", \"DataPrepJsonString\": null, \"EnableSubsampling\": \"False\", \"runTemplate\": \"AutoML\", \"azureml.runsource\": \"automl\", \"display_task_type\": \"regression\", \"dependencies_versions\": \"{\\\"azureml-widgets\\\": \\\"1.0.74\\\", \\\"azureml-train\\\": \\\"1.0.74\\\", \\\"azureml-train-restclients-hyperdrive\\\": \\\"1.0.74\\\", \\\"azureml-train-core\\\": \\\"1.0.74\\\", \\\"azureml-train-automl\\\": \\\"1.0.74\\\", \\\"azureml-tensorboard\\\": \\\"1.0.74\\\", \\\"azureml-telemetry\\\": \\\"1.0.74\\\", \\\"azureml-sdk\\\": \\\"1.0.74\\\", \\\"azureml-samples\\\": \\\"0+unknown\\\", \\\"azureml-pipeline\\\": \\\"1.0.74\\\", \\\"azureml-pipeline-steps\\\": \\\"1.0.74\\\", \\\"azureml-pipeline-core\\\": \\\"1.0.74\\\", \\\"azureml-opendatasets\\\": \\\"1.0.74\\\", \\\"azureml-model-management-sdk\\\": \\\"1.0.1b6.post1\\\", \\\"azureml-mlflow\\\": \\\"1.0.74\\\", \\\"azureml-interpret\\\": \\\"1.0.74\\\", \\\"azureml-explain-model\\\": \\\"1.0.74\\\", \\\"azureml-defaults\\\": \\\"1.0.74\\\", \\\"azureml-dataprep\\\": \\\"1.1.30\\\", \\\"azureml-dataprep-native\\\": \\\"13.1.0\\\", \\\"azureml-datadrift\\\": \\\"1.0.74\\\", \\\"azureml-core\\\": \\\"1.0.74\\\", \\\"azureml-contrib-services\\\": \\\"1.0.74\\\", \\\"azureml-contrib-server\\\": \\\"1.0.74\\\", \\\"azureml-contrib-reinforcementlearning\\\": \\\"0.1.0.5919674\\\", \\\"azureml-contrib-opendatasets\\\": \\\"1.0.45\\\", \\\"azureml-contrib-notebook\\\": \\\"1.0.74\\\", \\\"azureml-contrib-interpret\\\": \\\"1.0.74\\\", \\\"azureml-contrib-datadrift\\\": \\\"1.0.74\\\", \\\"azureml-automl-core\\\": \\\"1.0.74\\\"}\", \"ProblemInfoJsonString\": \"{\\\"dataset_num_categorical\\\": 0, \\\"is_sparse\\\": false, \\\"subsampling\\\": false, \\\"dataset_classes\\\": 194, \\\"dataset_features\\\": 10, \\\"dataset_samples\\\": 353, \\\"single_frequency_class_detected\\\": false}\"}, \"tags\": {\"model_explain_run\": \"best_run\", \"experiment_status\": \"ModelSelection\", \"experiment_status_descr\": \"Beginning model selection.\"}, \"end_time_utc\": \"2019-11-18T10:54:24.624396Z\", \"status\": \"Completed\", \"log_files\": {}, \"log_groups\": [], \"run_duration\": \"0:01:15\"}, \"child_runs\": [{\"run_id\": \"AutoML_c03b2d21-ba7b-4636-baf3-9c63c6fc2958_0\", \"run_number\": 8, \"metric\": null, \"status\": \"Completed\", \"run_type\": null, \"training_percent\": \"100\", \"start_time\": \"2019-11-18T10:53:11.950777Z\", \"end_time\": \"2019-11-18T10:53:21.773916Z\", \"created_time\": \"2019-11-18T10:53:11.864351Z\", \"created_time_dt\": \"2019-11-18T10:53:11.864351Z\", \"duration\": \"0:00:09\", \"iteration\": \"0\", \"goal\": \"spearman_correlation_max\", \"run_name\": \"StandardScalerWrapper, LightGBM\", \"run_properties\": \"boosting_type='gbdt', class_weight=None, colsample_bytree=1,\\n         importance_type='split', learning_rate=0.12631947368421054,\\n         max_bin=63, max_depth=5, min_child_samples=11,\\n         min_child_weight=0.001, min_split_gain=0.8421052631578947,\\n         n_estimators=25, n_jobs=1, num_leaves=3, objective=None,\\n         random_state=None, reg_alpha=0.3, reg_lambda=0.15, silent=True,\\n         subsample=0.9, subsample_for_bin=200000, subsample_freq=3,\\n         verbose=-1\", \"primary_metric\": 0.68306368, \"best_metric\": 0.68306368}, {\"run_id\": \"AutoML_c03b2d21-ba7b-4636-baf3-9c63c6fc2958_1\", \"run_number\": 9, \"metric\": null, \"status\": \"Completed\", \"run_type\": null, \"training_percent\": \"100\", \"start_time\": \"2019-11-18T10:53:24.884393Z\", \"end_time\": \"2019-11-18T10:53:39.602954Z\", \"created_time\": \"2019-11-18T10:53:24.64458Z\", \"created_time_dt\": \"2019-11-18T10:53:24.64458Z\", \"duration\": \"0:00:14\", \"iteration\": \"1\", \"goal\": \"spearman_correlation_max\", \"run_name\": \"StandardScalerWrapper, LightGBM\", \"run_properties\": \"boosting_type='gbdt', class_weight=None, colsample_bytree=1,\\n         importance_type='split', learning_rate=0.1052678947368421,\\n         max_bin=7, max_depth=7, min_child_samples=1,\\n         min_child_weight=0.001, min_split_gain=0.7368421052631579,\\n         n_estimators=50, n_jobs=1, num_leaves=31, objective=None,\\n         random_state=None, reg_alpha=0, reg_lambda=1.5, silent=True,\\n         subsample=0.65, subsample_for_bin=200000, subsample_freq=1,\\n         verbose=-1\", \"primary_metric\": 0.6774315, \"best_metric\": 0.68306368}, {\"run_id\": \"AutoML_c03b2d21-ba7b-4636-baf3-9c63c6fc2958_2\", \"run_number\": 10, \"metric\": null, \"status\": \"Completed\", \"run_type\": null, \"training_percent\": \"100\", \"start_time\": \"2019-11-18T10:53:41.887699Z\", \"end_time\": \"2019-11-18T10:53:54.843137Z\", \"created_time\": \"2019-11-18T10:53:41.803976Z\", \"created_time_dt\": \"2019-11-18T10:53:41.803976Z\", \"duration\": \"0:00:13\", \"iteration\": \"2\", \"goal\": \"spearman_correlation_max\", \"run_name\": \"RobustScaler, LightGBM\", \"run_properties\": \"boosting_type='gbdt', class_weight=None,\\n         colsample_bytree=0.8, importance_type='split',\\n         learning_rate=0.11579368421052631, max_bin=1023, max_depth=7,\\n         min_child_samples=15, min_child_weight=0.001, min_split_gain=1,\\n         n_estimators=50, n_jobs=1, num_leaves=63, objective=None,\\n         random_state=None, reg_alpha=0.975, reg_lambda=0.525, silent=True,\\n         subsample=1, subsample_for_bin=200000, subsample_freq=1,\\n         verbose=-1\", \"primary_metric\": 0.6717355, \"best_metric\": 0.68306368}, {\"run_id\": \"AutoML_c03b2d21-ba7b-4636-baf3-9c63c6fc2958_3\", \"run_number\": 11, \"metric\": null, \"status\": \"Completed\", \"run_type\": null, \"training_percent\": \"100\", \"start_time\": \"2019-11-18T10:53:57.297788Z\", \"end_time\": \"2019-11-18T10:54:08.250432Z\", \"created_time\": \"2019-11-18T10:53:57.191267Z\", \"created_time_dt\": \"2019-11-18T10:53:57.191267Z\", \"duration\": \"0:00:11\", \"iteration\": \"3\", \"goal\": \"spearman_correlation_max\", \"run_name\": \"MaxAbsScaler, LightGBM\", \"run_properties\": \"boosting_type='gbdt', class_weight=None, colsample_bytree=1,\\n         importance_type='split', learning_rate=1e-05, max_bin=63,\\n         max_depth=9, min_child_samples=6, min_child_weight=0.001,\\n         min_split_gain=0.7894736842105263, n_estimators=400, n_jobs=1,\\n         num_leaves=3, objective=None, random_state=None,\\n         reg_alpha=0.8999999999999999, reg_lambda=0.075, silent=True,\\n         subsample=0.5499999999999999, subsample_for_bin=200000,\\n         subsample_freq=0, verbose=-1\", \"primary_metric\": 0.56119183, \"best_metric\": 0.68306368}, {\"run_id\": \"AutoML_c03b2d21-ba7b-4636-baf3-9c63c6fc2958_4\", \"run_number\": 12, \"metric\": null, \"status\": \"Completed\", \"run_type\": null, \"training_percent\": \"100\", \"start_time\": \"2019-11-18T10:54:10.560378Z\", \"end_time\": \"2019-11-18T10:54:23.093795Z\", \"created_time\": \"2019-11-18T10:54:10.420728Z\", \"created_time_dt\": \"2019-11-18T10:54:10.420728Z\", \"duration\": \"0:00:12\", \"iteration\": \"4\", \"goal\": \"spearman_correlation_max\", \"run_name\": \"MinMaxScaler, LightGBM\", \"run_properties\": \"boosting_type='gbdt', class_weight=None,\\n         colsample_bytree=0.5, importance_type='split',\\n         learning_rate=0.1052678947368421, max_bin=7, max_depth=10,\\n         min_child_samples=20, min_child_weight=0.001, min_split_gain=0,\\n         n_estimators=10, n_jobs=1, num_leaves=31, objective=None,\\n         random_state=None, reg_alpha=0, reg_lambda=1.425, silent=True,\\n         subsample=0.7999999999999999, subsample_for_bin=200000,\\n         subsample_freq=9, verbose=-1\", \"primary_metric\": 0.67061877, \"best_metric\": 0.68306368}], \"children_metrics\": {\"categories\": [0], \"series\": {\"mean_absolute_error\": [{\"categories\": [\"0\", \"1\", \"2\", \"3\", \"4\"], \"mode\": \"markers\", \"name\": \"mean_absolute_error\", \"stepped\": false, \"type\": \"scatter\", \"data\": [46.26537926801358, 46.07377506461595, 45.65896184560079, 67.52889892632075, 52.282284236955114]}, {\"categories\": [\"0\", \"1\", \"2\", \"3\", \"4\"], \"mode\": \"lines\", \"name\": \"mean_absolute_error_min\", \"stepped\": true, \"type\": \"scatter\", \"data\": [46.26537926801358, 46.07377506461595, 45.65896184560079, 45.65896184560079, 45.65896184560079]}], \"normalized_root_mean_squared_error\": [{\"categories\": [\"0\", \"1\", \"2\", \"3\", \"4\"], \"mode\": \"markers\", \"name\": \"normalized_root_mean_squared_error\", \"stepped\": false, \"type\": \"scatter\", \"data\": [0.1751368951384557, 0.18178961018296494, 0.1801085573293033, 0.24435017739709966, 0.19042268159483391]}, {\"categories\": [\"0\", \"1\", \"2\", \"3\", \"4\"], \"mode\": \"lines\", \"name\": \"normalized_root_mean_squared_error_min\", \"stepped\": true, \"type\": \"scatter\", \"data\": [0.1751368951384557, 0.1751368951384557, 0.1751368951384557, 0.1751368951384557, 0.1751368951384557]}], \"explained_variance\": [{\"categories\": [\"0\", \"1\", \"2\", \"3\", \"4\"], \"mode\": \"markers\", \"name\": \"explained_variance\", \"stepped\": false, \"type\": \"scatter\", \"data\": [0.493652302869406, 0.44642647767713833, 0.459279126959531, 0.003030829342228025, 0.3938520886254143]}, {\"categories\": [\"0\", \"1\", \"2\", \"3\", \"4\"], \"mode\": \"lines\", \"name\": \"explained_variance_max\", \"stepped\": true, \"type\": \"scatter\", \"data\": [0.493652302869406, 0.493652302869406, 0.493652302869406, 0.493652302869406, 0.493652302869406]}], \"r2_score\": [{\"categories\": [\"0\", \"1\", \"2\", \"3\", \"4\"], \"mode\": \"markers\", \"name\": \"r2_score\", \"stepped\": false, \"type\": \"scatter\", \"data\": [0.46970483524460854, 0.4285400880219977, 0.4402510479162708, -0.0261432670621057, 0.37674782945993684]}, {\"categories\": [\"0\", \"1\", \"2\", \"3\", \"4\"], \"mode\": \"lines\", \"name\": \"r2_score_max\", \"stepped\": true, \"type\": \"scatter\", \"data\": [0.46970483524460854, 0.46970483524460854, 0.46970483524460854, 0.46970483524460854, 0.46970483524460854]}], \"normalized_mean_absolute_error\": [{\"categories\": [\"0\", \"1\", \"2\", \"3\", \"4\"], \"mode\": \"markers\", \"name\": \"normalized_mean_absolute_error\", \"stepped\": false, \"type\": \"scatter\", \"data\": [0.14412890737698936, 0.14353200954709017, 0.14223975652835136, 0.21037040163962853, 0.1628731596166826]}, {\"categories\": [\"0\", \"1\", \"2\", \"3\", \"4\"], \"mode\": \"lines\", \"name\": \"normalized_mean_absolute_error_min\", \"stepped\": true, \"type\": \"scatter\", \"data\": [0.14412890737698936, 0.14353200954709017, 0.14223975652835136, 0.14223975652835136, 0.14223975652835136]}], \"root_mean_squared_log_error\": [{\"categories\": [\"0\", \"1\", \"2\", \"3\", \"4\"], \"mode\": \"markers\", \"name\": \"root_mean_squared_log_error\", \"stepped\": false, \"type\": \"scatter\", \"data\": [0.4353292743508647, 0.4351259446307446, 0.4417806766898785, 0.584348562423253, 0.47542408271669795]}, {\"categories\": [\"0\", \"1\", \"2\", \"3\", \"4\"], \"mode\": \"lines\", \"name\": \"root_mean_squared_log_error_min\", \"stepped\": true, \"type\": \"scatter\", \"data\": [0.4353292743508647, 0.4351259446307446, 0.4351259446307446, 0.4351259446307446, 0.4351259446307446]}], \"median_absolute_error\": [{\"categories\": [\"0\", \"1\", \"2\", \"3\", \"4\"], \"mode\": \"markers\", \"name\": \"median_absolute_error\", \"stepped\": false, \"type\": \"scatter\", \"data\": [40.69664835499074, 39.717734437673656, 40.2155631502154, 66.35465363433964, 50.99468203728217]}, {\"categories\": [\"0\", \"1\", \"2\", \"3\", \"4\"], \"mode\": \"lines\", \"name\": \"median_absolute_error_min\", \"stepped\": true, \"type\": \"scatter\", \"data\": [40.69664835499074, 39.717734437673656, 39.717734437673656, 39.717734437673656, 39.717734437673656]}], \"root_mean_squared_error\": [{\"categories\": [\"0\", \"1\", \"2\", \"3\", \"4\"], \"mode\": \"markers\", \"name\": \"root_mean_squared_error\", \"stepped\": false, \"type\": \"scatter\", \"data\": [56.21894333944429, 58.354464868731746, 57.81484690270636, 78.43640694446898, 61.12568079194168]}, {\"categories\": [\"0\", \"1\", \"2\", \"3\", \"4\"], \"mode\": \"lines\", \"name\": \"root_mean_squared_error_min\", \"stepped\": true, \"type\": \"scatter\", \"data\": [56.21894333944429, 56.21894333944429, 56.21894333944429, 56.21894333944429, 56.21894333944429]}], \"normalized_root_mean_squared_log_error\": [{\"categories\": [\"0\", \"1\", \"2\", \"3\", \"4\"], \"mode\": \"markers\", \"name\": \"normalized_root_mean_squared_log_error\", \"stepped\": false, \"type\": \"scatter\", \"data\": [0.1680011306249886, 0.1679226621532305, 0.17049083887786715, 0.22551026303613483, 0.18347441380286922]}, {\"categories\": [\"0\", \"1\", \"2\", \"3\", \"4\"], \"mode\": \"lines\", \"name\": \"normalized_root_mean_squared_log_error_min\", \"stepped\": true, \"type\": \"scatter\", \"data\": [0.1680011306249886, 0.1679226621532305, 0.1679226621532305, 0.1679226621532305, 0.1679226621532305]}], \"normalized_median_absolute_error\": [{\"categories\": [\"0\", \"1\", \"2\", \"3\", \"4\"], \"mode\": \"markers\", \"name\": \"normalized_median_absolute_error\", \"stepped\": false, \"type\": \"scatter\", \"data\": [0.1267808359968559, 0.1237312599304475, 0.12528212819381745, 0.2067123166178805, 0.15886193781084787]}, {\"categories\": [\"0\", \"1\", \"2\", \"3\", \"4\"], \"mode\": \"lines\", \"name\": \"normalized_median_absolute_error_min\", \"stepped\": true, \"type\": \"scatter\", \"data\": [0.1267808359968559, 0.1237312599304475, 0.1237312599304475, 0.1237312599304475, 0.1237312599304475]}], \"spearman_correlation\": [{\"categories\": [\"0\", \"1\", \"2\", \"3\", \"4\"], \"mode\": \"markers\", \"name\": \"spearman_correlation\", \"stepped\": false, \"type\": \"scatter\", \"data\": [0.6830636781822348, 0.6774314996972028, 0.6717354962317812, 0.5611918298117656, 0.6706187744974879]}, {\"categories\": [\"0\", \"1\", \"2\", \"3\", \"4\"], \"mode\": \"lines\", \"name\": \"spearman_correlation_max\", \"stepped\": true, \"type\": \"scatter\", \"data\": [0.6830636781822348, 0.6830636781822348, 0.6830636781822348, 0.6830636781822348, 0.6830636781822348]}], \"mean_absolute_percentage_error\": [{\"categories\": [\"0\", \"1\", \"2\", \"3\", \"4\"], \"mode\": \"markers\", \"name\": \"mean_absolute_percentage_error\", \"stepped\": false, \"type\": \"scatter\", \"data\": [42.15438054717965, 39.96303455940697, 40.035868546032496, 64.52947007811318, 49.27997504595885]}, {\"categories\": [\"0\", \"1\", \"2\", \"3\", \"4\"], \"mode\": \"lines\", \"name\": \"mean_absolute_percentage_error_min\", \"stepped\": true, \"type\": \"scatter\", \"data\": [42.15438054717965, 39.96303455940697, 39.96303455940697, 39.96303455940697, 39.96303455940697]}]}, \"metricName\": null, \"primaryMetricName\": \"spearman_correlation\", \"showLegend\": false}, \"run_metrics\": [], \"run_logs\": \"\\nRun is completed.\", \"graph\": {}, \"widget_settings\": {\"childWidgetDisplay\": \"popup\", \"send_telemetry\": false, \"log_level\": \"INFO\", \"sdk_version\": \"1.0.74\"}, \"loading\": false}"
     },
     "metadata": {},
     "output_type": "display_data"
    }
   ],
   "source": [
    "from azureml.widgets import RunDetails\n",
    "RunDetails(local_run).show() "
   ]
  },
  {
   "cell_type": "markdown",
   "metadata": {},
   "source": [
    "\n",
    "### 5.2 Récupération de toutes les itérations"
   ]
  },
  {
   "cell_type": "code",
   "execution_count": 14,
   "metadata": {},
   "outputs": [
    {
     "data": {
      "text/html": [
       "<div>\n",
       "<style scoped>\n",
       "    .dataframe tbody tr th:only-of-type {\n",
       "        vertical-align: middle;\n",
       "    }\n",
       "\n",
       "    .dataframe tbody tr th {\n",
       "        vertical-align: top;\n",
       "    }\n",
       "\n",
       "    .dataframe thead th {\n",
       "        text-align: right;\n",
       "    }\n",
       "</style>\n",
       "<table border=\"1\" class=\"dataframe\">\n",
       "  <thead>\n",
       "    <tr style=\"text-align: right;\">\n",
       "      <th></th>\n",
       "      <th>0</th>\n",
       "      <th>1</th>\n",
       "      <th>2</th>\n",
       "      <th>3</th>\n",
       "      <th>4</th>\n",
       "    </tr>\n",
       "  </thead>\n",
       "  <tbody>\n",
       "    <tr>\n",
       "      <th>explained_variance</th>\n",
       "      <td>0.49</td>\n",
       "      <td>0.45</td>\n",
       "      <td>0.46</td>\n",
       "      <td>0.00</td>\n",
       "      <td>0.39</td>\n",
       "    </tr>\n",
       "    <tr>\n",
       "      <th>mean_absolute_error</th>\n",
       "      <td>46.27</td>\n",
       "      <td>46.07</td>\n",
       "      <td>45.66</td>\n",
       "      <td>67.53</td>\n",
       "      <td>52.28</td>\n",
       "    </tr>\n",
       "    <tr>\n",
       "      <th>mean_absolute_percentage_error</th>\n",
       "      <td>42.15</td>\n",
       "      <td>39.96</td>\n",
       "      <td>40.04</td>\n",
       "      <td>64.53</td>\n",
       "      <td>49.28</td>\n",
       "    </tr>\n",
       "    <tr>\n",
       "      <th>median_absolute_error</th>\n",
       "      <td>40.70</td>\n",
       "      <td>39.72</td>\n",
       "      <td>40.22</td>\n",
       "      <td>66.35</td>\n",
       "      <td>50.99</td>\n",
       "    </tr>\n",
       "    <tr>\n",
       "      <th>normalized_mean_absolute_error</th>\n",
       "      <td>0.14</td>\n",
       "      <td>0.14</td>\n",
       "      <td>0.14</td>\n",
       "      <td>0.21</td>\n",
       "      <td>0.16</td>\n",
       "    </tr>\n",
       "    <tr>\n",
       "      <th>normalized_median_absolute_error</th>\n",
       "      <td>0.13</td>\n",
       "      <td>0.12</td>\n",
       "      <td>0.13</td>\n",
       "      <td>0.21</td>\n",
       "      <td>0.16</td>\n",
       "    </tr>\n",
       "    <tr>\n",
       "      <th>normalized_root_mean_squared_error</th>\n",
       "      <td>0.18</td>\n",
       "      <td>0.18</td>\n",
       "      <td>0.18</td>\n",
       "      <td>0.24</td>\n",
       "      <td>0.19</td>\n",
       "    </tr>\n",
       "    <tr>\n",
       "      <th>normalized_root_mean_squared_log_error</th>\n",
       "      <td>0.17</td>\n",
       "      <td>0.17</td>\n",
       "      <td>0.17</td>\n",
       "      <td>0.23</td>\n",
       "      <td>0.18</td>\n",
       "    </tr>\n",
       "    <tr>\n",
       "      <th>r2_score</th>\n",
       "      <td>0.47</td>\n",
       "      <td>0.43</td>\n",
       "      <td>0.44</td>\n",
       "      <td>-0.03</td>\n",
       "      <td>0.38</td>\n",
       "    </tr>\n",
       "    <tr>\n",
       "      <th>root_mean_squared_error</th>\n",
       "      <td>56.22</td>\n",
       "      <td>58.35</td>\n",
       "      <td>57.81</td>\n",
       "      <td>78.44</td>\n",
       "      <td>61.13</td>\n",
       "    </tr>\n",
       "    <tr>\n",
       "      <th>root_mean_squared_log_error</th>\n",
       "      <td>0.44</td>\n",
       "      <td>0.44</td>\n",
       "      <td>0.44</td>\n",
       "      <td>0.58</td>\n",
       "      <td>0.48</td>\n",
       "    </tr>\n",
       "    <tr>\n",
       "      <th>spearman_correlation</th>\n",
       "      <td>0.68</td>\n",
       "      <td>0.68</td>\n",
       "      <td>0.67</td>\n",
       "      <td>0.56</td>\n",
       "      <td>0.67</td>\n",
       "    </tr>\n",
       "  </tbody>\n",
       "</table>\n",
       "</div>"
      ],
      "text/plain": [
       "                                           0     1     2     3     4\n",
       "explained_variance                     0.49  0.45  0.46  0.00  0.39 \n",
       "mean_absolute_error                    46.27 46.07 45.66 67.53 52.28\n",
       "mean_absolute_percentage_error         42.15 39.96 40.04 64.53 49.28\n",
       "median_absolute_error                  40.70 39.72 40.22 66.35 50.99\n",
       "normalized_mean_absolute_error         0.14  0.14  0.14  0.21  0.16 \n",
       "normalized_median_absolute_error       0.13  0.12  0.13  0.21  0.16 \n",
       "normalized_root_mean_squared_error     0.18  0.18  0.18  0.24  0.19 \n",
       "normalized_root_mean_squared_log_error 0.17  0.17  0.17  0.23  0.18 \n",
       "r2_score                               0.47  0.43  0.44  -0.03 0.38 \n",
       "root_mean_squared_error                56.22 58.35 57.81 78.44 61.13\n",
       "root_mean_squared_log_error            0.44  0.44  0.44  0.58  0.48 \n",
       "spearman_correlation                   0.68  0.68  0.67  0.56  0.67 "
      ]
     },
     "execution_count": 14,
     "metadata": {},
     "output_type": "execute_result"
    }
   ],
   "source": [
    "children = list(local_run.get_children())\n",
    "metricslist = {}\n",
    "for run in children:\n",
    "    properties = run.get_properties()\n",
    "    metrics = {k: v for k, v in run.get_metrics().items() if isinstance(v, float)}\n",
    "    metricslist[int(properties['iteration'])] = metrics\n",
    "\n",
    "rundata = pd.DataFrame(metricslist).sort_index(1)\n",
    "rundata"
   ]
  },
  {
   "cell_type": "markdown",
   "metadata": {},
   "source": [
    "### 5.3 Obtention du meilleur modèle\n",
    "\n",
    "Below we select the best pipeline from our iterations. The `get_output` method returns the best run and the fitted model. The Model includes the pipeline and any pre-processing.  Overloads on `get_output` allow you to retrieve the best run and fitted model for *any* logged metric or for a particular *iteration*."
   ]
  },
  {
   "cell_type": "code",
   "execution_count": 15,
   "metadata": {},
   "outputs": [
    {
     "name": "stdout",
     "output_type": "stream",
     "text": [
      "Run(Experiment: workshop3,\n",
      "Id: AutoML_c03b2d21-ba7b-4636-baf3-9c63c6fc2958_0,\n",
      "Type: None,\n",
      "Status: Completed)\n",
      "RegressionPipeline(pipeline=Pipeline(memory=None,\n",
      "     steps=[('StandardScalerWrapper', <automl.client.core.runtime.model_wrappers.StandardScalerWrapper object at 0x7fdeebac5b38>), ('LightGBMRegressor', LightGBMRegressor(boosting_type='gbdt', class_weight=None, colsample_bytree=1,\n",
      "         importance_type='split', learning_rate=0.12631947368421054,\n",
      "    ...ent=True,\n",
      "         subsample=0.9, subsample_for_bin=200000, subsample_freq=3,\n",
      "         verbose=-1))]),\n",
      "          stddev=None)\n"
     ]
    }
   ],
   "source": [
    "best_run, fitted_model = local_run.get_output()\n",
    "print(best_run)\n",
    "print(fitted_model)"
   ]
  },
  {
   "cell_type": "markdown",
   "metadata": {},
   "source": [
    "### 5.4 Changement de métrique\n",
    "Show the run and the model that has the smallest `root_mean_squared_error` value (which turned out to be the same as the one with largest `spearman_correlation` value):"
   ]
  },
  {
   "cell_type": "code",
   "execution_count": 16,
   "metadata": {},
   "outputs": [
    {
     "name": "stdout",
     "output_type": "stream",
     "text": [
      "Run(Experiment: workshop3,\n",
      "Id: AutoML_c03b2d21-ba7b-4636-baf3-9c63c6fc2958_0,\n",
      "Type: None,\n",
      "Status: Completed)\n",
      "RegressionPipeline(pipeline=Pipeline(memory=None,\n",
      "     steps=[('StandardScalerWrapper', <automl.client.core.runtime.model_wrappers.StandardScalerWrapper object at 0x7fdeeb5edb38>), ('LightGBMRegressor', LightGBMRegressor(boosting_type='gbdt', class_weight=None, colsample_bytree=1,\n",
      "         importance_type='split', learning_rate=0.12631947368421054,\n",
      "    ...ent=True,\n",
      "         subsample=0.9, subsample_for_bin=200000, subsample_freq=3,\n",
      "         verbose=-1))]),\n",
      "          stddev=None)\n"
     ]
    }
   ],
   "source": [
    "lookup_metric = \"root_mean_squared_error\"\n",
    "best_run, fitted_model = local_run.get_output(metric = lookup_metric)\n",
    "print(best_run)\n",
    "print(fitted_model)"
   ]
  },
  {
   "cell_type": "markdown",
   "metadata": {},
   "source": [
    "### 5.5 Choix d'une itération spécifique\n",
    "Show the run and the model from the third iteration:"
   ]
  },
  {
   "cell_type": "code",
   "execution_count": 17,
   "metadata": {},
   "outputs": [
    {
     "name": "stdout",
     "output_type": "stream",
     "text": [
      "Run(Experiment: workshop3,\n",
      "Id: AutoML_c03b2d21-ba7b-4636-baf3-9c63c6fc2958_1,\n",
      "Type: None,\n",
      "Status: Completed)\n",
      "RegressionPipeline(pipeline=Pipeline(memory=None,\n",
      "     steps=[('StandardScalerWrapper', <automl.client.core.runtime.model_wrappers.StandardScalerWrapper object at 0x7fdeeb578860>), ('LightGBMRegressor', LightGBMRegressor(boosting_type='gbdt', class_weight=None, colsample_bytree=1,\n",
      "         importance_type='split', learning_rate=0.1052678947368421,\n",
      "     ...nt=True,\n",
      "         subsample=0.65, subsample_for_bin=200000, subsample_freq=1,\n",
      "         verbose=-1))]),\n",
      "          stddev=None)\n"
     ]
    }
   ],
   "source": [
    "iteration = 1\n",
    "third_run, third_model = local_run.get_output(iteration = iteration)\n",
    "print(third_run)\n",
    "print(third_model)"
   ]
  },
  {
   "cell_type": "markdown",
   "metadata": {},
   "source": [
    "## 6. Validation"
   ]
  },
  {
   "cell_type": "markdown",
   "metadata": {},
   "source": [
    "Predict on training and test set, and calculate residual values."
   ]
  },
  {
   "cell_type": "code",
   "execution_count": 18,
   "metadata": {},
   "outputs": [],
   "source": [
    "y_pred_train = fitted_model.predict(X_train)\n",
    "y_residual_train = y_train - y_pred_train\n",
    "\n",
    "y_pred_test = fitted_model.predict(X_test)\n",
    "y_residual_test = y_test - y_pred_test"
   ]
  },
  {
   "cell_type": "code",
   "execution_count": 19,
   "metadata": {},
   "outputs": [
    {
     "data": {
      "image/png": "[encoded data removed]",
      "text/plain": [
       "<Figure size 1152x432 with 2 Axes>"
      ]
     },
     "metadata": {
      "needs_background": "light"
     },
     "output_type": "display_data"
    }
   ],
   "source": [
    "%matplotlib inline\n",
    "import matplotlib.pyplot as plt\n",
    "import numpy as np\n",
    "from sklearn import datasets\n",
    "from sklearn.metrics import mean_squared_error, r2_score\n",
    "\n",
    "# Set up a multi-plot chart.\n",
    "f, (a0, a1) = plt.subplots(1, 2, gridspec_kw = {'width_ratios':[1, 1], 'wspace':0, 'hspace': 0})\n",
    "f.suptitle('Regression Residual Values', fontsize = 18)\n",
    "f.set_figheight(6)\n",
    "f.set_figwidth(16)\n",
    "\n",
    "# Plot residual values of training set.\n",
    "a0.axis([0, 360, -200, 200])\n",
    "a0.plot(y_residual_train, 'bo', alpha = 0.5)\n",
    "a0.plot([-10,360],[0,0], 'r-', lw = 3)\n",
    "a0.text(16,170,'RMSE = {0:.2f}'.format(np.sqrt(mean_squared_error(y_train, y_pred_train))), fontsize = 12)\n",
    "a0.text(16,140,'R2 score = {0:.2f}'.format(r2_score(y_train, y_pred_train)), fontsize = 12)\n",
    "a0.set_xlabel('Training samples', fontsize = 12)\n",
    "a0.set_ylabel('Residual Values', fontsize = 12)\n",
    "\n",
    "# Plot a histogram.\n",
    "a0.hist(y_residual_train, orientation = 'horizontal', color = 'b', bins = 10, histtype = 'step');\n",
    "a0.hist(y_residual_train, orientation = 'horizontal', color = 'b', alpha = 0.2, bins = 10);\n",
    "\n",
    "# Plot residual values of test set.\n",
    "a1.axis([0, 90, -200, 200])\n",
    "a1.plot(y_residual_test, 'bo', alpha = 0.5)\n",
    "a1.plot([-10,360],[0,0], 'r-', lw = 3)\n",
    "a1.text(5,170,'RMSE = {0:.2f}'.format(np.sqrt(mean_squared_error(y_test, y_pred_test))), fontsize = 12)\n",
    "a1.text(5,140,'R2 score = {0:.2f}'.format(r2_score(y_test, y_pred_test)), fontsize = 12)\n",
    "a1.set_xlabel('Test samples', fontsize = 12)\n",
    "a1.set_yticklabels([])\n",
    "\n",
    "# Plot a histogram.\n",
    "a1.hist(y_residual_test, orientation = 'horizontal', color = 'b', bins = 10, histtype = 'step')\n",
    "a1.hist(y_residual_test, orientation = 'horizontal', color = 'b', alpha = 0.2, bins = 10)\n",
    "\n",
    "plt.show()"
   ]
  },
  {
   "cell_type": "markdown",
   "metadata": {},
   "source": [
    "> Plus d'information : https://docs.microsoft.com/en-us/azure/machine-learning/service/"
   ]
  },
  {
   "cell_type": "markdown",
   "metadata": {},
   "source": [
    "<img src=\"https://github.com/retkowsky/images/blob/master/Powered-by-MS-Azure-logo-v2.png?raw=true\" height=\"300\" width=\"300\">"
   ]
  },
  {
   "cell_type": "code",
   "execution_count": null,
   "metadata": {},
   "outputs": [],
   "source": []
  }
 ],
 "metadata": {
  "authors": [
   {
    "name": "savitam"
   }
  ],
  "kernelspec": {
   "display_name": "Python 3.6 - AzureML",
   "language": "python",
   "name": "python3-azureml"
  },
  "language_info": {
   "codemirror_mode": {
    "name": "ipython",
    "version": 3
   },
   "file_extension": ".py",
   "mimetype": "text/x-python",
   "name": "python",
   "nbconvert_exporter": "python",
   "pygments_lexer": "ipython3",
   "version": "3.6.9"
  }
 },
 "nbformat": 4,
 "nbformat_minor": 2
}
