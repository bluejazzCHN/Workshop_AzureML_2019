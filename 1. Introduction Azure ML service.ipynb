{
 "cells": [
  {
   "cell_type": "markdown",
   "metadata": {},
   "source": [
    "# Introduction Azure ML service\n",
    "\n",
    "<img src='https://github.com/retkowsky/images/blob/master/AzureMLservicebanniere.png?raw=true'>\n",
    "\n",
    "> https://docs.microsoft.com/en-us/azure/machine-learning/"
   ]
  },
  {
   "cell_type": "code",
   "execution_count": 1,
   "metadata": {},
   "outputs": [
    {
     "data": {
      "text/plain": [
       "'3.6.9 |Anaconda, Inc.| (default, Jul 30 2019, 19:07:31) \\n[GCC 7.3.0]'"
      ]
     },
     "execution_count": 1,
     "metadata": {},
     "output_type": "execute_result"
    }
   ],
   "source": [
    "import sys\n",
    "sys.version"
   ]
  },
  {
   "cell_type": "code",
   "execution_count": 2,
   "metadata": {},
   "outputs": [
    {
     "name": "stdout",
     "output_type": "stream",
     "text": [
      "2019-11-18 10:49:51.308507\n"
     ]
    }
   ],
   "source": [
    "import datetime\n",
    "now = datetime.datetime.now()\n",
    "print(now)"
   ]
  },
  {
   "cell_type": "code",
   "execution_count": 3,
   "metadata": {},
   "outputs": [
    {
     "name": "stdout",
     "output_type": "stream",
     "text": [
      "Version Azure ML service :  1.0.74\n"
     ]
    }
   ],
   "source": [
    "import azureml.core\n",
    "from azureml.core import Experiment, Workspace\n",
    "\n",
    "# Check core SDK version number\n",
    "print(\"Version Azure ML service : \", azureml.core.VERSION)"
   ]
  },
  {
   "cell_type": "code",
   "execution_count": 4,
   "metadata": {},
   "outputs": [
    {
     "name": "stdout",
     "output_type": "stream",
     "text": [
      "Workspace name: workshopml\n",
      "Azure region: northeurope\n",
      "Resource group: workshopmlRG\n"
     ]
    }
   ],
   "source": [
    "# workspace\n",
    "ws = Workspace.from_config()\n",
    "print('Workspace name: ' + ws.name, \n",
    "      'Azure region: ' + ws.location, \n",
    "      'Resource group: ' + ws.resource_group, sep='\\n')"
   ]
  },
  {
   "cell_type": "markdown",
   "metadata": {},
   "source": [
    "## Chargement des données"
   ]
  },
  {
   "cell_type": "code",
   "execution_count": 5,
   "metadata": {},
   "outputs": [],
   "source": [
    "from sklearn.datasets import load_diabetes\n",
    "from sklearn.linear_model import Ridge\n",
    "from sklearn.metrics import mean_squared_error\n",
    "from sklearn.model_selection import train_test_split\n",
    "from sklearn.externals import joblib"
   ]
  },
  {
   "cell_type": "code",
   "execution_count": 6,
   "metadata": {},
   "outputs": [],
   "source": [
    "X, y = load_diabetes(return_X_y = True)\n",
    "\n",
    "columns = ['age', 'gender', 'bmi', 'bp', 's1', 's2', 's3', 's4', 's5', 's6']\n",
    "\n",
    "X_train, X_test, y_train, y_test = train_test_split(X, y, test_size=0.2, random_state=0)\n",
    "\n",
    "data = {\n",
    "    \"train\":{\"X\": X_train, \"y\": y_train},        \n",
    "    \"test\":{\"X\": X_test, \"y\": y_test}\n",
    "}"
   ]
  },
  {
   "cell_type": "code",
   "execution_count": 7,
   "metadata": {},
   "outputs": [
    {
     "name": "stdout",
     "output_type": "stream",
     "text": [
      "Données :  353 obs. = Base Training.  89 obs. = Base Test\n"
     ]
    }
   ],
   "source": [
    "print (\"Données : \", len(data['train']['X']), \"obs. = Base Training. \",len(data['test']['X']), \"obs. = Base Test\")"
   ]
  },
  {
   "cell_type": "markdown",
   "metadata": {},
   "source": [
    "## Modélisation"
   ]
  },
  {
   "cell_type": "code",
   "execution_count": 8,
   "metadata": {},
   "outputs": [],
   "source": [
    "experiment = Experiment(workspace=ws, name=\"workshop1\")"
   ]
  },
  {
   "cell_type": "markdown",
   "metadata": {},
   "source": [
    "## Les étapes\n",
    "1. Logs d'informations\n",
    "2. Modélisation\n",
    "3. Logs de résultats de modèles\n",
    "4. Sauvegarde modèle"
   ]
  },
  {
   "cell_type": "code",
   "execution_count": 9,
   "metadata": {},
   "outputs": [
    {
     "name": "stdout",
     "output_type": "stream",
     "text": [
      "Maintenant :  2019-11-18 10:49:58.594531\n"
     ]
    }
   ],
   "source": [
    "from datetime import datetime\n",
    "maintenant = datetime.now()\n",
    "print(\"Maintenant : \", maintenant)"
   ]
  },
  {
   "cell_type": "code",
   "execution_count": 10,
   "metadata": {},
   "outputs": [
    {
     "name": "stdout",
     "output_type": "stream",
     "text": [
      "MSE ou Mean Squared Error du modèle = 3372.649627810032\n",
      "CPU times: user 199 ms, sys: 44.7 ms, total: 243 ms\n",
      "Wall time: 5.38 s\n"
     ]
    }
   ],
   "source": [
    "%%time\n",
    "alpha=0.1\n",
    "\n",
    "# 1. Run object\n",
    "run = experiment.start_logging()\n",
    "\n",
    "# 2. Logs de valeurs\n",
    "run.log('alpha', alpha)\n",
    "run.log('date_log', str(maintenant))\n",
    "\n",
    "# 3. Modèle ML\n",
    "regression_model = Ridge(alpha=alpha)\n",
    "regression_model.fit(data['train']['X'], data['train']['y'])\n",
    "preds = regression_model.predict(data['test']['X'])\n",
    "\n",
    "# 4. Output\n",
    "print('MSE ou Mean Squared Error du modèle =', mean_squared_error(data['test']['y'], preds))\n",
    "run.log('mse', mean_squared_error(data['test']['y'], preds))\n",
    "\n",
    "# 5. Export modèle\n",
    "joblib.dump(value=regression_model, filename='modele_workshop1.pkl')\n",
    "\n",
    "# 6. Fin\n",
    "run.complete()"
   ]
  },
  {
   "cell_type": "code",
   "execution_count": 11,
   "metadata": {},
   "outputs": [
    {
     "name": "stdout",
     "output_type": "stream",
     "text": [
      "MSE ou Mean Squared Error du modèle = 3325.2946794678764\n",
      "CPU times: user 157 ms, sys: 34.7 ms, total: 192 ms\n",
      "Wall time: 5.13 s\n"
     ]
    }
   ],
   "source": [
    "%%time\n",
    "alpha=0.2\n",
    "\n",
    "# 1. Run object\n",
    "run = experiment.start_logging()\n",
    "\n",
    "# 2. Logs de valeurs\n",
    "run.log('alpha', alpha)\n",
    "run.log('date_log', str(maintenant))\n",
    "\n",
    "# 3. Modèle ML\n",
    "regression_model = Ridge(alpha=alpha)\n",
    "regression_model.fit(data['train']['X'], data['train']['y'])\n",
    "preds = regression_model.predict(data['test']['X'])\n",
    "\n",
    "# 4. Output\n",
    "print('MSE ou Mean Squared Error du modèle =', mean_squared_error(data['test']['y'], preds))\n",
    "run.log('mse', mean_squared_error(data['test']['y'], preds))\n",
    "\n",
    "# 5. Export modèle\n",
    "joblib.dump(value=regression_model, filename='modele_workshop1.pkl')\n",
    "\n",
    "# 6. Fin\n",
    "run.complete()"
   ]
  },
  {
   "cell_type": "code",
   "execution_count": 12,
   "metadata": {},
   "outputs": [
    {
     "name": "stdout",
     "output_type": "stream",
     "text": [
      "MSE ou Mean Squared Error du modèle = 3302.6736334017255\n",
      "CPU times: user 140 ms, sys: 55 ms, total: 195 ms\n",
      "Wall time: 4.7 s\n"
     ]
    }
   ],
   "source": [
    "%%time\n",
    "alpha=0.3\n",
    "\n",
    "# 1. Run object\n",
    "run = experiment.start_logging()\n",
    "\n",
    "# 2. Logs de valeurs\n",
    "run.log('alpha', alpha)\n",
    "run.log('date_log', str(maintenant))\n",
    "\n",
    "# 3. Modèle ML\n",
    "regression_model = Ridge(alpha=alpha)\n",
    "regression_model.fit(data['train']['X'], data['train']['y'])\n",
    "preds = regression_model.predict(data['test']['X'])\n",
    "\n",
    "# 4. Output\n",
    "print('MSE ou Mean Squared Error du modèle =', mean_squared_error(data['test']['y'], preds))\n",
    "run.log('mse', mean_squared_error(data['test']['y'], preds))\n",
    "\n",
    "# 5. Export modèle\n",
    "joblib.dump(value=regression_model, filename='modele_workshop1.pkl')\n",
    "\n",
    "# 6. Fin\n",
    "run.complete()"
   ]
  },
  {
   "cell_type": "markdown",
   "metadata": {},
   "source": [
    "## Visualisation de l'expérimentation sur le portail Azure"
   ]
  },
  {
   "cell_type": "code",
   "execution_count": 14,
   "metadata": {},
   "outputs": [
    {
     "data": {
      "text/html": [
       "<table style=\"width:100%\"><tr><th>Experiment</th><th>Id</th><th>Type</th><th>Status</th><th>Details Page</th><th>Docs Page</th></tr><tr><td>workshop1</td><td>f5b437b8-dd00-44d4-94e2-7203d114d0d7</td><td></td><td>Running</td><td><a href=\"https://ml.azure.com/experiments/workshop1/runs/f5b437b8-dd00-44d4-94e2-7203d114d0d7?wsid=/subscriptions/70b8f39e-8863-49f7-b6ba-34a80799550c/resourcegroups/workshopmlRG/workspaces/workshopml\" target=\"_blank\" rel=\"noopener\">Link to Azure Machine Learning studio</a></td><td><a href=\"https://docs.microsoft.com/en-us/python/api/azureml-core/azureml.core.run.Run?view=azure-ml-py\" target=\"_blank\" rel=\"noopener\">Link to Documentation</a></td></tr></table>"
      ],
      "text/plain": [
       "Run(Experiment: workshop1,\n",
       "Id: f5b437b8-dd00-44d4-94e2-7203d114d0d7,\n",
       "Type: None,\n",
       "Status: Running)"
      ]
     },
     "execution_count": 14,
     "metadata": {},
     "output_type": "execute_result"
    }
   ],
   "source": [
    "run"
   ]
  },
  {
   "cell_type": "code",
   "execution_count": 15,
   "metadata": {},
   "outputs": [
    {
     "data": {
      "text/plain": [
       "{'runId': 'f5b437b8-dd00-44d4-94e2-7203d114d0d7',\n",
       " 'target': 'sdk',\n",
       " 'status': 'Completed',\n",
       " 'startTimeUtc': '2019-11-18T10:50:09.988876Z',\n",
       " 'endTimeUtc': '2019-11-18T10:50:14.450068Z',\n",
       " 'properties': {'ContentSnapshotId': '5bda74d2-3cfb-45dc-90a7-80d214b3774d'},\n",
       " 'inputDatasets': [],\n",
       " 'logFiles': {}}"
      ]
     },
     "execution_count": 15,
     "metadata": {},
     "output_type": "execute_result"
    }
   ],
   "source": [
    "run.get_details()"
   ]
  },
  {
   "cell_type": "markdown",
   "metadata": {},
   "source": [
    "<img src=\"https://github.com/retkowsky/images/blob/master/Powered-by-MS-Azure-logo-v2.png?raw=true\" height=\"300\" width=\"300\">"
   ]
  },
  {
   "cell_type": "code",
   "execution_count": null,
   "metadata": {},
   "outputs": [],
   "source": []
  }
 ],
 "metadata": {
  "kernelspec": {
   "display_name": "Python 3.6 - AzureML",
   "language": "python",
   "name": "python3-azureml"
  },
  "language_info": {
   "codemirror_mode": {
    "name": "ipython",
    "version": 3
   },
   "file_extension": ".py",
   "mimetype": "text/x-python",
   "name": "python",
   "nbconvert_exporter": "python",
   "pygments_lexer": "ipython3",
   "version": "3.6.9"
  }
 },
 "nbformat": 4,
 "nbformat_minor": 2
}
