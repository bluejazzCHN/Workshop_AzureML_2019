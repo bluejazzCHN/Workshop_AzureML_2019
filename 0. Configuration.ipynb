{
 "cells": [
  {
   "cell_type": "markdown",
   "metadata": {},
   "source": [
    "# Configuration Azure ML service"
   ]
  },
  {
   "cell_type": "markdown",
   "metadata": {},
   "source": [
    "<img src='https://github.com/retkowsky/images/blob/master/AzureMLservicebanniere.png?raw=true'>"
   ]
  },
  {
   "cell_type": "markdown",
   "metadata": {},
   "source": [
    "## Infos"
   ]
  },
  {
   "cell_type": "code",
   "execution_count": 1,
   "metadata": {},
   "outputs": [
    {
     "data": {
      "text/plain": [
       "'3.6.9 |Anaconda, Inc.| (default, Jul 30 2019, 19:07:31) \\n[GCC 7.3.0]'"
      ]
     },
     "execution_count": 1,
     "metadata": {},
     "output_type": "execute_result"
    }
   ],
   "source": [
    "import sys\n",
    "sys.version"
   ]
  },
  {
   "cell_type": "code",
   "execution_count": 2,
   "metadata": {},
   "outputs": [
    {
     "name": "stdout",
     "output_type": "stream",
     "text": [
      "Date : 2019-11-18 10:47:26.720024\n"
     ]
    }
   ],
   "source": [
    "import datetime\n",
    "maintenant = datetime.datetime.now()\n",
    "print('Date :', maintenant)"
   ]
  },
  {
   "cell_type": "markdown",
   "metadata": {},
   "source": [
    "## Installation librairie AzureML service\n",
    "\n",
    "Release notes Azure ML service : https://docs.microsoft.com/en-us/azure/machine-learning/service/azure-machine-learning-release-notes\n",
    "\n",
    "Installation : https://docs.microsoft.com/en-us/python/api/overview/azure/ml/install?view=azure-ml-py"
   ]
  },
  {
   "cell_type": "markdown",
   "metadata": {},
   "source": [
    "### Pour installer la première fois (supprimer le # si besoin)"
   ]
  },
  {
   "cell_type": "code",
   "execution_count": 3,
   "metadata": {},
   "outputs": [],
   "source": [
    "#pip install azureml-sdk"
   ]
  },
  {
   "cell_type": "markdown",
   "metadata": {},
   "source": [
    "> Redémarrer ensuite le kernel Jupyter"
   ]
  },
  {
   "cell_type": "markdown",
   "metadata": {},
   "source": [
    "### Pour mettre à jour Azure ML service"
   ]
  },
  {
   "cell_type": "code",
   "execution_count": 4,
   "metadata": {},
   "outputs": [],
   "source": [
    "#pip install --upgrade azureml-sdk"
   ]
  },
  {
   "cell_type": "markdown",
   "metadata": {},
   "source": [
    "Penser à mettre à jour les extras et ensuite à relancer le kernel Jupyter"
   ]
  },
  {
   "cell_type": "code",
   "execution_count": 5,
   "metadata": {},
   "outputs": [],
   "source": [
    "#pip install --upgrade azureml-sdk[automl,notebooks,explain,accel-models,services,tensorboard]"
   ]
  },
  {
   "cell_type": "markdown",
   "metadata": {},
   "source": [
    "## Version Azure ML service installée"
   ]
  },
  {
   "cell_type": "code",
   "execution_count": 6,
   "metadata": {},
   "outputs": [
    {
     "name": "stdout",
     "output_type": "stream",
     "text": [
      "Version =  1.0.74\n"
     ]
    }
   ],
   "source": [
    "import azureml.core\n",
    "print(\"Version = \",azureml.core.VERSION)"
   ]
  },
  {
   "cell_type": "markdown",
   "metadata": {},
   "source": [
    "## Connexion workspace"
   ]
  },
  {
   "cell_type": "code",
   "execution_count": 7,
   "metadata": {},
   "outputs": [],
   "source": [
    "import os\n",
    "subscription_id = os.environ.get(\"SUBSCRIPTION_ID\", \"A RENSEIGNER\")\n",
    "resource_group = os.environ.get(\"RESOURCE_GROUP\", \"workshopmlRG\")\n",
    "workspace_name = os.environ.get(\"WORKSPACE_NAME\", \"workshopml\")"
   ]
  },
  {
   "cell_type": "code",
   "execution_count": 8,
   "metadata": {},
   "outputs": [
    {
     "name": "stdout",
     "output_type": "stream",
     "text": [
      "Performing interactive authentication. Please follow the instructions on the terminal.\n",
      "To sign in, use a web browser to open the page https://microsoft.com/devicelogin and enter the code D37ZMFHJ2 to authenticate.\n",
      "Interactive authentication successfully completed.\n",
      "Le workspace Azure ML service a été trouvé : OK\n"
     ]
    }
   ],
   "source": [
    "from azureml.core import Workspace\n",
    "\n",
    "try:\n",
    "   ws = Workspace(subscription_id = subscription_id, resource_group = resource_group, workspace_name = workspace_name)\n",
    "   ws.write_config()\n",
    "   print(\"Le workspace Azure ML service a été trouvé : OK\")\n",
    "except:\n",
    "   print(\"Le workspace Azure ML service n'a pas été trouvé\")"
   ]
  },
  {
   "cell_type": "code",
   "execution_count": 9,
   "metadata": {},
   "outputs": [
    {
     "name": "stdout",
     "output_type": "stream",
     "text": [
      "Workspace name: workshopml\n",
      "Azure region: northeurope\n",
      "Resource group: workshopmlRG\n"
     ]
    }
   ],
   "source": [
    "# workspace\n",
    "ws = Workspace.from_config()\n",
    "print('Workspace name: ' + ws.name, \n",
    "      'Azure region: ' + ws.location, \n",
    "      'Resource group: ' + ws.resource_group, sep='\\n')"
   ]
  },
  {
   "cell_type": "code",
   "execution_count": 10,
   "metadata": {},
   "outputs": [
    {
     "data": {
      "text/plain": [
       "{'id': '/subscriptions/70b8f39e-8863-49f7-b6ba-34a80799550c/resourceGroups/workshopmlRG/providers/Microsoft.MachineLearningServices/workspaces/WorkshopML',\n",
       " 'name': 'WorkshopML',\n",
       " 'location': 'northeurope',\n",
       " 'type': 'Microsoft.MachineLearningServices/workspaces',\n",
       " 'tags': {},\n",
       " 'sku': 'Enterprise',\n",
       " 'workspaceid': '41e38a77-ac31-4eb1-a1c7-2d4baa6137e7',\n",
       " 'description': '',\n",
       " 'friendlyName': '',\n",
       " 'creationTime': '2019-11-18T10:37:06.7267815+00:00',\n",
       " 'keyVault': '/subscriptions/70b8f39e-8863-49f7-b6ba-34a80799550c/resourcegroups/workshopmlrg/providers/microsoft.keyvault/vaults/workshopml9217205802',\n",
       " 'applicationInsights': '/subscriptions/70b8f39e-8863-49f7-b6ba-34a80799550c/resourcegroups/workshopmlrg/providers/microsoft.insights/components/workshopml4971486749',\n",
       " 'identityPrincipalId': '0759563e-6b37-4362-8e0d-d3fa4eb30140',\n",
       " 'identityTenantId': '72f988bf-86f1-41af-91ab-2d7cd011db47',\n",
       " 'identityType': 'SystemAssigned',\n",
       " 'storageAccount': '/subscriptions/70b8f39e-8863-49f7-b6ba-34a80799550c/resourcegroups/workshopmlrg/providers/microsoft.storage/storageaccounts/workshopml4801169773'}"
      ]
     },
     "execution_count": 10,
     "metadata": {},
     "output_type": "execute_result"
    }
   ],
   "source": [
    "from azureml.core.workspace import Workspace\n",
    "ws = Workspace.from_config()\n",
    "ws.get_details()"
   ]
  },
  {
   "cell_type": "code",
   "execution_count": 11,
   "metadata": {},
   "outputs": [],
   "source": [
    "import logging\n",
    "import os\n",
    "import random\n",
    "\n",
    "from matplotlib import pyplot as plt\n",
    "from matplotlib.pyplot import imshow\n",
    "import numpy as np\n",
    "import pandas as pd\n",
    "from sklearn import datasets\n",
    "\n",
    "import azureml.core\n",
    "from azureml.core.experiment import Experiment\n",
    "from azureml.core.workspace import Workspace"
   ]
  },
  {
   "cell_type": "markdown",
   "metadata": {},
   "source": [
    "## Création expérimentation"
   ]
  },
  {
   "cell_type": "code",
   "execution_count": 12,
   "metadata": {},
   "outputs": [
    {
     "data": {
      "text/html": [
       "<div>\n",
       "<style scoped>\n",
       "    .dataframe tbody tr th:only-of-type {\n",
       "        vertical-align: middle;\n",
       "    }\n",
       "\n",
       "    .dataframe tbody tr th {\n",
       "        vertical-align: top;\n",
       "    }\n",
       "\n",
       "    .dataframe thead th {\n",
       "        text-align: right;\n",
       "    }\n",
       "</style>\n",
       "<table border=\"1\" class=\"dataframe\">\n",
       "  <thead>\n",
       "    <tr style=\"text-align: right;\">\n",
       "      <th></th>\n",
       "      <th></th>\n",
       "    </tr>\n",
       "  </thead>\n",
       "  <tbody>\n",
       "    <tr>\n",
       "      <th>Version Azure ML service :</th>\n",
       "      <td>1.0.74</td>\n",
       "    </tr>\n",
       "    <tr>\n",
       "      <th>Nom du workspace :</th>\n",
       "      <td>workshopml</td>\n",
       "    </tr>\n",
       "    <tr>\n",
       "      <th>Ressource groupe :</th>\n",
       "      <td>workshopmlRG</td>\n",
       "    </tr>\n",
       "    <tr>\n",
       "      <th>Localisation :</th>\n",
       "      <td>northeurope</td>\n",
       "    </tr>\n",
       "    <tr>\n",
       "      <th>Répertoire projet :</th>\n",
       "      <td>./sampleprojects/workshop0</td>\n",
       "    </tr>\n",
       "    <tr>\n",
       "      <th>Nom expérience :</th>\n",
       "      <td>workshop0</td>\n",
       "    </tr>\n",
       "  </tbody>\n",
       "</table>\n",
       "</div>"
      ],
      "text/plain": [
       "                                                       \n",
       "Version Azure ML service :   1.0.74                    \n",
       "Nom du workspace :           workshopml                \n",
       "Ressource groupe :           workshopmlRG              \n",
       "Localisation :               northeurope               \n",
       "Répertoire projet :          ./sampleprojects/workshop0\n",
       "Nom expérience :             workshop0                 "
      ]
     },
     "execution_count": 12,
     "metadata": {},
     "output_type": "execute_result"
    }
   ],
   "source": [
    "ws = Workspace.from_config()\n",
    "\n",
    "# Nom de l'expérimentation Azure ML service\n",
    "experiment_name = 'workshop0'\n",
    "\n",
    "project_folder = './sampleprojects/workshop0'\n",
    "\n",
    "experiment = Experiment(ws, experiment_name)\n",
    "\n",
    "output = {}\n",
    "output['Version Azure ML service : '] = azureml.core.VERSION\n",
    "output['Nom du workspace : '] = ws.name\n",
    "output['Ressource groupe : '] = ws.resource_group\n",
    "output['Localisation : '] = ws.location\n",
    "output['Répertoire projet : '] = project_folder\n",
    "output['Nom expérience : '] = experiment.name\n",
    "pd.set_option('display.max_colwidth', -1)\n",
    "pd.DataFrame(data = output, index = ['']).T"
   ]
  },
  {
   "cell_type": "code",
   "execution_count": 15,
   "metadata": {},
   "outputs": [
    {
     "name": "stdout",
     "output_type": "stream",
     "text": [
      "Date du run =  2019-11-18 10:49:08.598901\n",
      "Nombre d'observations = 100\n",
      "Moyenne =  -0.12387465621447945\n",
      "Ecart Type =  0.8694111392226714\n"
     ]
    },
    {
     "name": "stderr",
     "output_type": "stream",
     "text": [
      "/anaconda/envs/azureml_py36/lib/python3.6/site-packages/ipykernel_launcher.py:25: MatplotlibDeprecationWarning: \n",
      "The 'normed' kwarg was deprecated in Matplotlib 2.1 and will be removed in 3.1. Use 'density' instead.\n"
     ]
    },
    {
     "data": {
      "image/png": "[encoded data removed]",
      "text/plain": [
       "<Figure size 432x288 with 1 Axes>"
      ]
     },
     "metadata": {
      "needs_background": "light"
     },
     "output_type": "display_data"
    }
   ],
   "source": [
    "import numpy as np\n",
    "import matplotlib.pyplot as plt\n",
    "\n",
    "import datetime\n",
    "now = datetime.datetime.now()\n",
    "print('Date du run = ', now)\n",
    "\n",
    "nobs=100\n",
    "data = np.random.randn(nobs)\n",
    "print(\"Nombre d'observations =\", nobs)\n",
    "\n",
    "moyenne=np.mean(data)\n",
    "ecartype=np.std(data)\n",
    "print(\"Moyenne = \", moyenne)\n",
    "print(\"Ecart Type = \", ecartype)\n",
    "\n",
    "# Run Log\n",
    "run =  experiment.start_logging()\n",
    "run.log('Date du run', str(now))\n",
    "run.log('Nobs', nobs)\n",
    "run.log('Moyenne', moyenne)\n",
    "run.log('Ecart Type', ecartype)\n",
    "\n",
    "# Graphique\n",
    "hx, hy, _ = plt.hist(data, bins=50, normed=1,color=\"blue\")\n",
    "\n",
    "plt.ylim(0.0,max(hx)+0.05)\n",
    "plt.title('Distribution')\n",
    "plt.grid()\n",
    "\n",
    "plt.savefig(\"mongraphique\", bbox_inches='tight')\n",
    "plt.show()"
   ]
  },
  {
   "cell_type": "markdown",
   "metadata": {},
   "source": [
    "## Azure ML service Studio"
   ]
  },
  {
   "cell_type": "markdown",
   "metadata": {},
   "source": [
    "https://ml.azure.com/"
   ]
  },
  {
   "cell_type": "markdown",
   "metadata": {},
   "source": [
    "<img src=\"https://github.com/retkowsky/images/blob/master/LandingPage.jpg?raw=true\">"
   ]
  },
  {
   "cell_type": "markdown",
   "metadata": {},
   "source": [
    "## Documentation"
   ]
  },
  {
   "cell_type": "markdown",
   "metadata": {},
   "source": [
    "- Documentation :<br> https://docs.microsoft.com/en-us/azure/machine-learning/\n",
    "\n",
    "- Nouveautés versions Azure ML service: <br>\n",
    "https://docs.microsoft.com/en-us/azure/machine-learning/service/azure-machine-learning-release-notes?view=azure-ml-py\n",
    "\n",
    "- What is Azure ML service SDK?<br>\n",
    "https://docs.microsoft.com/en-us/python/api/overview/azure/ml/intro?view=azure-ml-py\n",
    "\n",
    "- Azure ML service CLI<br>\n",
    "https://docs.microsoft.com/en-us/cli/azure/ext/azure-cli-ml/ml?view=azure-cli-latest\n",
    "\n",
    "- Azure ML Visual Interface<br>\n",
    "Algorithm & module reference overview<br>\n",
    "https://docs.microsoft.com/en-us/azure/machine-learning/algorithm-module-reference/module-reference\n"
   ]
  },
  {
   "cell_type": "markdown",
   "metadata": {},
   "source": [
    "<img src=\"https://github.com/retkowsky/images/blob/master/Powered-by-MS-Azure-logo-v2.png?raw=true\" height=\"300\" width=\"300\">"
   ]
  },
  {
   "cell_type": "code",
   "execution_count": null,
   "metadata": {},
   "outputs": [],
   "source": []
  }
 ],
 "metadata": {
  "kernelspec": {
   "display_name": "Python 3.6 - AzureML",
   "language": "python",
   "name": "python3-azureml"
  },
  "language_info": {
   "codemirror_mode": {
    "name": "ipython",
    "version": 3
   },
   "file_extension": ".py",
   "mimetype": "text/x-python",
   "name": "python",
   "nbconvert_exporter": "python",
   "pygments_lexer": "ipython3",
   "version": "3.6.9"
  }
 },
 "nbformat": 4,
 "nbformat_minor": 2
}
